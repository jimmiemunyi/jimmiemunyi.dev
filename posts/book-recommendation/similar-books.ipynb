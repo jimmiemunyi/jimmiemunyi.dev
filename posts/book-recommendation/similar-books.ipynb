{
 "cells": [
  {
   "cell_type": "raw",
   "metadata": {},
   "source": [
    "---\n",
    "title: \"Making a Book Recommendation System\"\n",
    "description: \"Using Collaborative Filtering to recommend books.\"\n",
    "date: \"2021-02-15\"\n",
    "formart:\n",
    "  html:\n",
    "    code-fold: false\n",
    "categories: [technical, intermediate ,collaborative-filtering]\n",
    "jupyter: python3\n",
    "---"
   ]
  },
  {
   "cell_type": "markdown",
   "metadata": {},
   "source": [
    "Turning this into an app that people can interact with:\n",
    "\n",
    "[![Streamlit](https://static.streamlit.io/badges/streamlit_badge_black_white.svg)](https://share.streamlit.io/jimmiemunyi/similarbooks/main/similar_books.py)"
   ]
  },
  {
   "cell_type": "code",
   "execution_count": 1,
   "metadata": {
    "colab": {
     "base_uri": "https://localhost:8080/"
    },
    "id": "cHPPkO6wsjn_",
    "outputId": "bd8a42fd-0996-44e0-95e2-ff78f6b2e0cb"
   },
   "outputs": [
    {
     "name": "stdout",
     "output_type": "stream",
     "text": [
      "\u001b[K     |████████████████████████████████| 727kB 10.1MB/s \n",
      "\u001b[K     |████████████████████████████████| 51kB 6.7MB/s \n",
      "\u001b[K     |████████████████████████████████| 1.2MB 55.9MB/s \n",
      "\u001b[K     |████████████████████████████████| 194kB 58.7MB/s \n",
      "\u001b[K     |████████████████████████████████| 61kB 10.6MB/s \n",
      "\u001b[?25hMounted at /content/gdrive\n"
     ]
    }
   ],
   "source": [
    "#| include: false\n",
    "!pip install -Uqq fastbook\n",
    "import fastbook\n",
    "fastbook.setup_book()"
   ]
  },
  {
   "cell_type": "code",
   "execution_count": 2,
   "metadata": {
    "id": "xz7I1UC2srNS"
   },
   "outputs": [],
   "source": [
    "#| include: false\n",
    "from fastbook import *"
   ]
  },
  {
   "cell_type": "markdown",
   "metadata": {
    "id": "gn3IlxrgyXfQ"
   },
   "source": [
    "# Imports"
   ]
  },
  {
   "cell_type": "code",
   "execution_count": 3,
   "metadata": {
    "id": "1PfnYuY0suWm"
   },
   "outputs": [],
   "source": [
    "from fastai.collab import *\n",
    "from fastai.tabular.all import *"
   ]
  },
  {
   "cell_type": "markdown",
   "metadata": {
    "id": "o7O8cJcomcaJ"
   },
   "source": [
    "# Introduction"
   ]
  },
  {
   "cell_type": "markdown",
   "metadata": {
    "id": "OmTcjPWQoJD0"
   },
   "source": [
    "We are going to use [Collaborative Filtering](https://en.wikipedia.org/wiki/Collaborative_filtering) to create a book recommendation system. Recommender Systems based on collaborative make recommendations based on what similar users liked. So if I have read Inferno by Dan Brown and liked it (which I did), the system will look for books also liked by people who liked Inferno and recommend them to me.\n",
    "\n",
    "It uses a concept called *latent factors*. What are latent factors you may ask? Let us understand them using an example.\n",
    "\n",
    "Let us take two books. Inferno by Dan Brown and To Kill A MockingBird by Harper Lee. Those are two very different books. Let us consider three aspects to classify this books: classics (whether the book is a classic or not), action-oriented and new-gen (modern-times setting).\n",
    "\n",
    "We will give a score ranging from 1 to -1 to all these three aspects of our books, 1 meaning it scores high on that aspect and -1 for a low score.\n",
    "\n",
    "So, for example, To Kill a MockingBird is a classic, it is not so much action-oriented and also not so much new-gen. So its scores would look as follows:"
   ]
  },
  {
   "cell_type": "code",
   "execution_count": 4,
   "metadata": {
    "id": "QWwSgRy-s25N"
   },
   "outputs": [],
   "source": [
    "mocking_bird = np.array([0.9, -0.85, -0.9])"
   ]
  },
  {
   "cell_type": "markdown",
   "metadata": {
    "id": "imHaF4JQs_aS"
   },
   "source": [
    "For Inferno, which is not so much a classic, is action-oriented and is new-gen, we would have the following representation:"
   ]
  },
  {
   "cell_type": "code",
   "execution_count": 5,
   "metadata": {
    "id": "u30S8pYqtLhD"
   },
   "outputs": [],
   "source": [
    "inferno = np.array([-0.9, 0.7, 0.9])"
   ]
  },
  {
   "cell_type": "markdown",
   "metadata": {
    "id": "RwZffSb-tQQa"
   },
   "source": [
    "Now, let us hypothesize a reader who doesn't enjoy classics that much, doesn't mind action books and really prefers new-gen books (this user actually represents my liking)."
   ]
  },
  {
   "cell_type": "code",
   "execution_count": 6,
   "metadata": {
    "id": "eRXd313FuAo9"
   },
   "outputs": [],
   "source": [
    "reader = np.array([-0.5, 0.2, 0.9])"
   ]
  },
  {
   "cell_type": "markdown",
   "metadata": {
    "id": "YIcqqnXzuGg2"
   },
   "source": [
    "To see which book we need to recommend our not-so-much hypothetical reader, we will need to perform dot product between the book factors and the user factors. Dot product simply means multiply each consecutive items and add the results."
   ]
  },
  {
   "cell_type": "code",
   "execution_count": 7,
   "metadata": {
    "colab": {
     "base_uri": "https://localhost:8080/"
    },
    "id": "u0yMu7N3uPhf",
    "outputId": "9373daef-8f29-43e2-a2c5-f25bbec13fdd"
   },
   "outputs": [
    {
     "data": {
      "text/plain": [
       "-1.4300000000000002"
      ]
     },
     "execution_count": 7,
     "metadata": {
      "tags": []
     },
     "output_type": "execute_result"
    }
   ],
   "source": [
    "(reader*mocking_bird).sum()"
   ]
  },
  {
   "cell_type": "code",
   "execution_count": 8,
   "metadata": {
    "colab": {
     "base_uri": "https://localhost:8080/"
    },
    "id": "gKQtNNH3ufVk",
    "outputId": "20fa502e-28f1-4a0f-881b-e97a8b588278"
   },
   "outputs": [
    {
     "data": {
      "text/plain": [
       "1.4"
      ]
     },
     "execution_count": 8,
     "metadata": {
      "tags": []
     },
     "output_type": "execute_result"
    }
   ],
   "source": [
    "(reader*inferno).sum()"
   ]
  },
  {
   "cell_type": "markdown",
   "metadata": {
    "id": "QUSDTQR5ukWr"
   },
   "source": [
    "Based on the results, we would want to recommend Inferno to our user and not To Kill A MockingBird since he wouldn't enjoy the latter that much."
   ]
  },
  {
   "cell_type": "markdown",
   "metadata": {
    "id": "PCAb-ZUHuw4i"
   },
   "source": [
    "The magic part about Collaborative Filtering and the reason we called our factors *latent* is that; we never tell our model anything about what factors to consider or how high or low a book or user scores on each factors. The model learns all that by itself. We simply feed it books rated by users and using that information, it figures out a way to score each factor. As I said, pretty magical.\n",
    "\n",
    "Let us see that in action."
   ]
  },
  {
   "cell_type": "markdown",
   "metadata": {
    "id": "aNR3Bw0vyXfp"
   },
   "source": [
    "# The DataSet"
   ]
  },
  {
   "cell_type": "markdown",
   "metadata": {
    "id": "EWe-5Pa0veIa"
   },
   "source": [
    "Luckily, there is already a good dataset on books and ratings by users called GoodBooks10k available from [this repo in github](https://github.com/zygmuntz/goodbooks-10k). As the name suggests, it contains ratings of 10,000 books and 6 million ratings.\n",
    "\n",
    "We can download and extract the data using the following convinient functions:"
   ]
  },
  {
   "cell_type": "code",
   "execution_count": 9,
   "metadata": {
    "colab": {
     "base_uri": "https://localhost:8080/",
     "height": 17
    },
    "id": "sEpHAfDWALyD",
    "outputId": "bd326c2a-d940-4ddb-e60b-9c74da6a8aad"
   },
   "outputs": [
    {
     "data": {
      "text/html": [],
      "text/plain": [
       "<IPython.core.display.HTML object>"
      ]
     },
     "metadata": {
      "tags": []
     },
     "output_type": "display_data"
    }
   ],
   "source": [
    "path = Path('data')\n",
    "if not path.exists():\n",
    "  path.mkdir()\n",
    "  untar_data('https://github.com/zygmuntz/goodbooks-10k/releases/download/v1.0/goodbooks-10k.zip', dest=path)"
   ]
  },
  {
   "cell_type": "code",
   "execution_count": 10,
   "metadata": {
    "id": "vD7lTkm7Axa6"
   },
   "outputs": [],
   "source": [
    "#| include: false\n",
    "Path.BASE_PATH = path"
   ]
  },
  {
   "cell_type": "markdown",
   "metadata": {
    "id": "dH2DA6k3v5eT"
   },
   "source": [
    "We can inspect what has been downloaded:"
   ]
  },
  {
   "cell_type": "code",
   "execution_count": 11,
   "metadata": {
    "colab": {
     "base_uri": "https://localhost:8080/"
    },
    "id": "GxxE75rIAYrx",
    "outputId": "3206c83d-8f6b-4b18-9aec-139eecd76a29"
   },
   "outputs": [
    {
     "data": {
      "text/plain": [
       "(#5) [Path('README.md'),Path('tags.csv'),Path('books.csv'),Path('book_tags.csv'),Path('ratings.csv')]"
      ]
     },
     "execution_count": 11,
     "metadata": {
      "tags": []
     },
     "output_type": "execute_result"
    }
   ],
   "source": [
    "path.ls(file_type='text')"
   ]
  },
  {
   "cell_type": "markdown",
   "metadata": {
    "id": "kiKonKSMwLUy"
   },
   "source": [
    "We are interested in the rating.csv file, since that is where the actual ratings are. We can load it up in a pandas dataframe:"
   ]
  },
  {
   "cell_type": "code",
   "execution_count": 12,
   "metadata": {
    "colab": {
     "base_uri": "https://localhost:8080/",
     "height": 424
    },
    "id": "Uspj-DikAzkj",
    "outputId": "cf572ec1-3a33-4857-b77e-25aab30fc8de"
   },
   "outputs": [
    {
     "data": {
      "text/html": [
       "<div>\n",
       "<style scoped>\n",
       "    .dataframe tbody tr th:only-of-type {\n",
       "        vertical-align: middle;\n",
       "    }\n",
       "\n",
       "    .dataframe tbody tr th {\n",
       "        vertical-align: top;\n",
       "    }\n",
       "\n",
       "    .dataframe thead th {\n",
       "        text-align: right;\n",
       "    }\n",
       "</style>\n",
       "<table border=\"1\" class=\"dataframe\">\n",
       "  <thead>\n",
       "    <tr style=\"text-align: right;\">\n",
       "      <th></th>\n",
       "      <th>user_id</th>\n",
       "      <th>book_id</th>\n",
       "      <th>rating</th>\n",
       "    </tr>\n",
       "  </thead>\n",
       "  <tbody>\n",
       "    <tr>\n",
       "      <th>0</th>\n",
       "      <td>1</td>\n",
       "      <td>258</td>\n",
       "      <td>5</td>\n",
       "    </tr>\n",
       "    <tr>\n",
       "      <th>1</th>\n",
       "      <td>2</td>\n",
       "      <td>4081</td>\n",
       "      <td>4</td>\n",
       "    </tr>\n",
       "    <tr>\n",
       "      <th>2</th>\n",
       "      <td>2</td>\n",
       "      <td>260</td>\n",
       "      <td>5</td>\n",
       "    </tr>\n",
       "    <tr>\n",
       "      <th>3</th>\n",
       "      <td>2</td>\n",
       "      <td>9296</td>\n",
       "      <td>5</td>\n",
       "    </tr>\n",
       "    <tr>\n",
       "      <th>4</th>\n",
       "      <td>2</td>\n",
       "      <td>2318</td>\n",
       "      <td>3</td>\n",
       "    </tr>\n",
       "    <tr>\n",
       "      <th>...</th>\n",
       "      <td>...</td>\n",
       "      <td>...</td>\n",
       "      <td>...</td>\n",
       "    </tr>\n",
       "    <tr>\n",
       "      <th>5976474</th>\n",
       "      <td>49925</td>\n",
       "      <td>510</td>\n",
       "      <td>5</td>\n",
       "    </tr>\n",
       "    <tr>\n",
       "      <th>5976475</th>\n",
       "      <td>49925</td>\n",
       "      <td>528</td>\n",
       "      <td>4</td>\n",
       "    </tr>\n",
       "    <tr>\n",
       "      <th>5976476</th>\n",
       "      <td>49925</td>\n",
       "      <td>722</td>\n",
       "      <td>4</td>\n",
       "    </tr>\n",
       "    <tr>\n",
       "      <th>5976477</th>\n",
       "      <td>49925</td>\n",
       "      <td>949</td>\n",
       "      <td>5</td>\n",
       "    </tr>\n",
       "    <tr>\n",
       "      <th>5976478</th>\n",
       "      <td>49925</td>\n",
       "      <td>1023</td>\n",
       "      <td>4</td>\n",
       "    </tr>\n",
       "  </tbody>\n",
       "</table>\n",
       "<p>5976479 rows × 3 columns</p>\n",
       "</div>"
      ],
      "text/plain": [
       "         user_id  book_id  rating\n",
       "0              1      258       5\n",
       "1              2     4081       4\n",
       "2              2      260       5\n",
       "3              2     9296       5\n",
       "4              2     2318       3\n",
       "...          ...      ...     ...\n",
       "5976474    49925      510       5\n",
       "5976475    49925      528       4\n",
       "5976476    49925      722       4\n",
       "5976477    49925      949       5\n",
       "5976478    49925     1023       4\n",
       "\n",
       "[5976479 rows x 3 columns]"
      ]
     },
     "execution_count": 12,
     "metadata": {
      "tags": []
     },
     "output_type": "execute_result"
    }
   ],
   "source": [
    "ratings = pd.read_csv(path/'ratings.csv')\n",
    "\n",
    "ratings"
   ]
  },
  {
   "cell_type": "markdown",
   "metadata": {
    "id": "AScAPecewZc_"
   },
   "source": [
    "We have a `user_id` column that represents each user, `book_id` to represent the books and the `rating` column is the rating given to a book by a particular user. It ranges from 0 to 5."
   ]
  },
  {
   "cell_type": "markdown",
   "metadata": {
    "id": "ObPcWRI7h2Ad"
   },
   "source": [
    "# Subset of the Dataset"
   ]
  },
  {
   "cell_type": "markdown",
   "metadata": {
    "id": "fde6mAf5wqfF"
   },
   "source": [
    "We don't want to work on the full dataset right away since it would take a long time to model and this would limit the number of experiments we can carry out. \n",
    "\n",
    "Instead, first we will work with only the first 100, 000 ratings."
   ]
  },
  {
   "cell_type": "code",
   "execution_count": 13,
   "metadata": {
    "id": "6M6puVhmWt-T"
   },
   "outputs": [],
   "source": [
    "ratings = ratings.iloc[:100000]"
   ]
  },
  {
   "cell_type": "markdown",
   "metadata": {
    "id": "H5EZ9iQzw6-g"
   },
   "source": [
    "We check for any missing value and drop them if they exists:"
   ]
  },
  {
   "cell_type": "code",
   "execution_count": 14,
   "metadata": {
    "colab": {
     "base_uri": "https://localhost:8080/"
    },
    "id": "TANOO6MfFRak",
    "outputId": "5e9afeb7-c3d7-4859-d176-21e3b7c9e2d0"
   },
   "outputs": [
    {
     "data": {
      "text/plain": [
       "False"
      ]
     },
     "execution_count": 14,
     "metadata": {
      "tags": []
     },
     "output_type": "execute_result"
    }
   ],
   "source": [
    "ratings.isnull().values.any()"
   ]
  },
  {
   "cell_type": "markdown",
   "metadata": {
    "id": "e9WV-RK4xBRH"
   },
   "source": [
    "Another issue is with the `book_id`. The model as is would work even if we used `book_id` but for visual purposes, we'd rather have the book title to look at, since that is more informative to us (not the model).\n",
    "\n",
    "So we will have to load in the books.csv file and merge it with our ratings DataFrame."
   ]
  },
  {
   "cell_type": "code",
   "execution_count": 15,
   "metadata": {
    "id": "MjKDDoeLBgXx"
   },
   "outputs": [],
   "source": [
    "books = pd.read_csv(path/'books.csv')"
   ]
  },
  {
   "cell_type": "code",
   "execution_count": 16,
   "metadata": {
    "colab": {
     "base_uri": "https://localhost:8080/"
    },
    "id": "AOCXW8ROBlHT",
    "outputId": "3b47b475-dd1b-4310-8f0e-f7a3cb454bcf"
   },
   "outputs": [
    {
     "data": {
      "text/plain": [
       "Index(['book_id', 'goodreads_book_id', 'best_book_id', 'work_id',\n",
       "       'books_count', 'isbn', 'isbn13', 'authors', 'original_publication_year',\n",
       "       'original_title', 'title', 'language_code', 'average_rating',\n",
       "       'ratings_count', 'work_ratings_count', 'work_text_reviews_count',\n",
       "       'ratings_1', 'ratings_2', 'ratings_3', 'ratings_4', 'ratings_5',\n",
       "       'image_url', 'small_image_url'],\n",
       "      dtype='object')"
      ]
     },
     "execution_count": 16,
     "metadata": {
      "tags": []
     },
     "output_type": "execute_result"
    }
   ],
   "source": [
    "books.columns"
   ]
  },
  {
   "cell_type": "markdown",
   "metadata": {
    "id": "LKSZ9xOlxW12"
   },
   "source": [
    "We drop some columns which we don't require:"
   ]
  },
  {
   "cell_type": "code",
   "execution_count": 17,
   "metadata": {
    "colab": {
     "base_uri": "https://localhost:8080/",
     "height": 224
    },
    "id": "YZ_uCpV4Br7R",
    "outputId": "238f7b06-e675-42d5-a49e-f28159d03f58"
   },
   "outputs": [
    {
     "data": {
      "text/html": [
       "<div>\n",
       "<style scoped>\n",
       "    .dataframe tbody tr th:only-of-type {\n",
       "        vertical-align: middle;\n",
       "    }\n",
       "\n",
       "    .dataframe tbody tr th {\n",
       "        vertical-align: top;\n",
       "    }\n",
       "\n",
       "    .dataframe thead th {\n",
       "        text-align: right;\n",
       "    }\n",
       "</style>\n",
       "<table border=\"1\" class=\"dataframe\">\n",
       "  <thead>\n",
       "    <tr style=\"text-align: right;\">\n",
       "      <th></th>\n",
       "      <th>book_id</th>\n",
       "      <th>goodreads_book_id</th>\n",
       "      <th>authors</th>\n",
       "      <th>original_publication_year</th>\n",
       "      <th>original_title</th>\n",
       "      <th>average_rating</th>\n",
       "    </tr>\n",
       "  </thead>\n",
       "  <tbody>\n",
       "    <tr>\n",
       "      <th>0</th>\n",
       "      <td>1</td>\n",
       "      <td>2767052</td>\n",
       "      <td>Suzanne Collins</td>\n",
       "      <td>2008.0</td>\n",
       "      <td>The Hunger Games</td>\n",
       "      <td>4.34</td>\n",
       "    </tr>\n",
       "    <tr>\n",
       "      <th>1</th>\n",
       "      <td>2</td>\n",
       "      <td>3</td>\n",
       "      <td>J.K. Rowling, Mary GrandPré</td>\n",
       "      <td>1997.0</td>\n",
       "      <td>Harry Potter and the Philosopher's Stone</td>\n",
       "      <td>4.44</td>\n",
       "    </tr>\n",
       "    <tr>\n",
       "      <th>2</th>\n",
       "      <td>3</td>\n",
       "      <td>41865</td>\n",
       "      <td>Stephenie Meyer</td>\n",
       "      <td>2005.0</td>\n",
       "      <td>Twilight</td>\n",
       "      <td>3.57</td>\n",
       "    </tr>\n",
       "    <tr>\n",
       "      <th>3</th>\n",
       "      <td>4</td>\n",
       "      <td>2657</td>\n",
       "      <td>Harper Lee</td>\n",
       "      <td>1960.0</td>\n",
       "      <td>To Kill a Mockingbird</td>\n",
       "      <td>4.25</td>\n",
       "    </tr>\n",
       "    <tr>\n",
       "      <th>4</th>\n",
       "      <td>5</td>\n",
       "      <td>4671</td>\n",
       "      <td>F. Scott Fitzgerald</td>\n",
       "      <td>1925.0</td>\n",
       "      <td>The Great Gatsby</td>\n",
       "      <td>3.89</td>\n",
       "    </tr>\n",
       "  </tbody>\n",
       "</table>\n",
       "</div>"
      ],
      "text/plain": [
       "   book_id  goodreads_book_id                      authors  \\\n",
       "0        1            2767052              Suzanne Collins   \n",
       "1        2                  3  J.K. Rowling, Mary GrandPré   \n",
       "2        3              41865              Stephenie Meyer   \n",
       "3        4               2657                   Harper Lee   \n",
       "4        5               4671          F. Scott Fitzgerald   \n",
       "\n",
       "   original_publication_year                            original_title  \\\n",
       "0                     2008.0                          The Hunger Games   \n",
       "1                     1997.0  Harry Potter and the Philosopher's Stone   \n",
       "2                     2005.0                                  Twilight   \n",
       "3                     1960.0                     To Kill a Mockingbird   \n",
       "4                     1925.0                          The Great Gatsby   \n",
       "\n",
       "   average_rating  \n",
       "0            4.34  \n",
       "1            4.44  \n",
       "2            3.57  \n",
       "3            4.25  \n",
       "4            3.89  "
      ]
     },
     "execution_count": 17,
     "metadata": {
      "tags": []
     },
     "output_type": "execute_result"
    }
   ],
   "source": [
    "books.drop(['best_book_id', 'work_id', 'title','books_count', 'language_code', \n",
    "            'isbn13', 'isbn','ratings_count', 'work_ratings_count', \n",
    "            'work_text_reviews_count', 'ratings_1', 'ratings_2', 'ratings_3', \n",
    "            'ratings_4', 'ratings_5','image_url', 'small_image_url'], \n",
    "           axis=1, inplace=True)\n",
    "\n",
    "books.head()"
   ]
  },
  {
   "cell_type": "markdown",
   "metadata": {
    "id": "sy3UwuaAxdkV"
   },
   "source": [
    "Drop any missing values:"
   ]
  },
  {
   "cell_type": "code",
   "execution_count": 18,
   "metadata": {
    "colab": {
     "base_uri": "https://localhost:8080/"
    },
    "id": "uSnvidNvFswB",
    "outputId": "0f71bdf9-94f5-42ac-a67c-e2f557f54edc"
   },
   "outputs": [
    {
     "data": {
      "text/plain": [
       "True"
      ]
     },
     "execution_count": 18,
     "metadata": {
      "tags": []
     },
     "output_type": "execute_result"
    }
   ],
   "source": [
    "books.isnull().values.any()"
   ]
  },
  {
   "cell_type": "code",
   "execution_count": 19,
   "metadata": {
    "id": "T7QvEltUFvI-"
   },
   "outputs": [],
   "source": [
    "books.dropna(inplace=True)"
   ]
  },
  {
   "cell_type": "markdown",
   "metadata": {
    "id": "jkuqQRAQxfWn"
   },
   "source": [
    "And finally merge it to one DataFrame:"
   ]
  },
  {
   "cell_type": "code",
   "execution_count": 20,
   "metadata": {
    "colab": {
     "base_uri": "https://localhost:8080/",
     "height": 574
    },
    "id": "eYR7sw1EDxzl",
    "outputId": "410c5861-6401-43cf-a232-55f399957b4d"
   },
   "outputs": [
    {
     "data": {
      "text/html": [
       "<div>\n",
       "<style scoped>\n",
       "    .dataframe tbody tr th:only-of-type {\n",
       "        vertical-align: middle;\n",
       "    }\n",
       "\n",
       "    .dataframe tbody tr th {\n",
       "        vertical-align: top;\n",
       "    }\n",
       "\n",
       "    .dataframe thead th {\n",
       "        text-align: right;\n",
       "    }\n",
       "</style>\n",
       "<table border=\"1\" class=\"dataframe\">\n",
       "  <thead>\n",
       "    <tr style=\"text-align: right;\">\n",
       "      <th></th>\n",
       "      <th>user_id</th>\n",
       "      <th>book_id</th>\n",
       "      <th>rating</th>\n",
       "      <th>goodreads_book_id</th>\n",
       "      <th>authors</th>\n",
       "      <th>original_publication_year</th>\n",
       "      <th>original_title</th>\n",
       "      <th>average_rating</th>\n",
       "    </tr>\n",
       "  </thead>\n",
       "  <tbody>\n",
       "    <tr>\n",
       "      <th>0</th>\n",
       "      <td>1</td>\n",
       "      <td>258</td>\n",
       "      <td>5</td>\n",
       "      <td>1232</td>\n",
       "      <td>Carlos Ruiz Zafón, Lucia Graves</td>\n",
       "      <td>2001.0</td>\n",
       "      <td>La sombra del viento</td>\n",
       "      <td>4.24</td>\n",
       "    </tr>\n",
       "    <tr>\n",
       "      <th>1</th>\n",
       "      <td>11</td>\n",
       "      <td>258</td>\n",
       "      <td>3</td>\n",
       "      <td>1232</td>\n",
       "      <td>Carlos Ruiz Zafón, Lucia Graves</td>\n",
       "      <td>2001.0</td>\n",
       "      <td>La sombra del viento</td>\n",
       "      <td>4.24</td>\n",
       "    </tr>\n",
       "    <tr>\n",
       "      <th>2</th>\n",
       "      <td>143</td>\n",
       "      <td>258</td>\n",
       "      <td>4</td>\n",
       "      <td>1232</td>\n",
       "      <td>Carlos Ruiz Zafón, Lucia Graves</td>\n",
       "      <td>2001.0</td>\n",
       "      <td>La sombra del viento</td>\n",
       "      <td>4.24</td>\n",
       "    </tr>\n",
       "    <tr>\n",
       "      <th>3</th>\n",
       "      <td>242</td>\n",
       "      <td>258</td>\n",
       "      <td>5</td>\n",
       "      <td>1232</td>\n",
       "      <td>Carlos Ruiz Zafón, Lucia Graves</td>\n",
       "      <td>2001.0</td>\n",
       "      <td>La sombra del viento</td>\n",
       "      <td>4.24</td>\n",
       "    </tr>\n",
       "    <tr>\n",
       "      <th>4</th>\n",
       "      <td>325</td>\n",
       "      <td>258</td>\n",
       "      <td>4</td>\n",
       "      <td>1232</td>\n",
       "      <td>Carlos Ruiz Zafón, Lucia Graves</td>\n",
       "      <td>2001.0</td>\n",
       "      <td>La sombra del viento</td>\n",
       "      <td>4.24</td>\n",
       "    </tr>\n",
       "  </tbody>\n",
       "</table>\n",
       "</div>"
      ],
      "text/plain": [
       "   user_id  book_id  rating  goodreads_book_id  \\\n",
       "0        1      258       5               1232   \n",
       "1       11      258       3               1232   \n",
       "2      143      258       4               1232   \n",
       "3      242      258       5               1232   \n",
       "4      325      258       4               1232   \n",
       "\n",
       "                           authors  original_publication_year  \\\n",
       "0  Carlos Ruiz Zafón, Lucia Graves                     2001.0   \n",
       "1  Carlos Ruiz Zafón, Lucia Graves                     2001.0   \n",
       "2  Carlos Ruiz Zafón, Lucia Graves                     2001.0   \n",
       "3  Carlos Ruiz Zafón, Lucia Graves                     2001.0   \n",
       "4  Carlos Ruiz Zafón, Lucia Graves                     2001.0   \n",
       "\n",
       "         original_title  average_rating  \n",
       "0  La sombra del viento            4.24  \n",
       "1  La sombra del viento            4.24  \n",
       "2  La sombra del viento            4.24  \n",
       "3  La sombra del viento            4.24  \n",
       "4  La sombra del viento            4.24  "
      ]
     },
     "execution_count": 20,
     "metadata": {
      "tags": []
     },
     "output_type": "execute_result"
    }
   ],
   "source": [
    "ratings = ratings.merge(books)\n",
    "\n",
    "ratings.head()"
   ]
  },
  {
   "cell_type": "markdown",
   "metadata": {
    "id": "kcPPmT400Nch"
   },
   "source": [
    "## Creating the DataLoaders"
   ]
  },
  {
   "cell_type": "markdown",
   "metadata": {
    "id": "BKNn2DXsxiyI"
   },
   "source": [
    "Since that looks okay, we can go ahead and create our `DataLoaders` object that we will feed to the model. A `DataLoaders` is simply a convinient object that holds our training and validation data and will pass in the data to our model in mini-batches.\n",
    "\n",
    "We can look up the documentation of a function by calling the `doc` function."
   ]
  },
  {
   "cell_type": "code",
   "execution_count": 21,
   "metadata": {
    "colab": {
     "base_uri": "https://localhost:8080/",
     "height": 162
    },
    "id": "LaCODbM4EolS",
    "outputId": "872558d9-09da-4d58-df57-bdd4c3d2e517"
   },
   "outputs": [
    {
     "data": {
      "text/html": [
       "<h4 id=\"CollabDataLoaders.from_df\" class=\"doc_header\"><code>CollabDataLoaders.from_df</code><a href=\"https://github.com/fastai/fastai/tree/master/fastai/collab.py#L16\" class=\"source_link\" style=\"float:right\">[source]</a></h4><blockquote><p><code>CollabDataLoaders.from_df</code>(<strong><code>ratings</code></strong>, <strong><code>valid_pct</code></strong>=<em><code>0.2</code></em>, <strong><code>user_name</code></strong>=<em><code>None</code></em>, <strong><code>item_name</code></strong>=<em><code>None</code></em>, <strong><code>rating_name</code></strong>=<em><code>None</code></em>, <strong><code>seed</code></strong>=<em><code>None</code></em>, <strong><code>path</code></strong>=<em><code>'.'</code></em>, <strong><code>bs</code></strong>=<em><code>64</code></em>, <strong><code>val_bs</code></strong>=<em><code>None</code></em>, <strong><code>shuffle_train</code></strong>=<em><code>True</code></em>, <strong><code>device</code></strong>=<em><code>None</code></em>)</p>\n",
       "</blockquote>\n",
       "<p>Create a <code>DataLoaders</code> suitable for collaborative filtering from <code>ratings</code>.</p>\n",
       "<p><a href=\"https://docs.fast.ai/collab#CollabDataLoaders.from_df\" target=\"_blank\" rel=\"noreferrer noopener\">Show in docs</a></p>\n"
      ],
      "text/plain": [
       "<IPython.core.display.HTML object>"
      ]
     },
     "metadata": {
      "tags": []
     },
     "output_type": "display_data"
    }
   ],
   "source": [
    "doc(CollabDataLoaders.from_df)"
   ]
  },
  {
   "cell_type": "markdown",
   "metadata": {
    "id": "bVi9wP_ux_uQ"
   },
   "source": [
    "The above tells us what we will need to pass in the function in order to create our `DataLoaders`. Specifically we will need to pass in :\n",
    "\n",
    "\n",
    "*   The DataFrame we are creating from (ratings)\n",
    "*   Size of the Validation split (20%)\n",
    "*   The column that represents our user (user_id)\n",
    "*   The column that represents our item (original_title)\n",
    "*   The column that represents our rating (rating)\n",
    "\n"
   ]
  },
  {
   "cell_type": "code",
   "execution_count": 22,
   "metadata": {
    "id": "13a3qUW3EEMn"
   },
   "outputs": [],
   "source": [
    "dls = CollabDataLoaders.from_df(ratings=ratings, valid_pct=0.2, \n",
    "                                user_name='user_id', item_name='original_title',\n",
    "                                rating_name='rating')"
   ]
  },
  {
   "cell_type": "markdown",
   "metadata": {
    "id": "-tzNyo_1ydcU"
   },
   "source": [
    "We can look at one batch of data:"
   ]
  },
  {
   "cell_type": "code",
   "execution_count": 23,
   "metadata": {
    "colab": {
     "base_uri": "https://localhost:8080/",
     "height": 363
    },
    "id": "RD-iyNBSE8X4",
    "outputId": "477a52b0-cd45-4603-fb97-6a6b108376ac"
   },
   "outputs": [
    {
     "data": {
      "text/html": [
       "<table border=\"1\" class=\"dataframe\">\n",
       "  <thead>\n",
       "    <tr style=\"text-align: right;\">\n",
       "      <th></th>\n",
       "      <th>user_id</th>\n",
       "      <th>original_title</th>\n",
       "      <th>rating</th>\n",
       "    </tr>\n",
       "  </thead>\n",
       "  <tbody>\n",
       "    <tr>\n",
       "      <th>0</th>\n",
       "      <td>791</td>\n",
       "      <td>Sphere</td>\n",
       "      <td>3</td>\n",
       "    </tr>\n",
       "    <tr>\n",
       "      <th>1</th>\n",
       "      <td>543</td>\n",
       "      <td>Metamorphoses</td>\n",
       "      <td>5</td>\n",
       "    </tr>\n",
       "    <tr>\n",
       "      <th>2</th>\n",
       "      <td>1835</td>\n",
       "      <td>1491: New Revelations of the Americas Before Columbus</td>\n",
       "      <td>4</td>\n",
       "    </tr>\n",
       "    <tr>\n",
       "      <th>3</th>\n",
       "      <td>2688</td>\n",
       "      <td>Good Omens: The Nice and Accurate Prophecies of Agnes Nutter, Witch</td>\n",
       "      <td>5</td>\n",
       "    </tr>\n",
       "    <tr>\n",
       "      <th>4</th>\n",
       "      <td>264</td>\n",
       "      <td>Jonathan Livingston Seagull</td>\n",
       "      <td>5</td>\n",
       "    </tr>\n",
       "    <tr>\n",
       "      <th>5</th>\n",
       "      <td>2074</td>\n",
       "      <td>The Curious Incident of the Dog in the Night-Time</td>\n",
       "      <td>4</td>\n",
       "    </tr>\n",
       "    <tr>\n",
       "      <th>6</th>\n",
       "      <td>2136</td>\n",
       "      <td>The Lovely Bones</td>\n",
       "      <td>4</td>\n",
       "    </tr>\n",
       "    <tr>\n",
       "      <th>7</th>\n",
       "      <td>1089</td>\n",
       "      <td>Franny and Zooey</td>\n",
       "      <td>5</td>\n",
       "    </tr>\n",
       "    <tr>\n",
       "      <th>8</th>\n",
       "      <td>2334</td>\n",
       "      <td>Great Expectations</td>\n",
       "      <td>4</td>\n",
       "    </tr>\n",
       "    <tr>\n",
       "      <th>9</th>\n",
       "      <td>750</td>\n",
       "      <td>The History of the Hobbit, Part One: Mr. Baggins</td>\n",
       "      <td>2</td>\n",
       "    </tr>\n",
       "  </tbody>\n",
       "</table>"
      ],
      "text/plain": [
       "<IPython.core.display.HTML object>"
      ]
     },
     "metadata": {
      "tags": []
     },
     "output_type": "display_data"
    }
   ],
   "source": [
    "dls.show_batch()"
   ]
  },
  {
   "cell_type": "markdown",
   "metadata": {
    "id": "LX4bWauiymiL"
   },
   "source": [
    "For the latent factors of both our books, we will initialize a random Embedding with a size of all the books we have and the number of factors we want. The same goes for the latent factors of our users.\n",
    "\n",
    "The values in these Embeddings will be updated by BackPropagation until they become meaningful.\n",
    "\n",
    "For our small subset of data, we will use 50 factors. This simply means we are giving our model an allowance to represent each books in 50 different ways (e.g. action, classics etc).\n",
    "\n",
    "So, we first should get the number of users and the number of books:"
   ]
  },
  {
   "cell_type": "code",
   "execution_count": 24,
   "metadata": {
    "id": "LxMtkunmFLYZ"
   },
   "outputs": [],
   "source": [
    "n_books = len(dls.classes['original_title'])\n",
    "n_users = len(dls.classes['user_id'])"
   ]
  },
  {
   "cell_type": "markdown",
   "metadata": {
    "id": "iOxACZ9LzqH5"
   },
   "source": [
    "For learning purposes, we should also get into the habit of manually chekcking shapes of the data in our batches and see if we understand why it is so:"
   ]
  },
  {
   "cell_type": "code",
   "execution_count": 25,
   "metadata": {
    "colab": {
     "base_uri": "https://localhost:8080/"
    },
    "id": "IgWR8txkKII4",
    "outputId": "3e9afb58-f3e3-49d6-dfb4-470f6697c104"
   },
   "outputs": [
    {
     "data": {
      "text/plain": [
       "(torch.Size([64, 2]), torch.Size([64, 1]))"
      ]
     },
     "execution_count": 25,
     "metadata": {
      "tags": []
     },
     "output_type": "execute_result"
    }
   ],
   "source": [
    "xb, yb = dls.one_batch()\n",
    "xb.shape, yb.shape"
   ]
  },
  {
   "cell_type": "markdown",
   "metadata": {
    "id": "NKi0ehuZzzUf"
   },
   "source": [
    "We are using a batch size of 64, so that makes sense. For our independent variable (X), we have two items there, which are the user and the book and for the dependent variable (y), we only have the rating of the book. That is why the above shapes are so."
   ]
  },
  {
   "cell_type": "markdown",
   "metadata": {
    "id": "mzgk3_Q30RcU"
   },
   "source": [
    "## Creating the Model"
   ]
  },
  {
   "cell_type": "markdown",
   "metadata": {
    "id": "OdmwChs33FxQ"
   },
   "source": [
    "Next, we need to handle the model part. "
   ]
  },
  {
   "cell_type": "code",
   "execution_count": 26,
   "metadata": {
    "id": "23Rh3qr83B1n"
   },
   "outputs": [],
   "source": [
    "class CollabFiltering(Module):\n",
    "\n",
    "  def __init__(self, n_users, n_books, n_factors, y_range=(0, 5.5)):\n",
    "    self.u_weights = Embedding(n_users, n_factors)\n",
    "    self.u_bias = Embedding(n_users, 1)\n",
    "    self.i_weights = Embedding(n_books, n_factors)\n",
    "    self.i_bias = Embedding(n_books, 1)\n",
    "    self.y_range = y_range\n",
    "  \n",
    "  def forward(self, x):\n",
    "    users = self.u_weights(x[:,0])\n",
    "    books = self.i_weights(x[:,1])\n",
    "    res = (users * books).sum(dim=1, keepdims=True)\n",
    "    res += self.u_bias(x[:,0]) + self.i_bias(x[:,1])\n",
    "    res = sigmoid_range(res, *self.y_range)\n",
    "    return res"
   ]
  },
  {
   "cell_type": "markdown",
   "metadata": {
    "id": "6uyYDX_A0TX-"
   },
   "source": [
    "Our Model Inherits from `Module` which is what PyTorch expects:\n",
    "\n",
    "\n",
    "\n",
    "```\n",
    "class CollabFiltering(Module):\n",
    "```\n",
    "\n",
    "\n",
    "The model takes in the number of users, the number of books, the number of factors we want to use for modelling and a y_range that defaults to a tuple of (0, 5.5).\n",
    "\n",
    "The purpose of the y_range is to squish our output between 0 and 5. (We choose 5.5 as the upper limit since we are going to be using sigmoid range to contain our output. And since values in sigmoid never reach the upper limit, to predict a value of 5, we are going to need to go higher).\n",
    "\n",
    "It then creates the Embeddings of the users and the books. We are also going to create biases for each user and each book to capture the fact that some users generally more positive or negative in their recommendations than others and smoe books are just plain better or worse than others.\n",
    "\n",
    "```\n",
    "def __init__(self, n_users, n_books, n_factors, y_range=(0, 5.5)):\n",
    "    self.u_weights = Embedding(n_users, n_factors)\n",
    "    self.u_bias = Embedding(n_users, 1)\n",
    "    self.i_weights = Embedding(n_books, n_factors)\n",
    "    self.i_bias = Embedding(n_books, 1)\n",
    "    self.y_range = y_range\n",
    "```\n",
    "\n",
    "\n",
    "The forward method simply gets the factors from the user embedding and book embedding, performs dot product on them, adds the biases then uses sigmoid range to squish the output between 0 and 5 and returns the result.\n",
    "\n",
    "\n",
    "```\n",
    "def forward(self, x):\n",
    "    users = self.u_weights(x[:,0])\n",
    "    books = self.i_weights(x[:,1])\n",
    "    res = (users * books).sum(dim=1, keepdims=True)\n",
    "    res += self.u_bias(x[:,0]) + self.i_bias(x[:,1])\n",
    "    res = sigmoid_range(res, *self.y_range)\n",
    "    return res\n",
    "```\n",
    "\n"
   ]
  },
  {
   "cell_type": "markdown",
   "metadata": {
    "id": "QPLTAofL3MTi"
   },
   "source": [
    "We can now instantiate the model with 50 factors and create our Learner. We are going to use Mean Squared Error as our loss function since this is a regression problem."
   ]
  },
  {
   "cell_type": "code",
   "execution_count": 27,
   "metadata": {
    "id": "pIDGrVK-K49Q"
   },
   "outputs": [],
   "source": [
    "model = CollabFiltering(n_users, n_books, 50)"
   ]
  },
  {
   "cell_type": "code",
   "execution_count": 28,
   "metadata": {
    "id": "bW4kXvUBLAnn"
   },
   "outputs": [],
   "source": [
    "learn = Learner(dls, model, loss_func=MSELossFlat())"
   ]
  },
  {
   "cell_type": "markdown",
   "metadata": {
    "id": "YMS3Dip33SNw"
   },
   "source": [
    "Let us find a suitable Learning rate and train the model for 6 epochs. We use a weight decay of 0.2 to regularize our model"
   ]
  },
  {
   "cell_type": "code",
   "execution_count": 29,
   "metadata": {
    "colab": {
     "base_uri": "https://localhost:8080/",
     "height": 300
    },
    "id": "e2O80K_NQBox",
    "outputId": "4c307f11-dce9-4116-8c8c-4c72fec2a75a"
   },
   "outputs": [
    {
     "data": {
      "text/html": [],
      "text/plain": [
       "<IPython.core.display.HTML object>"
      ]
     },
     "metadata": {
      "tags": []
     },
     "output_type": "display_data"
    },
    {
     "data": {
      "text/plain": [
       "SuggestedLRs(lr_min=0.03019951581954956, lr_steep=7.585775892948732e-05)"
      ]
     },
     "execution_count": 29,
     "metadata": {
      "tags": []
     },
     "output_type": "execute_result"
    },
    {
     "data": {
      "image/png": "[encoded data removed]",
      "text/plain": [
       "<Figure size 432x288 with 1 Axes>"
      ]
     },
     "metadata": {
      "needs_background": "light",
      "tags": []
     },
     "output_type": "display_data"
    }
   ],
   "source": [
    "learn.lr_find()"
   ]
  },
  {
   "cell_type": "code",
   "execution_count": 30,
   "metadata": {
    "colab": {
     "base_uri": "https://localhost:8080/",
     "height": 238
    },
    "id": "n1bR_0EyLIcs",
    "outputId": "a6299b1a-8a0e-41ed-e6f6-31b901631ff5"
   },
   "outputs": [
    {
     "data": {
      "text/html": [
       "<table border=\"1\" class=\"dataframe\">\n",
       "  <thead>\n",
       "    <tr style=\"text-align: left;\">\n",
       "      <th>epoch</th>\n",
       "      <th>train_loss</th>\n",
       "      <th>valid_loss</th>\n",
       "      <th>time</th>\n",
       "    </tr>\n",
       "  </thead>\n",
       "  <tbody>\n",
       "    <tr>\n",
       "      <td>0</td>\n",
       "      <td>0.972651</td>\n",
       "      <td>0.988126</td>\n",
       "      <td>00:08</td>\n",
       "    </tr>\n",
       "    <tr>\n",
       "      <td>1</td>\n",
       "      <td>0.959149</td>\n",
       "      <td>0.947992</td>\n",
       "      <td>00:08</td>\n",
       "    </tr>\n",
       "    <tr>\n",
       "      <td>2</td>\n",
       "      <td>0.908314</td>\n",
       "      <td>0.913695</td>\n",
       "      <td>00:08</td>\n",
       "    </tr>\n",
       "    <tr>\n",
       "      <td>3</td>\n",
       "      <td>0.789891</td>\n",
       "      <td>0.863736</td>\n",
       "      <td>00:08</td>\n",
       "    </tr>\n",
       "    <tr>\n",
       "      <td>4</td>\n",
       "      <td>0.646984</td>\n",
       "      <td>0.828928</td>\n",
       "      <td>00:08</td>\n",
       "    </tr>\n",
       "    <tr>\n",
       "      <td>5</td>\n",
       "      <td>0.538308</td>\n",
       "      <td>0.826404</td>\n",
       "      <td>00:08</td>\n",
       "    </tr>\n",
       "  </tbody>\n",
       "</table>"
      ],
      "text/plain": [
       "<IPython.core.display.HTML object>"
      ]
     },
     "metadata": {
      "tags": []
     },
     "output_type": "display_data"
    }
   ],
   "source": [
    "learn.fit_one_cycle(6, 1e-2, wd=0.2)"
   ]
  },
  {
   "cell_type": "markdown",
   "metadata": {
    "id": "R_gpGduH3mTN"
   },
   "source": [
    "We get a final MSE of 0.826404 which is actually pretty good for out task at hand."
   ]
  },
  {
   "cell_type": "markdown",
   "metadata": {
    "id": "1x9XeAWP3mNv"
   },
   "source": [
    "## Interpreting the Embeddings"
   ]
  },
  {
   "cell_type": "markdown",
   "metadata": {
    "id": "JKKwvc3z3yQo"
   },
   "source": [
    "Let us start by interpretting the book biases. We could have easily ranked the books by the ratings and checked the last five items but bias tells us something more interesting. These books are books that, even if a user was well matched to the latent factors of the book (e.g action, comedy etc), they still didn't like the books and that is why the books have a low bias. In short, they are generally bad books.\n",
    "\n",
    "These are the 5 books with the lowest bias from our model."
   ]
  },
  {
   "cell_type": "code",
   "execution_count": 31,
   "metadata": {
    "colab": {
     "base_uri": "https://localhost:8080/"
    },
    "id": "h0A-K70fLocp",
    "outputId": "406be2f9-ee53-4fe4-f119-0557a22a5cd1"
   },
   "outputs": [
    {
     "data": {
      "text/plain": [
       "['Trading Up',\n",
       " 'One Night @ The Call Center',\n",
       " 'Four Blondes',\n",
       " 'Lost',\n",
       " 'Eat That Frog!: 21 Great Ways to Stop Procrastinating and Get More Done in Less Time']"
      ]
     },
     "execution_count": 31,
     "metadata": {
      "tags": []
     },
     "output_type": "execute_result"
    }
   ],
   "source": [
    "book_bias = learn.model.i_bias.weight.squeeze()\n",
    "idxs = book_bias.argsort()[:5]\n",
    "[dls.classes['original_title'][i] for i in idxs]"
   ]
  },
  {
   "cell_type": "markdown",
   "metadata": {
    "id": "o-ejUA134TLF"
   },
   "source": [
    "Since our rating DataFrame included the GoodReads ID of each book, we can create a URL of a single book and check out the reviews from GoodReads.\n",
    "\n",
    "Let's use Four Blondes as an example. We can locate its entry in our DataFrame using the following code:"
   ]
  },
  {
   "cell_type": "code",
   "execution_count": 32,
   "metadata": {
    "colab": {
     "base_uri": "https://localhost:8080/",
     "height": 81
    },
    "id": "mYph4FTfYRGT",
    "outputId": "3f9493a2-708a-4464-f7b6-b89fd1337823"
   },
   "outputs": [
    {
     "data": {
      "text/html": [
       "<div>\n",
       "<style scoped>\n",
       "    .dataframe tbody tr th:only-of-type {\n",
       "        vertical-align: middle;\n",
       "    }\n",
       "\n",
       "    .dataframe tbody tr th {\n",
       "        vertical-align: top;\n",
       "    }\n",
       "\n",
       "    .dataframe thead th {\n",
       "        text-align: right;\n",
       "    }\n",
       "</style>\n",
       "<table border=\"1\" class=\"dataframe\">\n",
       "  <thead>\n",
       "    <tr style=\"text-align: right;\">\n",
       "      <th></th>\n",
       "      <th>book_id</th>\n",
       "      <th>goodreads_book_id</th>\n",
       "      <th>authors</th>\n",
       "      <th>original_publication_year</th>\n",
       "      <th>original_title</th>\n",
       "      <th>average_rating</th>\n",
       "    </tr>\n",
       "  </thead>\n",
       "  <tbody>\n",
       "    <tr>\n",
       "      <th>4008</th>\n",
       "      <td>4009</td>\n",
       "      <td>6613</td>\n",
       "      <td>Candace Bushnell</td>\n",
       "      <td>2000.0</td>\n",
       "      <td>Four Blondes</td>\n",
       "      <td>2.8</td>\n",
       "    </tr>\n",
       "  </tbody>\n",
       "</table>\n",
       "</div>"
      ],
      "text/plain": [
       "      book_id  goodreads_book_id           authors  original_publication_year  \\\n",
       "4008     4009               6613  Candace Bushnell                     2000.0   \n",
       "\n",
       "     original_title  average_rating  \n",
       "4008   Four Blondes             2.8  "
      ]
     },
     "execution_count": 32,
     "metadata": {
      "tags": []
     },
     "output_type": "execute_result"
    }
   ],
   "source": [
    "books.loc[books['original_title']=='Four Blondes']"
   ]
  },
  {
   "cell_type": "markdown",
   "metadata": {
    "id": "Gz5vsG--4tAU"
   },
   "source": [
    "Then using its `goodreads_id`, create a URL that we can follow to read its reviews:"
   ]
  },
  {
   "cell_type": "code",
   "execution_count": 33,
   "metadata": {
    "colab": {
     "base_uri": "https://localhost:8080/",
     "height": 36
    },
    "id": "TM3EVA6BdcGQ",
    "outputId": "3c4f2355-5e28-4264-fecf-446ed31a853e"
   },
   "outputs": [
    {
     "data": {
      "application/vnd.google.colaboratory.intrinsic+json": {
       "type": "string"
      },
      "text/plain": [
       "'https://www.goodreads.com/book/show/6613'"
      ]
     },
     "execution_count": 33,
     "metadata": {
      "tags": []
     },
     "output_type": "execute_result"
    }
   ],
   "source": [
    "id = 6613\n",
    "url = f'https://www.goodreads.com/book/show/{id}'\n",
    "url"
   ]
  },
  {
   "cell_type": "markdown",
   "metadata": {
    "id": "yPyxZ4Oc5ako"
   },
   "source": [
    "I haven't read the book myself but I don't think I will too. Reading the reviews from GoodReads looks like people didn't really enjoy this book. Here is one extract of the reviews:\n",
    "\n",
    "![Four Blondes Sample Review](four_blondes.png)"
   ]
  },
  {
   "cell_type": "markdown",
   "metadata": {
    "id": "CsDYeXYM5q1j"
   },
   "source": [
    "Now let us do the opposite, and check for the books with the highest book bias. This means that these are generally good books and even if you don't enjoy such genres, there is a high chance you will enjoy this books:"
   ]
  },
  {
   "cell_type": "code",
   "execution_count": 34,
   "metadata": {
    "colab": {
     "base_uri": "https://localhost:8080/"
    },
    "id": "BBPsL563drYU",
    "outputId": "b61af801-2220-48d4-92a2-b0806a78bbf1"
   },
   "outputs": [
    {
     "data": {
      "text/plain": [
       "['Harry Potter and the Deathly Hallows',\n",
       " 'A Thousand Splendid Suns',\n",
       " 'Where the Wild Things Are',\n",
       " 'Le Petit Prince',\n",
       " 'دیوان\\u200e\\u200e [Dīvān]']"
      ]
     },
     "execution_count": 34,
     "metadata": {
      "tags": []
     },
     "output_type": "execute_result"
    }
   ],
   "source": [
    "idxs = book_bias.argsort(descending=True)[:5]\n",
    "[dls.classes['original_title'][i] for i in idxs]"
   ]
  },
  {
   "cell_type": "markdown",
   "metadata": {
    "id": "JyzLpAvW6GUp"
   },
   "source": [
    "At the very top is a book I enjoyed very much myself: Harry Potter and the Deathly Hallows. Since I may be biased towards that book, let us check for reviews of a book I haven't read myself."
   ]
  },
  {
   "cell_type": "code",
   "execution_count": 35,
   "metadata": {
    "colab": {
     "base_uri": "https://localhost:8080/",
     "height": 36
    },
    "id": "ZRb7WkTYePm2",
    "outputId": "b6aa16dc-b7b5-4f21-e7f7-4ce47f5caadc"
   },
   "outputs": [
    {
     "data": {
      "application/vnd.google.colaboratory.intrinsic+json": {
       "type": "string"
      },
      "text/plain": [
       "'https://www.goodreads.com/book/show/157993'"
      ]
     },
     "execution_count": 35,
     "metadata": {
      "tags": []
     },
     "output_type": "execute_result"
    }
   ],
   "source": [
    "id = int(books.loc[books['original_title']=='Le Petit Prince']['goodreads_book_id'].values)\n",
    "url = f'https://www.goodreads.com/book/show/{id}'\n",
    "url"
   ]
  },
  {
   "cell_type": "markdown",
   "metadata": {
    "id": "M086blu1OX1T"
   },
   "source": [
    "I was suprised to find that 'Le Petit Prince' or 'The Little Prince' was a child-like novel which adults enjoy as well. Here is one review from GoodReads:\n",
    "\n",
    "![Little Prince Sample Review](little_prince.png)"
   ]
  },
  {
   "cell_type": "markdown",
   "metadata": {
    "id": "Oxd3NlujPQuI"
   },
   "source": [
    "It is definitely on my to-read list now."
   ]
  },
  {
   "cell_type": "markdown",
   "metadata": {
    "id": "617HM9mvPt7J"
   },
   "source": [
    "Next, let us try and intepret the Book Embedding Factors. Remember, we had 50 factors in our model. Well, intepreting a 50-dimensional Embedding turns out to be a difficult task for us human beings.\n",
    "\n",
    "Luckily we have a method called `PCA` which stands for Principal Component Analysis that can be used to reduce the dimensions to something that can be plotted in a graph.\n",
    "\n",
    "Here is the outcome:"
   ]
  },
  {
   "cell_type": "code",
   "execution_count": 36,
   "metadata": {
    "colab": {
     "base_uri": "https://localhost:8080/",
     "height": 700
    },
    "id": "GwiPmdN5eltx",
    "outputId": "6ef336d6-93d8-41f6-931d-d056aa62e11b"
   },
   "outputs": [
    {
     "data": {
      "image/png": "[encoded data removed]",
      "text/plain": [
       "<Figure size 864x864 with 1 Axes>"
      ]
     },
     "metadata": {
      "needs_background": "light",
      "tags": []
     },
     "output_type": "display_data"
    }
   ],
   "source": [
    "#| fig-cap: \"Representation of Books based on two strongest PCA components\"\n",
    "g = ratings.groupby('original_title')['rating'].count()\n",
    "top_books = g.sort_values(ascending=False).index.values[:10000]\n",
    "top_idxs = tensor([learn.dls.classes['original_title'].o2i[m] for m in top_books])\n",
    "books_w = learn.model.i_weights.weight[top_idxs].cpu().detach()\n",
    "books_pca = books_w.pca(3)\n",
    "fac0,fac1,fac2 = books_pca.t()\n",
    "idxs = list(range(50))\n",
    "X = fac0[idxs]\n",
    "Y = fac2[idxs]\n",
    "plt.figure(figsize=(12,12))\n",
    "plt.scatter(X, Y)\n",
    "for i, x, y in zip(top_books[idxs], X, Y):\n",
    "    plt.text(x,y,i, color=np.random.rand(3)*0.7, fontsize=11)\n",
    "plt.show()"
   ]
  },
  {
   "cell_type": "markdown",
   "metadata": {
    "id": "SCW0fWE-QUrp"
   },
   "source": [
    "As you can see, our model has learned for itself to seperate the books into different categories. If you look at the very top, we have the classic books, the likes of *To Kill A MockingBird* and *The Great Gatsby*. At the right side we have the likes of *The Da Vinci Code* and *Angels and Demons* which are more of Mystery Thriller Novels and are more of reality fiction novels. At the bottom we have *The Hobit* books which are more of fantasy novels and Mythology."
   ]
  },
  {
   "cell_type": "markdown",
   "metadata": {
    "id": "A65r_v1eRQBj"
   },
   "source": [
    "What is magical is our model learned all of these on its own! We never explicitely told it what genres a particular book belongs to. We only fed it user ratings and it learned all about them itself."
   ]
  },
  {
   "cell_type": "markdown",
   "metadata": {
    "id": "-YT8qVSwRp4Q"
   },
   "source": [
    "## Generating Book Reviews"
   ]
  },
  {
   "cell_type": "markdown",
   "metadata": {
    "id": "fR2I3bC3RtjG"
   },
   "source": [
    "Now comes the interesting part. How to generate a book review for a user. It is actually a very simple concept. The intuition is two similar books should have a smaller distance between them (of the Embeddings) than two different books. So, we will require a reader to input the name of a book he or she enjoyed reading and we will generate a recommendation of books for them.\n",
    "\n",
    "Let us experiment with 'The Da Vinci Code' by Dan Brown and see the 5 most similar books to it using our model:"
   ]
  },
  {
   "cell_type": "code",
   "execution_count": 37,
   "metadata": {
    "colab": {
     "base_uri": "https://localhost:8080/"
    },
    "id": "_-K52T_bg4r_",
    "outputId": "e9a24ee4-7dcb-497d-8327-c63233f3f649"
   },
   "outputs": [
    {
     "data": {
      "text/plain": [
       "['The Sweet Far Thing',\n",
       " 'Angels & Demons ',\n",
       " 'Back Roads',\n",
       " \"What to Expect When You're Expecting\",\n",
       " 'What to Expect the First Year']"
      ]
     },
     "execution_count": 37,
     "metadata": {
      "tags": []
     },
     "output_type": "execute_result"
    }
   ],
   "source": [
    "book_factors = learn.model.i_weights.weight\n",
    "idx = dls.classes['original_title'].o2i['The Da Vinci Code']\n",
    "distances = nn.CosineSimilarity(dim=1)(book_factors, book_factors[idx][None])\n",
    "idx = distances.argsort(descending=True)[1:6]\n",
    "[dls.classes['original_title'][i] for i in idx]"
   ]
  },
  {
   "cell_type": "markdown",
   "metadata": {
    "id": "SMbItkwbSXkh"
   },
   "source": [
    "According to our model, The Sweet Far Thing is the most similar book, so let us generate a URL and see the reviews:"
   ]
  },
  {
   "cell_type": "code",
   "execution_count": 38,
   "metadata": {
    "colab": {
     "base_uri": "https://localhost:8080/",
     "height": 36
    },
    "id": "xJLFno1WiIvK",
    "outputId": "1c017cdd-3394-4b1b-dc86-798fef083980"
   },
   "outputs": [
    {
     "data": {
      "application/vnd.google.colaboratory.intrinsic+json": {
       "type": "string"
      },
      "text/plain": [
       "'https://www.goodreads.com/book/show/127459'"
      ]
     },
     "execution_count": 38,
     "metadata": {
      "tags": []
     },
     "output_type": "execute_result"
    }
   ],
   "source": [
    "id = int(books.loc[books['original_title']=='The Sweet Far Thing']['goodreads_book_id'].values)\n",
    "url = f'https://www.goodreads.com/book/show/{id}'\n",
    "url"
   ]
  },
  {
   "cell_type": "markdown",
   "metadata": {
    "id": "8DtRn7irSyCO"
   },
   "source": [
    "The book description describes it as a Thriller novel which was the same case with The Da Vinci Code."
   ]
  },
  {
   "cell_type": "markdown",
   "metadata": {
    "id": "UZh3pa2Yivog"
   },
   "source": [
    "## Neural Network"
   ]
  },
  {
   "cell_type": "markdown",
   "metadata": {
    "id": "_ZwafCnpS95l"
   },
   "source": [
    "Now, we will experiment with a Neural Network Model and see if it performs better than our Dot Product Model.\n",
    "\n"
   ]
  },
  {
   "cell_type": "markdown",
   "metadata": {
    "id": "o_aYKwAwTOlU"
   },
   "source": [
    "To turn our Model into a Deep Learning Model, we need to concatenate the Embeddings together and pass them through linear layers with non-linearities between them. Our Neural network will have 100 neurons and utilize a ReLU between them. Here is the code:"
   ]
  },
  {
   "cell_type": "code",
   "execution_count": 39,
   "metadata": {
    "id": "Fex-x28ZuySq"
   },
   "outputs": [],
   "source": [
    "class CollabFilteringNN(Module):\n",
    "\n",
    "  def __init__(self, user_sz, book_sz, y_range=(0, 5.5), n_act=100):\n",
    "    self.user_factors = Embedding(*user_sz)\n",
    "    self.book_factors = Embedding(*book_sz)\n",
    "    self.layers = nn.Sequential(\n",
    "        nn.Linear(user_sz[1]+book_sz[1], n_act),\n",
    "        nn.ReLU(),\n",
    "        nn.Linear(n_act, 1)\n",
    "    )\n",
    "    self.y_range = y_range\n",
    "  \n",
    "  \n",
    "  def forward(self, x):\n",
    "    embs = self.user_factors(x[:,0]), self.book_factors(x[:,1])\n",
    "    x = self.layers(torch.cat(embs, dim=1))\n",
    "    return sigmoid_range(x, *self.y_range)\n"
   ]
  },
  {
   "cell_type": "markdown",
   "metadata": {
    "id": "Xfhqj2g-Tqo3"
   },
   "source": [
    "We then instantiate the neural network. We will use the `get_emb_sz` to get good Embedding sizes for our users and books. Remember since we will concatenate the Embeddings and not multiply them, they can now have different sizes."
   ]
  },
  {
   "cell_type": "code",
   "execution_count": 40,
   "metadata": {
    "id": "M9QT8PuAnPOl"
   },
   "outputs": [],
   "source": [
    "nn_model = CollabFilteringNN(*get_emb_sz(dls))"
   ]
  },
  {
   "cell_type": "markdown",
   "metadata": {
    "id": "lNkNEHkXT_7G"
   },
   "source": [
    "We can check out our model:"
   ]
  },
  {
   "cell_type": "code",
   "execution_count": 41,
   "metadata": {
    "colab": {
     "base_uri": "https://localhost:8080/"
    },
    "id": "jTz0yKDsnZw3",
    "outputId": "2ea415c8-d1b4-4772-9fec-528bc5b5c86f"
   },
   "outputs": [
    {
     "data": {
      "text/plain": [
       "CollabFilteringNN(\n",
       "  (user_factors): Embedding(1795, 106)\n",
       "  (book_factors): Embedding(4879, 186)\n",
       "  (layers): Sequential(\n",
       "    (0): Linear(in_features=292, out_features=100, bias=True)\n",
       "    (1): ReLU()\n",
       "    (2): Linear(in_features=100, out_features=1, bias=True)\n",
       "  )\n",
       ")"
      ]
     },
     "execution_count": 41,
     "metadata": {
      "tags": []
     },
     "output_type": "execute_result"
    }
   ],
   "source": [
    "nn_model"
   ]
  },
  {
   "cell_type": "markdown",
   "metadata": {
    "id": "zY71B5CDUDKL"
   },
   "source": [
    "We will now create our Learner with the same `MSE` loss function, find a suitable learning rate and fit our model for 5 epochs using a regularization weight decay of 0.05:"
   ]
  },
  {
   "cell_type": "code",
   "execution_count": 42,
   "metadata": {
    "id": "xTzw8q1GoZ5d"
   },
   "outputs": [],
   "source": [
    "learn = Learner(dls, nn_model, loss_func=MSELossFlat())"
   ]
  },
  {
   "cell_type": "code",
   "execution_count": 43,
   "metadata": {
    "colab": {
     "base_uri": "https://localhost:8080/",
     "height": 300
    },
    "id": "YnBqPt1qpUr6",
    "outputId": "496d39e3-64d3-47d2-d7e4-2df181c5c204"
   },
   "outputs": [
    {
     "data": {
      "text/html": [],
      "text/plain": [
       "<IPython.core.display.HTML object>"
      ]
     },
     "metadata": {
      "tags": []
     },
     "output_type": "display_data"
    },
    {
     "data": {
      "text/plain": [
       "SuggestedLRs(lr_min=0.006918309628963471, lr_steep=3.311311274956097e-06)"
      ]
     },
     "execution_count": 43,
     "metadata": {
      "tags": []
     },
     "output_type": "execute_result"
    },
    {
     "data": {
      "image/png": "[encoded data removed]",
      "text/plain": [
       "<Figure size 432x288 with 1 Axes>"
      ]
     },
     "metadata": {
      "needs_background": "light",
      "tags": []
     },
     "output_type": "display_data"
    }
   ],
   "source": [
    "learn.lr_find()"
   ]
  },
  {
   "cell_type": "code",
   "execution_count": 45,
   "metadata": {
    "colab": {
     "base_uri": "https://localhost:8080/",
     "height": 206
    },
    "id": "HymMfjd9pWjF",
    "outputId": "9d757e52-b073-4ae3-da18-9103b5e72162"
   },
   "outputs": [
    {
     "data": {
      "text/html": [
       "<table border=\"1\" class=\"dataframe\">\n",
       "  <thead>\n",
       "    <tr style=\"text-align: left;\">\n",
       "      <th>epoch</th>\n",
       "      <th>train_loss</th>\n",
       "      <th>valid_loss</th>\n",
       "      <th>time</th>\n",
       "    </tr>\n",
       "  </thead>\n",
       "  <tbody>\n",
       "    <tr>\n",
       "      <td>0</td>\n",
       "      <td>0.775485</td>\n",
       "      <td>0.819169</td>\n",
       "      <td>00:25</td>\n",
       "    </tr>\n",
       "    <tr>\n",
       "      <td>1</td>\n",
       "      <td>0.805927</td>\n",
       "      <td>0.817436</td>\n",
       "      <td>00:29</td>\n",
       "    </tr>\n",
       "    <tr>\n",
       "      <td>2</td>\n",
       "      <td>0.777418</td>\n",
       "      <td>0.803896</td>\n",
       "      <td>00:30</td>\n",
       "    </tr>\n",
       "    <tr>\n",
       "      <td>3</td>\n",
       "      <td>0.716998</td>\n",
       "      <td>0.798450</td>\n",
       "      <td>00:26</td>\n",
       "    </tr>\n",
       "    <tr>\n",
       "      <td>4</td>\n",
       "      <td>0.652017</td>\n",
       "      <td>0.812329</td>\n",
       "      <td>00:25</td>\n",
       "    </tr>\n",
       "  </tbody>\n",
       "</table>"
      ],
      "text/plain": [
       "<IPython.core.display.HTML object>"
      ]
     },
     "metadata": {
      "tags": []
     },
     "output_type": "display_data"
    }
   ],
   "source": [
    "learn = Learner(dls, nn_model, loss_func=MSELossFlat())\n",
    "learn.fit_one_cycle(5, 1e-2, wd=0.05)"
   ]
  },
  {
   "cell_type": "markdown",
   "metadata": {
    "id": "SRKSlGl5UQI_"
   },
   "source": [
    "We get roughly the same final MSE."
   ]
  },
  {
   "cell_type": "markdown",
   "metadata": {
    "id": "tmb-31pGswYq"
   },
   "source": [
    "# Use Full DataSet"
   ]
  },
  {
   "cell_type": "markdown",
   "metadata": {
    "id": "cv2yD5hnUU2r"
   },
   "source": [
    "Since we are done prototyping and experimenting with the small dataset, it is time to use the full dataset for modelling.\n",
    "\n",
    "Our full dataset has around 6 million ratings, instead of the 100k we worked with earlier. Therefore it will probably take longer to train. Due to that, we need to train the model for a short number of epochs then save the model's current progress before we continue training.\n"
   ]
  },
  {
   "cell_type": "markdown",
   "metadata": {
    "id": "h7yevjkHU3IZ"
   },
   "source": [
    "We will load in the ratings and pre-process the DataSet as before, then create a DataLoaders object and train the model:"
   ]
  },
  {
   "cell_type": "code",
   "execution_count": 44,
   "metadata": {
    "colab": {
     "base_uri": "https://localhost:8080/",
     "height": 206
    },
    "id": "tAWjr9ePpfps",
    "outputId": "c7358b71-2eb1-4016-d806-996db251c0ba"
   },
   "outputs": [
    {
     "data": {
      "text/html": [
       "<div>\n",
       "<style scoped>\n",
       "    .dataframe tbody tr th:only-of-type {\n",
       "        vertical-align: middle;\n",
       "    }\n",
       "\n",
       "    .dataframe tbody tr th {\n",
       "        vertical-align: top;\n",
       "    }\n",
       "\n",
       "    .dataframe thead th {\n",
       "        text-align: right;\n",
       "    }\n",
       "</style>\n",
       "<table border=\"1\" class=\"dataframe\">\n",
       "  <thead>\n",
       "    <tr style=\"text-align: right;\">\n",
       "      <th></th>\n",
       "      <th>user_id</th>\n",
       "      <th>book_id</th>\n",
       "      <th>rating</th>\n",
       "    </tr>\n",
       "  </thead>\n",
       "  <tbody>\n",
       "    <tr>\n",
       "      <th>0</th>\n",
       "      <td>1</td>\n",
       "      <td>258</td>\n",
       "      <td>5</td>\n",
       "    </tr>\n",
       "    <tr>\n",
       "      <th>1</th>\n",
       "      <td>2</td>\n",
       "      <td>4081</td>\n",
       "      <td>4</td>\n",
       "    </tr>\n",
       "    <tr>\n",
       "      <th>2</th>\n",
       "      <td>2</td>\n",
       "      <td>260</td>\n",
       "      <td>5</td>\n",
       "    </tr>\n",
       "    <tr>\n",
       "      <th>3</th>\n",
       "      <td>2</td>\n",
       "      <td>9296</td>\n",
       "      <td>5</td>\n",
       "    </tr>\n",
       "    <tr>\n",
       "      <th>4</th>\n",
       "      <td>2</td>\n",
       "      <td>2318</td>\n",
       "      <td>3</td>\n",
       "    </tr>\n",
       "  </tbody>\n",
       "</table>\n",
       "</div>"
      ],
      "text/plain": [
       "   user_id  book_id  rating\n",
       "0        1      258       5\n",
       "1        2     4081       4\n",
       "2        2      260       5\n",
       "3        2     9296       5\n",
       "4        2     2318       3"
      ]
     },
     "execution_count": 44,
     "metadata": {
      "tags": []
     },
     "output_type": "execute_result"
    }
   ],
   "source": [
    "ratings = pd.read_csv(path/'ratings.csv')\n",
    "\n",
    "ratings.head()"
   ]
  },
  {
   "cell_type": "code",
   "execution_count": 45,
   "metadata": {
    "colab": {
     "base_uri": "https://localhost:8080/",
     "height": 574
    },
    "id": "d4SqofcGs4fP",
    "outputId": "0880987e-0d71-4f7b-c8a1-01482984435d"
   },
   "outputs": [
    {
     "data": {
      "text/html": [
       "<div>\n",
       "<style scoped>\n",
       "    .dataframe tbody tr th:only-of-type {\n",
       "        vertical-align: middle;\n",
       "    }\n",
       "\n",
       "    .dataframe tbody tr th {\n",
       "        vertical-align: top;\n",
       "    }\n",
       "\n",
       "    .dataframe thead th {\n",
       "        text-align: right;\n",
       "    }\n",
       "</style>\n",
       "<table border=\"1\" class=\"dataframe\">\n",
       "  <thead>\n",
       "    <tr style=\"text-align: right;\">\n",
       "      <th></th>\n",
       "      <th>user_id</th>\n",
       "      <th>book_id</th>\n",
       "      <th>rating</th>\n",
       "      <th>goodreads_book_id</th>\n",
       "      <th>authors</th>\n",
       "      <th>original_publication_year</th>\n",
       "      <th>original_title</th>\n",
       "      <th>average_rating</th>\n",
       "    </tr>\n",
       "  </thead>\n",
       "  <tbody>\n",
       "    <tr>\n",
       "      <th>0</th>\n",
       "      <td>1</td>\n",
       "      <td>258</td>\n",
       "      <td>5</td>\n",
       "      <td>1232</td>\n",
       "      <td>Carlos Ruiz Zafón, Lucia Graves</td>\n",
       "      <td>2001.0</td>\n",
       "      <td>La sombra del viento</td>\n",
       "      <td>4.24</td>\n",
       "    </tr>\n",
       "    <tr>\n",
       "      <th>1</th>\n",
       "      <td>11</td>\n",
       "      <td>258</td>\n",
       "      <td>3</td>\n",
       "      <td>1232</td>\n",
       "      <td>Carlos Ruiz Zafón, Lucia Graves</td>\n",
       "      <td>2001.0</td>\n",
       "      <td>La sombra del viento</td>\n",
       "      <td>4.24</td>\n",
       "    </tr>\n",
       "    <tr>\n",
       "      <th>2</th>\n",
       "      <td>143</td>\n",
       "      <td>258</td>\n",
       "      <td>4</td>\n",
       "      <td>1232</td>\n",
       "      <td>Carlos Ruiz Zafón, Lucia Graves</td>\n",
       "      <td>2001.0</td>\n",
       "      <td>La sombra del viento</td>\n",
       "      <td>4.24</td>\n",
       "    </tr>\n",
       "    <tr>\n",
       "      <th>3</th>\n",
       "      <td>242</td>\n",
       "      <td>258</td>\n",
       "      <td>5</td>\n",
       "      <td>1232</td>\n",
       "      <td>Carlos Ruiz Zafón, Lucia Graves</td>\n",
       "      <td>2001.0</td>\n",
       "      <td>La sombra del viento</td>\n",
       "      <td>4.24</td>\n",
       "    </tr>\n",
       "    <tr>\n",
       "      <th>4</th>\n",
       "      <td>325</td>\n",
       "      <td>258</td>\n",
       "      <td>4</td>\n",
       "      <td>1232</td>\n",
       "      <td>Carlos Ruiz Zafón, Lucia Graves</td>\n",
       "      <td>2001.0</td>\n",
       "      <td>La sombra del viento</td>\n",
       "      <td>4.24</td>\n",
       "    </tr>\n",
       "  </tbody>\n",
       "</table>\n",
       "</div>"
      ],
      "text/plain": [
       "   user_id  book_id  rating  goodreads_book_id  \\\n",
       "0        1      258       5               1232   \n",
       "1       11      258       3               1232   \n",
       "2      143      258       4               1232   \n",
       "3      242      258       5               1232   \n",
       "4      325      258       4               1232   \n",
       "\n",
       "                           authors  original_publication_year  \\\n",
       "0  Carlos Ruiz Zafón, Lucia Graves                     2001.0   \n",
       "1  Carlos Ruiz Zafón, Lucia Graves                     2001.0   \n",
       "2  Carlos Ruiz Zafón, Lucia Graves                     2001.0   \n",
       "3  Carlos Ruiz Zafón, Lucia Graves                     2001.0   \n",
       "4  Carlos Ruiz Zafón, Lucia Graves                     2001.0   \n",
       "\n",
       "         original_title  average_rating  \n",
       "0  La sombra del viento            4.24  \n",
       "1  La sombra del viento            4.24  \n",
       "2  La sombra del viento            4.24  \n",
       "3  La sombra del viento            4.24  \n",
       "4  La sombra del viento            4.24  "
      ]
     },
     "execution_count": 45,
     "metadata": {
      "tags": []
     },
     "output_type": "execute_result"
    }
   ],
   "source": [
    "ratings = ratings.merge(books)\n",
    "\n",
    "ratings.head()"
   ]
  },
  {
   "cell_type": "code",
   "execution_count": 46,
   "metadata": {
    "id": "kNETJorHs9QO"
   },
   "outputs": [],
   "source": [
    "dls = CollabDataLoaders.from_df(ratings=ratings, valid_pct=0.2, \n",
    "                                user_name='user_id', item_name='original_title',\n",
    "                                rating_name='rating')"
   ]
  },
  {
   "cell_type": "code",
   "execution_count": 47,
   "metadata": {
    "colab": {
     "base_uri": "https://localhost:8080/",
     "height": 363
    },
    "id": "9Kee6EiytRqe",
    "outputId": "49eca74f-e86b-44f0-9c3c-a70ed97a7313"
   },
   "outputs": [
    {
     "data": {
      "text/html": [
       "<table border=\"1\" class=\"dataframe\">\n",
       "  <thead>\n",
       "    <tr style=\"text-align: right;\">\n",
       "      <th></th>\n",
       "      <th>user_id</th>\n",
       "      <th>original_title</th>\n",
       "      <th>rating</th>\n",
       "    </tr>\n",
       "  </thead>\n",
       "  <tbody>\n",
       "    <tr>\n",
       "      <th>0</th>\n",
       "      <td>14055</td>\n",
       "      <td>The Crying of Lot 49</td>\n",
       "      <td>3</td>\n",
       "    </tr>\n",
       "    <tr>\n",
       "      <th>1</th>\n",
       "      <td>52968</td>\n",
       "      <td>The Gunslinger</td>\n",
       "      <td>5</td>\n",
       "    </tr>\n",
       "    <tr>\n",
       "      <th>2</th>\n",
       "      <td>14644</td>\n",
       "      <td>The Five People You Meet in Heaven</td>\n",
       "      <td>4</td>\n",
       "    </tr>\n",
       "    <tr>\n",
       "      <th>3</th>\n",
       "      <td>5431</td>\n",
       "      <td>The Gods Themselves</td>\n",
       "      <td>5</td>\n",
       "    </tr>\n",
       "    <tr>\n",
       "      <th>4</th>\n",
       "      <td>31889</td>\n",
       "      <td>A Wrinkle in Time</td>\n",
       "      <td>5</td>\n",
       "    </tr>\n",
       "    <tr>\n",
       "      <th>5</th>\n",
       "      <td>27179</td>\n",
       "      <td>Jurassic Park</td>\n",
       "      <td>5</td>\n",
       "    </tr>\n",
       "    <tr>\n",
       "      <th>6</th>\n",
       "      <td>46433</td>\n",
       "      <td>Watchmen</td>\n",
       "      <td>5</td>\n",
       "    </tr>\n",
       "    <tr>\n",
       "      <th>7</th>\n",
       "      <td>43269</td>\n",
       "      <td>The Fault in Our Stars</td>\n",
       "      <td>1</td>\n",
       "    </tr>\n",
       "    <tr>\n",
       "      <th>8</th>\n",
       "      <td>39282</td>\n",
       "      <td>A Return to Love: Reflections on the Principles of \"A Course in Miracles\"</td>\n",
       "      <td>5</td>\n",
       "    </tr>\n",
       "    <tr>\n",
       "      <th>9</th>\n",
       "      <td>11652</td>\n",
       "      <td>The Mist</td>\n",
       "      <td>3</td>\n",
       "    </tr>\n",
       "  </tbody>\n",
       "</table>"
      ],
      "text/plain": [
       "<IPython.core.display.HTML object>"
      ]
     },
     "metadata": {
      "tags": []
     },
     "output_type": "display_data"
    }
   ],
   "source": [
    "dls.show_batch()"
   ]
  },
  {
   "cell_type": "code",
   "execution_count": 48,
   "metadata": {
    "id": "QYWBRaKtt73G"
   },
   "outputs": [],
   "source": [
    "n_users = len(dls.classes['user_id'])\n",
    "n_books = len(dls.classes['original_title'])"
   ]
  },
  {
   "cell_type": "code",
   "execution_count": 51,
   "metadata": {
    "colab": {
     "base_uri": "https://localhost:8080/",
     "height": 180
    },
    "id": "FvaOgitg4xim",
    "outputId": "645c96e4-a4a8-4671-e3e7-f52e0d54575f"
   },
   "outputs": [
    {
     "data": {
      "text/html": [
       "<h4 id=\"collab_learner\" class=\"doc_header\"><code>collab_learner</code><a href=\"https://github.com/fastai/fastai/tree/master/fastai/collab.py#L90\" class=\"source_link\" style=\"float:right\">[source]</a></h4><blockquote><p><code>collab_learner</code>(<strong><code>dls</code></strong>, <strong><code>n_factors</code></strong>=<em><code>50</code></em>, <strong><code>use_nn</code></strong>=<em><code>False</code></em>, <strong><code>emb_szs</code></strong>=<em><code>None</code></em>, <strong><code>layers</code></strong>=<em><code>None</code></em>, <strong><code>config</code></strong>=<em><code>None</code></em>, <strong><code>y_range</code></strong>=<em><code>None</code></em>, <strong><code>loss_func</code></strong>=<em><code>None</code></em>, <strong><code>opt_func</code></strong>=<em><code>Adam</code></em>, <strong><code>lr</code></strong>=<em><code>0.001</code></em>, <strong><code>splitter</code></strong>=<em><code>trainable_params</code></em>, <strong><code>cbs</code></strong>=<em><code>None</code></em>, <strong><code>metrics</code></strong>=<em><code>None</code></em>, <strong><code>path</code></strong>=<em><code>None</code></em>, <strong><code>model_dir</code></strong>=<em><code>'models'</code></em>, <strong><code>wd</code></strong>=<em><code>None</code></em>, <strong><code>wd_bn_bias</code></strong>=<em><code>False</code></em>, <strong><code>train_bn</code></strong>=<em><code>True</code></em>, <strong><code>moms</code></strong>=<em><code>(0.95, 0.85, 0.95)</code></em>)</p>\n",
       "</blockquote>\n",
       "<p>Create a Learner for collaborative filtering on <code>dls</code>.</p>\n",
       "<p><a href=\"https://docs.fast.ai/collab#collab_learner\" target=\"_blank\" rel=\"noreferrer noopener\">Show in docs</a></p>\n"
      ],
      "text/plain": [
       "<IPython.core.display.HTML object>"
      ]
     },
     "metadata": {
      "tags": []
     },
     "output_type": "display_data"
    }
   ],
   "source": [
    "doc(collab_learner)"
   ]
  },
  {
   "cell_type": "markdown",
   "metadata": {
    "id": "V3ccppX24pPo"
   },
   "source": [
    "We will use the collab_learner provided by fastai for convinience purposes and since I want to export my model after and create an inference app after.\n",
    "\n",
    "**Note**: It does the exact same thing as our DotProduct Model but has some nice additions on top."
   ]
  },
  {
   "cell_type": "code",
   "execution_count": 52,
   "metadata": {
    "id": "Ugf9vZDKuyjg"
   },
   "outputs": [],
   "source": [
    "learn = collab_learner(dls, n_factors=500, y_range=(0, 5.5))"
   ]
  },
  {
   "cell_type": "code",
   "execution_count": 53,
   "metadata": {
    "colab": {
     "base_uri": "https://localhost:8080/",
     "height": 300
    },
    "id": "eI4AJGmru_nJ",
    "outputId": "f4f10202-d22c-493e-98ab-c870924c0ff3"
   },
   "outputs": [
    {
     "data": {
      "text/html": [],
      "text/plain": [
       "<IPython.core.display.HTML object>"
      ]
     },
     "metadata": {
      "tags": []
     },
     "output_type": "display_data"
    },
    {
     "data": {
      "text/plain": [
       "SuggestedLRs(lr_min=0.19054607152938843, lr_steep=2.511886486900039e-05)"
      ]
     },
     "execution_count": 53,
     "metadata": {
      "tags": []
     },
     "output_type": "execute_result"
    },
    {
     "data": {
      "image/png": "[encoded data removed]",
      "text/plain": [
       "<Figure size 432x288 with 1 Axes>"
      ]
     },
     "metadata": {
      "needs_background": "light",
      "tags": []
     },
     "output_type": "display_data"
    }
   ],
   "source": [
    "learn.lr_find()"
   ]
  },
  {
   "cell_type": "code",
   "execution_count": 54,
   "metadata": {
    "colab": {
     "base_uri": "https://localhost:8080/",
     "height": 175
    },
    "id": "T5avNeg7vAuC",
    "outputId": "cc8bc166-34da-49cd-983b-7fc166628515"
   },
   "outputs": [
    {
     "data": {
      "text/html": [
       "<table border=\"1\" class=\"dataframe\">\n",
       "  <thead>\n",
       "    <tr style=\"text-align: left;\">\n",
       "      <th>epoch</th>\n",
       "      <th>train_loss</th>\n",
       "      <th>valid_loss</th>\n",
       "      <th>time</th>\n",
       "    </tr>\n",
       "  </thead>\n",
       "  <tbody>\n",
       "    <tr>\n",
       "      <td>0</td>\n",
       "      <td>7.333699</td>\n",
       "      <td>7.176844</td>\n",
       "      <td>24:07</td>\n",
       "    </tr>\n",
       "    <tr>\n",
       "      <td>1</td>\n",
       "      <td>7.123693</td>\n",
       "      <td>6.995453</td>\n",
       "      <td>24:09</td>\n",
       "    </tr>\n",
       "    <tr>\n",
       "      <td>2</td>\n",
       "      <td>5.130961</td>\n",
       "      <td>5.162658</td>\n",
       "      <td>23:57</td>\n",
       "    </tr>\n",
       "    <tr>\n",
       "      <td>3</td>\n",
       "      <td>1.104243</td>\n",
       "      <td>1.095618</td>\n",
       "      <td>24:06</td>\n",
       "    </tr>\n",
       "  </tbody>\n",
       "</table>"
      ],
      "text/plain": [
       "<IPython.core.display.HTML object>"
      ]
     },
     "metadata": {
      "tags": []
     },
     "output_type": "display_data"
    }
   ],
   "source": [
    "learn.fit_one_cycle(4, 1e-1)"
   ]
  },
  {
   "cell_type": "markdown",
   "metadata": {
    "id": "0GCXjbZTVCrP"
   },
   "source": [
    "After 4 epochs, we get a MSE of 1.09. This is probably a good time to save the model so we do not lose our progress:"
   ]
  },
  {
   "cell_type": "code",
   "execution_count": 55,
   "metadata": {
    "colab": {
     "base_uri": "https://localhost:8080/"
    },
    "id": "0TwdVXYLvJ83",
    "outputId": "41b6d119-bdcf-4ac0-c8e4-3540acb914f5"
   },
   "outputs": [
    {
     "data": {
      "text/plain": [
       "Path('models/4epochs.pth')"
      ]
     },
     "execution_count": 55,
     "metadata": {
      "tags": []
     },
     "output_type": "execute_result"
    }
   ],
   "source": [
    "learn.save('4epochs')"
   ]
  },
  {
   "cell_type": "code",
   "execution_count": 56,
   "metadata": {
    "id": "kQMbyTBbMSTL"
   },
   "outputs": [],
   "source": [
    "#| include: false\n",
    "# If you are using Colab, you can save the model in your Google Drive too\n",
    "!cp models/4epochs.pth gdrive/MyDrive/Models/Book\\ Collab\\ Filtering/"
   ]
  },
  {
   "cell_type": "markdown",
   "metadata": {
    "id": "TmrZqhaZVSyd"
   },
   "source": [
    "We can now load up the model and find continue training it for two more epochs and see if it improves:"
   ]
  },
  {
   "cell_type": "code",
   "execution_count": 57,
   "metadata": {
    "id": "gS4C5XR2GRLQ"
   },
   "outputs": [],
   "source": [
    "learn = learn.load('4epochs')"
   ]
  },
  {
   "cell_type": "code",
   "execution_count": 58,
   "metadata": {
    "colab": {
     "base_uri": "https://localhost:8080/"
    },
    "id": "gt5PlCmjMLYw",
    "outputId": "efd47239-8f5a-455e-8631-d17b09ea1527"
   },
   "outputs": [
    {
     "data": {
      "text/plain": [
       "EmbeddingDotBias(\n",
       "  (u_weight): Embedding(53425, 500)\n",
       "  (i_weight): Embedding(9269, 500)\n",
       "  (u_bias): Embedding(53425, 1)\n",
       "  (i_bias): Embedding(9269, 1)\n",
       ")"
      ]
     },
     "execution_count": 58,
     "metadata": {
      "tags": []
     },
     "output_type": "execute_result"
    }
   ],
   "source": [
    "learn.model"
   ]
  },
  {
   "cell_type": "code",
   "execution_count": 59,
   "metadata": {
    "colab": {
     "base_uri": "https://localhost:8080/",
     "height": 300
    },
    "id": "USQ7LEoAMDhl",
    "outputId": "1f825f9b-49b1-4fbf-bd60-e9b5e331f8d1"
   },
   "outputs": [
    {
     "data": {
      "text/html": [],
      "text/plain": [
       "<IPython.core.display.HTML object>"
      ]
     },
     "metadata": {
      "tags": []
     },
     "output_type": "display_data"
    },
    {
     "data": {
      "text/plain": [
       "SuggestedLRs(lr_min=0.002754228748381138, lr_steep=8.31763736641733e-06)"
      ]
     },
     "execution_count": 59,
     "metadata": {
      "tags": []
     },
     "output_type": "execute_result"
    },
    {
     "data": {
      "image/png": "[encoded data removed]",
      "text/plain": [
       "<Figure size 432x288 with 1 Axes>"
      ]
     },
     "metadata": {
      "needs_background": "light",
      "tags": []
     },
     "output_type": "display_data"
    }
   ],
   "source": [
    "learn.lr_find()"
   ]
  },
  {
   "cell_type": "code",
   "execution_count": 60,
   "metadata": {
    "colab": {
     "base_uri": "https://localhost:8080/",
     "height": 112
    },
    "id": "KLHW-AMdGWwO",
    "outputId": "85cdd055-7d83-4c8e-8358-41feacc2a197"
   },
   "outputs": [
    {
     "data": {
      "text/html": [
       "<table border=\"1\" class=\"dataframe\">\n",
       "  <thead>\n",
       "    <tr style=\"text-align: left;\">\n",
       "      <th>epoch</th>\n",
       "      <th>train_loss</th>\n",
       "      <th>valid_loss</th>\n",
       "      <th>time</th>\n",
       "    </tr>\n",
       "  </thead>\n",
       "  <tbody>\n",
       "    <tr>\n",
       "      <td>0</td>\n",
       "      <td>0.631629</td>\n",
       "      <td>0.749671</td>\n",
       "      <td>24:14</td>\n",
       "    </tr>\n",
       "    <tr>\n",
       "      <td>1</td>\n",
       "      <td>0.374357</td>\n",
       "      <td>0.715882</td>\n",
       "      <td>24:15</td>\n",
       "    </tr>\n",
       "  </tbody>\n",
       "</table>"
      ],
      "text/plain": [
       "<IPython.core.display.HTML object>"
      ]
     },
     "metadata": {
      "tags": []
     },
     "output_type": "display_data"
    }
   ],
   "source": [
    "learn.fit_one_cycle(2, 1e-3)"
   ]
  },
  {
   "cell_type": "markdown",
   "metadata": {
    "id": "IddyhjiugEOi"
   },
   "source": [
    "We go down to an MSE of 0.71 which is even better than what we got with the subset of the dataset."
   ]
  },
  {
   "cell_type": "markdown",
   "metadata": {
    "id": "YD8MKSz2VbAk"
   },
   "source": [
    "Since it is taking long to train and I was happy with the results at this point, I stopped after 6 epochs and saved the model. However, if you have time and resources, you can continue training using the same process of saving progress after a few epochs."
   ]
  },
  {
   "cell_type": "code",
   "execution_count": 61,
   "metadata": {
    "colab": {
     "base_uri": "https://localhost:8080/"
    },
    "id": "_zOGAOvnGcE1",
    "outputId": "ba57b654-2bde-4ac8-c62c-4a66d2e13193"
   },
   "outputs": [
    {
     "data": {
      "text/plain": [
       "Path('models/6epochs.pth')"
      ]
     },
     "execution_count": 61,
     "metadata": {
      "tags": []
     },
     "output_type": "execute_result"
    }
   ],
   "source": [
    "learn.save('6epochs')"
   ]
  },
  {
   "cell_type": "code",
   "execution_count": 62,
   "metadata": {
    "id": "jYlSwTRSgN2y"
   },
   "outputs": [],
   "source": [
    "#| include: false\n",
    "# If you are using Colab, you can save the model in your Google Drive too\n",
    "!cp models/6epochs.pth gdrive/MyDrive/Models/Book\\ Collab\\ Filtering/"
   ]
  },
  {
   "cell_type": "markdown",
   "metadata": {
    "id": "Kxr5JNfvYmOH"
   },
   "source": [
    "# Interpreting the Full Model"
   ]
  },
  {
   "cell_type": "markdown",
   "metadata": {
    "id": "4lFLCsVaVxDS"
   },
   "source": [
    "We can see what our model with the full dataset learned."
   ]
  },
  {
   "cell_type": "markdown",
   "metadata": {
    "id": "KZI2xGVRV0Wa"
   },
   "source": [
    "We will start with the 5 books with the lowest bias (Generally bad books even if you would like the genre):"
   ]
  },
  {
   "cell_type": "code",
   "execution_count": 63,
   "metadata": {
    "colab": {
     "base_uri": "https://localhost:8080/"
    },
    "id": "Ie2vmtX-YeWe",
    "outputId": "8a598505-b67f-46cd-a325-866aac96c88f"
   },
   "outputs": [
    {
     "data": {
      "text/plain": [
       "['One Night @ The Call Center',\n",
       " 'Half Girlfriend',\n",
       " 'ليتها تقرأ',\n",
       " 'The 3 Mistakes of My Life',\n",
       " 'of course i love you']"
      ]
     },
     "execution_count": 63,
     "metadata": {
      "tags": []
     },
     "output_type": "execute_result"
    }
   ],
   "source": [
    "book_bias = learn.model.i_bias.weight.squeeze()\n",
    "idxs = book_bias.argsort()[:5]\n",
    "[dls.classes['original_title'][i] for i in idxs]"
   ]
  },
  {
   "cell_type": "markdown",
   "metadata": {
    "id": "g_D-mdUxV-FL"
   },
   "source": [
    "The book *One Night @ The Call Center* makes another appearance. It must be a really bad book."
   ]
  },
  {
   "cell_type": "markdown",
   "metadata": {
    "id": "IOYNpnWpWGMN"
   },
   "source": [
    "Now for the generally good books, the books with the highest book bias:"
   ]
  },
  {
   "cell_type": "code",
   "execution_count": 64,
   "metadata": {
    "colab": {
     "base_uri": "https://localhost:8080/"
    },
    "id": "YY4rx5G-YokE",
    "outputId": "770662d2-ee12-4983-db87-5f3eba3f0425"
   },
   "outputs": [
    {
     "data": {
      "text/plain": [
       "['The Complete Calvin and Hobbes',\n",
       " 'Words of Radiance',\n",
       " 'Complete Harry Potter Boxed Set',\n",
       " 'The Essential Calvin and Hobbes: A Calvin and Hobbes Treasury',\n",
       " 'The Calvin and Hobbes Tenth Anniversary Book']"
      ]
     },
     "execution_count": 64,
     "metadata": {
      "tags": []
     },
     "output_type": "execute_result"
    }
   ],
   "source": [
    "idxs = book_bias.argsort(descending=True)[:5]\n",
    "[dls.classes['original_title'][i] for i in idxs]"
   ]
  },
  {
   "cell_type": "markdown",
   "metadata": {
    "id": "bqWu_cykWLDR"
   },
   "source": [
    "Harry Potter makes another appearance. Let us check out one of the books:"
   ]
  },
  {
   "cell_type": "code",
   "execution_count": 65,
   "metadata": {
    "colab": {
     "base_uri": "https://localhost:8080/",
     "height": 36
    },
    "id": "AsW7S2pbaCGN",
    "outputId": "1e3c1cb2-1503-4784-bce3-6666f9142e19"
   },
   "outputs": [
    {
     "data": {
      "application/vnd.google.colaboratory.intrinsic+json": {
       "type": "string"
      },
      "text/plain": [
       "'https://www.goodreads.com/book/show/17332218'"
      ]
     },
     "execution_count": 65,
     "metadata": {
      "tags": []
     },
     "output_type": "execute_result"
    }
   ],
   "source": [
    "id = int(books.loc[books['original_title']=='Words of Radiance']['goodreads_book_id'].values)\n",
    "url = f'https://www.goodreads.com/book/show/{id}'\n",
    "url"
   ]
  },
  {
   "cell_type": "markdown",
   "metadata": {
    "id": "rg1o9NYqWj-8"
   },
   "source": [
    "Here is a sample review of the book:\n",
    "\n",
    "![Words of Radiance Sample Review](words_of_radiance.png)"
   ]
  },
  {
   "cell_type": "markdown",
   "metadata": {
    "id": "wRwVwNjpWtYH"
   },
   "source": [
    "Next we can check out the Book Embeddings using the PCA trick we utilized before:"
   ]
  },
  {
   "cell_type": "code",
   "execution_count": 67,
   "metadata": {
    "colab": {
     "base_uri": "https://localhost:8080/"
    },
    "id": "smGJRkT8gjaP",
    "outputId": "62c59cce-502d-4064-c0c8-bd0ca6460da6"
   },
   "outputs": [
    {
     "data": {
      "text/plain": [
       "EmbeddingDotBias(\n",
       "  (u_weight): Embedding(53425, 500)\n",
       "  (i_weight): Embedding(9269, 500)\n",
       "  (u_bias): Embedding(53425, 1)\n",
       "  (i_bias): Embedding(9269, 1)\n",
       ")"
      ]
     },
     "execution_count": 67,
     "metadata": {
      "tags": []
     },
     "output_type": "execute_result"
    }
   ],
   "source": [
    "learn.model"
   ]
  },
  {
   "cell_type": "code",
   "execution_count": 71,
   "metadata": {
    "colab": {
     "base_uri": "https://localhost:8080/",
     "height": 700
    },
    "id": "tt85G-XcYxHe",
    "outputId": "c2a2f12e-d012-4fc3-9ce0-e41edb17cc76"
   },
   "outputs": [
    {
     "data": {
      "image/png": "[encoded data removed]",
      "text/plain": [
       "<Figure size 864x864 with 1 Axes>"
      ]
     },
     "metadata": {
      "needs_background": "light",
      "tags": []
     },
     "output_type": "display_data"
    }
   ],
   "source": [
    "#| fig-cap: \"Representation of Books based on two strongest PCA components\"\n",
    "g = ratings.groupby('original_title')['rating'].count()\n",
    "top_books = g.sort_values(ascending=False).index.values[:10000]\n",
    "top_idxs = tensor([learn.dls.classes['original_title'].o2i[m] for m in top_books])\n",
    "books_w = learn.model.i_weight.weight[top_idxs].cpu().detach()\n",
    "books_pca = books_w.pca(3)\n",
    "fac0,fac1,fac2 = books_pca.t()\n",
    "idxs = list(range(50))\n",
    "X = fac0[idxs]\n",
    "Y = fac2[idxs]\n",
    "plt.figure(figsize=(12,12))\n",
    "plt.scatter(X, Y)\n",
    "for i, x, y in zip(top_books[idxs], X, Y):\n",
    "    plt.text(x,y,i, color=np.random.rand(3)*0.7, fontsize=11)\n",
    "plt.show()"
   ]
  },
  {
   "cell_type": "markdown",
   "metadata": {
    "id": "7HK4OTawW3Mj"
   },
   "source": [
    "And we can check the distances (similar books). We use The Da Vinci Code again as an example:"
   ]
  },
  {
   "cell_type": "code",
   "execution_count": 73,
   "metadata": {
    "colab": {
     "base_uri": "https://localhost:8080/"
    },
    "id": "BMDJ1DTJY3rW",
    "outputId": "f4b07c68-561a-4ba5-f4c7-de59e582c775"
   },
   "outputs": [
    {
     "data": {
      "text/plain": [
       "['Angels & Demons ',\n",
       " 'The Lost Symbol',\n",
       " 'Deception Point',\n",
       " 'Digital Fortress',\n",
       " 'The Firm']"
      ]
     },
     "execution_count": 73,
     "metadata": {
      "tags": []
     },
     "output_type": "execute_result"
    }
   ],
   "source": [
    "book_factors = learn.model.i_weight.weight\n",
    "idx = dls.classes['original_title'].o2i['The Da Vinci Code']\n",
    "distances = nn.CosineSimilarity(dim=1)(book_factors, book_factors[idx][None])\n",
    "idx = distances.argsort(descending=True)[1:6]\n",
    "# dls.classes['original_title'][idx]\n",
    "[dls.classes['original_title'][i] for i in idx]"
   ]
  },
  {
   "cell_type": "markdown",
   "metadata": {
    "id": "X87mV9xSXCqH"
   },
   "source": [
    "Now that I am happy with my model, I will export it and use it to create a Web App for Recommending Similar Books. That will be in Part 2 of this blog and it is coming soon."
   ]
  },
  {
   "cell_type": "code",
   "execution_count": 74,
   "metadata": {
    "id": "6VypgNfNZnmx"
   },
   "outputs": [],
   "source": [
    "learn.export('final_model.pkl')"
   ]
  },
  {
   "cell_type": "code",
   "execution_count": 75,
   "metadata": {
    "id": "ubQP7OEBbKAF"
   },
   "outputs": [],
   "source": [
    "#| include: false\n",
    "#saving my model in Google Drive\n",
    "!cp final_model.pkl gdrive/MyDrive/Models/Book\\ Collab\\ Filtering/"
   ]
  }
 ],
 "metadata": {
  "accelerator": "GPU",
  "colab": {
   "collapsed_sections": [],
   "name": "Book Recommendation.ipynb",
   "provenance": []
  },
  "kernelspec": {
   "display_name": "Python 3 (ipykernel)",
   "language": "python",
   "name": "python3"
  },
  "language_info": {
   "codemirror_mode": {
    "name": "ipython",
    "version": 3
   },
   "file_extension": ".py",
   "mimetype": "text/x-python",
   "name": "python",
   "nbconvert_exporter": "python",
   "pygments_lexer": "ipython3",
   "version": "3.9.7"
  }
 },
 "nbformat": 4,
 "nbformat_minor": 4
}
