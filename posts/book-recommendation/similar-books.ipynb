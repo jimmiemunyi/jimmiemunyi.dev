{
 "cells": [
  {
   "cell_type": "raw",
   "metadata": {},
   "source": [
    "---\n",
    "title: \"Making a Book Recommendation System\"\n",
    "description: \"Using Collaborative Filtering to recommend books.\"\n",
    "date: \"2021-02-15\"\n",
    "formart:\n",
    "  html:\n",
    "    code-fold: false\n",
    "categories: [technical, collaborative-filtering]\n",
    "jupyter: python3\n",
    "---"
   ]
  },
  {
   "cell_type": "markdown",
   "metadata": {},
   "source": [
    "Turning this into an app that people can interact with:\n",
    "\n",
    "[![Streamlit](https://static.streamlit.io/badges/streamlit_badge_black_white.svg)](https://share.streamlit.io/jimmiemunyi/similarbooks/main/similar_books.py)"
   ]
  },
  {
   "cell_type": "code",
   "execution_count": 1,
   "metadata": {
    "colab": {
     "base_uri": "https://localhost:8080/"
    },
    "id": "cHPPkO6wsjn_",
    "outputId": "bd8a42fd-0996-44e0-95e2-ff78f6b2e0cb"
   },
   "outputs": [
    {
     "name": "stdout",
     "output_type": "stream",
     "text": [
      "\u001b[K     |████████████████████████████████| 727kB 10.1MB/s \n",
      "\u001b[K     |████████████████████████████████| 51kB 6.7MB/s \n",
      "\u001b[K     |████████████████████████████████| 1.2MB 55.9MB/s \n",
      "\u001b[K     |████████████████████████████████| 194kB 58.7MB/s \n",
      "\u001b[K     |████████████████████████████████| 61kB 10.6MB/s \n",
      "\u001b[?25hMounted at /content/gdrive\n"
     ]
    }
   ],
   "source": [
    "#| include: false\n",
    "!pip install -Uqq fastbook\n",
    "import fastbook\n",
    "fastbook.setup_book()"
   ]
  },
  {
   "cell_type": "code",
   "execution_count": 2,
   "metadata": {
    "id": "xz7I1UC2srNS"
   },
   "outputs": [],
   "source": [
    "#| include: false\n",
    "from fastbook import *"
   ]
  },
  {
   "cell_type": "markdown",
   "metadata": {
    "id": "gn3IlxrgyXfQ"
   },
   "source": [
    "# Imports"
   ]
  },
  {
   "cell_type": "code",
   "execution_count": 3,
   "metadata": {
    "id": "1PfnYuY0suWm"
   },
   "outputs": [],
   "source": [
    "from fastai.collab import *\n",
    "from fastai.tabular.all import *"
   ]
  },
  {
   "cell_type": "markdown",
   "metadata": {
    "id": "o7O8cJcomcaJ"
   },
   "source": [
    "# Introduction"
   ]
  },
  {
   "cell_type": "markdown",
   "metadata": {
    "id": "OmTcjPWQoJD0"
   },
   "source": [
    "We are going to use [Collaborative Filtering](https://en.wikipedia.org/wiki/Collaborative_filtering) to create a book recommendation system. Recommender Systems based on collaborative make recommendations based on what similar users liked. So if I have read Inferno by Dan Brown and liked it (which I did), the system will look for books also liked by people who liked Inferno and recommend them to me.\n",
    "\n",
    "It uses a concept called *latent factors*. What are latent factors you may ask? Let us understand them using an example.\n",
    "\n",
    "Let us take two books. Inferno by Dan Brown and To Kill A MockingBird by Harper Lee. Those are two very different books. Let us consider three aspects to classify this books: classics (whether the book is a classic or not), action-oriented and new-gen (modern-times setting).\n",
    "\n",
    "We will give a score ranging from 1 to -1 to all these three aspects of our books, 1 meaning it scores high on that aspect and -1 for a low score.\n",
    "\n",
    "So, for example, To Kill a MockingBird is a classic, it is not so much action-oriented and also not so much new-gen. So its scores would look as follows:"
   ]
  },
  {
   "cell_type": "code",
   "execution_count": 4,
   "metadata": {
    "id": "QWwSgRy-s25N"
   },
   "outputs": [],
   "source": [
    "mocking_bird = np.array([0.9, -0.85, -0.9])"
   ]
  },
  {
   "cell_type": "markdown",
   "metadata": {
    "id": "imHaF4JQs_aS"
   },
   "source": [
    "For Inferno, which is not so much a classic, is action-oriented and is new-gen, we would have the following representation:"
   ]
  },
  {
   "cell_type": "code",
   "execution_count": 5,
   "metadata": {
    "id": "u30S8pYqtLhD"
   },
   "outputs": [],
   "source": [
    "inferno = np.array([-0.9, 0.7, 0.9])"
   ]
  },
  {
   "cell_type": "markdown",
   "metadata": {
    "id": "RwZffSb-tQQa"
   },
   "source": [
    "Now, let us hypothesize a reader who doesn't enjoy classics that much, doesn't mind action books and really prefers new-gen books (this user actually represents my liking)."
   ]
  },
  {
   "cell_type": "code",
   "execution_count": 6,
   "metadata": {
    "id": "eRXd313FuAo9"
   },
   "outputs": [],
   "source": [
    "reader = np.array([-0.5, 0.2, 0.9])"
   ]
  },
  {
   "cell_type": "markdown",
   "metadata": {
    "id": "YIcqqnXzuGg2"
   },
   "source": [
    "To see which book we need to recommend our not-so-much hypothetical reader, we will need to perform dot product between the book factors and the user factors. Dot product simply means multiply each consecutive items and add the results."
   ]
  },
  {
   "cell_type": "code",
   "execution_count": 7,
   "metadata": {
    "colab": {
     "base_uri": "https://localhost:8080/"
    },
    "id": "u0yMu7N3uPhf",
    "outputId": "9373daef-8f29-43e2-a2c5-f25bbec13fdd"
   },
   "outputs": [
    {
     "data": {
      "text/plain": [
       "-1.4300000000000002"
      ]
     },
     "execution_count": 7,
     "metadata": {
      "tags": []
     },
     "output_type": "execute_result"
    }
   ],
   "source": [
    "(reader*mocking_bird).sum()"
   ]
  },
  {
   "cell_type": "code",
   "execution_count": 8,
   "metadata": {
    "colab": {
     "base_uri": "https://localhost:8080/"
    },
    "id": "gKQtNNH3ufVk",
    "outputId": "20fa502e-28f1-4a0f-881b-e97a8b588278"
   },
   "outputs": [
    {
     "data": {
      "text/plain": [
       "1.4"
      ]
     },
     "execution_count": 8,
     "metadata": {
      "tags": []
     },
     "output_type": "execute_result"
    }
   ],
   "source": [
    "(reader*inferno).sum()"
   ]
  },
  {
   "cell_type": "markdown",
   "metadata": {
    "id": "QUSDTQR5ukWr"
   },
   "source": [
    "Based on the results, we would want to recommend Inferno to our user and not To Kill A MockingBird since he wouldn't enjoy the latter that much."
   ]
  },
  {
   "cell_type": "markdown",
   "metadata": {
    "id": "PCAb-ZUHuw4i"
   },
   "source": [
    "The magic part about Collaborative Filtering and the reason we called our factors *latent* is that; we never tell our model anything about what factors to consider or how high or low a book or user scores on each factors. The model learns all that by itself. We simply feed it books rated by users and using that information, it figures out a way to score each factor. As I said, pretty magical.\n",
    "\n",
    "Let us see that in action."
   ]
  },
  {
   "cell_type": "markdown",
   "metadata": {
    "id": "aNR3Bw0vyXfp"
   },
   "source": [
    "# The DataSet"
   ]
  },
  {
   "cell_type": "markdown",
   "metadata": {
    "id": "EWe-5Pa0veIa"
   },
   "source": [
    "Luckily, there is already a good dataset on books and ratings by users called GoodBooks10k available from [this repo in github](https://github.com/zygmuntz/goodbooks-10k). As the name suggests, it contains ratings of 10,000 books and 6 million ratings.\n",
    "\n",
    "We can download and extract the data using the following convinient functions:"
   ]
  },
  {
   "cell_type": "code",
   "execution_count": 9,
   "metadata": {
    "colab": {
     "base_uri": "https://localhost:8080/",
     "height": 17
    },
    "id": "sEpHAfDWALyD",
    "outputId": "bd326c2a-d940-4ddb-e60b-9c74da6a8aad"
   },
   "outputs": [
    {
     "data": {
      "text/html": [],
      "text/plain": [
       "<IPython.core.display.HTML object>"
      ]
     },
     "metadata": {
      "tags": []
     },
     "output_type": "display_data"
    }
   ],
   "source": [
    "path = Path('data')\n",
    "if not path.exists():\n",
    "  path.mkdir()\n",
    "  untar_data('https://github.com/zygmuntz/goodbooks-10k/releases/download/v1.0/goodbooks-10k.zip', dest=path)"
   ]
  },
  {
   "cell_type": "code",
   "execution_count": 10,
   "metadata": {
    "id": "vD7lTkm7Axa6"
   },
   "outputs": [],
   "source": [
    "#| include: false\n",
    "Path.BASE_PATH = path"
   ]
  },
  {
   "cell_type": "markdown",
   "metadata": {
    "id": "dH2DA6k3v5eT"
   },
   "source": [
    "We can inspect what has been downloaded:"
   ]
  },
  {
   "cell_type": "code",
   "execution_count": 11,
   "metadata": {
    "colab": {
     "base_uri": "https://localhost:8080/"
    },
    "id": "GxxE75rIAYrx",
    "outputId": "3206c83d-8f6b-4b18-9aec-139eecd76a29"
   },
   "outputs": [
    {
     "data": {
      "text/plain": [
       "(#5) [Path('README.md'),Path('tags.csv'),Path('books.csv'),Path('book_tags.csv'),Path('ratings.csv')]"
      ]
     },
     "execution_count": 11,
     "metadata": {
      "tags": []
     },
     "output_type": "execute_result"
    }
   ],
   "source": [
    "path.ls(file_type='text')"
   ]
  },
  {
   "cell_type": "markdown",
   "metadata": {
    "id": "kiKonKSMwLUy"
   },
   "source": [
    "We are interested in the rating.csv file, since that is where the actual ratings are. We can load it up in a pandas dataframe:"
   ]
  },
  {
   "cell_type": "code",
   "execution_count": 12,
   "metadata": {
    "colab": {
     "base_uri": "https://localhost:8080/",
     "height": 424
    },
    "id": "Uspj-DikAzkj",
    "outputId": "cf572ec1-3a33-4857-b77e-25aab30fc8de"
   },
   "outputs": [
    {
     "data": {
      "text/html": [
       "<div>\n",
       "<style scoped>\n",
       "    .dataframe tbody tr th:only-of-type {\n",
       "        vertical-align: middle;\n",
       "    }\n",
       "\n",
       "    .dataframe tbody tr th {\n",
       "        vertical-align: top;\n",
       "    }\n",
       "\n",
       "    .dataframe thead th {\n",
       "        text-align: right;\n",
       "    }\n",
       "</style>\n",
       "<table border=\"1\" class=\"dataframe\">\n",
       "  <thead>\n",
       "    <tr style=\"text-align: right;\">\n",
       "      <th></th>\n",
       "      <th>user_id</th>\n",
       "      <th>book_id</th>\n",
       "      <th>rating</th>\n",
       "    </tr>\n",
       "  </thead>\n",
       "  <tbody>\n",
       "    <tr>\n",
       "      <th>0</th>\n",
       "      <td>1</td>\n",
       "      <td>258</td>\n",
       "      <td>5</td>\n",
       "    </tr>\n",
       "    <tr>\n",
       "      <th>1</th>\n",
       "      <td>2</td>\n",
       "      <td>4081</td>\n",
       "      <td>4</td>\n",
       "    </tr>\n",
       "    <tr>\n",
       "      <th>2</th>\n",
       "      <td>2</td>\n",
       "      <td>260</td>\n",
       "      <td>5</td>\n",
       "    </tr>\n",
       "    <tr>\n",
       "      <th>3</th>\n",
       "      <td>2</td>\n",
       "      <td>9296</td>\n",
       "      <td>5</td>\n",
       "    </tr>\n",
       "    <tr>\n",
       "      <th>4</th>\n",
       "      <td>2</td>\n",
       "      <td>2318</td>\n",
       "      <td>3</td>\n",
       "    </tr>\n",
       "    <tr>\n",
       "      <th>...</th>\n",
       "      <td>...</td>\n",
       "      <td>...</td>\n",
       "      <td>...</td>\n",
       "    </tr>\n",
       "    <tr>\n",
       "      <th>5976474</th>\n",
       "      <td>49925</td>\n",
       "      <td>510</td>\n",
       "      <td>5</td>\n",
       "    </tr>\n",
       "    <tr>\n",
       "      <th>5976475</th>\n",
       "      <td>49925</td>\n",
       "      <td>528</td>\n",
       "      <td>4</td>\n",
       "    </tr>\n",
       "    <tr>\n",
       "      <th>5976476</th>\n",
       "      <td>49925</td>\n",
       "      <td>722</td>\n",
       "      <td>4</td>\n",
       "    </tr>\n",
       "    <tr>\n",
       "      <th>5976477</th>\n",
       "      <td>49925</td>\n",
       "      <td>949</td>\n",
       "      <td>5</td>\n",
       "    </tr>\n",
       "    <tr>\n",
       "      <th>5976478</th>\n",
       "      <td>49925</td>\n",
       "      <td>1023</td>\n",
       "      <td>4</td>\n",
       "    </tr>\n",
       "  </tbody>\n",
       "</table>\n",
       "<p>5976479 rows × 3 columns</p>\n",
       "</div>"
      ],
      "text/plain": [
       "         user_id  book_id  rating\n",
       "0              1      258       5\n",
       "1              2     4081       4\n",
       "2              2      260       5\n",
       "3              2     9296       5\n",
       "4              2     2318       3\n",
       "...          ...      ...     ...\n",
       "5976474    49925      510       5\n",
       "5976475    49925      528       4\n",
       "5976476    49925      722       4\n",
       "5976477    49925      949       5\n",
       "5976478    49925     1023       4\n",
       "\n",
       "[5976479 rows x 3 columns]"
      ]
     },
     "execution_count": 12,
     "metadata": {
      "tags": []
     },
     "output_type": "execute_result"
    }
   ],
   "source": [
    "ratings = pd.read_csv(path/'ratings.csv')\n",
    "\n",
    "ratings"
   ]
  },
  {
   "cell_type": "markdown",
   "metadata": {
    "id": "AScAPecewZc_"
   },
   "source": [
    "We have a `user_id` column that represents each user, `book_id` to represent the books and the `rating` column is the rating given to a book by a particular user. It ranges from 0 to 5."
   ]
  },
  {
   "cell_type": "markdown",
   "metadata": {
    "id": "ObPcWRI7h2Ad"
   },
   "source": [
    "# Subset of the Dataset"
   ]
  },
  {
   "cell_type": "markdown",
   "metadata": {
    "id": "fde6mAf5wqfF"
   },
   "source": [
    "We don't want to work on the full dataset right away since it would take a long time to model and this would limit the number of experiments we can carry out. \n",
    "\n",
    "Instead, first we will work with only the first 100, 000 ratings."
   ]
  },
  {
   "cell_type": "code",
   "execution_count": 13,
   "metadata": {
    "id": "6M6puVhmWt-T"
   },
   "outputs": [],
   "source": [
    "ratings = ratings.iloc[:100000]"
   ]
  },
  {
   "cell_type": "markdown",
   "metadata": {
    "id": "H5EZ9iQzw6-g"
   },
   "source": [
    "We check for any missing value and drop them if they exists:"
   ]
  },
  {
   "cell_type": "code",
   "execution_count": 14,
   "metadata": {
    "colab": {
     "base_uri": "https://localhost:8080/"
    },
    "id": "TANOO6MfFRak",
    "outputId": "5e9afeb7-c3d7-4859-d176-21e3b7c9e2d0"
   },
   "outputs": [
    {
     "data": {
      "text/plain": [
       "False"
      ]
     },
     "execution_count": 14,
     "metadata": {
      "tags": []
     },
     "output_type": "execute_result"
    }
   ],
   "source": [
    "ratings.isnull().values.any()"
   ]
  },
  {
   "cell_type": "markdown",
   "metadata": {
    "id": "e9WV-RK4xBRH"
   },
   "source": [
    "Another issue is with the `book_id`. The model as is would work even if we used `book_id` but for visual purposes, we'd rather have the book title to look at, since that is more informative to us (not the model).\n",
    "\n",
    "So we will have to load in the books.csv file and merge it with our ratings DataFrame."
   ]
  },
  {
   "cell_type": "code",
   "execution_count": 15,
   "metadata": {
    "id": "MjKDDoeLBgXx"
   },
   "outputs": [],
   "source": [
    "books = pd.read_csv(path/'books.csv')"
   ]
  },
  {
   "cell_type": "code",
   "execution_count": 16,
   "metadata": {
    "colab": {
     "base_uri": "https://localhost:8080/"
    },
    "id": "AOCXW8ROBlHT",
    "outputId": "3b47b475-dd1b-4310-8f0e-f7a3cb454bcf"
   },
   "outputs": [
    {
     "data": {
      "text/plain": [
       "Index(['book_id', 'goodreads_book_id', 'best_book_id', 'work_id',\n",
       "       'books_count', 'isbn', 'isbn13', 'authors', 'original_publication_year',\n",
       "       'original_title', 'title', 'language_code', 'average_rating',\n",
       "       'ratings_count', 'work_ratings_count', 'work_text_reviews_count',\n",
       "       'ratings_1', 'ratings_2', 'ratings_3', 'ratings_4', 'ratings_5',\n",
       "       'image_url', 'small_image_url'],\n",
       "      dtype='object')"
      ]
     },
     "execution_count": 16,
     "metadata": {
      "tags": []
     },
     "output_type": "execute_result"
    }
   ],
   "source": [
    "books.columns"
   ]
  },
  {
   "cell_type": "markdown",
   "metadata": {
    "id": "LKSZ9xOlxW12"
   },
   "source": [
    "We drop some columns which we don't require:"
   ]
  },
  {
   "cell_type": "code",
   "execution_count": 17,
   "metadata": {
    "colab": {
     "base_uri": "https://localhost:8080/",
     "height": 224
    },
    "id": "YZ_uCpV4Br7R",
    "outputId": "238f7b06-e675-42d5-a49e-f28159d03f58"
   },
   "outputs": [
    {
     "data": {
      "text/html": [
       "<div>\n",
       "<style scoped>\n",
       "    .dataframe tbody tr th:only-of-type {\n",
       "        vertical-align: middle;\n",
       "    }\n",
       "\n",
       "    .dataframe tbody tr th {\n",
       "        vertical-align: top;\n",
       "    }\n",
       "\n",
       "    .dataframe thead th {\n",
       "        text-align: right;\n",
       "    }\n",
       "</style>\n",
       "<table border=\"1\" class=\"dataframe\">\n",
       "  <thead>\n",
       "    <tr style=\"text-align: right;\">\n",
       "      <th></th>\n",
       "      <th>book_id</th>\n",
       "      <th>goodreads_book_id</th>\n",
       "      <th>authors</th>\n",
       "      <th>original_publication_year</th>\n",
       "      <th>original_title</th>\n",
       "      <th>average_rating</th>\n",
       "    </tr>\n",
       "  </thead>\n",
       "  <tbody>\n",
       "    <tr>\n",
       "      <th>0</th>\n",
       "      <td>1</td>\n",
       "      <td>2767052</td>\n",
       "      <td>Suzanne Collins</td>\n",
       "      <td>2008.0</td>\n",
       "      <td>The Hunger Games</td>\n",
       "      <td>4.34</td>\n",
       "    </tr>\n",
       "    <tr>\n",
       "      <th>1</th>\n",
       "      <td>2</td>\n",
       "      <td>3</td>\n",
       "      <td>J.K. Rowling, Mary GrandPré</td>\n",
       "      <td>1997.0</td>\n",
       "      <td>Harry Potter and the Philosopher's Stone</td>\n",
       "      <td>4.44</td>\n",
       "    </tr>\n",
       "    <tr>\n",
       "      <th>2</th>\n",
       "      <td>3</td>\n",
       "      <td>41865</td>\n",
       "      <td>Stephenie Meyer</td>\n",
       "      <td>2005.0</td>\n",
       "      <td>Twilight</td>\n",
       "      <td>3.57</td>\n",
       "    </tr>\n",
       "    <tr>\n",
       "      <th>3</th>\n",
       "      <td>4</td>\n",
       "      <td>2657</td>\n",
       "      <td>Harper Lee</td>\n",
       "      <td>1960.0</td>\n",
       "      <td>To Kill a Mockingbird</td>\n",
       "      <td>4.25</td>\n",
       "    </tr>\n",
       "    <tr>\n",
       "      <th>4</th>\n",
       "      <td>5</td>\n",
       "      <td>4671</td>\n",
       "      <td>F. Scott Fitzgerald</td>\n",
       "      <td>1925.0</td>\n",
       "      <td>The Great Gatsby</td>\n",
       "      <td>3.89</td>\n",
       "    </tr>\n",
       "  </tbody>\n",
       "</table>\n",
       "</div>"
      ],
      "text/plain": [
       "   book_id  goodreads_book_id                      authors  \\\n",
       "0        1            2767052              Suzanne Collins   \n",
       "1        2                  3  J.K. Rowling, Mary GrandPré   \n",
       "2        3              41865              Stephenie Meyer   \n",
       "3        4               2657                   Harper Lee   \n",
       "4        5               4671          F. Scott Fitzgerald   \n",
       "\n",
       "   original_publication_year                            original_title  \\\n",
       "0                     2008.0                          The Hunger Games   \n",
       "1                     1997.0  Harry Potter and the Philosopher's Stone   \n",
       "2                     2005.0                                  Twilight   \n",
       "3                     1960.0                     To Kill a Mockingbird   \n",
       "4                     1925.0                          The Great Gatsby   \n",
       "\n",
       "   average_rating  \n",
       "0            4.34  \n",
       "1            4.44  \n",
       "2            3.57  \n",
       "3            4.25  \n",
       "4            3.89  "
      ]
     },
     "execution_count": 17,
     "metadata": {
      "tags": []
     },
     "output_type": "execute_result"
    }
   ],
   "source": [
    "books.drop(['best_book_id', 'work_id', 'title','books_count', 'language_code', \n",
    "            'isbn13', 'isbn','ratings_count', 'work_ratings_count', \n",
    "            'work_text_reviews_count', 'ratings_1', 'ratings_2', 'ratings_3', \n",
    "            'ratings_4', 'ratings_5','image_url', 'small_image_url'], \n",
    "           axis=1, inplace=True)\n",
    "\n",
    "books.head()"
   ]
  },
  {
   "cell_type": "markdown",
   "metadata": {
    "id": "sy3UwuaAxdkV"
   },
   "source": [
    "Drop any missing values:"
   ]
  },
  {
   "cell_type": "code",
   "execution_count": 18,
   "metadata": {
    "colab": {
     "base_uri": "https://localhost:8080/"
    },
    "id": "uSnvidNvFswB",
    "outputId": "0f71bdf9-94f5-42ac-a67c-e2f557f54edc"
   },
   "outputs": [
    {
     "data": {
      "text/plain": [
       "True"
      ]
     },
     "execution_count": 18,
     "metadata": {
      "tags": []
     },
     "output_type": "execute_result"
    }
   ],
   "source": [
    "books.isnull().values.any()"
   ]
  },
  {
   "cell_type": "code",
   "execution_count": 19,
   "metadata": {
    "id": "T7QvEltUFvI-"
   },
   "outputs": [],
   "source": [
    "books.dropna(inplace=True)"
   ]
  },
  {
   "cell_type": "markdown",
   "metadata": {
    "id": "jkuqQRAQxfWn"
   },
   "source": [
    "And finally merge it to one DataFrame:"
   ]
  },
  {
   "cell_type": "code",
   "execution_count": 20,
   "metadata": {
    "colab": {
     "base_uri": "https://localhost:8080/",
     "height": 574
    },
    "id": "eYR7sw1EDxzl",
    "outputId": "410c5861-6401-43cf-a232-55f399957b4d"
   },
   "outputs": [
    {
     "data": {
      "text/html": [
       "<div>\n",
       "<style scoped>\n",
       "    .dataframe tbody tr th:only-of-type {\n",
       "        vertical-align: middle;\n",
       "    }\n",
       "\n",
       "    .dataframe tbody tr th {\n",
       "        vertical-align: top;\n",
       "    }\n",
       "\n",
       "    .dataframe thead th {\n",
       "        text-align: right;\n",
       "    }\n",
       "</style>\n",
       "<table border=\"1\" class=\"dataframe\">\n",
       "  <thead>\n",
       "    <tr style=\"text-align: right;\">\n",
       "      <th></th>\n",
       "      <th>user_id</th>\n",
       "      <th>book_id</th>\n",
       "      <th>rating</th>\n",
       "      <th>goodreads_book_id</th>\n",
       "      <th>authors</th>\n",
       "      <th>original_publication_year</th>\n",
       "      <th>original_title</th>\n",
       "      <th>average_rating</th>\n",
       "    </tr>\n",
       "  </thead>\n",
       "  <tbody>\n",
       "    <tr>\n",
       "      <th>0</th>\n",
       "      <td>1</td>\n",
       "      <td>258</td>\n",
       "      <td>5</td>\n",
       "      <td>1232</td>\n",
       "      <td>Carlos Ruiz Zafón, Lucia Graves</td>\n",
       "      <td>2001.0</td>\n",
       "      <td>La sombra del viento</td>\n",
       "      <td>4.24</td>\n",
       "    </tr>\n",
       "    <tr>\n",
       "      <th>1</th>\n",
       "      <td>11</td>\n",
       "      <td>258</td>\n",
       "      <td>3</td>\n",
       "      <td>1232</td>\n",
       "      <td>Carlos Ruiz Zafón, Lucia Graves</td>\n",
       "      <td>2001.0</td>\n",
       "      <td>La sombra del viento</td>\n",
       "      <td>4.24</td>\n",
       "    </tr>\n",
       "    <tr>\n",
       "      <th>2</th>\n",
       "      <td>143</td>\n",
       "      <td>258</td>\n",
       "      <td>4</td>\n",
       "      <td>1232</td>\n",
       "      <td>Carlos Ruiz Zafón, Lucia Graves</td>\n",
       "      <td>2001.0</td>\n",
       "      <td>La sombra del viento</td>\n",
       "      <td>4.24</td>\n",
       "    </tr>\n",
       "    <tr>\n",
       "      <th>3</th>\n",
       "      <td>242</td>\n",
       "      <td>258</td>\n",
       "      <td>5</td>\n",
       "      <td>1232</td>\n",
       "      <td>Carlos Ruiz Zafón, Lucia Graves</td>\n",
       "      <td>2001.0</td>\n",
       "      <td>La sombra del viento</td>\n",
       "      <td>4.24</td>\n",
       "    </tr>\n",
       "    <tr>\n",
       "      <th>4</th>\n",
       "      <td>325</td>\n",
       "      <td>258</td>\n",
       "      <td>4</td>\n",
       "      <td>1232</td>\n",
       "      <td>Carlos Ruiz Zafón, Lucia Graves</td>\n",
       "      <td>2001.0</td>\n",
       "      <td>La sombra del viento</td>\n",
       "      <td>4.24</td>\n",
       "    </tr>\n",
       "  </tbody>\n",
       "</table>\n",
       "</div>"
      ],
      "text/plain": [
       "   user_id  book_id  rating  goodreads_book_id  \\\n",
       "0        1      258       5               1232   \n",
       "1       11      258       3               1232   \n",
       "2      143      258       4               1232   \n",
       "3      242      258       5               1232   \n",
       "4      325      258       4               1232   \n",
       "\n",
       "                           authors  original_publication_year  \\\n",
       "0  Carlos Ruiz Zafón, Lucia Graves                     2001.0   \n",
       "1  Carlos Ruiz Zafón, Lucia Graves                     2001.0   \n",
       "2  Carlos Ruiz Zafón, Lucia Graves                     2001.0   \n",
       "3  Carlos Ruiz Zafón, Lucia Graves                     2001.0   \n",
       "4  Carlos Ruiz Zafón, Lucia Graves                     2001.0   \n",
       "\n",
       "         original_title  average_rating  \n",
       "0  La sombra del viento            4.24  \n",
       "1  La sombra del viento            4.24  \n",
       "2  La sombra del viento            4.24  \n",
       "3  La sombra del viento            4.24  \n",
       "4  La sombra del viento            4.24  "
      ]
     },
     "execution_count": 20,
     "metadata": {
      "tags": []
     },
     "output_type": "execute_result"
    }
   ],
   "source": [
    "ratings = ratings.merge(books)\n",
    "\n",
    "ratings.head()"
   ]
  },
  {
   "cell_type": "markdown",
   "metadata": {
    "id": "kcPPmT400Nch"
   },
   "source": [
    "## Creating the DataLoaders"
   ]
  },
  {
   "cell_type": "markdown",
   "metadata": {
    "id": "BKNn2DXsxiyI"
   },
   "source": [
    "Since that looks okay, we can go ahead and create our `DataLoaders` object that we will feed to the model. A `DataLoaders` is simply a convinient object that holds our training and validation data and will pass in the data to our model in mini-batches.\n",
    "\n",
    "We can look up the documentation of a function by calling the `doc` function."
   ]
  },
  {
   "cell_type": "code",
   "execution_count": 21,
   "metadata": {
    "colab": {
     "base_uri": "https://localhost:8080/",
     "height": 162
    },
    "id": "LaCODbM4EolS",
    "outputId": "872558d9-09da-4d58-df57-bdd4c3d2e517"
   },
   "outputs": [
    {
     "data": {
      "text/html": [
       "<h4 id=\"CollabDataLoaders.from_df\" class=\"doc_header\"><code>CollabDataLoaders.from_df</code><a href=\"https://github.com/fastai/fastai/tree/master/fastai/collab.py#L16\" class=\"source_link\" style=\"float:right\">[source]</a></h4><blockquote><p><code>CollabDataLoaders.from_df</code>(<strong><code>ratings</code></strong>, <strong><code>valid_pct</code></strong>=<em><code>0.2</code></em>, <strong><code>user_name</code></strong>=<em><code>None</code></em>, <strong><code>item_name</code></strong>=<em><code>None</code></em>, <strong><code>rating_name</code></strong>=<em><code>None</code></em>, <strong><code>seed</code></strong>=<em><code>None</code></em>, <strong><code>path</code></strong>=<em><code>'.'</code></em>, <strong><code>bs</code></strong>=<em><code>64</code></em>, <strong><code>val_bs</code></strong>=<em><code>None</code></em>, <strong><code>shuffle_train</code></strong>=<em><code>True</code></em>, <strong><code>device</code></strong>=<em><code>None</code></em>)</p>\n",
       "</blockquote>\n",
       "<p>Create a <code>DataLoaders</code> suitable for collaborative filtering from <code>ratings</code>.</p>\n",
       "<p><a href=\"https://docs.fast.ai/collab#CollabDataLoaders.from_df\" target=\"_blank\" rel=\"noreferrer noopener\">Show in docs</a></p>\n"
      ],
      "text/plain": [
       "<IPython.core.display.HTML object>"
      ]
     },
     "metadata": {
      "tags": []
     },
     "output_type": "display_data"
    }
   ],
   "source": [
    "doc(CollabDataLoaders.from_df)"
   ]
  },
  {
   "cell_type": "markdown",
   "metadata": {
    "id": "bVi9wP_ux_uQ"
   },
   "source": [
    "The above tells us what we will need to pass in the function in order to create our `DataLoaders`. Specifically we will need to pass in :\n",
    "\n",
    "\n",
    "*   The DataFrame we are creating from (ratings)\n",
    "*   Size of the Validation split (20%)\n",
    "*   The column that represents our user (user_id)\n",
    "*   The column that represents our item (original_title)\n",
    "*   The column that represents our rating (rating)\n",
    "\n"
   ]
  },
  {
   "cell_type": "code",
   "execution_count": 22,
   "metadata": {
    "id": "13a3qUW3EEMn"
   },
   "outputs": [],
   "source": [
    "dls = CollabDataLoaders.from_df(ratings=ratings, valid_pct=0.2, \n",
    "                                user_name='user_id', item_name='original_title',\n",
    "                                rating_name='rating')"
   ]
  },
  {
   "cell_type": "markdown",
   "metadata": {
    "id": "-tzNyo_1ydcU"
   },
   "source": [
    "We can look at one batch of data:"
   ]
  },
  {
   "cell_type": "code",
   "execution_count": 23,
   "metadata": {
    "colab": {
     "base_uri": "https://localhost:8080/",
     "height": 363
    },
    "id": "RD-iyNBSE8X4",
    "outputId": "477a52b0-cd45-4603-fb97-6a6b108376ac"
   },
   "outputs": [
    {
     "data": {
      "text/html": [
       "<table border=\"1\" class=\"dataframe\">\n",
       "  <thead>\n",
       "    <tr style=\"text-align: right;\">\n",
       "      <th></th>\n",
       "      <th>user_id</th>\n",
       "      <th>original_title</th>\n",
       "      <th>rating</th>\n",
       "    </tr>\n",
       "  </thead>\n",
       "  <tbody>\n",
       "    <tr>\n",
       "      <th>0</th>\n",
       "      <td>791</td>\n",
       "      <td>Sphere</td>\n",
       "      <td>3</td>\n",
       "    </tr>\n",
       "    <tr>\n",
       "      <th>1</th>\n",
       "      <td>543</td>\n",
       "      <td>Metamorphoses</td>\n",
       "      <td>5</td>\n",
       "    </tr>\n",
       "    <tr>\n",
       "      <th>2</th>\n",
       "      <td>1835</td>\n",
       "      <td>1491: New Revelations of the Americas Before Columbus</td>\n",
       "      <td>4</td>\n",
       "    </tr>\n",
       "    <tr>\n",
       "      <th>3</th>\n",
       "      <td>2688</td>\n",
       "      <td>Good Omens: The Nice and Accurate Prophecies of Agnes Nutter, Witch</td>\n",
       "      <td>5</td>\n",
       "    </tr>\n",
       "    <tr>\n",
       "      <th>4</th>\n",
       "      <td>264</td>\n",
       "      <td>Jonathan Livingston Seagull</td>\n",
       "      <td>5</td>\n",
       "    </tr>\n",
       "    <tr>\n",
       "      <th>5</th>\n",
       "      <td>2074</td>\n",
       "      <td>The Curious Incident of the Dog in the Night-Time</td>\n",
       "      <td>4</td>\n",
       "    </tr>\n",
       "    <tr>\n",
       "      <th>6</th>\n",
       "      <td>2136</td>\n",
       "      <td>The Lovely Bones</td>\n",
       "      <td>4</td>\n",
       "    </tr>\n",
       "    <tr>\n",
       "      <th>7</th>\n",
       "      <td>1089</td>\n",
       "      <td>Franny and Zooey</td>\n",
       "      <td>5</td>\n",
       "    </tr>\n",
       "    <tr>\n",
       "      <th>8</th>\n",
       "      <td>2334</td>\n",
       "      <td>Great Expectations</td>\n",
       "      <td>4</td>\n",
       "    </tr>\n",
       "    <tr>\n",
       "      <th>9</th>\n",
       "      <td>750</td>\n",
       "      <td>The History of the Hobbit, Part One: Mr. Baggins</td>\n",
       "      <td>2</td>\n",
       "    </tr>\n",
       "  </tbody>\n",
       "</table>"
      ],
      "text/plain": [
       "<IPython.core.display.HTML object>"
      ]
     },
     "metadata": {
      "tags": []
     },
     "output_type": "display_data"
    }
   ],
   "source": [
    "dls.show_batch()"
   ]
  },
  {
   "cell_type": "markdown",
   "metadata": {
    "id": "LX4bWauiymiL"
   },
   "source": [
    "For the latent factors of both our books, we will initialize a random Embedding with a size of all the books we have and the number of factors we want. The same goes for the latent factors of our users.\n",
    "\n",
    "The values in these Embeddings will be updated by BackPropagation until they become meaningful.\n",
    "\n",
    "For our small subset of data, we will use 50 factors. This simply means we are giving our model an allowance to represent each books in 50 different ways (e.g. action, classics etc).\n",
    "\n",
    "So, we first should get the number of users and the number of books:"
   ]
  },
  {
   "cell_type": "code",
   "execution_count": 24,
   "metadata": {
    "id": "LxMtkunmFLYZ"
   },
   "outputs": [],
   "source": [
    "n_books = len(dls.classes['original_title'])\n",
    "n_users = len(dls.classes['user_id'])"
   ]
  },
  {
   "cell_type": "markdown",
   "metadata": {
    "id": "iOxACZ9LzqH5"
   },
   "source": [
    "For learning purposes, we should also get into the habit of manually chekcking shapes of the data in our batches and see if we understand why it is so:"
   ]
  },
  {
   "cell_type": "code",
   "execution_count": 25,
   "metadata": {
    "colab": {
     "base_uri": "https://localhost:8080/"
    },
    "id": "IgWR8txkKII4",
    "outputId": "3e9afb58-f3e3-49d6-dfb4-470f6697c104"
   },
   "outputs": [
    {
     "data": {
      "text/plain": [
       "(torch.Size([64, 2]), torch.Size([64, 1]))"
      ]
     },
     "execution_count": 25,
     "metadata": {
      "tags": []
     },
     "output_type": "execute_result"
    }
   ],
   "source": [
    "xb, yb = dls.one_batch()\n",
    "xb.shape, yb.shape"
   ]
  },
  {
   "cell_type": "markdown",
   "metadata": {
    "id": "NKi0ehuZzzUf"
   },
   "source": [
    "We are using a batch size of 64, so that makes sense. For our independent variable (X), we have two items there, which are the user and the book and for the dependent variable (y), we only have the rating of the book. That is why the above shapes are so."
   ]
  },
  {
   "cell_type": "markdown",
   "metadata": {
    "id": "mzgk3_Q30RcU"
   },
   "source": [
    "## Creating the Model"
   ]
  },
  {
   "cell_type": "markdown",
   "metadata": {
    "id": "OdmwChs33FxQ"
   },
   "source": [
    "Next, we need to handle the model part. "
   ]
  },
  {
   "cell_type": "code",
   "execution_count": 26,
   "metadata": {
    "id": "23Rh3qr83B1n"
   },
   "outputs": [],
   "source": [
    "class CollabFiltering(Module):\n",
    "\n",
    "  def __init__(self, n_users, n_books, n_factors, y_range=(0, 5.5)):\n",
    "    self.u_weights = Embedding(n_users, n_factors)\n",
    "    self.u_bias = Embedding(n_users, 1)\n",
    "    self.i_weights = Embedding(n_books, n_factors)\n",
    "    self.i_bias = Embedding(n_books, 1)\n",
    "    self.y_range = y_range\n",
    "  \n",
    "  def forward(self, x):\n",
    "    users = self.u_weights(x[:,0])\n",
    "    books = self.i_weights(x[:,1])\n",
    "    res = (users * books).sum(dim=1, keepdims=True)\n",
    "    res += self.u_bias(x[:,0]) + self.i_bias(x[:,1])\n",
    "    res = sigmoid_range(res, *self.y_range)\n",
    "    return res"
   ]
  },
  {
   "cell_type": "markdown",
   "metadata": {
    "id": "6uyYDX_A0TX-"
   },
   "source": [
    "Our Model Inherits from `Module` which is what PyTorch expects:\n",
    "\n",
    "\n",
    "\n",
    "```\n",
    "class CollabFiltering(Module):\n",
    "```\n",
    "\n",
    "\n",
    "The model takes in the number of users, the number of books, the number of factors we want to use for modelling and a y_range that defaults to a tuple of (0, 5.5).\n",
    "\n",
    "The purpose of the y_range is to squish our output between 0 and 5. (We choose 5.5 as the upper limit since we are going to be using sigmoid range to contain our output. And since values in sigmoid never reach the upper limit, to predict a value of 5, we are going to need to go higher).\n",
    "\n",
    "It then creates the Embeddings of the users and the books. We are also going to create biases for each user and each book to capture the fact that some users generally more positive or negative in their recommendations than others and smoe books are just plain better or worse than others.\n",
    "\n",
    "```\n",
    "def __init__(self, n_users, n_books, n_factors, y_range=(0, 5.5)):\n",
    "    self.u_weights = Embedding(n_users, n_factors)\n",
    "    self.u_bias = Embedding(n_users, 1)\n",
    "    self.i_weights = Embedding(n_books, n_factors)\n",
    "    self.i_bias = Embedding(n_books, 1)\n",
    "    self.y_range = y_range\n",
    "```\n",
    "\n",
    "\n",
    "The forward method simply gets the factors from the user embedding and book embedding, performs dot product on them, adds the biases then uses sigmoid range to squish the output between 0 and 5 and returns the result.\n",
    "\n",
    "\n",
    "```\n",
    "def forward(self, x):\n",
    "    users = self.u_weights(x[:,0])\n",
    "    books = self.i_weights(x[:,1])\n",
    "    res = (users * books).sum(dim=1, keepdims=True)\n",
    "    res += self.u_bias(x[:,0]) + self.i_bias(x[:,1])\n",
    "    res = sigmoid_range(res, *self.y_range)\n",
    "    return res\n",
    "```\n",
    "\n"
   ]
  },
  {
   "cell_type": "markdown",
   "metadata": {
    "id": "QPLTAofL3MTi"
   },
   "source": [
    "We can now instantiate the model with 50 factors and create our Learner. We are going to use Mean Squared Error as our loss function since this is a regression problem."
   ]
  },
  {
   "cell_type": "code",
   "execution_count": 27,
   "metadata": {
    "id": "pIDGrVK-K49Q"
   },
   "outputs": [],
   "source": [
    "model = CollabFiltering(n_users, n_books, 50)"
   ]
  },
  {
   "cell_type": "code",
   "execution_count": 28,
   "metadata": {
    "id": "bW4kXvUBLAnn"
   },
   "outputs": [],
   "source": [
    "learn = Learner(dls, model, loss_func=MSELossFlat())"
   ]
  },
  {
   "cell_type": "markdown",
   "metadata": {
    "id": "YMS3Dip33SNw"
   },
   "source": [
    "Let us find a suitable Learning rate and train the model for 6 epochs. We use a weight decay of 0.2 to regularize our model"
   ]
  },
  {
   "cell_type": "code",
   "execution_count": 29,
   "metadata": {
    "colab": {
     "base_uri": "https://localhost:8080/",
     "height": 300
    },
    "id": "e2O80K_NQBox",
    "outputId": "4c307f11-dce9-4116-8c8c-4c72fec2a75a"
   },
   "outputs": [
    {
     "data": {
      "text/html": [],
      "text/plain": [
       "<IPython.core.display.HTML object>"
      ]
     },
     "metadata": {
      "tags": []
     },
     "output_type": "display_data"
    },
    {
     "data": {
      "text/plain": [
       "SuggestedLRs(lr_min=0.03019951581954956, lr_steep=7.585775892948732e-05)"
      ]
     },
     "execution_count": 29,
     "metadata": {
      "tags": []
     },
     "output_type": "execute_result"
    },
    {
     "data": {
      "image/png": "[encoded data removed]",
      "text/plain": [
       "<Figure size 432x288 with 1 Axes>"
      ]
     },
     "metadata": {
      "needs_background": "light",
      "tags": []
     },
     "output_type": "display_data"
    }
   ],
   "source": [
    "learn.lr_find()"
   ]
  },
  {
   "cell_type": "code",
   "execution_count": 30,
   "metadata": {
    "colab": {
     "base_uri": "https://localhost:8080/",
     "height": 238
    },
    "id": "n1bR_0EyLIcs",
    "outputId": "a6299b1a-8a0e-41ed-e6f6-31b901631ff5"
   },
   "outputs": [
    {
     "data": {
      "text/html": [
       "<table border=\"1\" class=\"dataframe\">\n",
       "  <thead>\n",
       "    <tr style=\"text-align: left;\">\n",
       "      <th>epoch</th>\n",
       "      <th>train_loss</th>\n",
       "      <th>valid_loss</th>\n",
       "      <th>time</th>\n",
       "    </tr>\n",
       "  </thead>\n",
       "  <tbody>\n",
       "    <tr>\n",
       "      <td>0</td>\n",
       "      <td>0.972651</td>\n",
       "      <td>0.988126</td>\n",
       "      <td>00:08</td>\n",
       "    </tr>\n",
       "    <tr>\n",
       "      <td>1</td>\n",
       "      <td>0.959149</td>\n",
       "      <td>0.947992</td>\n",
       "      <td>00:08</td>\n",
       "    </tr>\n",
       "    <tr>\n",
       "      <td>2</td>\n",
       "      <td>0.908314</td>\n",
       "      <td>0.913695</td>\n",
       "      <td>00:08</td>\n",
       "    </tr>\n",
       "    <tr>\n",
       "      <td>3</td>\n",
       "      <td>0.789891</td>\n",
       "      <td>0.863736</td>\n",
       "      <td>00:08</td>\n",
       "    </tr>\n",
       "    <tr>\n",
       "      <td>4</td>\n",
       "      <td>0.646984</td>\n",
       "      <td>0.828928</td>\n",
       "      <td>00:08</td>\n",
       "    </tr>\n",
       "    <tr>\n",
       "      <td>5</td>\n",
       "      <td>0.538308</td>\n",
       "      <td>0.826404</td>\n",
       "      <td>00:08</td>\n",
       "    </tr>\n",
       "  </tbody>\n",
       "</table>"
      ],
      "text/plain": [
       "<IPython.core.display.HTML object>"
      ]
     },
     "metadata": {
      "tags": []
     },
     "output_type": "display_data"
    }
   ],
   "source": [
    "learn.fit_one_cycle(6, 1e-2, wd=0.2)"
   ]
  },
  {
   "cell_type": "markdown",
   "metadata": {
    "id": "R_gpGduH3mTN"
   },
   "source": [
    "We get a final MSE of 0.826404 which is actually pretty good for out task at hand."
   ]
  },
  {
   "cell_type": "markdown",
   "metadata": {
    "id": "1x9XeAWP3mNv"
   },
   "source": [
    "## Interpreting the Embeddings"
   ]
  },
  {
   "cell_type": "markdown",
   "metadata": {
    "id": "JKKwvc3z3yQo"
   },
   "source": [
    "Let us start by interpretting the book biases. We could have easily ranked the books by the ratings and checked the last five items but bias tells us something more interesting. These books are books that, even if a user was well matched to the latent factors of the book (e.g action, comedy etc), they still didn't like the books and that is why the books have a low bias. In short, they are generally bad books.\n",
    "\n",
    "These are the 5 books with the lowest bias from our model."
   ]
  },
  {
   "cell_type": "code",
   "execution_count": 31,
   "metadata": {
    "colab": {
     "base_uri": "https://localhost:8080/"
    },
    "id": "h0A-K70fLocp",
    "outputId": "406be2f9-ee53-4fe4-f119-0557a22a5cd1"
   },
   "outputs": [
    {
     "data": {
      "text/plain": [
       "['Trading Up',\n",
       " 'One Night @ The Call Center',\n",
       " 'Four Blondes',\n",
       " 'Lost',\n",
       " 'Eat That Frog!: 21 Great Ways to Stop Procrastinating and Get More Done in Less Time']"
      ]
     },
     "execution_count": 31,
     "metadata": {
      "tags": []
     },
     "output_type": "execute_result"
    }
   ],
   "source": [
    "book_bias = learn.model.i_bias.weight.squeeze()\n",
    "idxs = book_bias.argsort()[:5]\n",
    "[dls.classes['original_title'][i] for i in idxs]"
   ]
  },
  {
   "cell_type": "markdown",
   "metadata": {
    "id": "o-ejUA134TLF"
   },
   "source": [
    "Since our rating DataFrame included the GoodReads ID of each book, we can create a URL of a single book and check out the reviews from GoodReads.\n",
    "\n",
    "Let's use Four Blondes as an example. We can locate its entry in our DataFrame using the following code:"
   ]
  },
  {
   "cell_type": "code",
   "execution_count": 32,
   "metadata": {
    "colab": {
     "base_uri": "https://localhost:8080/",
     "height": 81
    },
    "id": "mYph4FTfYRGT",
    "outputId": "3f9493a2-708a-4464-f7b6-b89fd1337823"
   },
   "outputs": [
    {
     "data": {
      "text/html": [
       "<div>\n",
       "<style scoped>\n",
       "    .dataframe tbody tr th:only-of-type {\n",
       "        vertical-align: middle;\n",
       "    }\n",
       "\n",
       "    .dataframe tbody tr th {\n",
       "        vertical-align: top;\n",
       "    }\n",
       "\n",
       "    .dataframe thead th {\n",
       "        text-align: right;\n",
       "    }\n",
       "</style>\n",
       "<table border=\"1\" class=\"dataframe\">\n",
       "  <thead>\n",
       "    <tr style=\"text-align: right;\">\n",
       "      <th></th>\n",
       "      <th>book_id</th>\n",
       "      <th>goodreads_book_id</th>\n",
       "      <th>authors</th>\n",
       "      <th>original_publication_year</th>\n",
       "      <th>original_title</th>\n",
       "      <th>average_rating</th>\n",
       "    </tr>\n",
       "  </thead>\n",
       "  <tbody>\n",
       "    <tr>\n",
       "      <th>4008</th>\n",
       "      <td>4009</td>\n",
       "      <td>6613</td>\n",
       "      <td>Candace Bushnell</td>\n",
       "      <td>2000.0</td>\n",
       "      <td>Four Blondes</td>\n",
       "      <td>2.8</td>\n",
       "    </tr>\n",
       "  </tbody>\n",
       "</table>\n",
       "</div>"
      ],
      "text/plain": [
       "      book_id  goodreads_book_id           authors  original_publication_year  \\\n",
       "4008     4009               6613  Candace Bushnell                     2000.0   \n",
       "\n",
       "     original_title  average_rating  \n",
       "4008   Four Blondes             2.8  "
      ]
     },
     "execution_count": 32,
     "metadata": {
      "tags": []
     },
     "output_type": "execute_result"
    }
   ],
   "source": [
    "books.loc[books['original_title']=='Four Blondes']"
   ]
  },
  {
   "cell_type": "markdown",
   "metadata": {
    "id": "Gz5vsG--4tAU"
   },
   "source": [
    "Then using its `goodreads_id`, create a URL that we can follow to read its reviews:"
   ]
  },
  {
   "cell_type": "code",
   "execution_count": 33,
   "metadata": {
    "colab": {
     "base_uri": "https://localhost:8080/",
     "height": 36
    },
    "id": "TM3EVA6BdcGQ",
    "outputId": "3c4f2355-5e28-4264-fecf-446ed31a853e"
   },
   "outputs": [
    {
     "data": {
      "application/vnd.google.colaboratory.intrinsic+json": {
       "type": "string"
      },
      "text/plain": [
       "'https://www.goodreads.com/book/show/6613'"
      ]
     },
     "execution_count": 33,
     "metadata": {
      "tags": []
     },
     "output_type": "execute_result"
    }
   ],
   "source": [
    "id = 6613\n",
    "url = f'https://www.goodreads.com/book/show/{id}'\n",
    "url"
   ]
  },
  {
   "cell_type": "markdown",
   "metadata": {
    "id": "yPyxZ4Oc5ako"
   },
   "source": [
    "I haven't read the book myself but I don't think I will too. Reading the reviews from GoodReads looks like people didn't really enjoy this book. Here is one extract of the reviews:\n",
    "\n",
    "\n",
    "\n",
    "![Screenshot_2021-02-15 Four Blondes.png](data:image/png;base64,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)"
   ]
  },
  {
   "cell_type": "markdown",
   "metadata": {
    "id": "CsDYeXYM5q1j"
   },
   "source": [
    "Now let us do the opposite, and check for the books with the highest book bias. This means that these are generally good books and even if you don't enjoy such genres, there is a high chance you will enjoy this books:"
   ]
  },
  {
   "cell_type": "code",
   "execution_count": 34,
   "metadata": {
    "colab": {
     "base_uri": "https://localhost:8080/"
    },
    "id": "BBPsL563drYU",
    "outputId": "b61af801-2220-48d4-92a2-b0806a78bbf1"
   },
   "outputs": [
    {
     "data": {
      "text/plain": [
       "['Harry Potter and the Deathly Hallows',\n",
       " 'A Thousand Splendid Suns',\n",
       " 'Where the Wild Things Are',\n",
       " 'Le Petit Prince',\n",
       " 'دیوان\\u200e\\u200e [Dīvān]']"
      ]
     },
     "execution_count": 34,
     "metadata": {
      "tags": []
     },
     "output_type": "execute_result"
    }
   ],
   "source": [
    "idxs = book_bias.argsort(descending=True)[:5]\n",
    "[dls.classes['original_title'][i] for i in idxs]"
   ]
  },
  {
   "cell_type": "markdown",
   "metadata": {
    "id": "JyzLpAvW6GUp"
   },
   "source": [
    "At the very top is a book I enjoyed very much myself: Harry Potter and the Deathly Hallows. Since I may be biased towards that book, let us check for reviews of a book I haven't read myself."
   ]
  },
  {
   "cell_type": "code",
   "execution_count": 35,
   "metadata": {
    "colab": {
     "base_uri": "https://localhost:8080/",
     "height": 36
    },
    "id": "ZRb7WkTYePm2",
    "outputId": "b6aa16dc-b7b5-4f21-e7f7-4ce47f5caadc"
   },
   "outputs": [
    {
     "data": {
      "application/vnd.google.colaboratory.intrinsic+json": {
       "type": "string"
      },
      "text/plain": [
       "'https://www.goodreads.com/book/show/157993'"
      ]
     },
     "execution_count": 35,
     "metadata": {
      "tags": []
     },
     "output_type": "execute_result"
    }
   ],
   "source": [
    "id = int(books.loc[books['original_title']=='Le Petit Prince']['goodreads_book_id'].values)\n",
    "url = f'https://www.goodreads.com/book/show/{id}'\n",
    "url"
   ]
  },
  {
   "cell_type": "markdown",
   "metadata": {
    "id": "M086blu1OX1T"
   },
   "source": [
    "I was suprised to find that 'Le Petit Prince' or 'The Little Prince' was a child-like novel which adults enjoy as well. Here is one review from GoodReads:\n",
    "\n",
    "![Screenshot_2021-02-15 The Little Prince.png](data:image/png;base64,iVBORw0KGgoAAAANSUhEUgAAAiYAAAD7CAYAAABe8V+eAAAgAElEQVR4nOyd+VuU1f//v3/GkWXgRobFQRyWEYFhFFQEEzBIU8ktVEo0UnPJLbc0jUzr7VJpmJUIVipuuaTlJ9dScilFzTV3VHBhEeHx/YFrTtzDbCiW1f24rvlhzr2c/XWeZ7vP/0NDQ0NDQ0ND4xnh//3dAdDQ0NDQ0NDQsKIJEw0NDQ0NDY1nBk2YaGhoaGhoaDwzaMJEQ0NDQ0ND45lBEyYaGhoaGhoazwyaMNHQ0NDQ0NB4ZtCECXD06FHWrFnDypUrpdsPP/zA559/zo4dO5r9vvv377Nx40YWL17MoUOHmvWsK38rKirYunUr+fn57Ny5s9lh+ydz5MgRvvrqKxYvXsz9+/fdeubu3bts27aNZcuWcfLkSbf9qq+v5/vvv2flypXs2rXrMUPclMeJg8Y/g39S3u7cuZNPP/2UdevWtfi7t2/fzsSJExk+fHiLv1vjv4EmTIDCwkLMZjPBwcFAQ6M0b948FEUhKyur2e8rKytj1qxZCCGYP3++03sHDBhAx44dqa+vd8vfS5cuMWfOHBRFYdiwYc0OW0tQUVFBREQEEyZM+Ev9LSoq4sUXX0QIwalTp9x65tKlS4wbNw4hBMuXL3fbr0ePHjF37lwURWlRA2svDn9Xemq0LI9TPt2lrKwMIQQffvhhi7xv6dKltGnThhdeeMHpfYsXLyYoKIhz5865/e7S0lL69u2Lh4fHE4by30NxcTFCiGZ3VK389NNPZGRk4Ofnx+TJk1s4dM8eTYTJzz//TLt27RBCYDQa+eKLLwAYNmwYnp6eeHl50bVrV27cuMHVq1fp0qUL3t7ehIWFceTIkb88Ai3F8OHDpTCxYjQaH0uYwJ+GxJUw6datG3Fxcc3212g0/m3C5MaNG/j5+TF+/Pi/3O8vvvii2Yb/7NmzTYTJrVu30Ol0Lp8NCQlp8Z6fbRz+yvTs3r07Qgi8vb155ZVXpPuYMWNQFAW9Xk9RUdFTD8e/lccpn+7w8OFDhBB89tln0s3dMuzoPovF4lKYTJ8+HT8/P86fP9+s8E6YMEETJo34/vvvEUJw+vRp6bZlyxaX6Q9w4sQJFEUhLy+Pb7/9lj179jzNoD4T2B0xOXr0KEIIlixZonLPyspCURQqKyulW11dHQaDoVnD5M8iT0uYvP/++07vq6uro76+vtn+/p3CBBpGFP4O7Bn+8vJyHj58KP/X1tZSVlYm/9sTJsuXL0cI4dK/v0KYwF+bnpmZmfj6+nL16lXpdv/+fdq0acOBAwf+snD8G3lawgTA19dXNfXibhl2dJ/FYqFXr14un3+csqkJEzWHDx9GCMGNGzekW1ZWFunp6S6f/fDDDxFCqGzavx2HUzkmk4mePXuq3F577TWEEGzbtk26HTp0iA4dOsj/tbW15OXlkZCQgNFoJD09nTNnztj14+HDh+Tn59O9e3cURSEkJITp06fL6wUFBcTFxdG7d28OHz5MUlISFoul2f4A7Nixg8zMTAICAtDr9QwYMIA7d+7I648rTEpLS+nVqxcWiwWDwUBaWhrV1dVSmMyePZvJkyfTrl079Ho9Y8eOlc/u3LmTSZMmMXr0aJf+Hj58mNTUVOLi4mjfvj0eHh5SmBw9epQuXboQEhLCuXPnGDx4MIqiyIanuLiYbt260b59eywWi1y/sn37dmJiYggKCuLAgQNkZmbi5+dHREQE3377rcM45+fn88Ybb7B06VIArl69Snx8PK1bt6a4uJjRo0djMBgIDg5m7ty5Dt/jKv8BqqurmTVrFjExMXTq1ImAgACV4U9ISEAIQWFhIQAbN25EURSVEbAVJitXrsTX1xchBDqdDp1O53BNT0hICH369OGVV15BURQiIyNlvK38+uuvpKenExERQUhICDNmzFAJJVdxsE1PK47yDeCTTz6hS5cuPPfcc3To0IHZs2c7TGdbzp49i06nY8yYMdJt/vz5vPzyyy3uf2ZmJkII9Ho9ixYtAmD16tUIIfjqq6+AhmkFvV5P69at2bRpk0u/bXFWt53ZkOb6Yw9XeQvOy0deXh4RERH079+fwsJCkpKSUBSFLl268Pvvv6v8Cg0NlevK3C3Dzu6zWCz069ePjz76CLPZjKIoZGRkcOvWLQBOnTrFjBkzyM7O5sqVK80Kb2NhcufOHSwWC0IIDAZDk3D+8MMP+Pv7I4QgLi6Ou3fvAg1tkLVtefDgAXFxcQghSE1NBRo6fzk5OXTq1InQ0FBGjhzJgwcP7OZTWVkZc+bMITY2Fh8fH9q3b88333wjr7/55puYTCby8vIoLCzEZDIxbtw4wHlbk5mZicFgIC8vj7y8PDp06ICfnx+DBg1SdeDPnDmDEILq6moAXn/9dYQQqnyxF/bc3Fx8fHzkvYqiyGsbN27EYrEQFhZGVFSUtIHgutzb4uxd7uZ5c9tkZzgUJtOnT8fDw0OqtEePHhEeHo6vr6/KoM2dO5dp06bJ/7m5ufTv359Hjx7x4MEDzGYzPXr0sOvHiRMnmDlzJnv37uXkyZO89dZbCCHYt28f0NDg9e/fn7Zt2xIbG0tOTo5suJrjT01NDRMmTGDbtm2UlpayZs0ahBC899578p7HESanTp1CURRZwA8ePCgLn1WYJCYmsnv3bq5evcqkSZNU84x79uyhY8eOqsJmz9/du3fj5eXF5s2bZV4YDAYpTB48eMC8efMQQtC5c2cGDx7M66+/TllZGYWFhYSFhXH79m0ARo4ciaIo3Llzh7t37zJx4kSEEIwePZoTJ05w5swZoqOjiYqKchjvL7/8En9/fzIzM4GGAllUVIQQgrS0NPbu3cvly5cZMmQIQgj++OMPu+9xlf/19fWkp6eTlpbGvXv3gD97f1bDf+zYMYQQrF69Wr73gw8+QAjB9evXAfsjJpMnT3Z7xKR9+/bs27eP8+fPk52drRJCZ86cwdfXl/z8fACOHz+Ooii88cYbbsfBNj0Bp/m2d+9e1bDw5s2bSU5OdhmXxrz99tt4eHhw6tQpKioqMBgMnD17tsX9r6+vJzQ0VDW698orrzQZiRo2bJgUZs78tsVV3XZmQ5rjj6O4ucpbV+Xjjz/+IDU1FR8fHxYtWsSlS5f48ccf8fT0ZNSoUSr/zGYzhw8flv/dLcOO7rN2ptasWcPVq1f5+uuvVetYzp8/z4ABAxBCUFJS0qzw2o6YzJgxg969e6sa68asWLGiSbqFhIQghJDl8tSpUwQGBvLo0SNqamqIjY3lf//7HwCnT5/G09PToUBeu3YtS5cupaSkhKNHj5KRkYGiKFRVVQHw22+/SSEUHx/PqFGj5GYIZ23NsWPH0Ov1REREsG7dOq5du8aiRYsQQrBmzRrp/40bN/D19VWFKSEhgeeff95ueBszf/78JiMma9asQafTcfToUeDPkTprW+Ss3Nvi6l3u5nlz2mRXOBQmP//8s8oA7927l4EDBzJo0CBCQ0Pl9ENiYiL79+8H4OTJkwghKC4ulu8ZN24cHh4eqh6kIy5duoQQQq5rAZg2bRpCCFWBflJ/oEGNNzaMjyNMhg4dSmxsrPz/6NEjFixYAPw5lfPuu+/K68ePH0cIQUFBgXQbNWqUS2FisViaDPnZTuVs27YNIYSqN1JXV0fbtm1ViyrXrVuHEIIff/wRaGoQAKZMmYIQwukQblRUlKohPXXqFEIIVqxYId22bNmCEILdu3c7fE9jbPN//fr1CCHYu3evvMd2qPyvECaNy0lFRQW+vr7SoAwaNIjg4GBVWmVnZ+Pp6cnt27fdigOo09NVvm3atAkhBAsWLKCuro7a2louX77sMi6NqaysJDw8nKFDh/Luu++qFtS1tP/jxo0jODhYTlsaDAYmT56MwWCQi76twsidMusK27ptz4a0hD/u5K2r8gENoiwkJET17s6dO8uRASvnzp2TPW5oGWFi2zAGBgYycuRI+d8q9KzCxN3wNhYmCxcupFevXg5FCcC1a9cQQvDJJ58ADQLvzTffxNPTU9bb5cuXy3zNz89v0libzeYmo/yOKCwsVIkeaGjLkpKSVPe509aEhISobHFFRQVCCN555x3pVldX12R673GFSW1tLW3atGHQoEHyHmsHoGvXrtLNXrm3xd13ucrzlmiTG+NQmNTX12M0Ghk8eDDQ0FitXr1aZmhJSQk3btzAYDBQV1cHNAwfCSGwWCwkJyeTnJxMbGws4eHh1NbW2vXnjz/+IC8vj4yMDJKTk5s0INbEbfz84/jz4MED8vPz6d+/P6mpqfj6+qoa/8cRJpGRkfTt29fuNXvC5OLFiwgh+Pjjj6WbK2Fy5coVhBC89dZbTe6xJ0x++OEH6XbhwgWEEISFhcl0io+Px2g0SjFpT5i8++67CCGoqKhwGHd3hMmePXsQQrBlyxaH73GW/6NHj0YIIXuj8PcLE2gw6OHh4fJ6YmKi6npeXp4cGXMnDqBOT1f5VlVVRdeuXRFCYDKZWL58ucNy74zi4mI8PT0xmUyykXwa/lsX/pWUlPDLL7+QkJDA7t27pduxY8cwm81u+W0PV3Xbng15HH9scSdvXZUPsG/0n3/+eTp37uzU/6chTCIjI1WNlLvCxDa8EyZMwNvbmxUrVtCqVSuGDh3qMpw9evSQdeCll15i8+bNpKamSreBAwfKNTYjR45ECCHzLjk5GZPJJNsre5SUlDBx4kTS0tIwm80IIThx4oS8npiYSEpKiuoZd9oaW2ECIIRgypQpTuP7uMLEamsbz1QApKenq0Zl7JV7W9x9l6s8f5w22RlOtwtPnDhRLnbt0KEDZWVl3LlzB09PT+bOnUtBQQGvv/66vP+rr75CCMHGjRvd8rykpISgoCBycnK4ceMG169fd0uYNNef8vJy4uPj6dKliyyIsbGxTyxMDAaDwyFsZ8Lko48+km6uhIl1btJ2i5g7wsQqaiZOnOgwDs6ESXl5ucPnmiNMrFNQtrjK/1deeaVJOJ4FYRIdHS3na41GY5MGZOHChQgh2L9/v1txAHV6upNv1dXVrFixgpiYGIQQZGRkPNYiRZ1Ox8CBA1VuLe3/w4cPCQgI4P3332fhwoXMnDmThw8f4u/vz/z581m0aBEzZsxw2+/GuFO37dmQ5vpjD3fy1lX5AMdGPyEhwan/T0uYNC4PzREmjcM7YcIEhBAMHTpUdmadrVsDWLRoEYqicP/+fYKCgrh37x4ffPABiqLw4MED2rRpIztLVlHYWFA74/PPP8fT05MlS5ZQWVnJ2rVr3RIm7rQ1joSJq229jytMrPbMVvi8+OKLeHp6ytkMd4SJu+9ylefNbZNd4VSYWOeSP/vsM9LS0qR7r169eO6553jttddUhc26m8fdyp6bm4sQgps3bwK4LUya64+1Yqxfv166tYQw6dmzJ4qi2K0cLSVMKisr8fLyarJ63h1hUl9fj16vJyEhocnOHyt/pzBxlf9z5sxBCKHaKWJr+M+dO4cQQs7hQ/OEiaN0sWIrTMrLy/H29pbztb1790av16uGK0ePHo2Pjw937951Kw626ekq386cOSO35tfW1jJ27FiEEKrt+q7iZcWeMGkJ/23JycmhV69e9OnTR253zMrKolevXmRmZspG2p0y2xh36rY9G9Jcf+zhTt66Kh/w5MLEVfgd3fe0hYm3t7eMd3p6OkajUcbZHta6vHjxYhmuEydOyFHmxltrly5d2qyG0GQyqT7L4K4wcaeteRJh4s7Uk60wefjwIYqi0K9fP9V90dHRqjUd7ggTd9/lKs+b2ya7wqkwsW4FNpvNqq3D+fn5+Pj40K1btybzV+np6Xh7e7N69WrKyso4cuSIqiFuzNtvv40QDesi6uvrZaV2JUya68+uXbsQQshe2eHDhwkICHhiYWIVAy+99BJnz57l8uXL5OfnU1VV1WLCBP7sfRQXF1NXV8fOnTvx8fFxKUzgz2HjqVOncvnyZc6dO8eCBQtkvv2dwsRV/l+6dAlfX1/S0tLkaN3gwYNV4a2pqSEgIIDevXtz/fp1uQNCCMGFCxcA+8Jk5syZCCHYtWsX+/btU31foDEhISFyGLq+vp7x48cTFhYme27bt2+XxtTqV2BgoNyB4k4c7KWns3z76KOPSE5OlnXi66+/RqfTScOVnp5OeHi4aj2CI+wJkyf13x4bN26kdevWREZGysaqoKCAgIAAOnTooBptcVVmG+NO3XZkQ1z58/rrrxMVFeVwStOdvHVVPuDxhYm7ZdjRfU9bmDRe/FpaWoqnp6dqV6I9OnXqhMlk4oMPPpBuERERmEwm1RR4eXk5gYGBREREsGfPHm7dusXOnTtVaxwa89xzz6HX67l27RqVlZWMGjXKLWECrtuaxxUmycnJREREcOzYMXbs2OFQtNlb/Dp9+nS8vb05ePAgABs2bKBVq1b8/PPP8h53hIm773Inz5vTJrvC5Zdf33jjDYQQqi//Xb16FSGEai7SSnl5OTk5Ofj7+8tFgo4+6X3nzh369euHoih07dqVgoIC2rRpg8lk4rfffuODDz4gODgYIRp2t7z66quP5Q/A1KlT0ev1REVFMWPGDPr3709QUBBFRUWMHz8ef39/WrVqRdeuXamoqCAxMRFPT09at25Ndna2w/euX7+e6OhovLy8iI6OZvHixdTV1dGrVy+EaNgeV1RURE1NjdwyFxoayoYNG5gxYwbBwcG0atWKHj16UFVVZdffBw8eMGbMGIKCgjAajcybN4++ffsSFBTEN998w/fff4/JZEIIQUxMDImJifKT2HV1dcyfP5/Q0FC8vb3p2LEjy5Yto76+noMHD2I0GhFCYDabKSsrY8eOHRgMBoQQxMfH220MMjIy8Pb2xt/fnzFjxlBZWSm38rVr145du3Zx/fp1OnTogBCCyMhIWeibk//QsCOpU6dOKIrC888/z8qVK/Hy8lItUlu7di1hYWEoisLAgQMpLi7Gz8+Prl27yvUL1nS3CuySkhKMRiOKotC7d29++eUXu/k7evRojEYjCQkJWCwWXn311SYNsLUMhIWFER8fz8qVK1W9U1dxsE1PV/lm/QpkXFwcaWlpdO/ene+++07617lzZxITE51O7XzzzTfEx8cjRMMWxKSkJJVQehL/7VFZWYmvr6+q0btx4wZCCEaMGKG615nf9nBWt53ZEFf+WG2fs6Mf3CmfzsrHsmXL8Pf3x8PDQ9rT9957D0VR0Ol0qoWotrhbhu3dN3fuXLy9vfH19WXSpElAwwimp6cnfn5+zJo1i7Vr10q7YrFYOHTokFvhLSwsRK/XyzSHBhHo7e0tp3ccYd1deOzYMek2fvx4hBBNPvJWWlpKWloaOp2OwMBAhg0b5nB76pEjR0hISMDf35+MjAw+++wzPD09ZfiysrLw8fHBz8+PxMREVUfcWVszYsQIPDw88Pf3lxsfXnrpJYQQBAUFsWzZModxXblyJX5+fhgMBnJycuwK+3feeYegoCCEEERFRcmda9YvU4eGhhIVFUVKSopqEbazcm+Lq3e5W0ab2yY7Q/skvYaGhoYd7ty543KKSkNDo+XRhImGhoaGHc6ePUtYWNjf9pVjDY3/Kpow0dDQ0LDD8OHDnW5119DQeDpowkRDQ0PDDs4+TKWhofH00ISJhoaGhoaGxjODJkw0NDQ0NDQ0nhk0YaKhoaGhoaHxzKAJEw0NDQ0NDY1nBk2YaGhoaGhoaDwzaMJEQ0NDQ0ND45lBEyYtxNGjR1m1apXqDIx/G/fv32fjxo0sXrxYHtmu8e9i165drFq1ii+++KLF311RUcHWrVvJz893+pn35vC49e7SpUsUFxezZMkSh2eUHDlyhK+++orFixfLIx7+a/wX7Nq/mUuXLvH111+zYMECeVjqPwFNmLQQmzZtIjExUXVwVUtRXV3NnDlziIyMxNvb2+lhaU+TsrIyZs2ahRCC+fPn/y1h0LDPgQMH0Ov1rF279rHfUV9fT15eHmazucmBXS3BpUuXmDNnDoqiNDn07HFxt97Zps/evXvp06dPk4PcGlNUVMSLL77Y5MDFv5sBAwbQsWPHxz4VuTk8Tbv2X+Ly5cvk5ORgMBhcHs7Ykhw5coQhQ4YghJAneLckT6tt+s8JkylTpjSrUbWeEhwZGUlsbKw8GKl9+/bExsbSunVrcnJygKYnarYUI0aMoGPHjmzevJmioqIn7r1t2bJFdYR4c+6zpseTCpPm5kNLUlVVJQ9U1Ov18sTTJUuW4O/vLw81tPbqBwwYgF6vx9/fn48//lgeCqjX67FYLPInhODGjRsADB06FE9PTzw9PUlNTSUxMZHw8HCGDRvGxYsXgYYRBHfe5Q7btm2jVatWTyRMrAwfPvypCBMrRqOxxYQJuFfv7KWP9TRrR8Kk8T3PkjDp1q0bcXFxf5l/T8uuPeu4ayddUVVVRUxMDEOHDmXr1q0OT0B+WhQXFz81YdLSbZOV/5Qwqa6uxmg0kpeX5/Yzv//+O0IIrl+/DsC7776LEIKzZ88CDUdL9+/fH2iowJ6eni0ebh8fHyZMmNBi78vKyiI9Pf2x7rMKk/fff/+x/X+cfGhpamtrCQoKknlnZfny5QghVKdrQkNafPrpp/K/Xq9v0rimpKTIU5EBBg4cqGrgS0tLURSF5ORk1XPuvMsdWupMl3+iMHGn3tmmzz9VmNTV1f0loyVW3Enfurq6Jr3lqqoqysvLn2bQniru2klXHDp0CCHEXy5IrFiFyYEDB1r83S3dNlmxK0y2b99OTEwMQUFBHDhwgMzMTPz8/DAajWzZsoWPPvoIi8Uij/puPHdVW1vL+++/T/v27Wnbti1JSUmUlJQAcPXqVeLj42ndujUbNmxg1KhRGAwGWrduzXvvvce2bdvo2bMniqIQExPDzz//rArX8ePHycjIIDY2loiICD744AOn4Y2IiODbb78FGhpDa0/Uw8MDnU5Hjx49XCbQ4cOHMRgM8r+tMPnqq69IS0sDGiqwn58f27dvJyUlBUVRMJvNMv5WiouL6datG+3bt8disbBjxw6HfkdGRiKEkL9Fixbx8OFD8vPz6d69O4qiEBISwvTp01XPlpeXk5ubi8VioV27dnTs2JGjR4/y+uuvy3fpdDp0Oh0PHjxo4rej+6zCZPbs2UyePJl27dqpRh0Ap+FzNx8WLFiAp6cn3t7eDBkyBGiYChBCMHr0aAD27duH0WjEw8ODWbNmAY7LiD1yc3Px9fVVfXp89erVCCGYNm2aKj56vZ7Lly9LN3tiwhZbYQLQq1cvPD09VY2kO+9yRmVlJXPnzmXkyJHymHF36oSVa9euMWzYMKKjozGbzfj6+qrCXVtbS15eHgkJCRiNRtLT01XHy5eVlZGTk0OnTp0IDQ1l5MiRqjJ1+PBhUlNTiYuLo3379nh4eDQ7vnV1dSxcuBCLxUKHDh2IiIhg9erVgOt6Zy99wL4wqa6uZtasWcTExNCpUycCAgJUwuTNN9/EZDKRl5dHYWEhJpOJcePGuUynzMxMDAYDeXl55OXl0aFDB/z8/Bg0aFCzPn2/c+dOJk2aJOsANAiA8ePH06VLF7p164bFYmH9+vV2n3fHdtjiKn3Pnz9PYGAgQgguXboEwIwZM2jVqhVms1m+5/r16+Tm5tKlSxc6depEjx49eOeddwgNDZWi31VZakxKSgqhoaF8/PHH9OnTB0VRiI2NVY2KnThxgtdff5127dqhKApJSUkcPXoUaChTPXr0ICQkhF27djF9+nQCAwNZu3at23YS4NdffyU9PZ2IiAhCQkKYMWMGDx8+BCA/P1+mjfVn2x5YcRZ3Z/Gw8u2339K1a1csFgsGg4E333wT+FOYFBUVkZWVhb+/P23btuXLL790kusN4XnttdeIjIwkODiYl19+WY7iOmqbWgq7wqSiooIJEyYghGD8+PGUlpZSWlqKyWRCp9OxatUqrly5QmFhYZNh/VGjRmE2m7l9+zaPHj1i5MiR6HQ6Lly4QG1trXwmPT2dAwcO8McffzBgwACEELz11lucP3+eQ4cOERQUpBpGO3PmDL6+vlKsrFq1CiEE33//PXfv3mXixImy0Tpx4gRnzpwhOjqaqKgo+Y7y8nKEELz77rtuJ1BpaSkLFy6U/22FycWLF5k3bx6ATLMFCxZw/vx5fvnlF4KCgujbt698vrCwkLCwMG7fvg3AyJEjURSFO3fuOAyDh4eHSpWeOHGCmTNnsnfvXk6ePMlbb72FEIJ9+/YBUFNTQ1xcHGPHjqW+vp7Kykr0er2cmkhISOD55593GXd791mFSWJiIrt37+bq1atMmjQJIYRcEOsqfO7mw7Bhw2jbtq38v3LlSkJCQggLC5NuK1asYMCAAYDzMmKP7du3I4Rg8+bN0m3gwIEEBwcTExMj3f7v//6PxMRE1bONxURNTQ2tW7du8n57wiQpKUkldN19lzOqqqqYPn26yji4WyfKysowGAxMmTJF9sKzsrJU4c7NzaV///48evSIBw8eYDabpZisqakhNjaW//3vfwCcPn0aT09PZs+eDcDu3bvx8vKSafzo0SMMBkOzhcnrr79Ot27duHfvHgC9e/eWYtRVvbOXPtBUmNTX15Oenk5aWpr0xzqCZhUmv/32GyaTiQ4dOhAfH8+oUaNYuXKly3Q6duwYer2eiIgI1q1bx7Vr11i0aBFCCNasWeN2OuzZs4eOHTuiKIp0y8vLIyIiQjaGkydPZubMmXafd1U37eGOXfvoo48QQshpSoA+ffoQGxsr07Zz58688MILUpTn5OQghKCgoIALFy64LEu27Ny5EyEEPXv2pLS0lLNnz5KRkYEQgj179gDw3nvvUVRUxG+//caePXswGo1kZGTId1htQExMDBkZGYwZM0aOlrpjJ602Jz8/H2joGCmKwhtvvCHv2b9/v8sRE1dxdxWPwsJC/P39OX36NNDQsevevTvwpzB55ZVXOHbsGBcvXqRHjx7o9XpqamrshsfagczOzqauro6KigosFmfwocEAACAASURBVAtxcXGqTpVt29RSOJzKWbFiRZMhzLFjx+Lh4aEaRmzTpg2vvvoq0FD5hBB8/PHH8vrp06el6AA4deoUQghWrFgh71m7dm2T4fMhQ4bQrl07+X/o0KFYLBb5/8aNGwghpCiwF94pU6YghJAJ+TjCxBZbYdIYawVuzKBBg4iIiAAaFHrbtm1VGblu3TqEEPz4448O/XSV+daRBOtOivz8fNX0EzQUXGtvpiWESeM0PH78uDQw7oTP3Xywps2vv/4KNDSYU6dOVTUmWVlZ8r2uyogtNTU1+Pv7k5ubCzT0rMPDw1m8eDFCCFnJp02b1mQ9jF6vR1EUIiMjCQsLQ6fTNXm/rTDZsWOH3Z6FO+9yxeXLl5u82506MX78eBRFUfUGG0/lnDx5solRHTduHB4eHrL3LYRQDeObzWZ69uwJgMViaTIc3typHGsYGveE9+7dK+2Fq3rnKH1shcn69eub2CF7UzmJiYkkJSXZDaOjdAIICQlRxbuiogIhBO+8847baQENnb/GwmTSpEnodDp2794NwL1797h165Zb77Ktm/ZwJ31dCROr3WgsmGxFn6uyZEtVVRVCCObMmSPdzp49ixBC1mlbcnNzMRqN8v/9+/cRQjBjxowm97pjJwcNGkRwcLCqsc7OzsbT01N2Pt0RJs2Ne+N4WNuVxqPWFy9epKioCPhTmFjFGsDHH3+MEIILFy7Yfb/1+vHjx6XbZ599hhCCrVu3SrdnQphMmzYNIQTV1dXSLSoqipdeekn1zLZt2+T1+vp6PDw8pLq2J0y2bduGEEK1hXDUqFH4+fnJ/xEREfj7+5OcnExycjJJSUkYjUZpaOyF1yoiKioqgL9HmLz22msEBAQAcOHCBYQQhIWFyXjEx8djNBqdLkyyl/l//PEHeXl5ZGRkkJycjBCC5cuXSz99fHwcvq+lhcnFixebCFJn4XM3H+7du4dOp2PRokU8evSI4OBgLl26JN3q6uoIDg7m2rVrgOsyYo9XX32VNm3a8OjRI7Zs2cJrr70mjbX1ObPZ3GS9R+NRjqqqKlVDYWXgwIF4enqSkJAghz2tPaLmvssV7goT2zrRoUMHunbtqnpXY2FSUFCAEAKLxSLTNTY2lvDwcGpraxk5ciRCCHktOTkZk8nE4MGDuXLliqpTYqW5wsQ6veZoi7qreucofWyFyejRoxFCyNGSxvfYCpOUlBSVf67SCZoKEwAhBFOmTHE7LaCpMCktLZWL8nv06OFwatiKs7ppD3fS150RE7PZTHx8PBUVFdTW1jbZXeSsLNnDnjABUBRFJYY3bdrE8OHDSU1NJTQ0lODgYHnNKkxs3wHu2cmQkJAmo6l5eXmq8uqOMHEn7o7iYbW/H374od132xMm1jrVWHg0ZtiwYQghVItZ9+7d28SfZ0qYVFVVSbeoqCgyMzOBPyvxli1bVO/S6XRyWsaZMPnuu++km23l69ChA506dXIYEWdG2LoA6+8SJnq9HkAa6okTJzbLT9vMLykpISgoiJycHG7cuMH169dVxmXo0KEIIRzOXT8tYfLRRx+5Fb7m5ENmZia9evXip59+kotG+/TpwwsvvEBJSYmq5+qqjNhj48aNcig7NzeXTZs2AQ2NT1paGhcuXKB9+/ZNnrNdF/LTTz81uafxiMm9e/cwm83ExcU1yRd33uWK5goTa50IDQ1tsn2xsTD56quvEEKwceNGu/5aG3Nr77AxZ86cQQjB5MmTVe7NFSbW3mRj+9AYV/UO3BMmr7zyiiptGt/jSpi4SidwLExs08cVtrYR4ObNm7z99tsEBQU5HSV0VTft4U76uhIm0LAWJSQkBLPZTNeuXRkzZozsVIDzsmQPe8Kkvr4eHx8fBg4cCDTsGgkICGDHjh3U1dUxduzYFhUmRqORzp07q9wWLlyIEH/ugnFHmLiKu7N4lJaWNhmNaowzYXLs2DG7zwwfPlzVgYEGuySEeunGP0KYHDx4sEmv0NoYW+fKHleYDBgwAG9vb9X0hKvwOhIm9iqtu6vcn0SY1NfXo9frSUhIaNaqetvMz83NRQghFx3bGpd58+Y1GYFqTEJCgsMhQlf3uSNMXIXPWT7Y8uWXX+Lr68t7770n/Vy+fDm+vr4sXLhQVUlclRF7VFZWoigKc+fOJSoqSk5pvP/++3h4eJCfn8/UqVObPGdvwWptbS2jR4+Ww7q2UznWOXHbxYbuvMsVjytMUlJS8Pf3V4mlxsLk6NGjTsX00qVLHTbIlZWVeHl50atXL5V7c4XJjz/+iBBCrimxpaWEyZw5cxBCvXvBXWHiKp3g6QmT/fv3y4XZd+7cISkpCX9/f7vPuqqb9nAnfb/88kuEEJSWlko3W2HyzjvvqKYbbHFWluzhbCrns88+kyOf48ePl9ebK0xc2cnevXuj1+vldB00iAwfHx/54T53hImzuLuKR1VVFTqdTq4pseVxhMmCBQsQQnD48GHpZhXfjdfs/SOECTQs7jOZTLLgT5w4kXbt2klD+LjCxDqMlJ6eTmlpKdevX6egoIAjR444DK+tEa6srEQIwaBBgzh27Bjbt28HID09nfDwcNUUlSOeRJjAn8N8U6dO5fLly5w7d44FCxY4XZlvm/lvv/02Qgh27NhBfX29NJ5W43L9+nX8/PyIjo7mp59+oqysjE2bNsnpiOTkZCIiIjh27Bg7duxw+OVLe/e5I0xchc9RPtijrKwMDw8PTCaTXNRqnRIzmUyqoUhXZcQRWVlZmM1m1dZhay+ka9euTbYOg30xsX79epUQsbf4NTU1FU9PT5VBcPWuuro6oqOjycrKchiHxxUmVqM1depUqqurOXPmDDExMapwp6en4+3tzerVqykrK+PIkSMyr8vLywkMDCQiIoI9e/Zw69Ytdu7cKY2wtU4UFxdTV1fHzp078fHxUcV39erV6PV6hyNF9fX1JCUloSgK69ato6ysjIMHD8py01LC5NKlS/j6+pKWlkZZWRl37txh8ODBbgkTV+kE7gkTV2kBTW3jwIEDVbvIxowZ02R6zoqrumkPd9K3pKQEIRrWy5SVlfHDDz8QHh5OTEyMbC/69u1Lly5d2LVrF/v37+enn35SrXFwVZZssQoT6/qQhw8fMmTIELp06UJtbS0PHjzAy8uLlJQUampquHr1Kt26dXNbmLhjJ62LZxcvXgw0CKPAwEBVOXNHmDiLuzvxsLbNc+fO5dq1a5w6dYpVq1YBjydMbty4gaIoDBo0iNraWiorK0lOTla19fAXC5OSkhKMRiNCCOLi4qioqOCbb76R85idO3empqaGmTNn4uXlhZ+fn+zN3L59m+zsbLmzISsrSy66fPTokdwqajQa2bNnD6dPn8ZkMsmG5vDhw2zYsEFu02u8M2fLli3Exsbi5eVFeHg4U6dO5e7duxw8eFCG12w2U1ZWxo4dOzAYDAghiI+Plw1/bm4uOp0Ok8kkR3E6d+5MYmKi096pddrAOlQaFRVFamqqLKxbt26V16zKNT8/H71eT6tWrWQ86urqmD9/PqGhoXh7e9OxY0eWLVtmdwTlypUrMr1at25N586duX//Pnfu3KFfv34oikLXrl0pKCigTZs2mEwmKT6OHz9Ojx490Ol0hISEMGHCBNkYrVy5Ej8/PwwGAzk5OQ6/1mfvvl69eiGEwGAwUFRURE1NjQxjaGgoGzZscCt89vLBET179iQoKIi6ujrpFhcXR3h4eJN7HZURZ3zzzTcIIZpsn7N+UK9xubh9+7aMr7e3N8HBwfLn4+Mjh37HjBlDYGAgXl5eZGRkcPLkSaChHPn4+KDX69myZYtb76qvryc2NhYhhF3xfOrUKbp06YIQDeuXVqxY0aw68dFHHxEeHk5AQACvvvoqs2bNwsfHRzaY5eXl5OTk4O/vj6+vL88//7xq221paSlpaWnodDoCAwMZNmyY3Cb74MEDxowZQ1BQEEajkXnz5tG3b1+CgoL45ptvVOnvaEQE4NatW2RnZ9O6dWtat27NwIEDKS0tdave2UufL7/8knbt2iFEw44Mq9HevXs3nTp1kp9CWLlyJV5eXnLKMCsrCx8fH/z8/EhMTGTJkiUyjM7SacSIEXh4eODv78+CBQsAeOmllxBCEBQUxLJly9xKixkzZhAcHEyrVq3o0aMHVVVVFBQUkJiYSEJCAqmpqfTr14/ff//d7vPu1M3GuGvXoKFxDAwMJDg4mIkTJ/K///0PHx8fJk2aBDQsntTpdAghVL+MjAw54uCsLNliFSaBgYF07dqVuLg4xo8fr1oXUVRURFhYGAaDgezsbN5++228vb2ZNGkSZWVldO7cWdquxMREVSfEXTu5fv16oqOjCQsLIz4+npUrV0p7/u233xIeHo4QgpCQEF555RW773AVd2fxgIa2de7cubRt2xadTkdycjLbt2/nypUrsn2NioqitLSUQ4cOERYWJsu+owWwv/76Kz169MBgMGA2m5k2bZocUXbUNrUU/6kPrGlo/FPZtGlTs7cR/5OIj49XNfL/Zf6NaXH+/Hlat27NDz/8IN2s35exnQJyF6sweZI1gxrPJpow0dD4B/DFF1847W39k6mvryciIkJuz/4v829NC+uUxyeffCLdbt26xcsvv0xiYqLcudQcHO3K0fjnowkTDY1nnOrqarp166ba8fBvYsWKFS6/Pvpf4d+aFnV1dcydO5fo6GgMBgMmk4mOHTsyb968x5oCqKqqIiUlBSEEbdu2dbr+SuOfhyZMNDT+ATTns+X/NP7NcWsuWlpoaGjCRENDQ0NDQ+MZQhMmGhoaGhoaGs8MmjDR0NDQ0NDQeGbQhImGhoaGhobGM4MmTDQ0NDQ0NDSeGTRhoqGhoaGhofHMoAmTv5n6+nq+//57Vq5cqfrMty0//PADn3/+ucsjzf9O7t+/z8aNG1m8eLHDI+qbS0VFBVu3biU/P9/hoYQaGhoazyJHjx5l1apVqrNzWpqLFy9SXFzMkiVL5CfjW5qKigrmzZvHiBEj+Pbbb5+KH435xwqTxYsXExQUxLlz5/7uoDSbiooKIiIimDBhgjzjQFEUhg8fbvf++vp65s2bh6Ioz/SHhMrKypg1axZCqI/GfhIuXbrEnDlzUBSlWSfSukN1dTVz5swhMjISb29vh2dhaKjL7JMyYMAAOnbs2KwTtjU0/m4KCwuJj49Hp9O5fQLypk2bSExMxMPDw+l9T1K/9uzZQ+/evR0eLtsSVFVV8fXXX7eobXfG3yZMkpKS0Ol0eHh4EB8fz40bN4CGzxTrdDqXz0+fPh0/Pz/Onz//tIPa4ty4cQM/Pz/VMdYhISEOhYkVo9H4RMLE3bR9EqynD7d04TUajS0uTEaMGEHHjh3ZvHkzRUVFLXoI1b8Ne2XWFY7KW7du3YiLi2vJ4DWhc+fO7N+//6n6ofHfoaCgAEVR+Oqrr9iwYYPqtOnGTJkypYntmzBhgkth8jj1qzHWk8SfljCBp2fb7eFQmDx8+JA7d+6o3O7evduiXyZ84YUXiIyMVLktX768yRHbjnB2GvCzjm3Y/wph0py0fVyshff9999v0fc+DWHi4+PzVI7s/rfS3PrmqLzV1dU91dGSEydOIIRQnRSrofEk9O3bF4vF4vSe6upqjEYjeXl5KvcJEybg6enp0o8nac/+E8KkuLgYLy8vTCaTdEtOTkYIwbhx46TbDz/8QPfu3UlJSSEmJobMzMxmHcZkK0xWrlyJr68vQgh0Oh06nc7umopTp04xY8YMsrOzuXLlCtAw1DR+/Hi6dOlCt27dsFgsrF+/3q6/hYWFWCwWUlNTWbJkiTzyPTs7m5s3b8r7ysrKeO2114iMjCQ4OJiXX35ZjuwAXLhwgczMTLp3747FYuG5556Tx9s7u5afn88bb7zB0qVL5btCQkLo06cPr7zyCoqiEBkZqboO9oVJcXEx3bp1o3379lgsFodrUJylrat42uIsbtbCO3v2bCZPnky7du3Q6/WMHTtW9Y6ysjJycnLo1KkToaGhjBw5UjU/evjwYVJTU4mLi6N9+/Z4eHg4FSYnTpzg9ddfp127diiKQlJSEkePHrV77+HDh4mMjFQdvW6dA66trSUvL4+EhASMRiPp6emcOXOGBQsW4Onpibe3N0OGDAEappmEEIwePRqAffv2YTQa8fDwsHts/cOHD8nPz6d79+4oikJISIjqXJTJkydjMpmYMGECY8eOJSAggHbt2jFnzhx5LHxKSgqhoaF8/PHH9OnTB0VRiI2NZe3atfI9b775JiaTiby8PAoLCzGZTLLeukr30tJSevXqhcViwWAwkJaWRnV1td0y6yzNHZW3nTt3MmnSJJlm+fn5eHh40KpVK3r37g00DE0bDAY8PT1lvhw/fpyMjAxiY2OJiIjggw8+sJu3JSUltG3bFiEEXl5e6HQ6mReO8taaLnPmzCE2NhYfHx/at2/PN99841aaNtcObty4EYvFQlhYGFFRURQWFsprmZmZGAwG8vLyyMvLo0OHDvj5+TFo0CCXnUJ7tqCkpAR/f3957P3Vq1e5e/cuUVFRCCEYOHCgy3JhL+4vv/wyfn5+CCGIjIzk9OnT3L9/H5PJhBCCwYMHNwmfu3Z3x44dZGZmEhAQgF6vZ8CAAapOcklJCS+++CLdunXDbDYzePBgxo8fj5+fHydOnADcLy+u8qSqqoqEhARatWolbUVmZmaT56urq7FYLAgh8PDwQKfT0aNHD6BBmPj5+bF9+3ZSUlJQFAWz2UxJSYl83l79ak65sgqT999/n5iYGPz8/OjTp49qqUNtbS3vv/8+7du3p23btiQlJanC4CwdoKkwWbRoEXq9Hg8PD/r16+c0fZuLwxGTgQMHNhnN0Ol0soGprKxEURQ+++wzGWhPT0+qqqrc9tzeiMnkyZNd9urPnz/PgAEDEELIhM3LyyMiIkIa8MmTJzNz5ky7z1+7do1BgwYhhKCwsJCbN2+yZs0avLy8SE9PB/4saNnZ2dTV1VFRUYHFYiEuLk4q2/T0dLKzs4GGdSBdunThu+++c3ntyy+/xN/fX1XAQ0JCaN++Pfv27eP8+fNkZ2fL8FmxFSaFhYWEhYVx+/ZtAEaOHImiKE1GupylrTvxtMVZ3KyFNzExkd27d3P16lUmTZqEEEIuiK2pqSE2Npb//e9/AJw+fRpPT09mz54NwO7du/Hy8mLz5s1AQ0/CYDA4FSbvvfceRUVF/Pbbb+zZswej0UhGRobD+wE8PDyajJjk5ubSv39/Hj16xIMHDzCbzdLADBs2jLZt28p7V65cSUhICGFhYdJtxYoVDBgwwK5/J06cYObMmezdu5eTJ0/y1ltvIYRg3759AJw8eZKoqChCQ0PZu3cvV69eZdq0aQghZC9s586dCCHo2bMnpaWlnD17loyMDIQQ7NmzB4DffvsNk8lEhw4diI+PZ9SoUaxcudJlup86dQpFUWSDfPDgQYQQVFdX2y2zrtLcXnnbs2cPHTt2RFEU6TZ8+HA8PDxUjdOECRN47bXXADhz5gy+vr78/PPPAKxatQohBN9//73ddN68ebMqPaw4y9u1a9eydOlSSkpKOHr0KBkZGSiKIu2ZozRtrh1cs2YNOp1OCrgvvvgCIYRM82PHjqHX64mIiGDdunVcu3aNRYsWIYRgzZo1dt8Jzm2B1Y/G6yKKi4sxmUzU19e7LBeO4v7pp58ihGDTpk3yvRs2bKBt27bU1dU1CaM7drempoYJEyawbds2SktLWbNmDUII3nvvPaChM9C6dWtZHyorK4mOjqZdu3Zs3ryZe/fuNbu8uMoTaGirXI2YlJeXI4Tg3XffVblPmDABIQQLFizg/Pnz/PLLLwQFBdG3b195j239am65sgqTmTNn8scff7B161b0ej0dOnSQdnzUqFGYzWZu377No0ePGDlyJDqdjgsXLriVDrbC5Ny5c5hMJrZv3+40XR6HxxYmt2/fRgjBoEGDuHfvHtBQaJozRPu4wgSQBdYqTCZNmoROp2P37t0A3Lt3j1u3bjl8fubMmQghVAp0+PDhCCG4dOkSH3/8MUIIjh8/Lq9/9tlnCCHYunUrAPHx8XTo0EFm7M2bN2Wvxtk1gKioqCbCpPFUTkVFBb6+vjz//PPSrbEwqauro23btqqGdd26dQgh+PHHH+3G2V7auhNPW5zFzVp4G1fO48ePI4SgoKAAaOgdCCFUi03NZjM9e/YEwGKxSEPVOO7NmcrJzc3FaDQ6vcdWmJw8eRIhBMXFxdJt3LhxeHh48PDhQ5m+v/76KwBZWVlMnToVIYTsqWVlZfHFF1+4FUbriEvj+5OTk0lJSZH/Hz16REREhBy9tHfU+9mzZxFCkJubK90SExNJSkpS+ecq3YcOHUpsbKzK7wULFsj/tmXWFts0d1SXR40apRIme/fuRQhBfn4+0CB227VrJ8vx0KFDVY3CjRs3EEIwb948u+GwJ0xc5a0thYWFTYbG7aVpc+xgbW0tbdq0YdCgQdKtvr6e0NBQunbtKt1CQkJUZb2iogIhBO+8847d+LqyBffv38fPz4+hQ4fK69nZ2TL9XJULR3G/desWXl5eUkBCQxlwNj3qyu7aw2QySdtYXFyMEEJ2hKChzoWEhMj/zSkv7uZJSwiTxgwaNIiIiAiVW+P61dz21d5UzuzZs2U9OHbsGEIIPv74Y3n99OnTCCF466233EqHxsLk6tWrxMbGPhVRAk8gTADGjx+PEIKAgACmTZvmVAjYoyWFSWlpKcHBwQgh6NGjh8tttfYqiLVnsnfvXoYNG4YQQrUg0mpAP/zwQwC++eYbPDw88PLyYujQoZSWlsp7nV0D18IEGhro8PBw+b+xMLlw4QJCCMLCwkhOTiY5OZn4+HiMRqPDRX/20tadeNriLG72hMnFixdVlWLkyJEIIWS4k5OTMZlMDB48mCtXrsjK0hh3hMmmTZsYPnw4qamphIaGEhwc7PR+W2FSUFCAEAKLxSLDFRsbS3h4OLW1tdy7dw+dTseiRYt49OgRwcHBXLp0SbrV1dURHBzMtWvXHPr5xx9/kJeXR0ZGhpweXb58ubxuK0ygYXi/VatWgH1hAqAoikrMJSYmNnmPs3QHiIyMVPXibLEnTJylubvCBCAmJkY2hAcPHiQyMlIa4YiICPz9/WWYk5KSMBqNDrdg2hMmrvIWGqYIJk6cSFpaGmazWSU4HaUpuG8HT506hRCCadOmqdzT09Px9fWV/22FCYAQgilTpth9rzu2YMyYMSiKwoMHD6iursbf319uHHBVLpzFfcCAAQQHB/Po0SPZkFlHAO3hyu4CPHjwgPz8fPr3709qaiq+vr7S7l28eBGdTkdubi51dXXcunWL8PBwVT1uTnlxN09aWpi89tprBAQEqNxs61dz2ld7wsQq4latWiWvb9u2TV6vr6/Hw8ODvn37upUOVts+bdo0OnXqhJeXl+yktTRPJEygYT4wPT0dIQTt2rXj8uXLbnveksIEGnrub7/9NkFBQU57VGC/gixcuBAhBMeOHZMqvqKiQl7/6aefVENZ0DDMOWLECLy8vPD29lZ9a8PZNXeESXR0tKoyNBYm1gZ84sSJLtPKir20dTeetjiKmzNh8tFHHwEwevRohBBy2LkxZ86cQQjB5MmTVe6uhMmIESMICAhgx44d1NXVMXbs2GYLk6+++qrJkLctmZmZ9OrVi59++onk5GQA+vTpwwsvvEBJSUmTXmVjSkpKCAoKIicnhxs3bnD9+nW3hMmLL76IXq8H7AuT+vp6fHx85HoBsN+QOEt3AIPBIONkD9sy6yrNmyNMrI3TlStXeOutt5g7d6681qFDBzp16uQwXLbYEyau8vbzzz/H09OTJUuWUFlZydq1a90WJuCeHbSObNkKjBdffBFPT08pxBwJE9s6YcUdW1BSUiKH5bdu3UpaWpq85qpcgOO4Wxu/vXv3cuTIEYxGo9NRc1d2t7y8nPj4eLp06SLTPjY2VjWFvWHDBoKDg4mLiyMpKYn58+dTU1MjrzenvLibJ09DmFjrtBV7wt/d9tWeMLFu7y0uLpbTMlu2bFE9p9PpeOGFF9xKB6ttDwgIYM+ePVgsFrp16/ZUNqE4FCY5OTkYDIYmkbAKk/LyctVwmlUoLFmyRLq5mtZxJkxcPWsrTPbv3y8z7c6dOyQlJeHv7+/weUdDimFhYXIIWwjB4cOH5XWrcbPOVW7cuFFWiN9++42AgAD69+/v8hq4Fibl5eV4e3urFkc2Fib19fXo9XoSEhLcnj6zl7buxNMWZ3FzR5gsXbrUYSNRWVmJl5cXvXr1Urk7EybWKZHGW+0eR5gcPXrUpYH/8ssv8fX15b333pNxXL58Ob6+vixcuNCpmMvNzUUIIddSuCNM6urqCA8Pl2t6nE3lWOejwX5D4izdAXr27ImiKA4bqMZl1p00d1SX7QmTmzdv4uXlxbJly4iJiVEt2hswYADe3t5cv37dbrhssQqTxlOarvLWZDKptjC7K0zcsYNWHj58iKIoTRYKRkdHy7Uu0Hxh4q4tSEhI4OWXX2bMmDGsWrVKursqF+BYmFRVVaHX65k2bRoLFixwOKpjxZXdtU6hNd64YCtMUlNTVYu9bWlOeXE3T5ojTGw7xI8jTJpTrsC+MJkxYwaKonDz5k25Xsy6jgj+FLSzZ892Kx2stt26vufHH39ECMHixYudpsvj4FCYWHswO3bs4ObNm6xatQoPDw9GjRrFw4cPOXbsGD4+PnJe8urVqwjx57qE9PR0wsPDqa6udui5PWFiLbi7du1i3759nD592u6ztsJk4MCBqmGoMWPGqOYIbbH6Y10bcejQIXx8fOQc9I0bN1AUhUGDBlFbW0tlZSXJyckqMaHX6+XQWF1dHWazWU5BOLsG9oWJdQ64vr6e8ePHExYWphrJsF38mpeXhxCCqVOncvnyZc6dO8eCBQscrt63l7buxNMWZ3FzR5iUl5cTkRl7qQAAIABJREFUGBhIREQEe/bs4datW+zcuVOmvbUiFxcXU1dXx86dO/Hx8XEoTB48eICXlxcpKSnU1NRw9epVunXr1mxhAg3l1tvbm9WrV1NWVsaRI0dkuK3x8/DwwGQyycV11qF0k8mkWqtjy9tvvy3rVH19vezF2AqTxqMuS5cuxd/fX67nsQqTGTNmAA2GdciQIXTp0kVl7B01os7Sfdu2bQgheOmllzh79iyXL18mPz9fLrhrXGbdSXNHddmeMAEYMmQIMTExqt48/Dm1mJ6eTmlpKdevX6egoIAjR47YTefvvvsOIRp2KJSUlHDgwAHAed4+99xz6PV6rl27RmVlJaNGjXJLmLiyg7ZMnz4db29vDh48CDT0/lu1aiXLEjRfmIB7tuDTTz9FURSio6PlugVwXS4cxd3K6NGjiYmJIT09XdXBsYcru7tr1y5V+T58+DABAQEqu+fr68vw4cPZs2cP+/fvp6SkRLVwurnlxZ08cUeYVFZWIkTDupBjx47J9RePI0yaW66swsQ6rV5aWkpgYKBKNCQlJWEymWRaTZw4kXbt2lFeXu5WOtjbLmzdRdrS3xNzKEwqKirIzMxEURTat2/PJ598QnZ2Nn5+fqxbt46bN28ydOhQYmJiSElJITExUaXmOnfuTGJiosNhnpSUFHx9ffH09CQpKUmOdpSUlGA0GlEUhd69e/PLL780eXbt2rVyW5rFYuHQoUMUFBSQmJhIQkICqamp9OvXj99//91hxK0VxGw207VrV5KSkpqMEPz666/06NEDg8GA2Wxm2rRpqq2VU6ZMwWw2y8bkjTfekNedXcvIyMDb2xt/f3/GjBkDNFRuo9FIQkICFouFV199VbUYLTExEU9PT1q3bi17z3V1dcyfP5/Q0FC8vb3p2LEjy5Ytc9hrcpS2ruJpi7O49erVCyEEBoOBoqIiampq5Da60NBQNmzYADRUnLS0NHQ6HYGBgQwbNkxu3Xzw4AFjxowhKCgIo9HIvHnz6Nu3L0FBQaqV8o0pKioiLCwMg8FAdnY2b7/9Nt7e3kyaNKnJvVeuXJFhat26NZ07d5ZrbMrLy8nJycHf318uPrY9KqBnz54EBQWpdh7ExcWp1gPZ486dO/Tr1w9FUejatSsFBQW0adMGk8nEb7/9BjQIE19fXzp27EinTp3o16+fqtJbhUlgYCBdu3YlLi6O8ePHq9YIZWVl4ePjg5+fX5N66SzdAdavX090dDReXl5ER0ezePFi6urq7JZZV2lur7zNmDGD4OBgWrVqRY8ePVS7DKyN0pdfftkk7bZs2UJsbCxeXl6Eh4czdepU7t69azedKyoqSExMRKfT0aVLF1lmnOXtkSNHSEhIwN/fn4yMDD777DM8PT1JTEx0mqau7KAt1i89h4aGEhUVRUpKiup7KyNGjMDDwwN/f3+58Pill15CCEFQUBDLli2z+153bEF5eTm+vr7k5OQ0ed5ZuXBWnuBPIeCq4Qb37O7UqVPR6/VERUUxY8YM+vfvT1BQEEVFRUDDwl0fHx+E+HO7f6tWreQuImheeXGVJy+++CI+Pj54eXlhsVicfh8nNzcXnU6HyWRi9uzZbN26VS4t6N69O9Cw2Fiv19OqVSteeOEFoGmb0NxytX//fhITE4mIiCAxMZHOnTs3GVW6ffs22dnZBAcHExMTQ1ZWlmrBsat0SEhIkOWwsLCQsrIywsPDpb1vye8G/WM/Sf+kWCuI9llsjWeJ5ORk1U4sW6zCxHYeW0Pj72Ts2LGsWLHC5X1PanfXr1+Pj4+PSojfvn2bF198scnSA41/Lv95YdKcD8JpaDxt7C1+bYyjXTkaGn81ZWVl7Ny5kxkzZhAbG+vWN6ye1O5Onz6dVq1aqaZlTp06RUxMjN3RUY1/Jv9JYfL555/Lr0N2795dtYVKQ+PvYty4cSiKgqIoPP/8802+61BVVUVKSgpCCNq2bftMH+io8e/nwIEDeHt706NHD4dnxzSmJexuWVkZI0aMIDQ0lNDQUEwmE8899xwFBQXa6Pe/iP+kMNHQ0NDQ0NB4NtGEiYaGhoaGhsYzgyZMNDQ0NDQ0NJ4ZNGGioaGhoaGh8cygCRMNDQ0NDQ2NZwZNmGhoaGhoaGg8M2jCRENDQ0NDQ+OZQRMm/yHu37/Pxo0bWbx4MYcOHXqqfl26dImvv/6aBQsWqM6x+Dv4K8LyLMT36NGjrFq1yu7x7n81P/zwA59//jk7duz4u4PyRDwL+fo43L17l23btrFs2TJOnjz5dwfnP83FixcpLi5myZIlTo/60PgTh8Jk8eLFBAUFqU75BPjpp5/IyMjAz8/P6aFSGo9HRUUFERERTQ6XawnKysqYNWtWk4OYngZHjhxhyJAhCCHYv3//U/XrWQjLsxDfTZs2kZiYiIeHx1/u94ABA+jYsSP19fXU19czb948FEX5x38E7u/M1wMH/j97b/4XZfX///8bhwEGZmRAZBcHWQaUJRbXhFdqkoovU3y7kaZGpqZmlkpFi1sbaS9F0NJcckOtPqFpGSEmuZQLKqmjgiUuCPfvD3yvE9cwGwpqdd1vN37guq45y3XOeZ7H2a7nQUwmk1NPuo6oqalhxowZbZxEPkw605b9nSgvL2fw4MFtvP9qOMahMJk3bx5Go1HlQKy6uhqDwUBBQQE7duygvLz8oSTyYXH16lX0en2Hhbd9+3bppMldLl++jNFoVLmT78j47XmI7Ahmz57dJszNmzc/FsKkPWmxlw93n+uo/CYnJ7sVhr3n8vPzH4kwSUtLIz4+XnXN1hu2O7jz/l988UUCAgIQQhAdHS3dw9+7d4/CwkKSkpJISUnBYrGQnZ3tcMYgISGBoKAg4uLipDOykJAQ4uLiCA4OJiIiAuicejxx4kQMBgNCCBITE+16vt21axceHh4qYeLIRtlr67/99tsDCZPKykoiIiIQQtCzZ0+GDh1KRkYG8fHxLFq0iLt37zr9fUfaso5izpw5RERE4OvrixCCI0eOqO6vWLFC3ouLi7svUWgPxfuvJkzcw+lSjq1n4HfffRchhMrrbWdw9+5drl+/rrp248YNlQvvzuCjjz5q4576QRg9ejSZmZnt/p0jj8wdEb8iTN56660OiQPg9u3bhIeHU1BQoLquGHTF7fz90tDQoHLa1dzcjNVqbdd7cictjvLh7nMdkd/q6mqEEC49dTp6Lj8/H09Pz/uO/35pampq80nw9goTd98/wJtvvokQgnPnzslrimdUxT41NjYSFBTkcDkpLCxMdjzl5eUIIfjf//4HtIiCLl26AB1Xj20ZOXIkJpPJ6TO2ddyRjbLX1h9UmABUVVW1CWP9+vUIIaT3Y2d0lC3rSDZv3kxubi6enp68/PLLqntPPvkkEyZMQAjRof3N4yhMmpqa2vTlt27doq6u7hGl6C/sCpMTJ04wf/58cnNzuXjxItDizrm1q2mDwdDmdx999BE6nQ4PDw/S09OBFpfYgYGB6HQ66bbZarUyefJkevToQWBgIP/973+5fPky0FJpvLy8MJvNMtyMjAyEEMyYMcNhRhobGykoKCApKYnw8HAyMzOl2+6CggIiIyMZPnw4JSUlpKenYzAYSElJ4ddffwVg9erVUinr9Xr0er00aFarlQkTJtC7d29CQ0OZNGmSXCt88cUXMZvNFBQUUFJSgtlsZsaMGTz33HPyXSnh3bx5E6vVymuvvUZcXBw+Pj5ERUVJt+zQ4hJ72rRprFixAoDdu3cTGxtL165dOXjwINnZ2RiNRiIjI9mxY4fD9+EsfiEECxcuZNasWYSFhWEymZg+fbrq987y3Jrbt2+TkJCAEAKdToder6dfv36yLIUQlJaWMnr0aPz8/AgJCWnj1v7nn38mMzOTyMhIgoODmT9/vhyNzZo1CyEEeXl5AJw9e1b629i0aZMMo6KigiFDhpCWlobFYmHUqFG88MILGI1GqqurXabFWT46Mr/Oyr+iokLmzcvLC71ez4IFC9qkwdlz+fn5GI1Gdu/eTf/+/TEYDFgsFioqKlRhbN68mbS0NKKiokhISHDYeZeUlJCQkMCAAQNYvnw53bt3x9/fn9zcXLnnYu/evbz00ktMnTpV9Vt7wmTr1q0kJCQQERFBz549KSkpadf7V7AnTNLT03niiSdUzy1cuJCjR4/aDcPX15fjx48DbYXJxYsXEUJw7949t+vx0aNHycrKIi4ujsjISN555x2H6QfnwqShoYFFixYxadIk9u3bBzi2UY7auj1h4sxO2sOeMLl58yZCCEaOHMmRI0dISUkhODiY06dPM2rUKAwGA7W1tQ9ky44fP85TTz0lZ7UGDhzI7du3AfdtkyOWLl3K4sWLyczMJDQ0lKamJhlut27d+PLLL9vMpjhrt+70e4oweeutt4iNjcVoNDJ06FDVVgl3y6aiogKj0YgQgh49enDy5En+/PNPzGYzQghGjRol0+yonz1z5oycdVR8cs2fPx8PDw8sFovb77KzsCtMzpw5w4gRIxBCqAyaYgyczZg8++yz6HQ61TMvvvgiY8aMAf4yQLm5uTQ1NVFfX09CQgLx8fFSXY8cOZIePXqowtXr9W06z9bk5eUxfPhw7t27x82bN7FYLNKwnT9/ngEDBuDj48PSpUupqanh22+/xdPTkylTpsgwlE6wNXfu3CEuLo733nsPgJMnT+Lp6cnChQsBOHbsGGazmejoaBITE5kyZQqrV68GICkpqY0L+40bN7JixQoqKio4cuQIWVlZGAwG6ZlzzZo1+Pn5kZ2dDbTMFM2cORMhBFOnTqW6uppTp04RExNDz549Hb4PR/ErwiQ1NZVvvvmG2tpaXnrpJYQQckOsqzzbUldXhxCCJUuWqK4rBn3cuHFUVVVx7tw5+vXrh8lk4s6dOwCcOnUKX19fioqKgBbjbjAYmDZtmgzHZDIxefJk+f8PP/yAEEKOdmtqaujSpYscaTc0NBATE0NYWBhffvklf/zxh1tpcZSPjsyvq/JXjKKrZVJHz+Xn58vR7JkzZ/jpp5/o2rUrTz/9tHympKSEiIgIrl27BsCkSZMwGAxtZikBfv/9d3JychBCUFJSwpUrV1i/fj1eXl5yhF5eXk6vXr3aDFZshcn69evR6/XS4P/vf/9DCCENvLvvH+wLEyXvc+bMUc2w2aO5uZm8vDxpc2yFCcD06dNpaGhoVz3+4YcfAFi7di1CCL766iuHaXAmTG7dusW8efMQQqg2M9uzUWC/rdsTJs7spD3sCZNff/0VIQTTp0/n5s2bLF68GCEEycnJjBo1iueeew6r1XrftuzEiRMYDAZZLw4dOoQQgtu3b7fbNtkjPz+fjz/+mKKiIlUZrV27lvHjx8vZyM8++0z+xlW7ddXvKcLklVde4fz58+zcuROTyUR0dLSsg+0pm48//hghBNu2bZPXtmzZQkhICE1NTW71sytXrmzThoYOHUpcXJzb77KzcLiUo0zXtVeY7NixAyEE69atk9eioqLYvHkzAO+//z5CCNUoZtWqVQgh2LlzJ9B+YfLLL78ghJBxQIunVp1OJ0feY8eOJTg4WPW75ORkBgwYIP+31+iVyts6zxaLhSeffFL+n5qaKpVya+wZC1tKSkraTPH17NlTNmb4q1K39uA5e/ZsOaJzhDNh0tr4Hz16FCEExcXFbue5Na466tadp1L+Z8+eBSAnJ4fAwEBVPpRpVqXjdCVMlHiUvQbQMrXdurzdSUtHCRNncdhiW/4dJUxak5OTQ2RkJNAyfRsSEqLakLhp0yaEEHz77bd247Lnqn78+PGq0daUKVOcCpPGxka6detGTk6OvN/c3ExoaKic5XhQYdLQ0EB2djZCCAICAliyZAk3btxwGRbYFyYK7pTrmDFjSEhIkPcvX76MEILFixc7jNPVUs6FCxc6VJi4YydtsRUmdXV1jBw5kqCgIFn2u3btQghhd9btfmzZmDFjVJ2jsncI2m+b7JGdnc2WLVuoq6vDx8dH2pbhw4ezefNmbt26hRCC1157zWEYtu3WVb9nbyln4cKFsl61t2yuXr2Kl5eXyi7m5eXJdu1OP/uvEiZ3795VGSBF/SrrdWPHjkUIoRrR7N+/HyEE7777LtB+YVJcXIwQgoSEBDIyMsjIyJAb2hRjak+YDBo0iOTkZPm/vUY/adIkhBAy3IyMDMxms5wugxZh0r9//zbpciRMKioqmDlzJgMHDsRisSCEoLq6Wt53pzEvWbIEIQT19fV234mj+O0Jk3PnziGE4P3333c7z61pT0e9bt06VYMJDg4mNTVV9buCggLVDI4rYXLu3Dn0ej15eXk0NTVx9epVunfvrup83UlLZwgT2zjAefl3hjCZPHky/v7+QMtSmBCCiIgIWbaJiYmEh4c73NxpT5gsXboUIf7a4+JKmJw4cQIhBHPnzlU9k5mZia+vL/DgwkShrKyMJ598EiEEYWFhVFVVuQyvvcLEtlwjIyPx8/OT7zQ9PZ3w8HCnR7cftjBxx07aogiT0NBQkpOTSU9PZ+bMmVy4cEE+owiTr7/+us3v78eW9ejRQzXD15r22iZ7JCQkyP1Cubm5dOnSBavVislk4o8//gCge/fu/Pe//1X9zlm7ddXv2RMmSr1au3btfZXNiBEj5KBOEfkHDhwA3Otn/1XCBFqMo1Ioy5cvZ9y4cfKeMtJq3aF+//33CPHXSZH2CpMNGzYghGDr1q0O0+RImCQlJcn/7TX6qVOnIoSQo3d7tEeYfPrpp3h6erJ8+XIaGhrYuHHjAwkTZxuV2itMVq5c6XaeW3M/HbXSWYSHh6vEIcDbb7+NEH+dgnAlTKBlGjMwMJD4+HjS09N588035TS7u2npTGGixOGq/DtLmCgdoLJ3YubMmU7Db409YaKUkZIvV8JE6SRnz56tembIkCF4enrS3NzcYcJEYevWrXh7e6tmMhxxv8JEyX90dDS9e/d2GU9rHAmTc+fO0dTU1OHCxB07aYu9pRxbOkqYKLYsKCiIjIwMu3G11zbZw2g0yr0dX331FUIIXn75ZZUYysrKUu21cMduO+v37AmTzz77TM6S3E/ZKPVy//79VFZWEh4eLjegu9PP/uuEidJx7Nq1i8GDB7N9+3Z5r7CwECEEP/74o7ymFIqy1jdhwgSCgoJUYToTJkeOHHFpbNsjTFqfLlixYoXLCuNMmNhOMZrNZtWxys4WJrbxuyNM3Mlza5QOxXba2h2DPnjwYEwmk2q6curUqfj4+Mhp+IiICLlWC/aFyYABA5we7WuPMHE2/f6g+XVV/orgcLSsouDoOVfCpLm5GZPJRFJSUptTNI5wtJQTEREhp99dCZO7d+9iMBgYNmyY6pmYmBi5ju7u+wf7wsRisbQ5/vnUU08REhLiMrwHFSYjRozA29ubS5cuuYxLwZ4wuXbtGnq9nhs3bjgVJrZlZ6+t2woTd+ykLY9CmDz55JMYDAa74sMd2+SsXiv2T9ks29TURGRkJCaTiU8++UQ+N336dDw9PaVdcsduO+v37AmT+fPnYzAYuHLlyn2Vza1btzCZTMydO5fCwkKV6Henn12zZg1CCLkBHP7hwgRaDM6kSZMIDQ1VjVwvX76MwWAgJyeHxsZGGhoayMjIUFVeZZq4rKyMK1eusHbtWnQ6HVOmTHG4FpqZmYm3tzfr1q3DarVSWVkpO1pwT5goBnjfvn0cOHCAkydPUldXR0BAAJGRkZSXl3P16lX27t2rWgt0JEwyMjKIjIykqqqKsrIybty4Qd++fTGZTPz+++80NDQwZcqUThMm9uJ3R5i4k+fWNDQ0IIQgJyeHqqoqdu/eDbhn0Hfv3o0QgmXLlgEtxjQgIEBljLOzswkNDeXEiRPU1NTIzbolJSVyR72vry/jx4+nvLyc7777joqKCtWXOt1Ji6N8dGR+XZX/nj17EKJl935FRYXDI6qOnnMlTOCvpbI5c+Zw4cIFTp8+TWFhocPjkUq7UO4fPnwYHx8fVX1wJUyg5dtI3t7eHDp0CGiZ5fLw8JAbRt19/2BfmAQFBclNkdCyib9bt25uzcA8qDBRpskzMzM5fvw4ly5dori42O73SRTsCZOioiJCQ0MB+0s59mwU2G/r9ja/urKTtjwKYaKE98wzz/Dbb79x4cIFioqK5FFWZ7ZpyZIl+Pr6OnzvyomW1ixatAghhDyBCi0fGG3dabtjt8Fxv6fkWwnv+PHjBAQESLsH7S8baBnExcbGkpmZqRIh7vSzFRUVCCF4/fXXsVqtfP3113Tv3p3Y2Fi5qfdRYVeYbNy4UR49SkhI4PDhw7z++ut07doVIVo+tqMcAXNEQUEBOp3O7izHzz//TL9+/QgKCsJisTB37lzVca/6+nqys7MxGAxERUXxwQcfkJubi9FoVB0RbU1dXR0TJkzAz88PX19fBg0aJI/Zffjhh/j5+aHT6eQa4BtvvIHBYECv1zNp0iSgpaDCw8MxGAwMHjyYn376CWipRAMHDkSv1xMQEMDYsWPlMa7Ro0fj4+OD0WgkNTVVHomGluN9RqORoKAgJkyYICtbUlISfn5+ZGVlsWrVKjw9PeU+i6ysLLy9vfHz8+P555/n0KFDhIeHI4TAYrFgtVopKysjKCgIIVo+zuSoQ7EX/1NPPYUQgqCgIEpLS7lz5448phkaGsqWLVtc5tkeeXl56PV6zGYzCxcu5OLFi7IO9ezZk+PHj3P48GH5wabY2Fi5cfCLL74gJiaGiIgIEhMTWb16tWrU8/PPP5OYmIiPjw/p6emUlZURGRlJUFCQ/ABgbm6u6ji7EAIPD492p8U2Hx2dX1flX19fT2pqKnq9npSUFNVR8tbYe27nzp2yjfbp0wdo6ehMJhMeHh7yA1xNTU28+eabhIaG4u3tTa9evfjwww8djjSVztBisfDEE0+Qnp6uOm0yf/58AgMD8fDwoF+/fty6dYvU1FQ8PT3p0qULubm5QMsmRuVbIz179qR///5tvsPizvufPXs23bp1QwhBfHy8FDDvvPMO/fv3JyYmhsTERNLS0igqKpLi1R53795lwIABREZGIoQgODiYjIwMuVbfnrqzfft24uLi8PLyonv37syZM8fh5ttnn322zdFfvV6PTqcjMzOTEydOkJKSghAt+4GU0bwjG2Xb1v/f//t/ch9EaGiotEvO7KQt33zzjbQzBoOBmJiYNsfOv/rqK/l+YmNjSU1NlfsaHsSWKTbBy8uLmJgYli1bJsvRmW2aNWsWQUFB8jMQrVm3bh09evRAp9PxxBNPyA/v1dTU8Pbbb8vn3n//fZlOs9nM+vXrXbZbBUf93nfffUdqaiqRkZGkpqaSnJzcZoa3PWWjoAhie8uVrvpZgLlz5xIQEEBgYCAzZ87kvffew8fHh5deeslpvJ1Np/nKaWxspHfv3qppIg2NzuCLL77Ax8dHtdHr2rVrDBkypM2SoEb7UYSJu0s/Ghr/Vh5Fvzd9+nTVMtQ/gQ4XJqdOnWLXrl0888wzciZCQ6MzmTdvHh4eHqrp2xMnThAbG/vIlf8/AXt7TDQ0NP7iYfd7VquVvXv3Mn/+fOLi4h750ktH0+HCpLCwEIPBQG5urtvfENDQeBCsVisTJ04kNDSU0NBQzGYzffv2pbi4WBvlPyCffvqp/Mpsnz592LVr16NOkobGY8fD7vcOHjyIt7c3/fr1U+3X+afQaUs5GhoaGhoaGhrtRRMmGhoaGhoaGo8NmjDR0NDQ0NDQeGzQhImGhoaGhobGY4MmTDQ0NDQ0NDQeGzRhoqGhoaGhofHYoAkTDQ0NDQ0NjceGf7Qwqamp4bPPPqOwsFDlN6UjqK+vZ/HixUycOJEdO3Y8UFhHjhxh7dq1Tl2k/xupr69n586dfPDBB9InyN+VGzdusGvXLj788EPVp7A3b97M8uXLHX77YO/evXz88ccOXTFo/L2prq5m/vz5jBkzRn7a/u9EZ9jYyspKSktLWbNmTYeEZ4+OtN+dxZ9//snWrVtZtmwZhw8fftTJeag8dsIkPz8fHx+fDgmrsrKSZ599FiEE3333ncPn6uvriYyMJD8/3+2wb926Jd1WK26k75dt27aRmpqKTqd7oHD+aZw7d45p06Y5dK72OKM4S3z33XeBFgM+Y8YMlUO0/fv3M3ToULvOwBRWrFhBt27dpJ8bjX8Wly5dYv78+S5t1OOKuza2PRQXFxMbG0t4eHiHhGePjrTfnYXVamXBggWdlkZbG/U48dgJk4ULF7ZxU759+3a3DPPs2bPbFKDiGdRZo7l8+TJGo5EXXnihXWlVCra9lSY5OblNevLz8x9YmFy9ehW9Xv9AYTxunDhx4m8pTO7evYsQglWrVslr9ry9/u9//3MqTAASEhI0YfI3wV1b1Rp3bNTjwv3a2PYyduzYThUmcP/2u7OwV3c6Ko32ys2ejXpceOyEyXvvvYfFYlFdGz16NJmZmU5/d/v2bcLDwykoKFBdVxqNI/fxCvfu3Wt3Wu+n0lRXVyOEaONVNT8/H09Pz3anoTUfffRRG5f3f3ceR2HS1NSE1WpVXVNcsrfG19dXtQTzIMLkqaee6qDUPx7cvXuX69evq67duHHDoafsvwvu2Cpb/i7C5EFtbHv4NwoTe3VHSeNbb7113+E6Kjdoa6MeF9oIk+vXr0uX3uHh4ZSXlwMwefJkhBBcuHABaHEz7+3tTVhYGDU1NTQ2NvLWW28RFRVFSEgI6enp0kV2bW0tiYmJdOnShc2bNzN16lSCgoIIDAxk0aJFqvhXr14tXbYDPPfcc9KNveIa3NZ18+3bt0lISEAIgU6nQ6/X069fP+CvRlNaWsro0aPx8/MjJCREtX5ZVFTEtGnTWLFiRbvSa1uxly5dislkQqfTMWzYsDYvu6KiQvod8fLyQq/Xs2DBAqBFmBiNRnbv3k3//v0xGAxYLBaVm/Hq6mqee+45wsLCMBgMpKenc+TIEfnebN2ol5WVOSn69lFQUEDQkUdfAAAgAElEQVT37t0ZPnw4JSUlpKen4+PjQ1JSEhUVFcyZM4eIiAhMJhNTpkyRPmru3r1LUVERffr0wWAwEBwczLx584AWIaXT6fDw8CA9PR1oWd4IDAxEp9OxfPlyKUzy8/MZMGAAvr6+JCUl8dVXX6nSt3nzZtLS0oiKiiIhIcFu3u/du0doaChCCAIDA9mwYQPQYhAU9/ANDQ1O6/KZM2cICAhACEFNTQ0A8+fPx8PDo42gDg0NZe/evfL/BxEmw4YNY+XKlVgsFgwGA1lZWVy9elU+U1ZWRnZ2Nv7+/phMJkaMGMH169dpamqS7TkoKIidO3cC8N///hcPDw/Cw8O5efMmjY2NFBQUkJSURHh4OJmZmdKVfGsqKiowGo0IIejRowcnT57kzz//xGw2I4Rg1KhRQEvbmDx5Mj169CAwMJD//ve/XL58WZaVl5cXZrNZhpuRkYEQghkzZgAt+65SUlIIDg7m9OnTjBo1CoPBQG1trd135Ci++7FnylJC165dOXjwINnZ2RiNRiIjI53uR3Bkq6xWK6+99hpxcXH4+PgQFRXF559/Ln9nK0xGjx6Nl5cXBoNBdiZWq5UJEybQu3dvQkNDmTRpUhs72Jqff/6ZzMxMIiMjCQ4OZv78+dy9exdoacuRkZGqtmwwGEhJSeHXX3+1G96D2liAo0ePkpWVRVxcHJGRkbzzzjsO0z927FhCQkJ4/fXXpe2dPn26yoO4szoGOG3Hyu/bY787E2d1RwjBwoULmTVrFmFhYZhMJqZPny5/68zGOis3aGujzp49S3Z2Nn369CEhIYG+ffvKPXEPE7szJkpn0NqVclxcHAaDQTVyDQ0NlR3jlClTsFgsXLt2jXv37jFp0iT0ej1nz56lsbGR0tJShBAMHDiQ/fv3c+HCBbk2ef78eRnmpk2b2lSKpKQkBg0a5DQjdXV1CCFYsmSJ6rrSaMaNG0dVVRXnzp2jX79+mEwm7ty5A8CaNWvw8/MjOzsbwO302lbs06dPYzab2b17t8N0fvnllwghpIFUyM/PRwhBYWEhZ86c4aeffqJr1648/fTT8pk33niD0tJSjh07Rnl5OeHh4WRlZcn7s2bN6rQZk5qaGvr374+vry8rV67k/Pnz7Nu3Dw8PD6Kioti3bx8XL16U+VCMbHV1Na+88gr79+/nl19+4eWXX0YIwYEDBwB49tln0el0qhmIF198kTFjxgB/1cVhw4Zx4sQJjhw5Qu/evfH29pZGtKSkhIiICK5duwbApEmTMBgMbUbkAMePH0cIofI6bLVa8fDwkK7KndVlgJUrVyKE4Ny5czKMoUOHEhcXp4rLYrHw448/yv8fRJgEBQWxfv16amtr5dq4sjZ8584d8vPz2bVrF8ePH2f9+vUIIXjjjTcA+PXXXxFCMHPmTBnmlStX0Ol0Mk95eXkMHz6ce/fucfPmTSwWi8qAtebjjz9GCMG2bdvktS1bthASEkJTU5M0hrm5uTQ1NVFfX09CQgLx8fFyZnLkyJH06NFDFa5er5cG9+bNmyxevBghBMnJyYwaNYrnnnuuzUwV4DK+9tqzGzduMHPmTIQQTJ06lerqak6dOkVMTAw9e/Z0WE5g31Zt3LiRFStWUFFRwZEjR8jKysJgMEiPsLbCZMeOHURFRXHmzBmgpXzj4uJ47733ADh58iSenp4sXLjQbhpOnTqFr68vRUVFQIsgMBgMTJs2DYDz588zYMAAfHx8WLp0KTU1NXz77bd4enoyZcoUh3l7EBurpOmHH34AYO3atQgh2gwwFMaOHYter2fDhg1cuHCBpUuXIoQgLy8PcF3m4Lod34/97kzs1R0ljampqXzzzTfU1tby0ksvIYSQG2Jd2VhH5QZtbVRmZia5ubkANDc3k5KSwp49ezoryw5xuJRjsVjk6Ke6upr09HT69+/P6NGj5TVlqq2qqgohBO+//778/cmTJxFC8PLLLwP2xc727dsRQvDNN9/Ia3/88YdKqEDHCJPWQuD9999HCKHaBd+zZ08pTNxNb+uKXVtbS1xcnMtK7UqYtCYnJ4fIyEiHYeXl5ammOztTmECLsQgODlZdi4uLU00//vLLLwgh+PTTT+2GUVNTo1qa2bFjB0II1q1bJ5+Jiopi8+bNgP2lnK+++kqWdVNTEyEhIaqNy5s2bUIIwbfffms3DSkpKapOsaSkhISEBMC9uuyuMDl9+jS3b9+W/z+IMLGt/wEBAU7dq5vNZsaPHy//z8zMlMIBYNWqVTz55JPAX2WmvHOAGTNmoNPp5Ci7NVevXsXLy4vJkyfLa3l5ebIMlPZ19OhReX/VqlUIIeSMjSthArBr1y6EEC5n/tyJrz32DOCTTz5BCKHy3Dp79myEEE6Xfd2xVSUlJQgh+O233wC1MPn222+JiYmRogRaZnSFECpRZrFYZPnZkpOTQ2BgoCqdubm5eHp6SvFury0nJyczYMAAh+l+EBs7ZswY2cagZV+fEILFixfbjcveUk6/fv3Q6/XcunXLZZm7047vx353Js6ESet3fvToUYQQFBcX2w3H1sY6Eya2NioxMZHo6GhZbleuXHkky6sOhcnChQsxmUw0NjaybNkyZs2axeuvvy6vrVy5Uk67Ko24tUv05uZmdDqdHPHb6+jLy8sRQrB9+3aniexoYbJu3bo2ldodYWKbXqXSzJ07l969e+Pl5cXPP//sNJ3tESaTJ0/G399fdW3btm2MHz+eAQMGEBoaSmBgoLznSJiMGzdOTg+2/mtt/Nx5xp4xS01NVS29XbhwASEEy5Ytk9fOnz9PQUEBWVlZcspe6Zzv3r1Lt27dyMnJAVreu8FgkI3BnjBR3vvEiRM5e/YsQggiIiLIyMggIyODxMREwsPDHa7Zr1ixQlX+Y8eOlbML7tRld4WJLR0pTHr06CHfGbTMMBQVFTF8+HC55KV0uoCcZVHE2uDBg6VhKy4uRghBQkKCfIdxcXF0796dxsZGu2kaMWKE7Pyam5sJDQ2VI7SxY8cihFBNu+/fv181y9MeYfL11187fDfuxtceewb2hcmSJUsQQlBfX+8wLY5sVUVFBTNnzmTgwIFYLBZVmSs26oMPPsBkMmE2m1XLNJMmTUIIIcsmIyMDs9kshZYtwcHBpKamqq4VFBSoRtn22vKgQYNITk52mLcHsbGRkZH4+fnJ9KenpxMeHu7wEwn2hIliI8+cOeOyzN1px+7Y708++cSuXWw9kOoo++quMDl37lwb0eXMxjoTJrZ8/vnn6HQ6vLy8GDNmjJxFftg4FCYVFRUI0bKhaciQIezZs4cffvhBKvvs7Gw5klGMq63A0Ov1cpexs47+yy+/dJrIzhImVVVV8lp7hImSXqXS+Pv7U15eTkJCAmlpaU5HVO0VJiaTSf4/ceJE/P39KSsro6mpienTp7slTC5dusRvv/3W5q/1aNidZxwJk4yMDPm/IkwUg1NRUUHXrl2ZMGECly9f5tKlS2065/z8fClGli9fzrhx4+Q9e8KktrYWIVr2nVy8eLHNMoUrLl26hE6no6CggHv37hEQECD3U7hTlx8XYTJy5Eigpe4nJiaSkpIiw4mLi1MJk9u3b9O1a1emTZvG9evXMZlM/PHHHwBs2LABIQRbt251mv7WKO1q//79VFZWEh4eLvcVjR8/vk0H/v3336umzTtSmLgTX3vsGTgXJrabnFtjz1Z9+umneHp6snz5choaGti4caNdYZKQkMChQ4fw8fFhzpw58vdTp05FCCFnO1wRHh7eRmC8/fbbMq/gWJgkJSU5DPdBbGx0dDS9e/d2K/1K+myFyfPPPy9njlyVuTvt2B37XV9fb9cutv7uUEfZ1/YKk5UrVwKubWx7hAnAsWPHmDhxIl5eXnh7e6v2oDwsnJ7K6d69OwUFBXTr1o2GhgaampoICgrijTfeIDQ0VK6RHjp0CCGEXAMFZIehrIM+qDBxNG2poLx826nBhyFMlA1q3377bZvZAlsUYWK7zOBKmCjTc62PNDsSJkoH0dHcjzDJy8tDCCE/vmRPmCgdxK5duxg8eLDKmNgTJmVlZQgh2L17N83NzZhMJpKSktqV76FDh5KamsqhQ4dURtydurxmzRqEEKrRxKMUJsrSwBdffCHv2woTaKkfQUFBlJaWMnHiRHn9yJEj7RZ3t27dwmQyMXfuXAoLC5k9e7a8V1hYiBBCtXatiB9lT8GECRMICgpShXm/wsSd+MB9ewYPJkxsbZXZbCY+Pl7+70iYKCf1lixZgoeHh8yPMsPnrnAcPHgwJpNJ1elNnToVHx8f2aE+iDC5Hxs7YsQIvL29uXTpklt5sCdM0tPTSUtLA1yXuTvt+H7sd2dir+64I0xc2VhH5WaPrVu3yn1Bx44dw9/fn+HDh3dI/tqDU2Eyc+ZMzGYzQ4cOldcmTZqE2WxWTSNDS6Uxm83y5cycOZOwsDDZiB9EmGRkZBAZGUlVVRVlZWV2v5LZ0NCAEIKcnByqqqrkWuHDECatj5uNGzcOg8GgmqJrzZ49exCi5fhXRUWFPGLnSpjcvHkTLy8v+vfvz507d6itrSUtLU0lTF555RWEEOzbt48DBw50+NdS70eYvPrqqwjRsk+gublZdsStO2eAmJgYJk2aRGhoqGwY8Fc5KBv5bty4QXp6Os8884x8RpmmnjNnDhcuXOD06dMUFhY6XRtVjNi0adNUxgtc12Vl9P36669jtVr5+uuv6d69O7GxsarOzZbOEib79u1DCMH8+fMB+PHHH/H3928jTJS9JDExMap9XdCyB8Xb25t169ZhtVqprKyUhs8RU6dOJTY2lszMTFUHcfnyZQwGAzk5OTQ2NtLQ0EBGRoaqfSmbGcvKyrhy5Qpr165Fp9MxZcoU2aG6K0zciQ/aZ8/uV5jYs1V9+/bFZDLx+++/09DQwJQpU+wKE2U249atW0RFRdG7d2/u3r1LXV0dAQEBREZGUl5eztWrV9m7d69qT1Brdu/erepgf/vtNwICAlTLJvcjTB7ExirLLJmZmRw/fpxLly5RXFxMZWWl3biU9CmDjU2bNuHt7c33338PuFfmrtrx/djvzsRe3XFHmLiysY7KzR4mk0kufzU1NWGxWOSenIeJU2GiKMjWBuqLL75ACMHatWtVz167do3c3FwCAwOJjY1l9OjR8jhlQ0MD8fHxCCEICwtj3759XLp0iejoaIRoOXZ46NAhh+lYvXo1RqORoKAgJkyYYHdnPrQoR71ej9lsZuHChVy8eFEeY+zZsyfHjx/n8OHD8vhgbGwsZ8+eJSsrC29vb/z8/Hj++efdTm9SUhJCCLp27UpJSQlWq5Xu3bsjRMvRTNtvlUDL1GBqaip6vZ6UlBQ+//xzdu7cSdeuXRFCyP0aRUVFmEwmPDw85NRjaWkpERERBAUFkZuby6uvvoq3t7c8YVJRUUF4eDgGg4HBgwfz008/OSvedrFq1Sr8/PzQ6XTyxMycOXPw8fHBx8dH7pYfMGAAQghCQkLYsmUL169fZ9iwYRgMBp544gmKi4vp1q0bZrOZY8eOyfALCgrQ6XSqETO0GI///Oc/hIWFkZaWRkJCAosWLVKNBpuamnjzzTcJDQ3F29ubXr168eGHHzqdQWloaMBoNOLt7c3FixdV95zVZYW5c+cSEBBAYGAgM2fO5L333sPHx0d12qc1VVVVcm9BaGgoy5cvZ82aNYSFhcm6aLu8B7Bo0SK8vb3x9fWVYefl5eHp6YnRaJTHzefMmYPJZKJnz57Mnz+f4cOH07VrV0pLS1Xh9e3bl8jIyDbvpq6ujgkTJuDn54evry+DBg1i3759Dt8f/NXZtN7UqPDzzz/Tr18/goKCsFgszJ07V7Vvor6+nuzsbAwGA1FRUXzwwQfk5uZiNBrZtGkTX331lWy7sbGxpKamqvYTtDc+cN+eHTp0iPDwcIQQWCwWrFYrZWVlBAUFIYQgMTHRoei1Z6sqKytJSkrCz8+PrKwsVq1ahaenJ6mpqfzyyy8yrh49evDLL7+wZ88e/P39pd36888/OX78OAMHDkSv1xMQEMDYsWPtHuduna+YmBgiIiJITExk9erVssw//PBD2ZYVQfbGG29gMBjQ6/VON1Xfr42FlsMDcXFxeHl50b17d+bMmePQFUNRURExMTHExMTIJQ7lBKiCqzJ31Y7vx353JvbqzlNPPSXTU1payp07d+Tx39DQULdtrG25OWL27NlYLBa5D2jatGlOj6V3Fo/dB9Y0/p00NjbSu3fvh7rZauPGjYwdO/ahxfdPZPr06apZRQ0NDY0HRRMmGo+UU6dOsWvXLp555hmnI7WOZM+ePRQVFREUFPTIdp3/nbFarezdu5f58+cTFxfndPlKQ0NDo71owkTjkVJYWIjBYCA3N9fhtG5H4+3tTXR09GPrVfRx5+DBg3h7e9OvXz/VHgwNDQ2NjkATJhoaGhoaGhqPDZow0dDQ0NDQ0Hhs0ISJhoaGhoaGxmODJkw0NDQ0NDQ0Hhs0YaKhoaGhoaHx2KAJEw0NDQ0NDY3HBk2YaGhoaGhoaDw2tEuY7N27l48//phNmzZ1Vnr+MVRWVlJaWsqaNWsedVIeCTU1NXz22WcUFhZKXxUdzblz59i8eTPLly/vtM8m19fXs3jxYiZOnPiv/u7JkSNHWL9+PatXr36o8VZWVrJhwwaWLVvm9JP0fzdqampk3b2f7/f8+eefbN26lWXLlnH48OFOSKFGa44cOcLatWtV/oY0Oo92CZMVK1bQrVs36bvl787BgwcxmUxs3Lixw8MuLi4mNja2jYfMR8mIESPo1atXp3kfbk1lZSXPPvusyjmZPerr64mMjCQ/P7/dcZSXlzN48GCEEPz2228PklyH3Lp1i88++6yNsy9XdGbdehSUlJRgsVhUTiMfBqWlpQwZMqSNQ72/O/v372fo0KFtHDi620atVisLFixod71UuHDhgvTw7Mxxn0YL27ZtIzU1FZ1O12lx3L59m9dee40ePXrg7e3t0CfcvwGHwuTq1avo9fo21xMSEv4xwmTXrl14eHh0Wudhz3V3Z+CorGxJS0tTuV+HFqdN7TFsirfLHj16EBcXR2BgIEIIoqKiiIuLo0uXLkyYMAFo6zXVHpcvX8ZoNPLCCy+4nYbWKF5gO0uYgH0vpK7oiLqVnJzs9N09bMaPH99uYdLe+mUPxVuqM2HSEfG899570plmTEwMCQkJJCQk0K1bN2bMmPFAYdvDnmdpe23UEfdTL6FFbMfGxjJmzBh27tzp0Evxw6awsNDu+w8LC2vjCflRkJ+f/8DC5MUXXyQgIAAhBNHR0ezZs0femzhxIr169eLLL7+ktLT0HzVD2F4cCpOPPvoIIUSb6wkJCTz11FOdmqiHyb179zot7I4QJnfv3uX69euqazdu3FB5N3VUVrY0NTWpRmK3b98mPDycgoICt9Pz66+/IoTg0qVLwF+u4BVhMHfuXIYPHw78JUwOHjzoNMwHKYPHVZjAg+WruroaIcRD93DqjPYKk/upX/ZwJUw6Kh6AlStXtolr165d/N///d8Dh22LPWFi20adodTLt956q13xHj58GCHEYyNIWmPv/R87dgxvb+9HmKoW8vPz8fT0fOBw3nzzTYQQnDt3TnXdx8fnvmaO20tdXZ3KO3tjY+NjNztjV5isXr0aX19fhBDo9Xr0ej1lZWVAizAZNmwYK1euxGKxYDAYyMrK4urVq/L3jY2NFBQUkJSURHh4OJmZmQ5ddBcUFNC9e3eGDx9OSUkJ6enp+Pj4kJSUREVFBXPmzCEiIgKTycSUKVNko7179y5FRUX06dMHg8FAcHAw8+bNU4VdUVHBkCFDSEtLw2KxMGrUKF544QWMRiMVFRUsWrSISZMmqdy7NzU18fbbb5OQkEB0dDSRkZGsW7fObtqrq6t57rnnCAsLw2AwkJ6ernLNPXbsWEJCQnj99dcJCgoiMDCQ6dOnq5Twzz//TGZmJpGRkQQHBzN//nxZaTZv3oyXlxdms1k+n5GRgRBCjuCclVVr9u7dy0svvcTUqVOBFmOuuM/W6XTo9Xr69etnN5+t+fHHHwkKCpL/2wqTDRs2MHDgQJl+IQSlpaWMHj0aPz8/QkJCVPtuioqKmDZtGitWrJDXvv76a/r06UP//v2JjY0lOzubxsZGu+lRhMlbb71FbGwsRqORoUOHcvr0aflMY2Mjb731FlFRUYSEhJCenk5FRYUqnK1bt5KQkEBERAQ9e/akpKRE3rMVJkuXLsVkMqHT6Rg2bFibNDU0NNitW+7mq6KigpCQEIQQeHl5odfrWbBgAUeOHCElJYXg4GBOnz7NqFGjMBgM1NbWYrVaee2114iLi8PHx4eoqCg+//xzAGpra0lMTKRLly5s3ryZqVOnyvq4aNEiVdwffPABKSkp9O3bl+joaJWLdFth4ixOZ/XLlX24ffs2CxYsIDY2lt69e+Pv7+9QmLiqx87K1R72OsbW7N69m9jYWLp27crBgwfJzs7GaDQSGRnZZg/S559/Tnp6OqmpqcTGxjJz5kyys7MJDQ0F2goT2zYKcPbsWbKzs+nTpw8JCQn07duXX375Rb5/IQQLFy5k1qxZhIWFYTKZmD59usP8FRUVyRG78ldRUUFxcTHx8fEMHjyYH3/8kfT0dBISEmR5OWs/2dnZBAUFUVBQwJIlS4iOjkav15OTk0NlZSVjxozB39+fkJAQl56oHb3/+vp6mpqa6NevH8HBwezbt4958+YREBAgZyWtVisTJkygd+/ehIaGMmnSJLn3rHUaCwoKiI6Oxmg0kpOToxrk1dXVkZeXJ2dqevXqJW16fn4+RqOR3bt3079/fwwGAxaLpY0tcYWtMPnxxx/p0aOHqkxs97Lcu3eP0NBQhBAEBgayYcMGAEaPHo0QgtDQUJkPZ3U+KSkJIYS8tnXrVgwGA0IILl++3K58dCYOZ0xmzZrlcMYkKCiI9evXU1tbK9ff3333XflMXl4ew4cP5969e9y8eROLxeKw06upqaF///74+vqycuVKzp8/z759+/Dw8CAqKop9+/Zx8eJF8vPzVcsC1dXVvPLKK+zfv59ffvmFl19+GSEEBw4ckOF26dJFjqIaGhqIiYkhLCyML7/8kitXrjBv3rw2leC5554jLS2NP/74A4DBgwezYMECu2l/4403KC0t5dixY5SXlxMeHk5WVpa8P3bsWPR6PRs2bODChQssXboUIQR5eXlAi2ddX19fioqKADh69CgGg4Fp06bJMEaOHEmPHj1U8er1epXxcVRWrSkvL6dXr14YDAZ5ra6uDiEES5Yscfrb1hw/fpy3335b/m8rTM6dO8fixYuBv4TJuHHjqKqq4ty5c/Tr1w+TycSdO3cAWLNmDX5+fmRnZwMt5WQwGFi1ahXQYmw8PT0derBVhMkrr7zC+fPn2blzJyaTiejoaDljMWXKFCwWC9euXePevXtMmjQJvV7P2bNnAVi/fj16vV4aIKXDUDpZW2Fy+vRpzGYzu3fvtpumW7dutalb7c3Xl19+iRCC8vJyee3mzZssXrwYIQTJycmMGjWK5557DqvVysaNG1mxYgUVFRUcOXKErKwsDAYDt27dorGxkdLSUoQQDBw4kP3793PhwgW5B+j8+fNAy74HIQQnT56UacjIyJDx2woTZ3GC4/rlzD40NzeTmZnJwIEDZRtUZgQdiQVH8bgqV3vYdoyLFy/mnXfekfdv3LjBzJkzEUIwdepUqqurOXXqFDExMfTs2VM+t23bNtWM16lTp/Dw8GDIkCFy4GArTOy10czMTHJzc+W7SUlJkdP/Sr1MTU3lm2++oba2lpdeegkhhNMNsd99912bGZPa2lqGDx9OSEgIcXFxTJgwQQ70XLWfyspKTCYTZrOZrVu38vvvv8vOd8iQIRw5coQzZ87Qp08fjEajU2/Utu9/27ZtjB07Vt7fvXs3QghiY2PJysri+eefZ//+/dy5c4e4uDjee+89AE6ePImnp6cU1lVVVZhMJiIjI9m0aRO///67tMfr168H4M6dO8THxzN9+nSam5tpaGjAZDKxd+9eANkHFRYWcubMGX766Se6du3K008/7TA/9nA0Y6LT6ZzOmBw/fhwhBC+99JK8ZrVa8fDwkF7SXdX5qqoqhBCqwfY777yjmgV/HLgvYTJo0CDVtYCAAOmy/pdffmlT6WfMmIFOp1NNH7Vm7NixbdYQ4+LiyMzMlP8r4X766ad2w6ipqUEIwf/+9z/gr06x9Rre6NGjVfFcuHBB1XkocbTeF7B//363p9Pz8vJUSzf2lnL69euHXq/n1q1b5OTkEBgYqJryz83NxdPTk2vXrgEdJ0ygxcA8qDCxxVaYtEYpg9ad6/vvv48QQho1gJ49e0phcu3aNYQQ5OTkyI6ppqbG4fS2vaWchQsXyniVhvj+++/L+ydPnkQIwcsvv0xjYyPdunUjJydH3m9ubiY0NJQnnngCUAuT2tpa4uLiHIoSBdu61d582RMm0LKsIISwOyvWmpKSEtV7OXHiBEII1Yh1+/btCCH45ptvgL8608LCQpqammhsbOTChQvyeVdLObZx2qtfruzDF1980WYJy9VSjr143ClXeygdY1hYGD169MBoNKqECfxV51qnZ/bs2QghZFtWOrHWnXBgYKCqk7W3lGPbRhMTE4mOjpbt5cqVK3JkrNTL1vk+evQoQgiKi4sd5tGeMIGWZVghhGoGwVX7UQgODlbl7dKlSwghVMtrH3/8MUIIfv31V4dpU95/t27dCA4OpkuXLqpw//zzT4QQzJ8/X/W7oqIihBCqJQmLxcKTTz7pMI319fUIIXj99ddVYbTuoEtKSqipqQH+KtPW5OTkEBkZ6TA/9rhfYQKQkpKi6g9KSkpUM1uu6vy/Spj06NFDvozi4mKEECQkJJCRkUFGRgZxcXF0797d4XS8PWGSmppKnz595P+KoV+2bJm8dv78eWPr1M0AACAASURBVAoKCsjKypJLHB999BHQMnLX6/Xk5eXR1NTE1atX6d69u6rgbTuPdevWuRxt2LJt2zbGjx/PgAEDCA0NVRlue8JEqdxnzpwhODiY1NRU1f2CggJVGv5pwkR5x0ePHpXXWgsTgBdeeAEhBP7+/sydO1e1TGiLPWGixLt27Vp5f9euXfJ+c3MzOp2Op59+WnbYc+fOVYWbmZmJr68v8FcHMHfuXHr37o2Xlxc///yz0/diW7famy9XwuTrr79u85uKigpmzpzJwIEDsVgsqk7PnjApLy9HCMH27duBlpmeJ554AiEEZrOZjz76SNVm7QkTZ3Haq1+u7MPUqVMRQkjxBvcnTNwpV3vYjthfffVVt4SJ0g7q6+uBltmk1gLB3r4Od4TJ559/jk6nw8vLizFjxsiRMdgXJufOnWsjJGxxJUxal7mr9qNg2+krAqL1bPP69esRQvDTTz85TJvt+9+4caPdcF977TXV7yZNmoQQQtapjIwMzGYzo0aNcphGACEEs2fPBmDy5Mn4+Pg4TJs9YTJ58mT8/f0d/sYeDyJMVqxYobKfY8eO5Y033gDcq/P/OmEycuRIoGWPgRCCrVu3up0IR8Kk9TSyraGvqKiga9euTJgwgcuXL0uFrggTgC1bthAYGEh8fDzp6em8+eabcgnBXpiKYm49y+KMiRMn4u/vT1lZGU1NTUyfPt2lMHn++eelsg8PDyc5OVl1/+2330aIv5as/qnCpKqqSl6zFSYAZWVlZGZmytFr65F7a+wJE2V5cfPmzdL4K52vgl6v5z//+Q+//fabyjgpDBkyBE9PT5qbm2UH4O/vT3l5OQkJCaSlpTnd3GpPmLQnX+0VJp9++imenp4sX76choYG2TG6I0y+/PJLee327dt88sknxMbGIoQgKytL5tNWmLiK0179cmUfxo0bhxCCuro6ee1+hIk75WoP247x4sWLcsSs4EyYtE73iy++SEREBL169eLJJ59s8/0nd4QJtGz+nDhxIl5eXnh7e8ulBWfCZOXKlXbzB+0TJq7aj4IjYfLKK6/Ia4owcbYnw/b937hxQ/V+HAkTRdAqM832cCRMZs2aBcCYMWPazBi1xpEwMZlMDuO0x4MIk0uXLqHT6SgoKODevXsEBATI/Vnu1Pl/jDCxbcCuhMmRI0cQQjBz5ky3E3E/wiQvLw8hhPx4lz1hMmDAAKfHNW3D/Pbbb9uofEcoS0etj7m6I0zS09NJS0sDWvavmEwm1RLX1KlT8fHxkR9dUr410BpHwsTVbn5HwkTZE9Iad08GdLQwqaurUwlDxZgtX77cbvz2hMn8+fMxGAxcuXKFQ4cOIYSQa8/Q0tkI0bJp8O7duxgMhjabWGNiYuS+B6UDUKallXrSevbOFtu61d58KcLk22+/VV13JEzMZrPqmOn9CJNTp05RWVkJtEwLT58+HSGEvGYrTFzFaa9+ubIPr732GkKoT3K5K0xax+NOudrD0ebLL774gp07dwLuCZNr165hMpmcGnt3hMnWrVvlYOrYsWP4+/vLU28PQ5i4aj8KnSVMbHEkTJSZBGcDYlfCRNm/pQg/W9wVJq5s54MIE4ChQ4eSmprKoUOHVANbd+r86dOnEULIfY3wNxMmr7zyCkII9u3bx4EDB+SGOFfCBFqmjry9vVm3bh1Wq5XKykqnDeV+hMmrr76KEC1r7c3NzbKRtxYmvr6+jB8/nvLycr777jsqKipUXyG1DbO5uZn09HQMBgObNm3CarVy6NAhu/sJbt68iZeXF/379+fOnTvU1taSlpbWRpgEBwfLirpp0ya8vb35/vvvgb82cikd3G+//UZAQIBqlK1s0CorK+PKlSusXbsWnU7HlClTpKBxVFa22Bq9hoYGhGjZ91BVVSXzuWTJEnx9fWWH5IyOFiZVVVX4+PjIteLa2lqEELJTsEXpJJQp7uPHjxMQEKASDenp6ZjNZln2M2fOJCwsTHYi8+bNw9vbm0OHDgEtM20eHh788MMPgP3jwuPGjcNgMHDmzBm76bKtW+3N1549exCi5bRRRUWF7KgdCZO+fftiMpn4/fffaWhoYMqUKe0WJitXriQjI0N2TJ999hl6vV6m2VaYuIrTUf1yZh9qamrw9fVl4MCBWK1Wrl+/zqhRo5x2Vo7icVWu9nDUMSYkJMh3544wUZZuli5dyoEDB/juu++oqqpSnchzR5iYTCa5jNLU1ITFYpF7Ox6GMAHX7QcevTCpq6sjICCAyMhIysvLuXr1Knv37lXl0ZUwuXTpEkajkZiYGL7//nusVivbtm3j2LFjgHvCxB3b+aDCRJl1nDZtmkowgus6f+fOHfz9/Rk8eDCXLl2Sp0KFUO/7e9Q4FCYVFRWEh4djMBgYPHgwP/30E4sWLcLb2xtfX1+5MzgvLw9PT0+MRqOcaairq2PChAn4+fnh6+vLoEGDVMcmW7Nq1Sr8/PzQ6XSMGTMGgDlz5uDj44OPj488wTJgwACEEISEhLBlyxauX7/OsGHDMBgMPPHEExQXF9OtWzfMZrOsSLm5ufj4+CDEX8ewPDw8WLhwISdOnCAlJQUhBBEREdLoXL16ldzcXLp06UKXLl0YOXKkal23NaWlpURERBAUFERubi6vvvoq3t7e8t0UFRURExNDTEwMSUlJDBo0SHWcGFpGYjExMURERJCYmMjq1atViru+vp7s7GwMBgNRUVF88MEH5ObmYjQa5dSwvbKyZf78+QQGBuLh4UG/fv3kpry8vDz0ej1ms1mOgGbNmkVQUJDTTWoVFRWkp6fLDyL17NmTAQMGyJmeixcvYjab5b3jx49z+PBhIiIiEKJlV/3Zs2fJysrC29sbPz8/nn/+ea5cucKYMWOIjY2lf//+pKamOpxVgBYjm5qaSmRkJKmpqSQnJ7eZJbt27Rq5ubkEBgYSGxvL6NGjVdPz9+7dY9GiRYSGhtKzZ0/69++v2nypHLHr2rUrJSUlWK1WunfvjhCCoKCgNpuj7dWt9uarvr6e1NRU9Ho9KSkpfP7553z11VfyncbGxpKamio7usrKSpKSkvDz8yMrK4tVq1bh6elJamoqDQ0NxMfHI0TL8tG+ffu4dOkS0dHRCNHysbxDhw7x/fffk5WVRXx8PAMHDqRPnz5ylueFF17Az88PDw8PnnjiCerr653GqWCvfrmyD9988w29e/fGYDAwaNAgVq9ejZeXF+np6Q7fl714XJWrLe+++678YKC/vz+BgYEEBgbKOl5eXs6hQ4cIDw9HCIHFYsFqtVJWVkZQUBBCCBITE2loaODWrVuYzeY29sdgMLBjxw7WrFlDWFiYLMvy8nK7bXT27NlYLBYyMjJIT09n2rRp8gjsU089JetgaWkpd+7ckUenQ0ND2bJlS5s87tixQ9bd4OBgxo0bB7SMmpW8p6amqr7b4qr9TJkyBZ1Oh5+fnxwQ9O3bFyFaNrEWFRVx9uxZIiMjVW3flrfffhuj0YgQgoCAACwWi2ovmtVqJTk5WeYvNTVVVZ7Hjx9n4MCB6PV6AgICGDt2rFzmmDhxokxjYWEhAM8884xs1x9++CHQsnlYOaAQHBxMfn4+dXV17Ny5U9YDZe9jUVERJpMJDw8PuazlynbOnj2bbt26IYQgPj6e3bt3c/HiRVluXbp0ITk52enH1RoaGjAajXh7e3Px4kXVPXfq/MaNG4mIiMBgMDBy5Eg2b96M0Wh0uin8YfOPdeL3xRdf4OPjoyrga9euMWTIkDZLIxoaGhodSX5+vmrJqKmpiXPnzhEUFCQHYBoa94vtpuB/Gv9YYTJv3jw8PDxUU2onTpwgNjZWdQ5cQ0NDo6NJS0sjOjpaLoM1Nzezb98+fHx87M5kaGi4w549eygqKiIoKMjhTP4/gX+sMLFarUycOJHQ0FBCQ0Mxm8307duX4uLih+LETkND49/LTz/9xNChQ+nWrRsRERGYzWaeeeaZx8rFgMbfD29vb6Kjo//xns7/scJEQ0NDQ0ND4++HJkw0NDQ0NDQ0Hhs0YaKhoaGhoaHx2KAJEw0NDQ0NDY3HBk2YaGhoaGhoaDw2aMJEQ0NDQ0ND47FBEyYaGhoaGhoajw0PVZjU19ezc+dOioqKHDpK+rvxqPLkTrwff/wxBw4ceGhp0vj7UVNTw2effUZhYaHKj1RHceTIEdauXdvGy3JHcu7cOTZv3szKlSsd+lix5euvv+bTTz+lrKys09Klcf/8+eefbN26lWXLlnH48OFHnRyNh8xDFSY1NTW89tprGAyGf8zndB9VnlzFW19fj6enZxtnb/92RowYQa9evbSP7P3/VFZW8uyzzyKE4Lvvvuvw8Ldt20Zqaio6na7Dw1Y4cOAA06ZNa+Ok0BHNzc0sXrwYg8HA6NGj5fVly5bRtWtXTp8+7Va87X3+34rig8loNEqHea6wWq0sWLCgjfPMzqakpITExET0er1TT8UancsjWcoJDw9/KJ14cnJypxhbezysPLkb79atWzEYDNy+ffuhp+lxJi0tjfj4+Hb95kHrUWFhoXQAFhMTQ0JCAgkJCYSFhbXxqv0oULxAd0Rbsfeu8vPzO1WYQItnbneFiUJ4eLhKmMybNw+j0ejQY7Qt7X3+30h1dTUGg4GCggJ27Nih8jTemu3bt0tHeAr2vHrfD7Nnz3YrjOLiYgwGAxs2bGDLli1uz74542H2Qf8kHAqTu3fvcv36ddW1Gzdu0NDQ8MCRPoxOvLq6GiHEQ/sE9OMmTKZNm8awYcMeenoed5qamto1W9JR9cieO/djx47h7e39QOF2BIowOXjw4AOF4+hd5efn4+np+UBhu6IjhAm0eGdtD+19vjPt6uPIu+++ixBC+gxyxOjRo8nMzFRdU4TJW2+9dd/x3759m/DwcAoKClw++/TTT5OQkHDfcdnysPugfxJ2hcnmzZvx8vLCbDbLaxkZGQghmDFjBgC7d+8mNjaWrl27cvDgQbKzszEajURGRrb5jv+PP/7IgAEDiI+PJyoqCp1Op+pMGxsbKSgoICkpifDwcDIzM6W76uLiYuLj4xk8eDA//vgj6enpsvJ8/fXX9OnTh/79+xMbG0t2djaNjY1UVFQQEhKCEAIvLy/0ej0LFiwAoKysjOzsbPz9/TGZTIwYMUIaioKCgv+PvXP/i6ra//+/sbjNMMggONyHkdswAiKCKSYcreRglkcoDQ28cbylZJqGZhdNOxZKqaEdL6R5UrzkRy2tJEFT0mMZmoGoaIkXLs/vD3xnxR7mBqJZZz8fD39gz3bttd7rvd7rtS57L4xGIzk5OZSXl5OWloZOpyMlJaXLMdauymSLs+f2pi2tREVF8e677yps/Prrr9O/f39CQkJIS0ujqqpK/v7Pf/4Tk8lESUkJ5eXlmEwmWdfdKUt5eTkWi4WMjAzeeecdIiMjCQgIIC8vT+5hmD17NiaTiaKiIqZNm0ZAQABhYWEsWrSIe/fuucyPM38BaGpqYvLkyXJWYsCAAVRXV7Nv3z5mzZpFYWGhvLexsZFFixYRHx+PVqulf//+bNmyBcCpH7nKgy32hAl0LLndT3mzs7MxGAyUlJRQUlJCTEwMfn5+jB07VtHZtbW18cYbb2CxWIiJicFoNPLRRx8BvwuTTZs2MW7cOPz9/QkJCWH9+vUOy2OLM1sVFRXh5+fHnj17GDZsGDqdDrPZrPA/az4GDx5M//79sVgsLvd/lJeXk5iYSGJiImFhYV2ESWNjIxMnTiQxMZHQ0FDy8/O5deuW/L2zMPn+++8pLi4mLy9PcZS8I19ydH9jYyOTJk0iKiqKoKAgnn32WRoaGmT5XMVVcBzXuhMnTp48SVZWFvHx8RiNRt58802X6QNcuHCB7OxshgwZgsVi4bHHHuPMmTMO6+DUqVNkZmZiNBoJDg6muLhYtuHJkyej1WoRQiCEQKfT2U3jxRdflPdoNBo0Gg23bt2SwmThwoXMnj2bsLAw9Ho906ZNk//33r17lJaWMmTIEHQ6HcHBwcyfPx/oECUWiwUhBJ6enmg0GsWJz1Zu375NcnIyHh4eMh/Z2dlAh7h48cUXCQsLQ6fTkZaWRnV1tfy/jtqVs/Zgi7O26ez53fGHPxsOZ0yefvppoqKiFNc0Go10ips3bzJz5kyEEBQWFnL69GnOnTtHbGws0dHR8v8cPHgQb29vPv30U6BjhGEwGBSd6eTJk8nJyaG1tZVbt25hNpulA12+fJmcnBxCQkKIj49n4sSJzJ8/n+bmZnQ6HevWrQM6AoKXlxe3b98G4NNPP0UIoZg6vHv3LkVFRezevZva2lo2b96MEIKlS5cCcPHiRTIyMtBqtaxYsYK6ujoOHTqEl5cXBQUF3SpTZ1w9tzdtCR1BVgjB2bNn5bWCggLMZjPXrl2jtbWV/Px8NBoNFy5cADpG7yaTiZiYGJKSkigoKKCsrKzbZfnll18YO3YsQgjKy8u5cuUKmzdvxtvbW46Izpw5Q3R0NKGhoRw5coTLly8zb948hBByZOMsP8785e7duyQkJDBt2jTa29tpbm5Gr9ezb98+Dh8+zIABAxQBcuvWraxatYqqqiqqq6vJyspCp9M59SNXebCHrTDZuXOnot56Wt6amhr0ej1Go5Ft27bxyy+/sGLFCoQQbN68Wab/4osvMnjwYH799VcARo0aJQOlVZg899xz1NTU8NNPPzF06FD0ej137951WCZbHNmqqKgIIQTLly/nxx9/5NtvvyUwMJCnnnpK3lNeXk5ERATXrl0DID8/H51O12V2wUpJSQkGg0EKNOvo1CpM7t69S3x8PG+//TYAZ8+excvLi4ULF8o0OguTH3/8kTFjxiCEkILJmS/Zu9/aEebl5dHW1saNGzewWCwkJCTImRVXcdVZXHM3Tpw7dw5fX1++/vprADZs2IAQggMHDriMm5mZmeTl5QEde3FSUlLYu3ev3TqwPqe0tBToEEM6nY6pU6fKe5YtW+bWjElycjIjRoxQXLMKk9TUVA4ePMjly5eZNWsWQgi5Ifb06dO8/PLLHDlyhDNnzvDSSy8hhJCb/puamhBC8Nprrzl9PsDf/va3LjMmS5cuZdOmTXz33XccPnyY8PBwsrKy5O/O2pWj9mCLszScPd9df/gz0mNhArB27douo8A5c+YghJAN0WKxdJmi67z8cObMGYQQVFRUyN+nT5+Op6enVN7WTqvzCPDatWsIIRg7dqys0Lq6OjlN765TmEwmJkyYIP/Ozc3tsu4/cOBAMjIy5N+uyuQOts/tDVtaeffddxV1V1NTgxBCMYNy9uxZhBC89NJL8lpqaippaWlul8FRWV5++WWEEHIUBjBhwgSEENTV1QEdI8Vhw4bJ31tbWzEajYrRpL38uPKX0tJShBDU19fL38vLy+VzCwoKHI7crPcKITh//jxg34/c8VlbrMKkX79+BAcH06dPny711pPyAgQHByvSunHjBkIIXn31VUUaW7dulfccOXJETjFbhUnnMr777rsIIaRwdQdXwqQzY8eOxWg0Ah0jxpCQEIqKiuTv27ZtQwjBoUOHujzn4sWLaDQaxfS87VKO1Q86d4hms5nHH39c/m27lGMV2Vah4cqXbO+32uzkyZPy/nXr1iGE4LPPPgNcx1VXcc2dODF+/HhFB9vQ0IAQgiVLlrhMPykpiZiYGFnvV65ccbjMNHbsWIKCghTLWXl5eXh5eUmB2RvCpLOoOHnyJEIINm7caDeduro6hBB8+OGHwP0LE1smT55MeHg44LpdudMHuUrD2fPBPX/4M9LrwuS1115DCMGNGzf4+eefu3R+oOxMN27ciBACi8VCeno66enpxMfHExkZKTs2qzDp3NEBzJgxAyEEAQEBzJs3j6tXr8rfHDnFrVu3KC0tJScnh4yMDHx9fRXByZ4wGTFiBAMHDgRwq0z2cPXc3rClldGjRytGLda0d+/eLa+1t7fj6empGLWmpqYqxEJPy2JPmFhH8dYGZytMoGNZwsPDw2l+XPnLpEmT0Gq1DvNuT5hUVVUxc+ZMhg8fjtlsRgjB6dOnAft+5I7P2mI7Y7J161a7wqS75YWuwgRACMGcOXMA+OijjxSjTFvsCRPr/+ncybqiO8Jk0qRJBAQEAB3LB0IIIiIiZBmTkpIIDw+3u3Hw448/VnT20FWY5OfnI4SQ6aWnp2MymXjmmWfk/3ElTFz5ku39ubm5CCH47bff5D1HjhxBCMFbb70FuBdXncU1V3ECwGg04u/vL8udlpZGeHi4fGXbWfpbtmzB09MTb29vxo8fT21trcPyBwcHk5qaqrhWUlKi8LXeFiY//fRTl0HWxYsXKSkpISsrSy6Nvffee0DvCJOdO3cyYcIEMjIyCA0NJSgoCHDdrtwRJq7ScPZ8cM8f/ow8MGHS1NTEuXPnEEJ0eUWsc2dqDTLOXs1yJEygY79DZmYmQgjCwsK4dOkSYN8pmpqaSEpKIiUlRXY88fHxbgmT5ORkALfKZIs7z+0NW0LHdLJOp1PY88MPP0QIwa5duxT/V6PRKHbCuyNM3CmLPWHyxhtvIISgpqYGsC9MnnjiCfR6vdP8uPKX8ePHd5ld64ytMPnggw/w8vLinXfeobm5ma1bt7oUJu74rC22wuTmzZvyGfdTXnAsTKy+Yh35O5qSdyZMrPXlDt0VJta6torumTNnuvWcsrIyhBBySRO6CpPCwkKEEHLkbg9XwsSVL9neb50V7NwhfPXVVwjx+5sl7sRVcBzXXMUJgJiYGBITEx2W21n60LGs+MILL+Dt7Y2Pj4/D7ySFh4fLAZsVazu3CsoHJUxWr14NdAwqAgMDmThxIg0NDdTX1/eqMHnhhRcICAigsrKStrY2pk2bJoWBq3bljjBxlYaz54N7/vBnxKEwmThxIgaDQXGtu8KkubkZb29vRo4cqUinc2daXV3tMijZEyZNTU2KyrQGiXfeeQf43Sk6TwVbp+m3b98ur3VXmLhTJlvceW5v2BI6NrZ5enoqguOxY8cQQsj1dvi9M+i85u6OMHGnLI6WciIiIuT0oq0waWtrIzIyUq5vO8qPK39ZsmQJQgiHwdRWmJhMJsXrw46ESWc/csdnbXG0+bUzPSkvuBYmhw4dQgjhcPNdbwsT2+UXV8Kkvb0dvV5PcnKyW29Mff755wihfFvDVpisWrXKpaBzJUxc+ZLt/cuXL0cIwfHjx+U9VmF54MABwHVcdRXX3OmIxowZg4+Pj2IJyoqr9Hfs2CH3FX333XcEBASQk5Njt/yjRo1Cr9crli8LCwvRarXcvHkT6J4w6bzMBu4Jk8mTJyOEkBvrHQmTJUuWOH0+dBUm1mWhGTNmyGudhYGrduWoPXTGWRqung//g8LEOvVeWVnJlStX2LBhA56enhQUFEhHdMco1qBUUVFBW1sb+/btQ6vVKgJpZmYmPj4+fPTRRzQ2NnLixAnpeGBfmNTU1KDVaqXDX758GSF+n97du3evDF5VVVUcPXqU/fv3I4SguLgY6HjDJSAgoFvCxN0ydcad5/aWLefPn29XXKSlpWEymWQDnjlzJmFhYQrndUeYuFMWqzCxjjS/+eYbtFqtYp+EdYrZyqpVq/D391fsaXCUH2f+Ul9fj5+fH7GxsXz11Vc0Njayc+dOvvvuO6CrMHnsscfQ6/X88ssvNDc3U1BQoBAm9vzIVR7s0VNh4s6zXAmT9vZ2+YbZtm3baGxs5NixY+zZswdwT5i0tbURGxvb5fXazjiylSthAr8vAcydO5dLly7xww8/sHz5cruzFa2trSQmJhISEsKpU6e4d++eFAVWYdLU1ETfvn0xGo0cPnyYq1evsm/fPoUPuhImrnzJ9v6GhgZ0Oh1jx46lpaWF5uZm0tPT5Rse4Dquuopr7sQJ6/JRZmYmtbW11NfXs3HjRk6cOOEyfb1eL5d829raMJvNXZaPrezZswchBCtXrgQ6xGHfvn0VX/l1V5ikp6djNBqpqamhsrKSmzdvuiVMXnnlFWnP9vZ2OTtsFSbNzc0I0bGnpqamRvq8PWyFya1bt/D29mbYsGHcvXuXy5cvM3jwYCkMXLUrR+2hM87ScPV8+B8UJjdu3CA7OxudTkf//v3517/+RV5eHn5+fmzbto1jx44RHh6OEAKz2UxjYyOVlZUYDAaEECQlJdHc3MytW7eYMmUKgYGBhIeHs2TJEp566ikCAwPla5lNTU1MnDgRf39/fH19GTFiBPv37wfgzTffJCgoCCE6dmc///zzQMemrPHjxxMXF8ewYcNITU2Vqt+a/9TUVDQaDSkpKfJZc+fORa/XEx0dTXFxMTk5OQQGBrJp0ybWrFmDv78/np6ejB07FujYFa3T6dBoNOTn5wO4VSZbnD23N22ZmJgo35DpzLVr18jLyyMoKIi4uDjGjRsnN/FBx3cEtFotfn5+XWzZnbLA78LEbDYzaNAg0tLS5IjRSnp6Or6+vgwYMIDExERGjx6t+FCVs/w48xfo2CA3dOhQNBoNwcHBFBUV0dTURHFxMUFBQXh4eDB06FBu377NiRMnSE5Oxt/fn6ysLNatW4eXl5dcO3fkR67y0Jk33ngDPz8/hBD07dsXs9ncZe9GT8v7wgsv4Onpib+/P8uXLwfg73//O0IIAgMDWbNmDQBXr14lLy+PPn360KdPH55++mlqa2v5+eefMZlMCCGIjo6mtraWb775hoiICIQQxMXFceHCBdrb24mPj0cI4fCjffZs9dlnn8mPyw0ZMgTomL7W6/V4eHjIpcS2tjaWLVtGaGgoPj4+DBgwgDVr1jicQblw4QKjRo1Cp9NhsVjYunUrer2eyMhI+aZObW0tw4cPR6PR0LdvX3Jzc+VvqampeHl50adPH/Ly8ti6dau0g8VikWv+jnzJ0f2nTp1i6NChGAwGzGYz8+bNU7yi7CquOotr7sYJ6PhgWXx8PN7e3kRGRjJ37lxu3rzpMm7OmTMHs9ksBw5Tp05V5N+W5XrswwAAIABJREFU7du3ExsbS0REBElJSZSVlck6e/XVV2XdR0dHs2rVKofplJWV4efnh8FgYOLEiTQ2NjJy5EiEEBgMBjZt2sTdu3fl67+hoaF88sknXL9+ndGjR6PT6Rg0aBAbN26kX79+mEwmKSAnT56MRqPBZDIpZog788QTT6DVavH29sZisci9cJs2bSIiIgKDwUBeXh6vvPIKPj4+zJo1C3Dcrqx1bS922OIsDWfP744//NlQD/H7C2Ed/XSeSv4jsAoTZ9Py6enpXdaUVR5tdu7cSZ8+ff7obKioqPzFUYXJX4iPPvqIwMBA2tra/tB82NtjYou9za8qjzYffvghzz333B+dDRUVlb84qjBR6VU++OAD+cXDIUOGKF5RtjJ9+nR0Oh06nY4RI0YolpRUHk3u3LnD4MGD+emnn/7orKioqPzFUYWJioqKW/xZ16tVVFT+XKjCREVFRUVFReWRQRUmKioqKioqKo8MqjBRUVFRUVFReWRQhYmKioqKiorKI4MqTFRUVFRUVFQeGVRhoqKioqKiovLIoAqTPyH79+9nw4YNfPjhh3Z/v3HjBp999hmlpaUODyD7X6C6upoNGzYozu5Q+WOpq6ujoqKCd955Rx709leiurqazZs3U1ZW9tCe15s+3t7ezoEDBygrK3N4xEJvcPr0aYqLixk/frzifCyVR5M1a9YwZcoUeezFg+a+hMlXX31FVlYWfn5+8sAw6DiBNikpCY1G062j4f9s3LhxA6PRSFFR0UN7Znt7OyUlJZjN5i6HDVqpq6tj0aJF6HQ6xeFuK1euJDAwkB9++MHpM44ePYper2fr1q29mfWHzs6dO0lNTcXT0/OPzorK/+fIkSM8+eSTioMSoeNE3AEDBrh1unBPeRjttby8HLPZrDhoDTo+ULdo0SKioqLw8fFxeaidu/S2j7e2trJ48WJ0Oh0TJkzolTTtUV9fT3FxMUIIvvzyywf2nN6iqKgIrVb7R2fjD+PIkSNERETIs60eND0WJqdPn0an01FSUsJ//vMfeTLpxo0b0el0fPzxx3zyySdOT1N1h6tXr6LRaO4rjQdFQ0MDfn5+imOpHxYTJkxwKEyshIeHdzl52M/PT3FY3q5du7o42+7du/Hw8HgowqQ363fgwIFdglxRUdFfWpjYK3N3mTNnDsuWLeulHLnGegJsZ2EyePBgEhISHuhzHbXX3rBhZyZMmNBFmLzwwgsMGDCATz/9lE2bNvHbb785TcN64nN8fDzx8fH4+vri5eUl//b09GT9+vXAg/Hx4ODgBypM4Pcy/hmEycKFCwkJCVFce9jtpjfpic9bLJZHX5i89dZbdo+zfuqppxRHR98v7733Xpcj0x8EbW1tXcpy+/Ztl0dHt7a2PshsOaQnwgS65nfcuHFkZmZ2+b8Pq1y9Vb+nT59GCCFPBbVSVFSEl5fXfaf/KOKozN3hzp07hIeHU1JS0os5c449YdLW1vZAZ0us2Pp1b9jQFnvCRKvVdmum5oMPPiA+Pl7+PWLECMLDw+XfnU8FfhA+rgoTJW+//TZms1n+/Ue0m96ipz7/SAiTyspKsrOzCQgIQK/XM2bMGK5fvw50HCOt1WoRQiCEQKfTcfv2bZKTk/Hw8JDXs7OzZXoVFRUMHjyY/v37Y7FYqKyslL81NTUxefJkLBYLYWFhDBgwgOrqasrKyvD19UUIgUajQaPRKP4fQFVVlTxSPioqirNnz/Lbb7/JI8mfeeYZAFpaWnj99dfp378/ISEhpKWlUVVVBcCPP/5I3759EULIc1uKi4vx8PBQOKMtpaWlTJ06VR7nvWfPHuLi4ggMDOTo0aNkZ2fj5+eH0WjkP//5j8N07t27R2lpKUOGDEGn0xEcHMz8+fMV9/zyyy/k5uYSGxuL2WzG19e3izA5fvw4GRkZJCQk0L9/fzw9PaUw+f777ykuLiYvL4+ff/4ZgBdffFHWldW+jY2NLF68mPz8fMUaszP7Xb58maSkJPr06UNFRQWFhYUYDAaCgoJYvHixw3I7q9/GxkYmTZpEVFQUQUFBPPvsszQ0NNhNp6qqSp7P4+3tjUajYcGCBUBH0Pbz82PPnj0MGzYMnU6H2WyWebfizD9t+fzzzxkyZAjDhg0jLi6O7OxsWlpayM7ORgiBXq+Xa/4fffQRQgg+/vhjAFatWoVer6dPnz7s3LnT5bMbGxuZOHEiiYmJhIaGkp+fz61bt5yW2ZYLFy6QnZ3NkCFDsFgsPPbYY5w5c4Y7d+7IY+Q9PT3RaDQMHTrUZX0D/POf/8RkMlFSUkJ5eTkmk4mpU6cSGhqKEIKgoCBZ5nHjxsmj6pubm7sIk3379jFr1iwKCwuB7vmTI/vYw7a9OrOhozq22qakpITk5GTCw8PJzMzk3Llz8jmdhcnx48eJioqS7UwI4dZ+kLfffpvx48fLv22FSWFhobTFg/Dx4OBgnnzySZ577jl0Oh1RUVHSblZOnTpFZmYmRqOR4OBgiouLuXfvnvzdlQ/ZCpNx48bh7e0tZ+I7c/36dSIiIhBCEB4eLmfoJ02ahBCCS5cuAZCXl4ePjw9hYWHU1dX1WtwqKytjyJAhAE7bjT1OnjxJVlYW8fHxGI1G3nzzTdra2mR5DAYDn332GQDPPvssHh4ehIeHc+vWLae+VlJSgtFoJCcnh/LyctLS0tDpdKSkpPDf//7Xbl6c+byzPh+UwuT//u//CA8PRwhBdHS0jM3d8TFn2BUmd+/epaioiN27d1NbW8vmzZsRQrB06VJ5z7Jly+zOmPztb3/rMmNSXl5OREQE165dAyA/Px+dTsf169e5e/cuCQkJTJs2jfb2dpqbm9Hr9XLT5uzZs12OqN9//32EEDLQA3zyySeEhITIk3YLCgowm81cu3aN1tZW8vPz0Wg0cuPV6tWrEUIoDil78sknFaMWW9avX4+/v78UYDdv3mTmzJkIISgsLOT06dOcO3eO2NhYoqOjHaZz+vRpXn75ZY4cOcKZM2d46aWXEELwxRdfAB3B12AwMGfOHDmqHDdunEKYHDx4EG9vbz799FOgY2RoMBikMPnxxx8ZM2YMQghFcEhOTmbEiBHy79u3bzN//vwuAdSZ/VpaWti0aRNCCIYPH86RI0e4dOkS//jHPxBCcPHiRYdlt1e/1oafl5dHW1sbN27cwGKxkJCQ4HAm59NPP0UIIQOWlaKiIoQQLF++nB9//JFvv/2WwMBAnnrqKXmPM/+0pbm5GZ1Ox7p164COuvHy8uL27du0t7cTGhqqmKV67rnnuow+c3NzZZB31Tbi4+N5++23ATh79ixeXl4sXLjQaZltyczMJC8vD+jYo5SSksLevXuBjkGBEILXXntN8X9ctZfvvvsOk8lETEwMSUlJFBQUUFZWRm1tLUIIZs2aJdNqbGzEw8OD2tpaoOuMyeHDhxkwYAA6nQ7AbX9yZR9bbNurIxs6q2PoGJjl5OTQ2trKrVu3MJvNio7J3oyJp6dnt2ZMdu7cqYhntsJk7969bNmyBeh9H4cOYdK/f3+++OILfvzxR/Ly8hBCUF5eDsC5c+fw9fWltLQU6Oh8dTodU6dOlWm48iFbYfKf//yH/v37K5aaO/P9998jhGDt2rXyWnx8PDqdTvEiQGhoKNXV1S7z0J24tW3bNkaPHi3/dtRubLHa6euvvwZgw4YNCCE4cOAA//3vfxFCMHPmTHn/lStX8PT0lDZy5msXL14kIyMDrVbLihUrqKur49ChQ3h5eVFQUOAwT/Z83p0+v7MwaW5u5vHHH+fVV1+Vv3fXx5zh9lKOyWRSBFd3hUlbWxshISGKRrlt2zaEEBw6dIjS0lKEENTX1ysKaJ25cEeYXL16FW9vbyZNmiSvTZ48WT6zpqYGIQTvvvuu/P3s2bMIIXjppZeAngkTgOjoaEWgW7t2LUIIxd6aOXPmIIRwe3mkrq4OIYRsbDNmzECn0ylGgrZLORaLpcuSjO1SjtXZnAkTgEuXLimEiTv2sxc0du3ahRCCgwcPOiyrvfp99913EUJw8uRJeW3dunUIIeTIwhZXwqQzY8eOxWg0Aq7905Zr164hhGDs2LH8+uuvQEd9WQXj9OnTCQoKkksTBoOB2bNnYzAYaG9vl9fOnz/vdtvo3MbMZjOPP/640zLbkpSURExMjAx2V65ckQfy2Quw7tQ3dCwnpKWldXleSkoKUVFR8u/y8nJFTLC3lFNQUCCFCbjnT67sYw/b9mrPhs7q+MyZMwghqKiokPdPnz4dT09POVvQG8LEFlth0pne9nHoupRz48YNfH19ZawYO3YsQUFBipiWl5eHl5cX165dc8uHOguTQ4cOERsb61CUWDGbzXIW/PTp06SlpTFs2DDGjRsnr1nt1Jtx69dff1UIFXeFyfjx4xW+39DQgBCCJUuWAB2Dhs4D6HXr1kn/dcfXcnNzu8ycDxw4kIyMDId5cjdu2Pb5VmHS0tLC3//+dxYtWiR/64mPOcOhMLl16xalpaXk5OSQkZGBr6+vrHxwX5hcuHABIQQRERGkp6eTnp5OUlIS4eHhfPnll0yaNMnpbmd3hAl07Oq3NhTryNU642AVC7t375b3t7e34+npKUcVD1KYvPbaawghuHHjhsN0Ll68SElJCVlZWaSnpyOE4L333gMgJiaGQYMGKe7vLEx+/vnnLp0G9J4wccd+9hr44cOHEUKwa9cuh+W2V7+5ubkIIRQbBI8cOYIQgrfeestuOt0RJpMmTSIgIABw7Z/2mDFjBkIIAgICmDdvHlevXpW/HThwQNr422+/JTk5mYMHD8prNTU1cnnQ1bPz8/MRQsjf0tPTMZlMMjC7G2C2bNmCp6cn3t7ejB8/Xs5cgP0A6059Q4cwGTZsWJfnrVq1SiEsc3NzFSOvngoTW39yZR97uCNMwHEdb9y4ESEEFotFPjM+Pp7IyEi51PMoCJP79XF7e0wsFguRkZHy99TUVMXvJSUlCCH45ptv3PIhqzD517/+hV6vx2QyOVyGs7Jw4UL0ej0tLS2sXLmS2bNn8+qrr8prq1evZvr06cCDjVvuChOj0Yi/v7+0e1paGuHh4TK2/vvf/1Z03qNGjWLjxo2Ae75mT5iMGDGCgQMHOsyTI5931edbLBZGjhzJ888/jxBCzpZBz3zMGXaFSVNTE0lJSaSkpMjgER8f3yNhYu00O09XdWb8+PEIIRweqe6uMLE6+ZEjRzhx4gTh4eFyFGsNhLaOptFo5NTUwxAmjjbSVlVVERgYyMSJE2loaKC+vl4hTEJDQ0lOTlb8n87C5Ny5cwghFK9sQ+8JE3fs56yBW5eX7GGvfidMmNBFyH311VcIIRzugu+uMNHr9YBr/3REZWUlmZmZCCEICwuTa9z37t0jICCA119/nTfeeIOXX36Ze/fu4e/vz7Jly1ixYgXFxcVuPbuwsBAhhJwadbfM9vjuu+944YUX8Pb2xsfHRy6V2guw7tQ3OBYm9fX1eHp6UlJSQmtrK3379lXswbhfYWL1J1f2sYe7wgTs1/HHH3+MEMLpZxAeFWFyPz5uT5jExsbK2B4eHt6l83vjjTfkDIg7PmSN2RaLhWPHjqHVapk7d67TfFVVVSGE4OjRozzxxBPs3buXr7/+Wj43Oztb7mt4kHHLXWESExNDYmKiw9/v3LlDYGAgU6dO5fr16+j1ejlL546vORImtv1FZ+z5vDt9vsViwcvLi9WrV1NYWEifPn1k3OtpHHWEXWFSXl6OEILt27fLaz0VJu3t7ej1epKTk+3uul+yZAlCCIcfArN2XK527N++fRu9Xs+8efNYvnw5c+bMkb8dO3YMIYRci4bfDWldj16/fj1CCMVo8mEJk8mTJyOE4MqVKwBdhMmwYcPw9/dXiLfOwqS5uRlvb29GjhypSNddYWI79W0rTNyx3/0Kk871u3z5coQQHD9+XF6zNtIDBw7YTcfa2GynDV0FbVf+aUtTU5PcnwG/29T6hgTAxIkTGTlyJE8++aRs/OPGjWPkyJFkZ2fLEYSrZ1tnHhwFJkdltmXHjh3cvXsX6BAoAQEB5OTkyPKITlPL4F59g2NhAh1tJzU1lWPHjnXpwHpLmLiyjz0cCZPONnRWx9XV1S4DcHeEibtvIt2PMOmuj0NXYdLU1ISPj4/clD9q1Cj0er1is2thYSFarZabN2+65UOdB5PQESc9PDwU7d4ekZGRlJSU0K9fP5qbm2lra8NgMLB06VJCQ0PlXqAHGbfstRt7jBkzBh8fH8VWBVusS72bNm3ihRdekNfd8bX7ESadfd6dPr/zdoGrV68SFBTE3//+d6BnPuYMu8Jk//79CCHkyO748eMEBAT0SJjA71N8c+fO5dKlS/zwww8sX76c5uZm6uvr8fPzIzY2lq+++orGxkZ27tzJd999B8DLL7+MEIL9+/fzxRdfcPbsWYeFKSwsJC4ujszMzC7OnZaWhslkkp3/zJkzCQsLk2LBqsRfffVVGhsb+fzzz4mMjCQuLk46uj16Q5i88sorCCGorKykvb1dBm6rMLE24Llz53Lnzh3OnTtHXFycwiGtwamiooK2tjb27duHVqt1KUzS09MxGo3U1NRQWVnJzZs3uwgTd+zX0wZur34bGhrQ6XSMHTuWlpYWmpubSU9PV9jZlr179yKE4PXXX6eqqoqjR48q7NKZzkEbnPunLTU1NWi1Wun3ly9fRgjl3pcdO3bQp08foqKiZODeuHEjAQEBxMTEKNblnT27qamJvn37YjQaOXz4MFevXmXfvn1yzdlRmW3R6/VyOrutrQ2z2SyX/ZqbmxGiYz9FTU0Ne/bsAVzXNzgXJlYhOXXqVEXHAL0nTFzZxx627dWeDV3VcWZmJj4+Pnz00Uc0NjZy4sQJVq9eLdN0V5hkZmYSGRnJnTt3HObXyv0IE+iej0OHMLG+FdTe3s6MGTOIiIiQs5h79uxBCMHKlSsBOH/+PH379u1WzLDd/Hr79m369+9PYmKiQvDYMnPmTEwmE08++aS8lp+fj8lkYuzYsYp7H1TcctRubLEuQWdmZlJbW0t9fT0bN27kxIkT8h7rXpLY2Ngu+/Fc+VpPhIk9n3enz7d9XbisrAwhhPzeVXd9zBkO95jMnTsXvV5PdHQ0xcXF5OTkEBgYyKZNm3j11VcJDAxEiI5XhaxvGDzxxBNotVq8vb2xWCxSCbe1tbFs2TJCQ0Px8fFhwIABrFmzRiqrkydPMnToUDQaDcHBwRQVFSkEQ3h4ODqdjlGjRvHtt986LIzVCex9R+XatWvk5eURFBREXFwc48aNkxtsrcybN4++ffsSFBTEzJkzefvtt9FqtYo3DDqTlZWFj48P/v7+TJkyhWPHjslXqMxmM42NjVRWVmIwGBBCkJSUZLeSrl+/zujRo9HpdAwaNIiNGzfSr18/TCaTFGirV68mMjKSgIAAnn/+eRYsWIBWq5XLN7du3WLKlCkEBgYSHh7OkiVLeOqppwgMDGTLli1s3bpVvkJtsVj45ptvgA7n8vPzw2AwMHHiRI4dO0ZKSgpCdKwXWhusM/s1NzeTkJAgp7z3799PfX09MTExCNHxGvexY8fs2tBR/Z46dYqhQ4diMBgwm83MmzfP6frzjRs3SE1NRaPRkJKSwpYtW/jss8+kn1pf9SstLUWv1+Ph4SEbmSv/7MyVK1cYP348cXFxDBs2TPE9CSvNzc34+vry9NNPy2vWTW+dR0TuPLu2tpbhw4ej0Wjo27cvubm5clnEXpntMWfOHMxms1zjnjp1qsKWkydPRqPRYDKZ5EjSVXsZN24cWq0WPz8/hzbw8/PDx8dHvp4OHTOTYWFhCCGIi4vj8OHDFBcXExQUhIeHB0OHDuXatWtu+5Mz+9hi214d2dBVHTc1NTFx4kT8/f3lhlDrq/UzZszA398fDw8PBg0aRG1trXy1tE+fPgwcOFDunRo4cCCpqalON8V/+OGHpKSkoNVq8fT0ZMCAAUyePFn+/iB8HDoGeeHh4SQnJ2OxWHj++ee7DEK3b99ObGwsERERJCUlUVZWpkjPmQ+dOXNGxsqoqCjOnDnD3r17CQgIkP2Ko4/QHTp0CCGEooPevn07Qgg2bNiguPdBxS2w327ssWvXLuLj4/H29iYyMpK5c+d2OY7hsccew2g0dqkPZ762Zs0a/P398fT0lIJs6dKl6HQ6NBoN+fn5dvPjKG446/OLiorw9vZWfI/H+gVnnU7HypUru+1jzvjLnZUzbdo0hfpVUVH5Y9i6dWuXD/ypqKiouOIvIUwaGxvZt28fxcXFxMfHO116UVFRebDs3buX0tJSDAaDYs+WioqKijv8JYTJ0aNH8fHxYejQofd9No+Kisr94ePjQ0xMjNOvHauoqKg44i8hTFRUVFRUVFT+GqjCREVFRUVFReWRQRUmKioqKioqKo8MqjBRUVFRUVFReWRQhYmKioqKiorKI4MqTFRUVFRUVFQeGVRhoqKioqKiovLI8D8lTPbt28f777/Ptm3bepzGzZs32b17N2vWrOHMmTO9kq8TJ07w8ccfs3LlSoefYf5f469uk/3797NhwwY+/PDDXk33t99+Y8eOHaxcuVIeO6Bin96IB38E1dXVbN68mbKysj86K73Cn9Fn6+rqqKio4J133pGfl/+r1csfyf+UMFm1ahX9+vVTHETUXerq6pg+fbrikL37ZdOmTTzxxBNdDv/7X+bPbpMxY8YwYMAAu+dEtLe3U1JSgtls7nIA1/3S2NjIggULEEKwbNmyXk27tzl69Ch6vV4eAvaw6Y140FOc+YcrysvLMZvNXQ4K/LPyZ/BZW189cuSIPCvGehjln7Febty4gdFotHvy9R/J/5Qwga4nJPaE8+fP96owgd9PXH2QnfCcOXMe2YZvj57a5P/+7//Izs4mKSmJxMREjEYjo0aN6rUZLncYPHgwCQkJTu+ZMGFCrwsT6Aj0j3KQt7J79248PDweijC5evUqGo2my/XeiAedWbNmjTy002QysX79erv32fMPe+3TUb7tnWDsLkOGDEEIgY+PD88995y8PmXKFHQ6HXq9nk2bNvUobXfYtWtXF5v3ls/2Royzlz97vmrvlOz7qZc/goaGBvz8/JgxY8YfnRUFD1SYNDU1KY6vbmlp6XJC5cPGYrEwcuTI+0rjzyhM7ty5Q3h4OCUlJQ8k/QdBT2yyYsUKtFotO3fulNeqq6sRQvDFF188iGzapa2tzeVo+EELk9dff73X0+5tnJ2s25u89957CCG6XO+NeGDL6tWrEUJQU1Pj8B5b/3DUPh3l+347wOzsbHx9fbl8+bK89ttvv9GvXz+OHj3qdjrNzc2Kpdb29nYaGxud1uu4cePIzMxUXOsNn+2tGGcvf9DVV/8KwgQeXhvsDl2ESWtrK6GhoQghCAoK4uOPPwY6KksIQWhoKM3NzbS0tPD666/Tv39/QkJCSEtLo6qqSqaTnJyMEILy8nIAduzYgU6nQwhBQ0OD3cw0NjayaNEi4uPj0Wq19O/f3+FR7suXL8fLywsfHx/+8Y9/AB3LLEIICgsLAfjiiy8IDw/H09OTBQsWAB2BaPTo0axevRqz2YxOpyMrK4urV6/KtF2VzZ4waWlpoaSkhOTkZMLDw8nMzHR4/Dp0NKIFCxYQFxdHYmKiPO7b2gk7s0Vubi5CCHx9fZk1axYAK1euxNfXFz8/vy6B5c6dO/LodU9PTzQaDUOHDpW/79ixA4vFQkREBNHR0bLO7LFx40YSEhIYNWoUx48fJy0tDYvFIn+vqKhg8ODB9O/fH4vFQmVlpfytsrKS7OxsAgIC0Ov1jBkzhuvXr7ttE1ecOHECIQRz5sxRXG9vb2fo0KGcPXtW2nbSpElERUURFBTEs88+K33y8uXLJCUl0adPHyoqKigsLMRgMBAUFMTixYtlmrdv32bGjBmkpKQwePBgLBYL27dvBzr2LsyaNUv6oZVffvmF3NxcYmNjMZvN+Pr6KoSJMx9yZffOWIP8woULmT17NmFhYej1eqZNm9blPkd22LNnD3FxcQQGBnL06FGys7Px8/PDaDR2OQPn1KlTZGZmYjQaCQ4Opri4WA5IHOW7ubmZxYsXk5+fL49xLykpwWg0kpOTQ3l5OWlpaeh0OlJSUvjvf/+rsNNrr73GwIEDGTRoEBaLhSVLlpCYmMj48eO72KOsrAxfX1+EEGg0GjQajfRLd+NBd9q2K2Fi6x+O2qezfNvrAE+ePElWVhbx8fEYjUbefPNNh3k8f/48Go2GKVOmyGvLli3j2WefVdznLDbMnj0bIQSTJ08G4MKFC4SEhCCEcLhv58UXX0QIoSjTrVu33PLZe/fuUVpaypAhQ9DpdAQHBzN//nynNrSHs7ZrL3+NjY1dfBV6JkyctWNnflZSUkJkZKSibWi1WpKTk6mqqmLu3LlERESg1+spKCiQoteZzQBKS0uZOnUqq1atAtyPfwD/+te/SElJ4bHHHiMmJoaFCxc6LHd3sTtjUltbixBCdnrQEcQ8PDzkaaEFBQWYzWauXbtGa2sr+fn5aDQaLly4AEBNTQ1CCD766COZxptvvokQgvr6eruZ2bp1K6tWraKqqorq6mqysrLQ6XQOTwvOzc0lJCRE/l1WVkZwcDARERHy2tq1axkzZoz822KxYDAY2Lx5M5cvX+bf//43QgjeeusteY+rstkTJpMnTyYnJ4fW1lZu3bqF2Wx22DDa29vJzMxk+PDh/Prrr8DvIyNrJ+zMFq2trYSEhJCUlKRId8CAAZSWltp9ZlNTE0IIXnvtNcX1zZs3o9FoqK6uBn5vbI4E4eXLl8nJySEkJIT4+HgmTpwoHb28vJyIiAiuXbsGQH5+PjqdjuvXr3P37l2KiorYvXs3tbW1bN68GSEES5cuddsmrpgxYwZCCI4fP+7wHmsAy8vLo62tjRs3bmCxWEhISKC1tZWWlhY2bdqEEILhw4dz5MgRLl26xD+hdJgLAAAgAElEQVT+8Q+EEFy8eBH4vRO1dsCzZ8/m5ZdfBuDw4cMMGDAAnU4nn9vY2IjBYGDOnDkyaIwbN04hTJz5kDO722IN8qmpqRw8eJDLly8za9YshBByc6ErO9y8eZOZM2dKoX/69GnOnTtHbGws0dHR8lnnzp3D19dX+t3JkyfR6XRMnTrVab5v377N/PnzEUKwYsUKAC5evEhGRgZarZYVK1ZQV1fHoUOH8PLyoqCgQD5z1qxZBAUFSfGwfv16hBC89NJLigFEZ6ydqC3uxIPutG1wLUzs+Yej9uko37YdoLUevv76awA2bNiAEIIDBw44zOcrr7yCp6cn33//PTdu3MBgMHD+/Hn5uzuxQa/XM2nSJPn3119/jRDC6fJccnIyI0aMUFxzx2dPnz7Nyy+/zJEjRzhz5gwvvfSSYibUkQ1tcdZ27eXPnq92tkd3hImzduzMz+rq6hg2bBi+vr6sXr2aixcvsn//fjw8POjfvz/79+/n559/pqioCCEEX375pVs2W79+Pf7+/mRnZwO4Hf+OHDmCEEIO9j799FPS09Od2r07OFzKSUlJISoqSv5dXl4ulZ1VdLz77rvy97Nnz8rg0Pme7ggTW8rLyxFCKBpLZ7Zt24YQglOnTgEdgX7u3LkKZxk3bpzizQeLxdKlUfTt25f8/Hy3y2YrTM6cOYMQgoqKCvl/pk+fjqenp2Ipy8r27dsRQnDkyBF5zdWyha0trOX86aefgI6g7unp6XA2yl6jbWlpoV+/fowdO1Zea29vJzQ0lEGDBtlNB2DevHkIIWhubpbX2traCAkJUWyistbPoUOH7KZjMpmYMGFCj21iy+OPP+50Rg7g3XffRQjByZMn5bV169YhhOCzzz4D4Pvvv0cIwdq1a+U9u3btQgjBwYMHgY7OUaPRyL9//fVXxSi7oKBA0fHMmDEDnU7HrVu35LXOSznu+JA9u9vDGuQ71/XJkycRQrBx40a37bB27dou9p8zZw5CCDn9O3bsWIKCghTTwXl5eXh5eUmB6ijfly5d6hLsc3NzuyxvDRw4kIyMDPm3xWJRBMHTp093qS9bnAkTZ/Ggu20b3FvKsfWP+xUm48ePV8ygNTQ0IIRgyZIlDvPQ3NxMZGQk48eP57XXXmP27NnyN3djQ28LE2c+a4t1htwa390VJq7arr382fPVni7l2GsP7viZvbYRHx+vWHaypvPBBx/YfbatzQCio6OlMAH34t/OnTsRQrB8+XLa2tpoaWnh0qVLTsvdHRwKk1WrVikCV25urhzdWgPW7t275f3t7e14enry1FNPAT0XJlVVVcycOZPhw4djNpu7VHxnfv31VzQaDStWrKC1tZWgoCDq6urktba2NoKCgvjll1/k/7EXiKKiomQDdKdstsJk48aNCCFkwExPTyc+Pp7IyEhaWlq65LuwsBAhhJwZAPudsDNbWPdNWAXU2rVrycrKcmhXe43W6oDz5s1T3JuZmYmvr6/DtKwNq3PZLly4gBCCiIgIaYOkpCTCw8Oler916xalpaXk5OSQkZGBr68v48aN65ZNnDF8+HCEENTV1Tm8x7oM1nld3Kr+raNkew3z8OHDCCHYtWsX0DGrGBQUhBCCoUOHKpasoGvHExMT00XsdRYm7viQPbvbw16Q/+mnnxT+4o4d7AmT1157DSEEN27cACA4OJjU1FTF80tKShQjXUf5dleYjBgxgoEDB8q/p02bhq+vr9zMvGLFCvz8/OSMpj26I0w6x4Putm34Y4SJ0WjE399f5jEtLY3w8HCFbe1RUVGBl5cXJpNJCklwPzY8SGFi67PQMQArKSkhKyuL9PR0RRx2V5i4arsPS5h09h93/Mxe20hNTWXIkCFd8rly5Uq3bAbuCRPb+Hf79m0GDRqEEB2bvN977z2Xcak7OBQm9fX1eHp6UlJSQmtrK3379pXrXdYKsWbSikajkbuZeyJMPvjgA7y8vHjnnXdobm5m69atToUJdGziGjlyJF999ZUcRT355JP87W9/o6qqirS0NMX9jgLR008/7XbZbIXJxx9/jBCCHTt2OMxnZ5577jmEEDQ1Nclrtp2wO7awWCxSLefk5Dh9f95eo7WWw3ZPxhNPPIGXl5fDzZv2GtbPP/+MEIKZM2c6fH5SUhIpKSmyDPHx8VKYuGMTV1jXh/fu3evwngkTJig6VoCvvvoKIX5/I8BZw/z000/ltStXrvDKK68QGBjYZXRq2/GEhoaSnJzcJS/WQOOOD/WGMFm9erXbdnAmTKz1FB4erhANAG+88QZC/D6d3BvCpLPtmpubSUtLIy4ujuTkZMaMGeNwCcdKd4WJNR50t22DY2Hyyy+/yFFybwuTmJgYEhMT3c5jZzQajSyvFXdjw8MQJlafraqqIjAwkIkTJ9LQ0EB9fX2PhAk4b7t/hDBxx88cCZPOs4e2+XRlM+ieMOkc/+7cucPatWuJi4tDCEFWVlavbaR1+lbOk08+SWpqKseOHVMEn2PHjiGE4O2335bXrB2TdQPMDz/8gBBCsefBlTAxmUyKV+jcESbr16/H19eXpUuXSod877338PX15Y033ujy6pirQORO2WyFiXX2wlGnbMuiRYsQQig2qdp2wu7Y4s0338TLy4uGhgYCAgIU05G2WBtt5wZ47949dDodo0ePVtwbGxvrdA3dXsNqb29Hr9eTnJxsV9BYl6Ksm8xAKUzcsYn1OY44cOAAQgi7GyBXrlzJ999/z/LlyxFCuQ/FGhSs6/HuNMwvv/xSTl1ev36dtLQ0/P395f22Hc+wYcPw9/dXTN92Fibu+FBvChN37OCOMBk1ahR6vV6xrFFYWIhWq5UfnuptYXLw4EHMZrNTG9hi7eBt/cdVPOhu2wbHwiQ1NVUukzkSJrZLL47ybdsBjhkzBh8fH7eXyTtjT5i4GxsiIiIU7c1dYfL4448rrrnjs5MnT0YIwZUrVwAcChNny1fguu3ay9+DFibu+FlPhIkrm0HPhMm5c+c4ceIE0LHsN23aNIQQ8tr94lSYWAPV1KlTFR01QFpaGiaTSRZ45syZhIWFyYB19+5dAgICGDVqFPX19XLnvhDC4ZTrY489hl6vlyOLgoICl8KksbERT09PTCaT3PhlXVYwmUyKNXRwHYjcKZu9za+ZmZn4+Pjw0Ucf0djYyIkTJ2SDsqWurg5fX1+GDx9OY2Mj169f55lnnlF0Au7Y4uLFiwghmDZtWpcAYktzczNCCMaOHUtNTQ179uwBYP78+fj4+HDs2DEAPvnkEzw8PKQt7eGoo7FO4c+dO5dLly7xww8/sHz5cpqbm9m/fz9CCIqLiwE4fvw4AQEBUpi4Y5N9+/bh6+vL+++/7zBv1gby1ltvyWB+5swZPDw8qK6upqGhAZ1Ox9ixY2lpaaG5uZn09PRuN8ynn35aMc09ZcoUxVKNbcdTUVEhbXPnzh3OnTtHXFycItC48qHeFCbu2MEdYbJnzx6E+H3q+Pz58/Tt21cRwHtbmLz11lv4+/tTUVHBl19+ydGjR6mtrXVql5dffhkhBPv37+eLL76Qm/bciQfdadtgX5hYXyiwzjrb+oej9uko37YdoHUZLjMzk9raWurr69m4caNbHYU9YQLuxYbs7GxCQ0P5/vvvqaurkxtWy8vLaWtrs/u89PR0jEYjNTU1VFZWcvPmTbd89pVXXkEIQWVlJe3t7VIYWOOwIxva4qrt2svfgxYm4NrPeiJMXNkMeiZMVq9eTXp6uizDv//9b/kGE3TMXkdHRytmZLuDU2HS3NyMn58fPj4+/Pzzz4rfrl27Rl5eHkFBQcTFxTFu3Lgua/tbt24lIiICnU7H008/TUVFBX5+fg43Vp44cYLk5GT8/f3Jyspi3bp1eHl5dVnDtuXxxx8nMDBQ0RASEhKIjIxU3Ld48WJ8fHwUr9lOnjwZLy8v/Pz85CvFzspWU1Mj93uEhobyzjvvAB1qfeLEifj7++Pr68uIESMUr5bZcvDgQRITE9HpdIwYMYKysjK8vb3l0pO7tsjMzMTT09Otj1RNnjwZjUaDyWSSsz+tra0sXryY0NBQoqOjGTZsmGIDqi1vvvmmXJ9NTU3l+eefl7+1tbWxbNkyQkND8fHxYcCAAaxZs0YKhLlz56LX64mOjqa4uJicnBwCAwPlx5xc2cTqP64+Ib5lyxZGjBhBbGwsiYmJxMTE8OKLL8rZilOnTjF06FAMBgNms5l58+bJTanNzc0kJCQghCAsLIz9+/dTX19PTEwMQgiioqI4duwYGzduJDU1leTkZDIyMhg9erR8pbW4uJigoCA8PDwYOnSofKts9erVREZGEhAQwPPPP8+CBQvQarVy06EzH3Jmd1tGjhyJEAKDwcCmTZu4e/eufJUyNDSUTz75xKUdjh07Rnh4OEIIzGYzjY2NVFZWyo+HJSUlSXtu376d2NhYIiIiSEpKoqysTNa5o3x///33pKSkIETHvqS1a9eyZs0a/P398fT0lHs8li5dik6nQ6PRyA2pp0+fRqvV4uXlhRBC/jMajQ4HPVVVVYSHh6PT6Rg1ahTffvut2/GgO217xYoVsrw+Pj7ylVNvb2+8vb1paWlx6B/22qe9fM+YMQN/f388PDwYNGiQDP67du0iPj4eb29vIiMjmTt3rpy1sseWLVtISkpCCIFOpyMtLU0hQt2JDadOnSIpKQmtVktaWhqVlZUYjUYMBgM//vij3eeWlZXh5+eHwWBg4sSJNDY2uuWz169fZ/To0eh0OgYNGsTGjRvp168fJpOJ7777zqENbXHWdu3l79ixY118df369YSFhSGEIC4ujsOHDzusl844a8fO/GzdunWybVhnqObOnYtWq0Wr1cpXtjMyMhBCEBIS4pbNsrKy8PHxwd/fnylTprgd/7766iuysrJISEhg+PDhDBkyRLGEPnXqVIQQ7Nu3z6H/OcPlB9a2bt1Kbm5ujxJXefD89NNPxMbGOnxDQEXlr0RrayuJiYksWrRIXrt3756ckXP0uryKisrD4/r16/e1tONQmOzdu5fS0lIMBoP8donKo8M333zDtm3bSEhIcPg6nYrKX42bN2/i4eFBbm4ud+/eBTo24b3xxhsEBAQ4fTNHRUXl4XD+/HkiIiJ6vBnWoTDx8fEhJiamy1ceVR4NRo0ahcFg+FN9Yl5FpTfYsmULgwcPJigoiKioKKKjoykoKFBFiYrKI8KECRO6vNnaHf7nDvFTUVFRUVFReXC4+gikK1RhoqKioqKiovLIoAoTFRUVFRUVlUcGVZioqKioqKioPDKowkRFRUVFRUXlkUEVJioqKioqKiqPDKowUVFRUVFRUXlkeGjC5MaNG3z22WeUlpb2+DO1D4qffvqJiooKVq9e7fZJto8C1dXVbNiwweXR5iqueZT8s6f++Ntvv7Fjxw5WrlzJN9988wBz2HOqq6vZvHmz05Ow/8z0tA5u3rzJ7t27WbNmDWfOnLF7jz2/2LdvH++//77LYxp6mxMnTvDxxx+zcuVKfvvtt4f6bJVHk/3797NhwwY+/PDD+07roQmTuro6Fi1ahE6ne+ifuD969Ch6vd7heTJffPGF/LZ/54OL/kjGjBnDgAEDnJ6mu3PnTlJTU/H09HSalqvyq/yx/mlLT/2xsbGRBQsWIITocqq2Le7414OgvLwcs9ns8qCzPys9rYO6ujqmT5/e5YC1ztjzi1WrVtGvXz/+9re/9XpZnLFp0yaeeOKJLoc8Pixu3LiB0WikqKjooT9bpSvt7e2UlJRgNpu7HDTYEx76Uk54ePhDD/y7d+/Gw8PDacdsPTH4UREmgwcPJiEhQXFtzpw5XYJdUVGRS2HiTvlVOvgj/NMe7vjj1atX0Wg0imvWU1pddYr2/Oth4c4JrPaw5//dxZ7Nepue1oG9U8ttsecXFovloQsT+P103e4Kk4EDB/Lll1/e17MbGhrw8/NjxowZ95WOSu8yYcIEVZh0B1ff7H/UhElbW5tiNHvnzh3Cw8O7fIK+qKgILy8vl+n19MyC3ubevXtcv35dce3mzZv3/aXA3uLPJEzee+89hBCKa9ZO8fXXX3eavq1/PUzsCZOmpibFQZQtLS3yCHVw7P/dxZ7Nepue1sH9CJORI0fef8a7SU+EyenTpxFCOD3B3F0elZim8jsPXJhUVlaSnZ1NQEAAer2eMWPGyA6lpKQEo9FITk4O5eXlpKWlodPpSElJURwfDXD8+HEyMjJISEigf//+eHp6Ogz8bW1tDB06lODgYPbv38/8+fPp27evHOmfPHmSrKws4uPjMRqNvPnmm/L/XrhwgezsbIYMGYLFYuGxxx7jzJkzNDc3s3jxYvLz87scVV5eXk5iYiKJiYnyCOvODb6xsZGJEyeSmJhIaGgo+fn58lh4R8+z5fPPP8ff3x8hBAkJCfIYcpPJRExMDAC3bt2SR01nZGSwb98+Zs2aRWFhIdARlK1HgHt6eqLRaBg6dCjQIUz8/PzYs2cPw4YNQ6fTYTabqaqqArBb/j179hAXF0dgYCBHjx4lOzsbPz8/jEajw7ORqqqq8PPzk0dfnz17lt9++w2TyYQQgmeeeUbabNKkSURFRREUFMSzzz5LQ0MDABUVFXh7e2MymWS66enpCCGYPn263ec64o/wz+rqalJSUggODuaHH37gmWeeQafTcfnyZcC5fzrLrxVX/tiZsrIyfH19EUKg0WjQaDRUVlbKTnHhwoXMnj2bsLAw9Ho906ZNk//X1r8Abt++zYwZM0hJSWHw4MFYLBa2b9/u0P6ff/45Q4YMYdiwYcTFxZGdnU1LS4tbZbUVJsnJyQghKC8vB2DHjh3odDqEEDQ0NDj1f+jwq8GDB9O/f38sFguVlZXdshk491tH/Oc//2HQoEFYLBYMBgP//Oc/ZVo9qQNHwsSVX1gsFkaPHs3q1asxm83odDqysrK4evWqvKelpYXXX3+d/v37ExISQlpamowRVnbs2IHFYiEiIoLo6GhZH1bu3LnDggULiIuLIzExkYCAgG4Jk6qqKkJCQhBC4O3tjUajYcGCBW7nrzOlpaVMnTqVVatWAXD58mWSkpLo06cPFRUVFBYWYjAYCAoKYvHixfL/uRsb3MlPbW0tI0eOlPU/fPhw7ty5AziOBe7m01X6zvomdzh9+jQvvvgiYWFh6HQ60tLSqK6uBrrXP/zyyy/k5uYSGxuL2WzG19f3wQmTu3fvUlRUxO7du6mtrWXz5s0IIVi6dCkAFy9eJCMjA61Wy4oVK6irq+PQoUN4eXlRUFAg0zl48CDe3t58+umnQIfCNRgMTkeke/bsQQhBXFwcWVlZTJkyhSNHjnDu3Dl8fX35+uuvAdiwYQNCCA4cOABAZmYmeXl5QMd6V0pKCnv37uX27dvMnz8fIYRik2hJSQkGg4Fz584Bvyt5a4O/e/cu8fHxvP322wCcPXsWLy8vFi5c6PR59li7dq2iAZ87d47g4GCEEJw/fx74f+2de1RUR77vXXfOueesddc695577x9FAy1NaASJyENEHiL4QEjwBTl4ooJkUDG+GHWMRhQBxzgqyXDN+NYQk4yIRo3vaIgmTvCZSHwL8UQD4gNQQQWU1+f+0dMlu+mmGwJKkv1Ziz+ovXvXb9f+7arvrvpVFRQVFdGjRw8aGhrIz89nwIAB6HQ6eY3KykqEEKxYsUJx7Xnz5iGEICsrixs3bvD999/j5ubG66+/DmD2/h8+fMj8+fMRQjBr1iyuXLnCtWvXCAgIwN/f3+Kz+eCDDxBCsH//fpm2d+9eevXqRWNjo2xAkpKSaGxspKqqipCQEPr37y+/bsaPH0+fPn0U19VqtYpK2xovyj+rq6tZvnw5QggGDRrEG2+8wR/+8AcqKipa9U9r9oJ1fzTHggULLPaYhIeHc+zYMW7fvk1KSgpCCBmMac6/jBW2sddiwYIFLF682Gy+NTU16HQ6Nm/eLPO0t7entrbWpns1FSYXLlxACMHWrVtl2sqVKxFCcPfuXcCy/+fm5uLt7c39+/cBmD59OjqdroXoa63MbPFbU3Jzc3FxceGHH34AICsri1deeeVnPQNzwsQWvzA2XNu3b+f27dvs2LEDIQTvv/++PGfmzJkEBwdz//59GhoamD59OlqtVm58uH37drRarWycjL0hO3fuBAx1XHR0NCNGjODRo0fAs96ntvSYHDhwACEE+fn5inRr9pnyt7/9DRcXF8aOHQsYhMS2bdsQQjBixAiOHz9OaWkpEyZMQAjBzZs3AdvrBmv2FBUVodPpZPmcPn0aIQRPnjxptS6w1c7Wrm+tbbKFd999l23btnH58mXy8/Px8vIiJiYGsL19qKiowMPDg4ULF8qev8TExOc7lOPn58eUKVPk/5MmTWphwKBBgxg+fLj8PyQkhOjoaMU51rrKHz9+jBCCjIwMRfrEiRMJCQmR/5eVlSGEYPny5QCEhYXRr18/6Tjl5eVyeKC0tFTRMN+8eROtVqvoFjbtIs3OzkYIoehODg4OZuTIkVbzM+XOnTsIIdiwYQNgeKHffvtt7O3tZSW0adMmRfnOnDmzTcKkOQkJCfj6+sr/Te8fWoolMIzhCyEsVsb37t3DwcGBGTNmyLTk5GQZgLZ+/XqEEFy8eFEe37x5M0IIDh06BHSMMDHH8/LPw4cPI4Ro8VVuzT9bs9cWfzRHa8KkuZ9cvHgRIQQ5OTkyzdS/UlJS0Gq1HDt2DIBHjx4pvribc//+fYQQJCQkyEaqpKTE4tCQ6bPpKGHS2NhIr169FAGQn332GUIIvvnmG7O2mCszW/y2OcZ8m/tscXEx27ZtA9r/DEyFia1+ERISwqhRoxQ29ujRg+nTpwPPynf9+vXy+A8//IAQgkWLFlFfX0/Pnj1JSEiQx5uamvD09GTIkCEA7N69u8UQTHuGcswJE2v2WcLf318KEzA05qZlc/DgQYQQ0q/Bet1giz0TJ04kKChIHm9oaCArK0sea60usMXO1q5vrW1qD8nJyXh5ecn/bWkf5s6di06nU/TUdPpQTnV1NdnZ2cTFxTF8+HCcnJxITEyUx8093FGjRjFo0CAAbt26ZdaxbBUmS5cuVaT7+vri4uJCZGQkkZGRRERE4OXlJRvbnTt3otFocHBwYOLEiRQWFsrfmjbMn376aYtKx/SFnz59OkIImV9kZCR+fn5yyKK1/MwRFRUlX6Jx48Zx4MABhg8fLtPGjx+vmPL3c4TJjBkzcHV1tXj/YN7xVqxYgRCCqqoqi/cRHx+Pu7s7DQ0NsvI6ceIEYPAJIYRi+uDx48cVX28dJUxelH8ahcnXX3+tSLfmn63Za4s/msNWYVJcXNyiojX1r8LCQtzd3RFCEBUVZXE4xMjcuXMRQuDq6kpaWppCxFh7Nh0lTH766SeEEHh7e8tyDwsLw8vLy2Jwpbkys8Vvm2MsT3PHoP3PwFSY2OoX5oRJnz59pNAwvuuHDx+Wx5uamtBoNLz++uuyoUxLS1NcIzo6GicnJwBmzZqFEEIKUeg4YWLNPkvYIkzy8/MRQnDw4EGZZq1usMWePn36WLTNWl1gi52tXd9a22Qr+/fvZ8qUKQwfPhxPT0/FO2lL+9CvXz8pXI10qjCprKwkLCyMwYMHc+XKFQCCgoJsqvgHDhwIGIYrhBAsWLBAcU57hUm/fv0IDQ1t9WYuX77MtGnTcHBwwNHRUa5HYdowf/TRRwghZBc+tHzhjS+isYu4LfmZY9WqVeh0Oh4/foybmxuPHj1i5cqVUnH27NlTIQh+rjDR6/Xy/7YKk8rKSov3sWfPHvnldO7cOby8vOSX8pQpU1oImzNnziDEsxkKHSFMXqR/WhImrfmnNXtt8UdztFWYrFu3TqaZ+hcYev2WLFmCm5tbq709RvLy8oiOjkYIQe/evSktLbXp2XSUMDGKy/nz57dqZ3PMlZktftucwsJChBAWh7ra+wxMhYmtfmFJmIwfPx54JiCaN85geO9ee+01ec2FCxcqjo8ePRp7e3uampqYPHlyi7qho4SJNfss0RZh0rwMrdUNttjj4eFBZGSkWbustVW22Nna9W1pm6wxbdo0XF1dycvLo7GxkTlz5tgsTIw+4OnpKcvMSKcKk9zcXIQQiuC3tlb8NTU1ODg4tIgWb68wiY+Px9HRUVZUpuzbt4+nT58CBsHg6upKXFwc0LJh/vrrrxFCGTVv+sKvXbsWIQT79u1rc37muH79OkIIVq9eLSsR43jx+vXrW7yAloSJaWPxvIVJbW0ter2etLQ0srKyFJVZVlYWQgjOnj0r04xffcZYoKlTp+Lh4aG4ZluFyYv0T0vCpDX/tGavLf5oDmMj23wIpb2N4smTJyktLQXgwYMHRERE4OLiYjbfyspKRTyVMY5kzZo1Nj0bU2FifDeys7NlmiVh0tz/m5qa0Ov1DBw40OYZRubKzBa/bU5tbS1arVbGlJjSUcLEVr+wJkyM8QnGmAR4Jureeecd6urq0Ol0jBkzRnGNgIAAGWS8dOlShBCcOnVKHv85wqT5UJs1+yzRWcLEFntGjhyJTqczKw6stVW22Nna9a21TdYoKSlBCKGYat0eYTJs2DBcXFwUIQydKkyOHj2KEM/iPM6ePYurq2ubKn541mju2bOHxsZGjhw5Qvfu3dslTIxdq9HR0RQWFnL37l1ycnI4d+4cAHq9Xna9NTY2EhwcLLvpTRvmhoYGQkND6dWrF5cuXaKurk5WTkZnqayspEePHvj6+pKfn8+9e/c4cuQIe/bssZqfJUJDQ/Hz81PM1vD19cXPz0/RxQstK62amhqEMIzrX7hwgS+++EJRxs3pTGECBsUeGBhIdHS0ojIvKytDp9ORkJBAfX09NTU1REZGKiqPVatWIYQhRqO8vJwtW7ag0WiYOXOmDLzcunUrer2eM2fOmM3/RfqnJWHSmn9as9cWfzTH4sWLEUJw9OhRTpw4wQ8//NDuRnH8+PGKrvzZs8qtCQ8AABrOSURBVGe36KY1cuHCBbp37y7HuG/fvo0QhiEHW56NqTB5+vQprq6uxMbGcvfuXS5duiR7YowxXJb8PzMzEyEEqamplJaWcv36dbKysizGe5krM1v81pS0tDSEECxbtow7d+5QVFTEli1bgI4TJrb6hTVhAhAREYGfnx/l5eUAzJ8/n969e8t3PT09HUdHR06fPg0Ygtrt7OxkAGdJSQlOTk6MGDGCiooKHjx4wBtvvKGoQxobGwkICFA8a1O+/PJLKbYKCgqk0LFmnzk6S5jYYo+xHhg3bhw//vgjpaWlZGdnU1tba7WtssXO1q5vrW0qLCxEr9crfK051dXVODg4MGzYMJ4+fcrt27cZOnRom4WJsfc8NTVVBv0GBgZ2boxJamoqer0ef39/MjIyiIuLw83NjW3btrFx40ZcXFzQaDRyHPPdd99Fp9Oh1Wpl0FV1dTWzZ8/Gzc0NLy8vli9fzuuvv46bm5uMNm5ORUUFgwYNQgiBp6cn4eHhimCrgwcPEhQUhIODAz4+PqSmpsrptwsXLiQ4OFiO6f3xj3+kurqaoqIiBg8ejBCGsWijM/z000/Exsai0+kICQlh165d6PV6fHx8ZAR8YWEhI0aMQKvV0qNHDyZNmiSPWcqvNYwzOi5cuCDTjGP1N27ckGkZGRm4u7tjZ2dHVFQUtbW1gCFASavV4ufnxzvvvMOhQ4dkt7vx6y07Oxu9Xo+dnR2vvfaa2fs/ffo0Xl5eCCEIDg6moqKCvLw8PDw8EEIQFhbW6roixheveYCXkUuXLhEVFYWHhwfBwcGkpaUpyqWqqoqxY8ei0+no27cvGzZsICkpCWdnZxljs3PnToQQciqhOV6Ef3711VdyenRgYCDh4eGKuITW/LM1e8E2fzSloKAALy8vdDodsbGxfP/99/zHf/wHQgg8PDzYtm0bT58+lVNtPT092bt3r1n/ysnJITw8nIEDBzJ8+HDGjBnTYmq1kfLyciZOnEhgYCDDhg0jPDycNWvW2PRs5s6di4uLC3Z2dgwZMkQOn+zatQtvb290Oh3jx49nz549ODs7K8SRqf+DoTF877338PT0xNHRkQEDBrBx40aLPSjmygys+60pDQ0NLFu2jF69eqHVaomMjJRiqT3P4NtvvyU4OFieYyxPa36xbNkyHB0dcXJyIiUlRZaTvb09zs7O8h26f/8+SUlJuLu7ExgYSGJiIiUlJS3ux9PTE39/f4YNG9ZirZFjx44RGhqKTqdj1KhRfPTRRzg4OBAREQEYerCCgoIQQshpraZUVVURHh6OVqtl8ODB8j2zZp8pMTExODo64uLiwuzZs6mpqZFLLvTu3ZujR49y9+5d+vXrhxCGJQ5Onz5tc91giz27d+8mICAABwcHAgICWL16NY2NjYDlusBWO61dv7W26fr16zg5OVns0QPDyr3e3t54eHiQlJTEkiVLcHR0JCUlpU3tw7p16/Dx8cHV1ZU333yTP/3pT3Tv3r3FEHlbUTfxU2kXc+bM6dTF6MLCwhSNnYqKStdn//79vPTSSy/ajN88KSkprYYWdHVUYaJiMxUVFRw5coSMjAyCgoJkT05H09TUhK+vr1wjQkVF5ZfBJ598wuTJk1+0Gb95pkyZ8oveKFMVJio2c+rUKRwdHYmKiurUjbs+/PBD0tPTO+36KioqHc+TJ08YOnQoxcXFL9qU3zSXL19m5MiRii0efmmowkSly9FV9s1RUVFpG+q7++JpamrqtN7s54UqTFRUVFRUVFS6DKowUVFRUVFRUekyqMJERUVFRUVFpcugChMVFRUVFRWVLoMqTFRUVFRUVFS6DKowUVFRUVFRUekyqMLkV0ZVVRXLly9n2rRpfP755y/anC7D+fPn2b59+y960SGVjqO4uJg9e/awbt06s2vyVFVVcejQITZs2PCbXejv/uPHvP+lYT+wnyoq2H7mFO8eOkBVJ08JPldSzKffnu7UPFS6NqowsYHq6mr69u3LzJkzX7QpVqmtrWXHjh0IYX7L9q6AcfOn7777rk2/i4+PZ8CAATbvJNuc3NxcgoODFRtVWcO4Gdv7779v8ZxTp06h1+vZtWtXm23qaJ63LatXr8bNzY3r168/l/w6khMnTvDHP/7R4kaJxcXF8vgnn3zyAix8sTx+8gTv9AVsO2PYZO/rwisMfW853RLjuHDT8h42HUH5o4e8NG82m/P/3qn5qHRdLAqTe/fuodVqn6ctncbly5flxknOzs7Ex8fLYwsXLrTagN+/fx8XFxdmzZrVYTbZWr7teQ7GBrWrCpOvvvoKIYT8Et24caPcIMrPz4+//e1vZn83dOhQ+vfvr0iz9PwGDRrEyZMnFWmmu9pao66uDiEEmzdvtnjO4cOHsbOz6xLCpDNtMVee6enpODs7Kzag/CVh3M3X0p5Pxl1gf4vC5I0P1jNug3Kvqg3Hjj4XYQIGIfSvSb/nyq3STs9LpethUZhs2rQJIcTztMUiNTU1il1cm5qaqKiooKGhoU3X0Wg0zJgxQ/7/5MkTvLy8yMzMtPpb07zq6up48OCBIs24e6Qt2Fq+7XkOXV2YnD17FiEEZWVlMm3dunUtdl42pbGxUdFbYun5XblyBSFEi91R2ypMAJycnOSux5Zoqx92Jp1hi6Xy7Kz8nheqMDFPwU83+N2EeIru3FakP09hAjA488+M/OtfnkteKl0Ls8Lko48+wsnJCSEEWq0WrVZLXl4eYGj0ZsyYQZ8+fXB3d+f3v/+9ooFpzqRJkxBCKLbkXr16NU5OTjg7O3PqlKGbcN++fYSEhODt7Y2/vz+5ubnyGgsWLEAIQXJyMmDYBrxXr14IIaw2GKY0FyZPnjyRW5FrNBq0Wi1RUVFmf7dq1SqmTZvG2rVrAcNQhIODA35+fvKcyMhIhBC89dZbMm3Dhg0MHjyYV199lX79+smt2lsr3+ZYOq+iooKlS5cSFBRE9+7d6du3r9w+HFoKk1WrVqHX69FoNIwZMwaA+vp6MjMzGThwIF5eXkRHR8tts2tra5k7dy6DBw9m6NChhISEsHv3bovlmpeXx9ixY3F1dUWv1xMfH99CtDXn2rVrLbZGtyZMjhw5QkpKiuy1svT8CgoKpH84ODig1Wrl1u/mhMnFixeJiYkhKCgIX19fVq5cqTju6enJkSNHzNpUU1PDsmXLmD59OkePHgXgiy++IDAwEDc3N06dOsXYsWNxdnbGy8uLgwcPsm7dOkJCQuTW8eXl5TaXY0FBAaNHj2bo0KEEBwfzxhtvMHfuXJydnSkoKLDZFl9fX0X8UWv+ZKk8i4qKyMjIICkpiVu3bimuZal+sNUeU+rq6sjOzuaVV15Bp9Px8ssvK/ZSGjt2LB4eHmRmZpKZmUm/fv1wdnYmISGhxYdCbm4uoaGhhIaG0rt3b5uEybx58xg+fDhOTk4MHDiQr776CjAI5aioKF5++WWOHj1Keno6PXr0YNeuXa3anJ2djUajwc7OjtjYWADy8/Px8PDA3t6eVatWAZZ901K+ycnJ8roREREAHD9+HHd3dzQajc27dU/55EN8Mxa2SDcnTMofPWTchjX0Sn0bu1nTiN+4lsf/eK9/LC/jlaxM+i1Jw2PhPAKWpHOx1PDb2ro63vw4G+/0BfTJSKXngrnknlb2yH18/Bt+NyGeikePbLJb5deDxR4ToyBojrExSEpKorGxkaqqKkJCQujfv7/ZL6eGhgZ69epFWFiYIn3AgAFkZ2cDsH37drRaLefPnwcMu1MKIRQNrV6vV/R0fPvttwgh2txlbdpjUllZiRCCFStWtPq7jz/+GJ1OR2JiokwbP348ffr0UZyn1WqZM2cOYKgQmg9XHDhwgMjISHmuufI1h7nzdu3axdq1aykoKOD8+fPExMSg0+nk/gimwuT69ev4+fnxxRdfyGskJycTFxdHQ0MD1dXVBAcHS2GWmZmJr6+v3ARqwYIFLF682Kx9T58+Zd68eRw+fJjCwkK2b9+OEIJ3333X4j2VlZXh5OSkSLMmTPLz8xkwYAA6nU6mWXp+Bw4cQAhBfn6+It1UmFy7dg0nJye+/fZbALZs2YIQQjY8AMHBwZw9e9asTbW1taSnpyOEkI1JVVUV8+bNQwjB3LlzKSwspLCwED8/P7RaLVu2bOHWrVvk5uYqnpG1ciwpKeGll16SvUM1NTUEBATQu3dvDhw4QHl5eQtbHj58yPz58xFCMGvWLK5cucK1a9cICAjA399f3oc1fzJXnjdu3CA+Ph4hBAUFBYD1+sFWe0y5cuUKixcv5vjx41y9epVFixYhhODEiRMAXLhwAb1ej6+vL5999hl37txh1apVCCHYvn27vE5mZiYeHh5SgBt7gqwJkzFjxlBUVMT58+cJDQ3F0dGR//qv/wIMYksIQWBgIDExMcyePZvjx49btXnKlCloNBqFMJ03b56sn6z5pqV8J0yYgEajoaKiQl737bffZuLEiRbL1xTd3Fkk53zcIt1UmDytr6fH/DksO7gPgKu3b/FPE8czf8c2AEKXL+E/1xp8sampCe/0BRy8cA6AtN070c75A3X/aDeScz5m7vativxuVJTTLTGOnFMnbLZd5ddBm4TJ+vXrEUJw8eJFmbZ582aEEBw6dMjsdVJTUxFCyB0nb968iUajoaysjPr6enr27ElCQoI8v6mpCU9PT4YMGSLTXrQwAfDy8mqTMNm/fz9CCLKysmhsbKS+vp7S0mfjpT9HmJhibOR+/PFHQClMbt++TVBQkEKUXL16FSEEe/bskWlvvfUWGo2Guro6UlJS0Gq1HDt2DIBHjx5x7949q7Ya8fPzY8qUKRaPNzY2tpgJYctQzsyZMztUmEycOJGQkBD5f1lZGUIIli9fLtOuX7+u6NkxpbS0VCEGwLA7shBCcY9z5sxBo9EohqJ69uzJm2++afHazcvRGDD85ZdfyuOJiYm8/PLLbbZl4cKFCCEsDsOY+pOl8jSKJ6MwsaV+aI89ppSUlLQYYnn55ZeZNGmS/L+qqgohBH/+858BQ72j1WoVw37tGcoxxkcZfe7x48cIIcjIyGiTzcYPF+MHWlNTE7179+abb74BrPumpXw///xzhBBs3fqske/bt6/iXW+NxqYm/mnieJb/Q2w0x1SYrDryBd0S4yh/9FCe45byFiHLDD2Unovm4/L2bH4sN/SY3a2qovqp4V2aseVj/iXpDfIuG3zlYW2t2Z6Rf5o4nnf222a7yq+HNgkT49BM83gP4wtmaebC+fPnEUKwfv16wFAxxcTEAM9e/LS0NMVvoqOjFV/UXUGYeHt7t0mY1NbWMmTIEBnQuWnTJurr6+W5P1eYFBQUMH/+fEaMGEFwcDBCCK5cuQI8EyZpaWmEhobi4ODApUuX5G9zcnIQQhASEkJkZCSRkZEEBQXh4+NDfX09hYWFuLu7I4QgKirK7DBTc6qrq8nOziYuLk52eTcvK1t4EcLE19cXFxcXWQYRERF4eXkpGnZr2CoG0tLSWgxf+fv7M27cOPl/a+VYXFyMVqslOTmZxsZG7t27h4+PD/PmzWuzLStWrEAIQVVVlUxrzZ9sFSa21A+22mPKzZs3yczMJCYmRg6bbtq0SR43FSYAQggWLjQMSXz66actPqDaI0yM79a0adOAZwJh6dKlbbY5MDCQkSNHAnD69Gn69Okjhas137SUb11dneJjr6ioCJ1OZ3Ps28PaWrolxvH/vmj5oWkqTOI3rqVbYhz+f0qTf05vzWTUX7MA2HLyOL+bEM8/T0ogds37XCq9Ka91+VYp/2fGm3RLjCPwnXT2n//erD3/N/lNs703Kr9u2iRMpkyZ0qICOXPmjKJL2hwhISFER0cDEBcXJ9eSMFYMxsrDyOjRo7G3t5cvaVcQJj4+Pm0SJmDo2v7www8JDAxECEFMTIz8Kvw5wuTjjz/G3t6eNWvWUFNTw65du8wKE1dXV/Lz8wkJCWHo0KEyb2MlvW9fy68iI+Xl5SxZsgQ3N7cWvQjNqaysJCwsjMGDB8v8g4KCOkyY3LlzR1aqHS1M+vXrR2hoaJvsNKWtwqT5duT+/v6MHTtW3ou1cty7dy/u7u7079+fiIgI3nvvPZ4+fdpmW4xCoLKyErDuT7YKE1vqB1vsMaWgoAA3NzemTp1KWVkZd+/etVmYLFiwADDEawkhOHDggDzeHmFy+/ZthBBSEFoSCLbYbBxuunXrFosWLWLZsmXymDXfbE0QzZs3T4qRNWvWMHnyZIvXMce/Jv2exXtbxu+ZCpMJH26kW2Ic9x5bjgE5X1JM3Ma1/POkBP77pAQ+v3BeHrtbVcXbO7bxv2dMpltiHKmf7Wjx+//x5gTS97z4GW8qzxerwqR513NWVhZCCMWYu7GRaz4ub8rKlSuxt7enrKwMV1dXOSxQV1eHTqeTAZlGAgICFIGo3t7eijFSc8LElrUtLAkTS41uc3x9fRWNxNSpU/Hw8FCc01yYXLt2jXPnDOOp9fX1zJkzByGETDNXvuYwd56fn59i2qwlYWLstv7mm28QQrB69WrgWS/W/PnzzeZ58uRJOez04MEDIiIicHFxMXuusdu/eXBsRwqT8PBw+ZVrSZiYPj9jQ2rsFjdiKkzi4+NxdHTk7t27bbK1OR0lTGwpx+HDh7cqxtsrTKz5k6XyNBUmttQP7REmycnJCCFkPEZ7hMnXX3+NEIK//OXZLI/2CJO8vDyEEHJo1JJAsMXm8vJyHBwc2LhxI4GBgYr1YKz5ZmvCxFg/Hj58mNjYWA4ePKg4bq3OcUt5i/Gb1rVINxUm7x0+SLfEOHZ8d8bsdXZ8d4an/+glPl9SzP+alsSwlQaB+veiQkruG9qB+48f47c4lX+bqoyDuf/4Md0S4/j4uNLvVH79WBQmixcvRgjB0aNHOXHiBD/88ANlZWXodDoSEhKor6+npqaGyMhIWbla4ubNmwghmDNnTgsRkp6ejqOjI6dPG1b627t3L3Z2djLoCwxR956enhQVFVFSUkJKSgpCCHJzc2lsbOTIkSM4OTnxwQcftGqHqTCpqalBCEFCQgIXLlxQxGGYYipMjF87eXl5lJeXs2XLFjQaDTNnzqSuro5169YRGRkph2927NiBVquVQWnmytcc5s579dVX0ev1sjdh5syZZoVJ816syZMno9Pp5JoT0dHRODo6snXrVioqKjh37hzr1hkqo/HjxyuG12bPnq2I+WnO0aNHEeLZWPfZs2dxdXXtEGFSWFiIEEIGK5oKE0vP78svv5SNUEFBgZz9ZSpMjMMM0dHRFBYWcvfuXXJycqR4tIWOEia2lKOTkxNTpkwhPz+fkydPUlBQoAiebK8wseZPlsrTVJjYUj+0R5gsWbJEvmtNTU0yQL4twqShoYHQ0FB69erFpUuXqKurk0LKmjAxxoE8fPiQiIgIxfCbJYFgi80AEyZMIDAwkBEjRijSrflma8IEDB9306dPx9PTU9GrdufOHXr37t1qMOzMrZ+gm9tyzSZTYfKgupp/n56Eds4fOHr1MhWPHvH5hfNyUbb/OW0Se783iNTGpibcUt5i1lbDGkUj3v8Ls3O3yGtP/HATPukLFPl9dvY7fjchXhHDovLbwKIwKSgowMvLC51OR2xsLN9/bxgDvHTpElFRUXh4eBAcHExaWhrV1dVWM4qOjkaj0bT44mtoaGDZsmV4enri7+/PsGHDWqyXcOnSJcLCwujevTsRERHk5eXh6+uLh4cHN27cYM+ePTg7O1ucPnz16lUGDRqEEAIXFxfFAmvJyclotVr8/PzkdF5z+Pj4KF7mqqoqxo4di06no2/fvmzYsIGkpCRpx5kzZ4iJiaF///6MGDGCV155RRG4aKl8TTF33rlz5xg4cCAuLi7ExMSwefNm7O3tCQ8PB2DgwIEIIXBzcyM3N5eKigp8fHwQQuDh4cHx48eprKxk6tSpuLi44OTkxKhRo+Q005ycHMLDwxk4cCDDhw9nzJgxchaCOVJTU9Hr9fj7+5ORkUFcXBxubm5s27bN4m+as2rVKhnT4ujoKKdGOzg44ODgQH19PRkZGbi7u2NnZ0dUVJRs4M09v6qqKsLDw9FqtQwePJidO3cyd+5cXFxcsLOzY8iQIXK44eDBgwQFBeHg4ICPjw+pqak8fGhbRVhUVMTgwYMRQuDt7c2HH34on5cQgv79+1NVVcXOnTvl/Q0aNIinT5+yePFiHBwccHZ2ltOZrZVjUlIS3bt3Rwgh/+zs7HjnnXfM2nL69GlpS3BwMBUVFeTl5cnF7MLCwqipqbHqT+bKc9euXfj5+SGEIVbJuIpva/WDrfaY8uDBA8aMGYNOp2PIkCHk5OTQs2dP/Pz8uHz5MtOmTUOj0eDi4kJWliG+Ydy4cfId2LhxI2BYaiA2NhadTkdISAi7du1Cr9fj4+MjxW9zKioqeO211+jdu7ecNr9s2TI5W62iokLWK56enoSHh8u6y5rNRoyC1NyigpZ8s7V8jWRmZqLRaBRDy8YycHd3l8s3mON8STH/bUI8xwqvyrSNx75CM2s63RLjcJ0/h6NXDfdw+VYp/f+8mH9JeoN/n57E6LV/pfAf65/8IecT3FLewv9PafgtTmXS5k1yKvEHf/8a34yF9F40n+Cli4n8y4oW66b859pVxK6xvOqyyq+X57YkfXFxMQEBAfKl/iXR1NSEs7MzixYtetGmqPxG2b17N927d1cElt6/f5/Ro0e3GFJUUamvryc0NJTCwsJ2/T4xeyOhy5d0sFW2c76kmH+bOpFrP2OYVeWXS6cLk++++47PPvuM/v37k5OT09nZdQrHjh1DCMHf/67u3aDyYkhPT8fOzk4xzFRUVERgYGCrX78qvy2uXbvG4cOHGTduHNOnT2/z77slxtEtMY7HT57gk75ATtU1pj+Pv6qaGrzSUuSCa8Z0ld8OnS5MYmNj5aqMv0TWr1+Pt7d3m6aQqqh0NBUVFUybNg1PT088PT3x8/Pj1VdfJScnp12bGqr8OsnKykKn05GUlGTzkKQlKmuqWffVkefuX1dv32LfuYLnmqdK10LdXVhFRUVFRUWly6AKExUVFRUVFZUugypMVFRUVFRUVLoMqjBRUVFRUVFR6TKowkRFRUVFRUWly6AKExUVFRUVFZUugypMVFRUVFRUVLoMqjBRUVFRUVFR6TKowkRFRUVFRUWly/D/AbCDhw2qijaTAAAAAElFTkSuQmCC)\n",
    "\n"
   ]
  },
  {
   "cell_type": "markdown",
   "metadata": {
    "id": "Oxd3NlujPQuI"
   },
   "source": [
    "It is definitely on my to-read list now."
   ]
  },
  {
   "cell_type": "markdown",
   "metadata": {
    "id": "617HM9mvPt7J"
   },
   "source": [
    "Next, let us try and intepret the Book Embedding Factors. Remember, we had 50 factors in our model. Well, intepreting a 50-dimensional Embedding turns out to be a difficult task for us human beings.\n",
    "\n",
    "Luckily we have a method called `PCA` which stands for Principal Component Analysis that can be used to reduce the dimensions to something that can be plotted in a graph.\n",
    "\n",
    "Here is the outcome:"
   ]
  },
  {
   "cell_type": "code",
   "execution_count": 36,
   "metadata": {
    "colab": {
     "base_uri": "https://localhost:8080/",
     "height": 700
    },
    "id": "GwiPmdN5eltx",
    "outputId": "6ef336d6-93d8-41f6-931d-d056aa62e11b"
   },
   "outputs": [
    {
     "data": {
      "image/png": "[encoded data removed]",
      "text/plain": [
       "<Figure size 864x864 with 1 Axes>"
      ]
     },
     "metadata": {
      "needs_background": "light",
      "tags": []
     },
     "output_type": "display_data"
    }
   ],
   "source": [
    "#| fig-cap: \"Representation of Books based on two strongest PCA components\"\n",
    "\n",
    "import numpy as np\n",
    "import matplotlib.pyplot as plt\n",
    "\n",
    "r = np.arange(0, 2, 0.01)\n",
    "theta = 2 * np.pi * r\n",
    "fig, ax = plt.subplots(\n",
    "  subplot_kw = {'projection': 'polar'} \n",
    ")\n",
    "ax.plot(theta, r)\n",
    "ax.set_rticks([0.5, 1, 1.5, 2])\n",
    "ax.grid(True)\n",
    "plt.show()\n",
    "```\n",
    "g = ratings.groupby('original_title')['rating'].count()\n",
    "top_books = g.sort_values(ascending=False).index.values[:10000]\n",
    "top_idxs = tensor([learn.dls.classes['original_title'].o2i[m] for m in top_books])\n",
    "books_w = learn.model.i_weights.weight[top_idxs].cpu().detach()\n",
    "books_pca = books_w.pca(3)\n",
    "fac0,fac1,fac2 = books_pca.t()\n",
    "idxs = list(range(50))\n",
    "X = fac0[idxs]\n",
    "Y = fac2[idxs]\n",
    "plt.figure(figsize=(12,12))\n",
    "plt.scatter(X, Y)\n",
    "for i, x, y in zip(top_books[idxs], X, Y):\n",
    "    plt.text(x,y,i, color=np.random.rand(3)*0.7, fontsize=11)\n",
    "plt.show()"
   ]
  },
  {
   "cell_type": "markdown",
   "metadata": {
    "id": "SCW0fWE-QUrp"
   },
   "source": [
    "As you can see, our model has learned for itself to seperate the books into different categories. If you look at the very top, we have the classic books, the likes of *To Kill A MockingBird* and *The Great Gatsby*. At the right side we have the likes of *The Da Vinci Code* and *Angels and Demons* which are more of Mystery Thriller Novels and are more of reality fiction novels. At the bottom we have *The Hobit* books which are more of fantasy novels and Mythology."
   ]
  },
  {
   "cell_type": "markdown",
   "metadata": {
    "id": "A65r_v1eRQBj"
   },
   "source": [
    "What is magical is our model learned all of these on its own! We never explicitely told it what genres a particular book belongs to. We only fed it user ratings and it learned all about them itself."
   ]
  },
  {
   "cell_type": "markdown",
   "metadata": {
    "id": "-YT8qVSwRp4Q"
   },
   "source": [
    "## Generating Book Reviews"
   ]
  },
  {
   "cell_type": "markdown",
   "metadata": {
    "id": "fR2I3bC3RtjG"
   },
   "source": [
    "Now comes the interesting part. How to generate a book review for a user. It is actually a very simple concept. The intuition is two similar books should have a smaller distance between them (of the Embeddings) than two different books. So, we will require a reader to input the name of a book he or she enjoyed reading and we will generate a recommendation of books for them.\n",
    "\n",
    "Let us experiment with 'The Da Vinci Code' by Dan Brown and see the 5 most similar books to it using our model:"
   ]
  },
  {
   "cell_type": "code",
   "execution_count": 37,
   "metadata": {
    "colab": {
     "base_uri": "https://localhost:8080/"
    },
    "id": "_-K52T_bg4r_",
    "outputId": "e9a24ee4-7dcb-497d-8327-c63233f3f649"
   },
   "outputs": [
    {
     "data": {
      "text/plain": [
       "['The Sweet Far Thing',\n",
       " 'Angels & Demons ',\n",
       " 'Back Roads',\n",
       " \"What to Expect When You're Expecting\",\n",
       " 'What to Expect the First Year']"
      ]
     },
     "execution_count": 37,
     "metadata": {
      "tags": []
     },
     "output_type": "execute_result"
    }
   ],
   "source": [
    "book_factors = learn.model.i_weights.weight\n",
    "idx = dls.classes['original_title'].o2i['The Da Vinci Code']\n",
    "distances = nn.CosineSimilarity(dim=1)(book_factors, book_factors[idx][None])\n",
    "idx = distances.argsort(descending=True)[1:6]\n",
    "[dls.classes['original_title'][i] for i in idx]"
   ]
  },
  {
   "cell_type": "markdown",
   "metadata": {
    "id": "SMbItkwbSXkh"
   },
   "source": [
    "According to our model, The Sweet Far Thing is the most similar book, so let us generate a URL and see the reviews:"
   ]
  },
  {
   "cell_type": "code",
   "execution_count": 38,
   "metadata": {
    "colab": {
     "base_uri": "https://localhost:8080/",
     "height": 36
    },
    "id": "xJLFno1WiIvK",
    "outputId": "1c017cdd-3394-4b1b-dc86-798fef083980"
   },
   "outputs": [
    {
     "data": {
      "application/vnd.google.colaboratory.intrinsic+json": {
       "type": "string"
      },
      "text/plain": [
       "'https://www.goodreads.com/book/show/127459'"
      ]
     },
     "execution_count": 38,
     "metadata": {
      "tags": []
     },
     "output_type": "execute_result"
    }
   ],
   "source": [
    "id = int(books.loc[books['original_title']=='The Sweet Far Thing']['goodreads_book_id'].values)\n",
    "url = f'https://www.goodreads.com/book/show/{id}'\n",
    "url"
   ]
  },
  {
   "cell_type": "markdown",
   "metadata": {
    "id": "8DtRn7irSyCO"
   },
   "source": [
    "The book description describes it as a Thriller novel which was the same case with The Da Vinci Code."
   ]
  },
  {
   "cell_type": "markdown",
   "metadata": {
    "id": "UZh3pa2Yivog"
   },
   "source": [
    "## Neural Network"
   ]
  },
  {
   "cell_type": "markdown",
   "metadata": {
    "id": "_ZwafCnpS95l"
   },
   "source": [
    "Now, we will experiment with a Neural Network Model and see if it performs better than our Dot Product Model.\n",
    "\n"
   ]
  },
  {
   "cell_type": "markdown",
   "metadata": {
    "id": "o_aYKwAwTOlU"
   },
   "source": [
    "To turn our Model into a Deep Learning Model, we need to concatenate the Embeddings together and pass them through linear layers with non-linearities between them. Our Neural network will have 100 neurons and utilize a ReLU between them. Here is the code:"
   ]
  },
  {
   "cell_type": "code",
   "execution_count": 39,
   "metadata": {
    "id": "Fex-x28ZuySq"
   },
   "outputs": [],
   "source": [
    "class CollabFilteringNN(Module):\n",
    "\n",
    "  def __init__(self, user_sz, book_sz, y_range=(0, 5.5), n_act=100):\n",
    "    self.user_factors = Embedding(*user_sz)\n",
    "    self.book_factors = Embedding(*book_sz)\n",
    "    self.layers = nn.Sequential(\n",
    "        nn.Linear(user_sz[1]+book_sz[1], n_act),\n",
    "        nn.ReLU(),\n",
    "        nn.Linear(n_act, 1)\n",
    "    )\n",
    "    self.y_range = y_range\n",
    "  \n",
    "  \n",
    "  def forward(self, x):\n",
    "    embs = self.user_factors(x[:,0]), self.book_factors(x[:,1])\n",
    "    x = self.layers(torch.cat(embs, dim=1))\n",
    "    return sigmoid_range(x, *self.y_range)\n"
   ]
  },
  {
   "cell_type": "markdown",
   "metadata": {
    "id": "Xfhqj2g-Tqo3"
   },
   "source": [
    "We then instantiate the neural network. We will use the `get_emb_sz` to get good Embedding sizes for our users and books. Remember since we will concatenate the Embeddings and not multiply them, they can now have different sizes."
   ]
  },
  {
   "cell_type": "code",
   "execution_count": 40,
   "metadata": {
    "id": "M9QT8PuAnPOl"
   },
   "outputs": [],
   "source": [
    "nn_model = CollabFilteringNN(*get_emb_sz(dls))"
   ]
  },
  {
   "cell_type": "markdown",
   "metadata": {
    "id": "lNkNEHkXT_7G"
   },
   "source": [
    "We can check out our model:"
   ]
  },
  {
   "cell_type": "code",
   "execution_count": 41,
   "metadata": {
    "colab": {
     "base_uri": "https://localhost:8080/"
    },
    "id": "jTz0yKDsnZw3",
    "outputId": "2ea415c8-d1b4-4772-9fec-528bc5b5c86f"
   },
   "outputs": [
    {
     "data": {
      "text/plain": [
       "CollabFilteringNN(\n",
       "  (user_factors): Embedding(1795, 106)\n",
       "  (book_factors): Embedding(4879, 186)\n",
       "  (layers): Sequential(\n",
       "    (0): Linear(in_features=292, out_features=100, bias=True)\n",
       "    (1): ReLU()\n",
       "    (2): Linear(in_features=100, out_features=1, bias=True)\n",
       "  )\n",
       ")"
      ]
     },
     "execution_count": 41,
     "metadata": {
      "tags": []
     },
     "output_type": "execute_result"
    }
   ],
   "source": [
    "nn_model"
   ]
  },
  {
   "cell_type": "markdown",
   "metadata": {
    "id": "zY71B5CDUDKL"
   },
   "source": [
    "We will now create our Learner with the same `MSE` loss function, find a suitable learning rate and fit our model for 5 epochs using a regularization weight decay of 0.05:"
   ]
  },
  {
   "cell_type": "code",
   "execution_count": 42,
   "metadata": {
    "id": "xTzw8q1GoZ5d"
   },
   "outputs": [],
   "source": [
    "learn = Learner(dls, nn_model, loss_func=MSELossFlat())"
   ]
  },
  {
   "cell_type": "code",
   "execution_count": 43,
   "metadata": {
    "colab": {
     "base_uri": "https://localhost:8080/",
     "height": 300
    },
    "id": "YnBqPt1qpUr6",
    "outputId": "496d39e3-64d3-47d2-d7e4-2df181c5c204"
   },
   "outputs": [
    {
     "data": {
      "text/html": [],
      "text/plain": [
       "<IPython.core.display.HTML object>"
      ]
     },
     "metadata": {
      "tags": []
     },
     "output_type": "display_data"
    },
    {
     "data": {
      "text/plain": [
       "SuggestedLRs(lr_min=0.006918309628963471, lr_steep=3.311311274956097e-06)"
      ]
     },
     "execution_count": 43,
     "metadata": {
      "tags": []
     },
     "output_type": "execute_result"
    },
    {
     "data": {
      "image/png": "[encoded data removed]",
      "text/plain": [
       "<Figure size 432x288 with 1 Axes>"
      ]
     },
     "metadata": {
      "needs_background": "light",
      "tags": []
     },
     "output_type": "display_data"
    }
   ],
   "source": [
    "learn.lr_find()"
   ]
  },
  {
   "cell_type": "code",
   "execution_count": 45,
   "metadata": {
    "colab": {
     "base_uri": "https://localhost:8080/",
     "height": 206
    },
    "id": "HymMfjd9pWjF",
    "outputId": "9d757e52-b073-4ae3-da18-9103b5e72162"
   },
   "outputs": [
    {
     "data": {
      "text/html": [
       "<table border=\"1\" class=\"dataframe\">\n",
       "  <thead>\n",
       "    <tr style=\"text-align: left;\">\n",
       "      <th>epoch</th>\n",
       "      <th>train_loss</th>\n",
       "      <th>valid_loss</th>\n",
       "      <th>time</th>\n",
       "    </tr>\n",
       "  </thead>\n",
       "  <tbody>\n",
       "    <tr>\n",
       "      <td>0</td>\n",
       "      <td>0.775485</td>\n",
       "      <td>0.819169</td>\n",
       "      <td>00:25</td>\n",
       "    </tr>\n",
       "    <tr>\n",
       "      <td>1</td>\n",
       "      <td>0.805927</td>\n",
       "      <td>0.817436</td>\n",
       "      <td>00:29</td>\n",
       "    </tr>\n",
       "    <tr>\n",
       "      <td>2</td>\n",
       "      <td>0.777418</td>\n",
       "      <td>0.803896</td>\n",
       "      <td>00:30</td>\n",
       "    </tr>\n",
       "    <tr>\n",
       "      <td>3</td>\n",
       "      <td>0.716998</td>\n",
       "      <td>0.798450</td>\n",
       "      <td>00:26</td>\n",
       "    </tr>\n",
       "    <tr>\n",
       "      <td>4</td>\n",
       "      <td>0.652017</td>\n",
       "      <td>0.812329</td>\n",
       "      <td>00:25</td>\n",
       "    </tr>\n",
       "  </tbody>\n",
       "</table>"
      ],
      "text/plain": [
       "<IPython.core.display.HTML object>"
      ]
     },
     "metadata": {
      "tags": []
     },
     "output_type": "display_data"
    }
   ],
   "source": [
    "learn = Learner(dls, nn_model, loss_func=MSELossFlat())\n",
    "learn.fit_one_cycle(5, 1e-2, wd=0.05)"
   ]
  },
  {
   "cell_type": "markdown",
   "metadata": {
    "id": "SRKSlGl5UQI_"
   },
   "source": [
    "We get roughly the same final MSE."
   ]
  },
  {
   "cell_type": "markdown",
   "metadata": {
    "id": "tmb-31pGswYq"
   },
   "source": [
    "# Use Full DataSet"
   ]
  },
  {
   "cell_type": "markdown",
   "metadata": {
    "id": "cv2yD5hnUU2r"
   },
   "source": [
    "Since we are done prototyping and experimenting with the small dataset, it is time to use the full dataset for modelling.\n",
    "\n",
    "Our full dataset has around 6 million ratings, instead of the 100k we worked with earlier. Therefore it will probably take longer to train. Due to that, we need to train the model for a short number of epochs then save the model's current progress before we continue training.\n"
   ]
  },
  {
   "cell_type": "markdown",
   "metadata": {
    "id": "h7yevjkHU3IZ"
   },
   "source": [
    "We will load in the ratings and pre-process the DataSet as before, then create a DataLoaders object and train the model:"
   ]
  },
  {
   "cell_type": "code",
   "execution_count": 44,
   "metadata": {
    "colab": {
     "base_uri": "https://localhost:8080/",
     "height": 206
    },
    "id": "tAWjr9ePpfps",
    "outputId": "c7358b71-2eb1-4016-d806-996db251c0ba"
   },
   "outputs": [
    {
     "data": {
      "text/html": [
       "<div>\n",
       "<style scoped>\n",
       "    .dataframe tbody tr th:only-of-type {\n",
       "        vertical-align: middle;\n",
       "    }\n",
       "\n",
       "    .dataframe tbody tr th {\n",
       "        vertical-align: top;\n",
       "    }\n",
       "\n",
       "    .dataframe thead th {\n",
       "        text-align: right;\n",
       "    }\n",
       "</style>\n",
       "<table border=\"1\" class=\"dataframe\">\n",
       "  <thead>\n",
       "    <tr style=\"text-align: right;\">\n",
       "      <th></th>\n",
       "      <th>user_id</th>\n",
       "      <th>book_id</th>\n",
       "      <th>rating</th>\n",
       "    </tr>\n",
       "  </thead>\n",
       "  <tbody>\n",
       "    <tr>\n",
       "      <th>0</th>\n",
       "      <td>1</td>\n",
       "      <td>258</td>\n",
       "      <td>5</td>\n",
       "    </tr>\n",
       "    <tr>\n",
       "      <th>1</th>\n",
       "      <td>2</td>\n",
       "      <td>4081</td>\n",
       "      <td>4</td>\n",
       "    </tr>\n",
       "    <tr>\n",
       "      <th>2</th>\n",
       "      <td>2</td>\n",
       "      <td>260</td>\n",
       "      <td>5</td>\n",
       "    </tr>\n",
       "    <tr>\n",
       "      <th>3</th>\n",
       "      <td>2</td>\n",
       "      <td>9296</td>\n",
       "      <td>5</td>\n",
       "    </tr>\n",
       "    <tr>\n",
       "      <th>4</th>\n",
       "      <td>2</td>\n",
       "      <td>2318</td>\n",
       "      <td>3</td>\n",
       "    </tr>\n",
       "  </tbody>\n",
       "</table>\n",
       "</div>"
      ],
      "text/plain": [
       "   user_id  book_id  rating\n",
       "0        1      258       5\n",
       "1        2     4081       4\n",
       "2        2      260       5\n",
       "3        2     9296       5\n",
       "4        2     2318       3"
      ]
     },
     "execution_count": 44,
     "metadata": {
      "tags": []
     },
     "output_type": "execute_result"
    }
   ],
   "source": [
    "ratings = pd.read_csv(path/'ratings.csv')\n",
    "\n",
    "ratings.head()"
   ]
  },
  {
   "cell_type": "code",
   "execution_count": 45,
   "metadata": {
    "colab": {
     "base_uri": "https://localhost:8080/",
     "height": 574
    },
    "id": "d4SqofcGs4fP",
    "outputId": "0880987e-0d71-4f7b-c8a1-01482984435d"
   },
   "outputs": [
    {
     "data": {
      "text/html": [
       "<div>\n",
       "<style scoped>\n",
       "    .dataframe tbody tr th:only-of-type {\n",
       "        vertical-align: middle;\n",
       "    }\n",
       "\n",
       "    .dataframe tbody tr th {\n",
       "        vertical-align: top;\n",
       "    }\n",
       "\n",
       "    .dataframe thead th {\n",
       "        text-align: right;\n",
       "    }\n",
       "</style>\n",
       "<table border=\"1\" class=\"dataframe\">\n",
       "  <thead>\n",
       "    <tr style=\"text-align: right;\">\n",
       "      <th></th>\n",
       "      <th>user_id</th>\n",
       "      <th>book_id</th>\n",
       "      <th>rating</th>\n",
       "      <th>goodreads_book_id</th>\n",
       "      <th>authors</th>\n",
       "      <th>original_publication_year</th>\n",
       "      <th>original_title</th>\n",
       "      <th>average_rating</th>\n",
       "    </tr>\n",
       "  </thead>\n",
       "  <tbody>\n",
       "    <tr>\n",
       "      <th>0</th>\n",
       "      <td>1</td>\n",
       "      <td>258</td>\n",
       "      <td>5</td>\n",
       "      <td>1232</td>\n",
       "      <td>Carlos Ruiz Zafón, Lucia Graves</td>\n",
       "      <td>2001.0</td>\n",
       "      <td>La sombra del viento</td>\n",
       "      <td>4.24</td>\n",
       "    </tr>\n",
       "    <tr>\n",
       "      <th>1</th>\n",
       "      <td>11</td>\n",
       "      <td>258</td>\n",
       "      <td>3</td>\n",
       "      <td>1232</td>\n",
       "      <td>Carlos Ruiz Zafón, Lucia Graves</td>\n",
       "      <td>2001.0</td>\n",
       "      <td>La sombra del viento</td>\n",
       "      <td>4.24</td>\n",
       "    </tr>\n",
       "    <tr>\n",
       "      <th>2</th>\n",
       "      <td>143</td>\n",
       "      <td>258</td>\n",
       "      <td>4</td>\n",
       "      <td>1232</td>\n",
       "      <td>Carlos Ruiz Zafón, Lucia Graves</td>\n",
       "      <td>2001.0</td>\n",
       "      <td>La sombra del viento</td>\n",
       "      <td>4.24</td>\n",
       "    </tr>\n",
       "    <tr>\n",
       "      <th>3</th>\n",
       "      <td>242</td>\n",
       "      <td>258</td>\n",
       "      <td>5</td>\n",
       "      <td>1232</td>\n",
       "      <td>Carlos Ruiz Zafón, Lucia Graves</td>\n",
       "      <td>2001.0</td>\n",
       "      <td>La sombra del viento</td>\n",
       "      <td>4.24</td>\n",
       "    </tr>\n",
       "    <tr>\n",
       "      <th>4</th>\n",
       "      <td>325</td>\n",
       "      <td>258</td>\n",
       "      <td>4</td>\n",
       "      <td>1232</td>\n",
       "      <td>Carlos Ruiz Zafón, Lucia Graves</td>\n",
       "      <td>2001.0</td>\n",
       "      <td>La sombra del viento</td>\n",
       "      <td>4.24</td>\n",
       "    </tr>\n",
       "  </tbody>\n",
       "</table>\n",
       "</div>"
      ],
      "text/plain": [
       "   user_id  book_id  rating  goodreads_book_id  \\\n",
       "0        1      258       5               1232   \n",
       "1       11      258       3               1232   \n",
       "2      143      258       4               1232   \n",
       "3      242      258       5               1232   \n",
       "4      325      258       4               1232   \n",
       "\n",
       "                           authors  original_publication_year  \\\n",
       "0  Carlos Ruiz Zafón, Lucia Graves                     2001.0   \n",
       "1  Carlos Ruiz Zafón, Lucia Graves                     2001.0   \n",
       "2  Carlos Ruiz Zafón, Lucia Graves                     2001.0   \n",
       "3  Carlos Ruiz Zafón, Lucia Graves                     2001.0   \n",
       "4  Carlos Ruiz Zafón, Lucia Graves                     2001.0   \n",
       "\n",
       "         original_title  average_rating  \n",
       "0  La sombra del viento            4.24  \n",
       "1  La sombra del viento            4.24  \n",
       "2  La sombra del viento            4.24  \n",
       "3  La sombra del viento            4.24  \n",
       "4  La sombra del viento            4.24  "
      ]
     },
     "execution_count": 45,
     "metadata": {
      "tags": []
     },
     "output_type": "execute_result"
    }
   ],
   "source": [
    "ratings = ratings.merge(books)\n",
    "\n",
    "ratings.head()"
   ]
  },
  {
   "cell_type": "code",
   "execution_count": 46,
   "metadata": {
    "id": "kNETJorHs9QO"
   },
   "outputs": [],
   "source": [
    "dls = CollabDataLoaders.from_df(ratings=ratings, valid_pct=0.2, \n",
    "                                user_name='user_id', item_name='original_title',\n",
    "                                rating_name='rating')"
   ]
  },
  {
   "cell_type": "code",
   "execution_count": 47,
   "metadata": {
    "colab": {
     "base_uri": "https://localhost:8080/",
     "height": 363
    },
    "id": "9Kee6EiytRqe",
    "outputId": "49eca74f-e86b-44f0-9c3c-a70ed97a7313"
   },
   "outputs": [
    {
     "data": {
      "text/html": [
       "<table border=\"1\" class=\"dataframe\">\n",
       "  <thead>\n",
       "    <tr style=\"text-align: right;\">\n",
       "      <th></th>\n",
       "      <th>user_id</th>\n",
       "      <th>original_title</th>\n",
       "      <th>rating</th>\n",
       "    </tr>\n",
       "  </thead>\n",
       "  <tbody>\n",
       "    <tr>\n",
       "      <th>0</th>\n",
       "      <td>14055</td>\n",
       "      <td>The Crying of Lot 49</td>\n",
       "      <td>3</td>\n",
       "    </tr>\n",
       "    <tr>\n",
       "      <th>1</th>\n",
       "      <td>52968</td>\n",
       "      <td>The Gunslinger</td>\n",
       "      <td>5</td>\n",
       "    </tr>\n",
       "    <tr>\n",
       "      <th>2</th>\n",
       "      <td>14644</td>\n",
       "      <td>The Five People You Meet in Heaven</td>\n",
       "      <td>4</td>\n",
       "    </tr>\n",
       "    <tr>\n",
       "      <th>3</th>\n",
       "      <td>5431</td>\n",
       "      <td>The Gods Themselves</td>\n",
       "      <td>5</td>\n",
       "    </tr>\n",
       "    <tr>\n",
       "      <th>4</th>\n",
       "      <td>31889</td>\n",
       "      <td>A Wrinkle in Time</td>\n",
       "      <td>5</td>\n",
       "    </tr>\n",
       "    <tr>\n",
       "      <th>5</th>\n",
       "      <td>27179</td>\n",
       "      <td>Jurassic Park</td>\n",
       "      <td>5</td>\n",
       "    </tr>\n",
       "    <tr>\n",
       "      <th>6</th>\n",
       "      <td>46433</td>\n",
       "      <td>Watchmen</td>\n",
       "      <td>5</td>\n",
       "    </tr>\n",
       "    <tr>\n",
       "      <th>7</th>\n",
       "      <td>43269</td>\n",
       "      <td>The Fault in Our Stars</td>\n",
       "      <td>1</td>\n",
       "    </tr>\n",
       "    <tr>\n",
       "      <th>8</th>\n",
       "      <td>39282</td>\n",
       "      <td>A Return to Love: Reflections on the Principles of \"A Course in Miracles\"</td>\n",
       "      <td>5</td>\n",
       "    </tr>\n",
       "    <tr>\n",
       "      <th>9</th>\n",
       "      <td>11652</td>\n",
       "      <td>The Mist</td>\n",
       "      <td>3</td>\n",
       "    </tr>\n",
       "  </tbody>\n",
       "</table>"
      ],
      "text/plain": [
       "<IPython.core.display.HTML object>"
      ]
     },
     "metadata": {
      "tags": []
     },
     "output_type": "display_data"
    }
   ],
   "source": [
    "dls.show_batch()"
   ]
  },
  {
   "cell_type": "code",
   "execution_count": 48,
   "metadata": {
    "id": "QYWBRaKtt73G"
   },
   "outputs": [],
   "source": [
    "n_users = len(dls.classes['user_id'])\n",
    "n_books = len(dls.classes['original_title'])"
   ]
  },
  {
   "cell_type": "code",
   "execution_count": 51,
   "metadata": {
    "colab": {
     "base_uri": "https://localhost:8080/",
     "height": 180
    },
    "id": "FvaOgitg4xim",
    "outputId": "645c96e4-a4a8-4671-e3e7-f52e0d54575f"
   },
   "outputs": [
    {
     "data": {
      "text/html": [
       "<h4 id=\"collab_learner\" class=\"doc_header\"><code>collab_learner</code><a href=\"https://github.com/fastai/fastai/tree/master/fastai/collab.py#L90\" class=\"source_link\" style=\"float:right\">[source]</a></h4><blockquote><p><code>collab_learner</code>(<strong><code>dls</code></strong>, <strong><code>n_factors</code></strong>=<em><code>50</code></em>, <strong><code>use_nn</code></strong>=<em><code>False</code></em>, <strong><code>emb_szs</code></strong>=<em><code>None</code></em>, <strong><code>layers</code></strong>=<em><code>None</code></em>, <strong><code>config</code></strong>=<em><code>None</code></em>, <strong><code>y_range</code></strong>=<em><code>None</code></em>, <strong><code>loss_func</code></strong>=<em><code>None</code></em>, <strong><code>opt_func</code></strong>=<em><code>Adam</code></em>, <strong><code>lr</code></strong>=<em><code>0.001</code></em>, <strong><code>splitter</code></strong>=<em><code>trainable_params</code></em>, <strong><code>cbs</code></strong>=<em><code>None</code></em>, <strong><code>metrics</code></strong>=<em><code>None</code></em>, <strong><code>path</code></strong>=<em><code>None</code></em>, <strong><code>model_dir</code></strong>=<em><code>'models'</code></em>, <strong><code>wd</code></strong>=<em><code>None</code></em>, <strong><code>wd_bn_bias</code></strong>=<em><code>False</code></em>, <strong><code>train_bn</code></strong>=<em><code>True</code></em>, <strong><code>moms</code></strong>=<em><code>(0.95, 0.85, 0.95)</code></em>)</p>\n",
       "</blockquote>\n",
       "<p>Create a Learner for collaborative filtering on <code>dls</code>.</p>\n",
       "<p><a href=\"https://docs.fast.ai/collab#collab_learner\" target=\"_blank\" rel=\"noreferrer noopener\">Show in docs</a></p>\n"
      ],
      "text/plain": [
       "<IPython.core.display.HTML object>"
      ]
     },
     "metadata": {
      "tags": []
     },
     "output_type": "display_data"
    }
   ],
   "source": [
    "doc(collab_learner)"
   ]
  },
  {
   "cell_type": "markdown",
   "metadata": {
    "id": "V3ccppX24pPo"
   },
   "source": [
    "We will use the collab_learner provided by fastai for convinience purposes and since I want to export my model after and create an inference app after.\n",
    "\n",
    "**Note**: It does the exact same thing as our DotProduct Model but has some nice additions on top."
   ]
  },
  {
   "cell_type": "code",
   "execution_count": 52,
   "metadata": {
    "id": "Ugf9vZDKuyjg"
   },
   "outputs": [],
   "source": [
    "learn = collab_learner(dls, n_factors=500, y_range=(0, 5.5))"
   ]
  },
  {
   "cell_type": "code",
   "execution_count": 53,
   "metadata": {
    "colab": {
     "base_uri": "https://localhost:8080/",
     "height": 300
    },
    "id": "eI4AJGmru_nJ",
    "outputId": "f4f10202-d22c-493e-98ab-c870924c0ff3"
   },
   "outputs": [
    {
     "data": {
      "text/html": [],
      "text/plain": [
       "<IPython.core.display.HTML object>"
      ]
     },
     "metadata": {
      "tags": []
     },
     "output_type": "display_data"
    },
    {
     "data": {
      "text/plain": [
       "SuggestedLRs(lr_min=0.19054607152938843, lr_steep=2.511886486900039e-05)"
      ]
     },
     "execution_count": 53,
     "metadata": {
      "tags": []
     },
     "output_type": "execute_result"
    },
    {
     "data": {
      "image/png": "[encoded data removed]",
      "text/plain": [
       "<Figure size 432x288 with 1 Axes>"
      ]
     },
     "metadata": {
      "needs_background": "light",
      "tags": []
     },
     "output_type": "display_data"
    }
   ],
   "source": [
    "learn.lr_find()"
   ]
  },
  {
   "cell_type": "code",
   "execution_count": 54,
   "metadata": {
    "colab": {
     "base_uri": "https://localhost:8080/",
     "height": 175
    },
    "id": "T5avNeg7vAuC",
    "outputId": "cc8bc166-34da-49cd-983b-7fc166628515"
   },
   "outputs": [
    {
     "data": {
      "text/html": [
       "<table border=\"1\" class=\"dataframe\">\n",
       "  <thead>\n",
       "    <tr style=\"text-align: left;\">\n",
       "      <th>epoch</th>\n",
       "      <th>train_loss</th>\n",
       "      <th>valid_loss</th>\n",
       "      <th>time</th>\n",
       "    </tr>\n",
       "  </thead>\n",
       "  <tbody>\n",
       "    <tr>\n",
       "      <td>0</td>\n",
       "      <td>7.333699</td>\n",
       "      <td>7.176844</td>\n",
       "      <td>24:07</td>\n",
       "    </tr>\n",
       "    <tr>\n",
       "      <td>1</td>\n",
       "      <td>7.123693</td>\n",
       "      <td>6.995453</td>\n",
       "      <td>24:09</td>\n",
       "    </tr>\n",
       "    <tr>\n",
       "      <td>2</td>\n",
       "      <td>5.130961</td>\n",
       "      <td>5.162658</td>\n",
       "      <td>23:57</td>\n",
       "    </tr>\n",
       "    <tr>\n",
       "      <td>3</td>\n",
       "      <td>1.104243</td>\n",
       "      <td>1.095618</td>\n",
       "      <td>24:06</td>\n",
       "    </tr>\n",
       "  </tbody>\n",
       "</table>"
      ],
      "text/plain": [
       "<IPython.core.display.HTML object>"
      ]
     },
     "metadata": {
      "tags": []
     },
     "output_type": "display_data"
    }
   ],
   "source": [
    "learn.fit_one_cycle(4, 1e-1)"
   ]
  },
  {
   "cell_type": "markdown",
   "metadata": {
    "id": "0GCXjbZTVCrP"
   },
   "source": [
    "After 4 epochs, we get a MSE of 1.09. This is probably a good time to save the model so we do not lose our progress:"
   ]
  },
  {
   "cell_type": "code",
   "execution_count": 55,
   "metadata": {
    "colab": {
     "base_uri": "https://localhost:8080/"
    },
    "id": "0TwdVXYLvJ83",
    "outputId": "41b6d119-bdcf-4ac0-c8e4-3540acb914f5"
   },
   "outputs": [
    {
     "data": {
      "text/plain": [
       "Path('models/4epochs.pth')"
      ]
     },
     "execution_count": 55,
     "metadata": {
      "tags": []
     },
     "output_type": "execute_result"
    }
   ],
   "source": [
    "learn.save('4epochs')"
   ]
  },
  {
   "cell_type": "code",
   "execution_count": 56,
   "metadata": {
    "id": "kQMbyTBbMSTL"
   },
   "outputs": [],
   "source": [
    "#| include: false\n",
    "# If you are using Colab, you can save the model in your Google Drive too\n",
    "!cp models/4epochs.pth gdrive/MyDrive/Models/Book\\ Collab\\ Filtering/"
   ]
  },
  {
   "cell_type": "markdown",
   "metadata": {
    "id": "TmrZqhaZVSyd"
   },
   "source": [
    "We can now load up the model and find continue training it for two more epochs and see if it improves:"
   ]
  },
  {
   "cell_type": "code",
   "execution_count": 57,
   "metadata": {
    "id": "gS4C5XR2GRLQ"
   },
   "outputs": [],
   "source": [
    "learn = learn.load('4epochs')"
   ]
  },
  {
   "cell_type": "code",
   "execution_count": 58,
   "metadata": {
    "colab": {
     "base_uri": "https://localhost:8080/"
    },
    "id": "gt5PlCmjMLYw",
    "outputId": "efd47239-8f5a-455e-8631-d17b09ea1527"
   },
   "outputs": [
    {
     "data": {
      "text/plain": [
       "EmbeddingDotBias(\n",
       "  (u_weight): Embedding(53425, 500)\n",
       "  (i_weight): Embedding(9269, 500)\n",
       "  (u_bias): Embedding(53425, 1)\n",
       "  (i_bias): Embedding(9269, 1)\n",
       ")"
      ]
     },
     "execution_count": 58,
     "metadata": {
      "tags": []
     },
     "output_type": "execute_result"
    }
   ],
   "source": [
    "learn.model"
   ]
  },
  {
   "cell_type": "code",
   "execution_count": 59,
   "metadata": {
    "colab": {
     "base_uri": "https://localhost:8080/",
     "height": 300
    },
    "id": "USQ7LEoAMDhl",
    "outputId": "1f825f9b-49b1-4fbf-bd60-e9b5e331f8d1"
   },
   "outputs": [
    {
     "data": {
      "text/html": [],
      "text/plain": [
       "<IPython.core.display.HTML object>"
      ]
     },
     "metadata": {
      "tags": []
     },
     "output_type": "display_data"
    },
    {
     "data": {
      "text/plain": [
       "SuggestedLRs(lr_min=0.002754228748381138, lr_steep=8.31763736641733e-06)"
      ]
     },
     "execution_count": 59,
     "metadata": {
      "tags": []
     },
     "output_type": "execute_result"
    },
    {
     "data": {
      "image/png": "[encoded data removed]",
      "text/plain": [
       "<Figure size 432x288 with 1 Axes>"
      ]
     },
     "metadata": {
      "needs_background": "light",
      "tags": []
     },
     "output_type": "display_data"
    }
   ],
   "source": [
    "learn.lr_find()"
   ]
  },
  {
   "cell_type": "code",
   "execution_count": 60,
   "metadata": {
    "colab": {
     "base_uri": "https://localhost:8080/",
     "height": 112
    },
    "id": "KLHW-AMdGWwO",
    "outputId": "85cdd055-7d83-4c8e-8358-41feacc2a197"
   },
   "outputs": [
    {
     "data": {
      "text/html": [
       "<table border=\"1\" class=\"dataframe\">\n",
       "  <thead>\n",
       "    <tr style=\"text-align: left;\">\n",
       "      <th>epoch</th>\n",
       "      <th>train_loss</th>\n",
       "      <th>valid_loss</th>\n",
       "      <th>time</th>\n",
       "    </tr>\n",
       "  </thead>\n",
       "  <tbody>\n",
       "    <tr>\n",
       "      <td>0</td>\n",
       "      <td>0.631629</td>\n",
       "      <td>0.749671</td>\n",
       "      <td>24:14</td>\n",
       "    </tr>\n",
       "    <tr>\n",
       "      <td>1</td>\n",
       "      <td>0.374357</td>\n",
       "      <td>0.715882</td>\n",
       "      <td>24:15</td>\n",
       "    </tr>\n",
       "  </tbody>\n",
       "</table>"
      ],
      "text/plain": [
       "<IPython.core.display.HTML object>"
      ]
     },
     "metadata": {
      "tags": []
     },
     "output_type": "display_data"
    }
   ],
   "source": [
    "learn.fit_one_cycle(2, 1e-3)"
   ]
  },
  {
   "cell_type": "markdown",
   "metadata": {
    "id": "IddyhjiugEOi"
   },
   "source": [
    "We go down to an MSE of 0.71 which is even better than what we got with the subset of the dataset."
   ]
  },
  {
   "cell_type": "markdown",
   "metadata": {
    "id": "YD8MKSz2VbAk"
   },
   "source": [
    "Since it is taking long to train and I was happy with the results at this point, I stopped after 6 epochs and saved the model. However, if you have time and resources, you can continue training using the same process of saving progress after a few epochs."
   ]
  },
  {
   "cell_type": "code",
   "execution_count": 61,
   "metadata": {
    "colab": {
     "base_uri": "https://localhost:8080/"
    },
    "id": "_zOGAOvnGcE1",
    "outputId": "ba57b654-2bde-4ac8-c62c-4a66d2e13193"
   },
   "outputs": [
    {
     "data": {
      "text/plain": [
       "Path('models/6epochs.pth')"
      ]
     },
     "execution_count": 61,
     "metadata": {
      "tags": []
     },
     "output_type": "execute_result"
    }
   ],
   "source": [
    "learn.save('6epochs')"
   ]
  },
  {
   "cell_type": "code",
   "execution_count": 62,
   "metadata": {
    "id": "jYlSwTRSgN2y"
   },
   "outputs": [],
   "source": [
    "#| include: false\n",
    "# If you are using Colab, you can save the model in your Google Drive too\n",
    "!cp models/6epochs.pth gdrive/MyDrive/Models/Book\\ Collab\\ Filtering/"
   ]
  },
  {
   "cell_type": "markdown",
   "metadata": {
    "id": "Kxr5JNfvYmOH"
   },
   "source": [
    "# Interpreting the Full Model"
   ]
  },
  {
   "cell_type": "markdown",
   "metadata": {
    "id": "4lFLCsVaVxDS"
   },
   "source": [
    "We can see what our model with the full dataset learned."
   ]
  },
  {
   "cell_type": "markdown",
   "metadata": {
    "id": "KZI2xGVRV0Wa"
   },
   "source": [
    "We will start with the 5 books with the lowest bias (Generally bad books even if you would like the genre):"
   ]
  },
  {
   "cell_type": "code",
   "execution_count": 63,
   "metadata": {
    "colab": {
     "base_uri": "https://localhost:8080/"
    },
    "id": "Ie2vmtX-YeWe",
    "outputId": "8a598505-b67f-46cd-a325-866aac96c88f"
   },
   "outputs": [
    {
     "data": {
      "text/plain": [
       "['One Night @ The Call Center',\n",
       " 'Half Girlfriend',\n",
       " 'ليتها تقرأ',\n",
       " 'The 3 Mistakes of My Life',\n",
       " 'of course i love you']"
      ]
     },
     "execution_count": 63,
     "metadata": {
      "tags": []
     },
     "output_type": "execute_result"
    }
   ],
   "source": [
    "book_bias = learn.model.i_bias.weight.squeeze()\n",
    "idxs = book_bias.argsort()[:5]\n",
    "[dls.classes['original_title'][i] for i in idxs]"
   ]
  },
  {
   "cell_type": "markdown",
   "metadata": {
    "id": "g_D-mdUxV-FL"
   },
   "source": [
    "The book *One Night @ The Call Center* makes another appearance. It must be a really bad book."
   ]
  },
  {
   "cell_type": "markdown",
   "metadata": {
    "id": "IOYNpnWpWGMN"
   },
   "source": [
    "Now for the generally good books, the books with the highest book bias:"
   ]
  },
  {
   "cell_type": "code",
   "execution_count": 64,
   "metadata": {
    "colab": {
     "base_uri": "https://localhost:8080/"
    },
    "id": "YY4rx5G-YokE",
    "outputId": "770662d2-ee12-4983-db87-5f3eba3f0425"
   },
   "outputs": [
    {
     "data": {
      "text/plain": [
       "['The Complete Calvin and Hobbes',\n",
       " 'Words of Radiance',\n",
       " 'Complete Harry Potter Boxed Set',\n",
       " 'The Essential Calvin and Hobbes: A Calvin and Hobbes Treasury',\n",
       " 'The Calvin and Hobbes Tenth Anniversary Book']"
      ]
     },
     "execution_count": 64,
     "metadata": {
      "tags": []
     },
     "output_type": "execute_result"
    }
   ],
   "source": [
    "idxs = book_bias.argsort(descending=True)[:5]\n",
    "[dls.classes['original_title'][i] for i in idxs]"
   ]
  },
  {
   "cell_type": "markdown",
   "metadata": {
    "id": "bqWu_cykWLDR"
   },
   "source": [
    "Harry Potter makes another appearance. Let us check out one of the books:"
   ]
  },
  {
   "cell_type": "code",
   "execution_count": 65,
   "metadata": {
    "colab": {
     "base_uri": "https://localhost:8080/",
     "height": 36
    },
    "id": "AsW7S2pbaCGN",
    "outputId": "1e3c1cb2-1503-4784-bce3-6666f9142e19"
   },
   "outputs": [
    {
     "data": {
      "application/vnd.google.colaboratory.intrinsic+json": {
       "type": "string"
      },
      "text/plain": [
       "'https://www.goodreads.com/book/show/17332218'"
      ]
     },
     "execution_count": 65,
     "metadata": {
      "tags": []
     },
     "output_type": "execute_result"
    }
   ],
   "source": [
    "id = int(books.loc[books['original_title']=='Words of Radiance']['goodreads_book_id'].values)\n",
    "url = f'https://www.goodreads.com/book/show/{id}'\n",
    "url"
   ]
  },
  {
   "cell_type": "markdown",
   "metadata": {
    "id": "rg1o9NYqWj-8"
   },
   "source": [
    "Here is a sample review of the book:\n",
    "\n",
    "![Screenshot_2021-02-15 Words of Radiance (The Stormlight Archive, #2).png](data:image/png;base64,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)"
   ]
  },
  {
   "cell_type": "markdown",
   "metadata": {
    "id": "wRwVwNjpWtYH"
   },
   "source": [
    "Next we can check out the Book Embeddings using the PCA trick we utilized before:"
   ]
  },
  {
   "cell_type": "code",
   "execution_count": 67,
   "metadata": {
    "colab": {
     "base_uri": "https://localhost:8080/"
    },
    "id": "smGJRkT8gjaP",
    "outputId": "62c59cce-502d-4064-c0c8-bd0ca6460da6"
   },
   "outputs": [
    {
     "data": {
      "text/plain": [
       "EmbeddingDotBias(\n",
       "  (u_weight): Embedding(53425, 500)\n",
       "  (i_weight): Embedding(9269, 500)\n",
       "  (u_bias): Embedding(53425, 1)\n",
       "  (i_bias): Embedding(9269, 1)\n",
       ")"
      ]
     },
     "execution_count": 67,
     "metadata": {
      "tags": []
     },
     "output_type": "execute_result"
    }
   ],
   "source": [
    "learn.model"
   ]
  },
  {
   "cell_type": "code",
   "execution_count": 71,
   "metadata": {
    "colab": {
     "base_uri": "https://localhost:8080/",
     "height": 700
    },
    "id": "tt85G-XcYxHe",
    "outputId": "c2a2f12e-d012-4fc3-9ce0-e41edb17cc76"
   },
   "outputs": [
    {
     "data": {
      "image/png": "[encoded data removed]",
      "text/plain": [
       "<Figure size 864x864 with 1 Axes>"
      ]
     },
     "metadata": {
      "needs_background": "light",
      "tags": []
     },
     "output_type": "display_data"
    }
   ],
   "source": [
    "#| fig-cap: \"Representation of Books based on two strongest PCA components\"\n",
    "g = ratings.groupby('original_title')['rating'].count()\n",
    "top_books = g.sort_values(ascending=False).index.values[:10000]\n",
    "top_idxs = tensor([learn.dls.classes['original_title'].o2i[m] for m in top_books])\n",
    "books_w = learn.model.i_weight.weight[top_idxs].cpu().detach()\n",
    "books_pca = books_w.pca(3)\n",
    "fac0,fac1,fac2 = books_pca.t()\n",
    "idxs = list(range(50))\n",
    "X = fac0[idxs]\n",
    "Y = fac2[idxs]\n",
    "plt.figure(figsize=(12,12))\n",
    "plt.scatter(X, Y)\n",
    "for i, x, y in zip(top_books[idxs], X, Y):\n",
    "    plt.text(x,y,i, color=np.random.rand(3)*0.7, fontsize=11)\n",
    "plt.show()"
   ]
  },
  {
   "cell_type": "markdown",
   "metadata": {
    "id": "7HK4OTawW3Mj"
   },
   "source": [
    "And we can check the distances (similar books). We use The Da Vinci Code again as an example:"
   ]
  },
  {
   "cell_type": "code",
   "execution_count": 73,
   "metadata": {
    "colab": {
     "base_uri": "https://localhost:8080/"
    },
    "id": "BMDJ1DTJY3rW",
    "outputId": "f4b07c68-561a-4ba5-f4c7-de59e582c775"
   },
   "outputs": [
    {
     "data": {
      "text/plain": [
       "['Angels & Demons ',\n",
       " 'The Lost Symbol',\n",
       " 'Deception Point',\n",
       " 'Digital Fortress',\n",
       " 'The Firm']"
      ]
     },
     "execution_count": 73,
     "metadata": {
      "tags": []
     },
     "output_type": "execute_result"
    }
   ],
   "source": [
    "book_factors = learn.model.i_weight.weight\n",
    "idx = dls.classes['original_title'].o2i['The Da Vinci Code']\n",
    "distances = nn.CosineSimilarity(dim=1)(book_factors, book_factors[idx][None])\n",
    "idx = distances.argsort(descending=True)[1:6]\n",
    "# dls.classes['original_title'][idx]\n",
    "[dls.classes['original_title'][i] for i in idx]"
   ]
  },
  {
   "cell_type": "markdown",
   "metadata": {
    "id": "X87mV9xSXCqH"
   },
   "source": [
    "Now that I am happy with my model, I will export it and use it to create a Web App for Recommending Similar Books. That will be in Part 2 of this blog and it is coming soon."
   ]
  },
  {
   "cell_type": "code",
   "execution_count": 74,
   "metadata": {
    "id": "6VypgNfNZnmx"
   },
   "outputs": [],
   "source": [
    "learn.export('final_model.pkl')"
   ]
  },
  {
   "cell_type": "code",
   "execution_count": 75,
   "metadata": {
    "id": "ubQP7OEBbKAF"
   },
   "outputs": [],
   "source": [
    "#| include: false\n",
    "#saving my model in Google Drive\n",
    "!cp final_model.pkl gdrive/MyDrive/Models/Book\\ Collab\\ Filtering/"
   ]
  }
 ],
 "metadata": {
  "accelerator": "GPU",
  "colab": {
   "collapsed_sections": [],
   "name": "Book Recommendation.ipynb",
   "provenance": []
  },
  "kernelspec": {
   "display_name": "Python 3 (ipykernel)",
   "language": "python",
   "name": "python3"
  },
  "language_info": {
   "codemirror_mode": {
    "name": "ipython",
    "version": 3
   },
   "file_extension": ".py",
   "mimetype": "text/x-python",
   "name": "python",
   "nbconvert_exporter": "python",
   "pygments_lexer": "ipython3",
   "version": "3.9.7"
  }
 },
 "nbformat": 4,
 "nbformat_minor": 4
}
