{
 "cells": [
  {
   "cell_type": "raw",
   "metadata": {},
   "source": [
    "---\n",
    "title: \"Deep Residual Learning for Image Recognition (2015)\"\n",
    "description: \"Implementing the ResNet Paper\"\n",
    "date: \"2021-09-28\"\n",
    "formart:\n",
    "  html:\n",
    "    code-fold: false\n",
    "categories: [technical, intermediate, paper-implementation]\n",
    "jupyter: python3\n",
    "---"
   ]
  },
  {
   "cell_type": "code",
   "execution_count": 1,
   "metadata": {
    "colab": {
     "base_uri": "https://localhost:8080/"
    },
    "id": "dmxilywN-762",
    "outputId": "3db2eed7-24e2-4e2b-9769-fedebd3ba0e5"
   },
   "outputs": [
    {
     "name": "stdout",
     "output_type": "stream",
     "text": [
      "\u001b[K     |████████████████████████████████| 56 kB 2.3 MB/s eta 0:00:011\n",
      "\u001b[K     |████████████████████████████████| 98 kB 4.6 MB/s \n",
      "\u001b[K     |████████████████████████████████| 76 kB 4.1 MB/s \n",
      "\u001b[K     |████████████████████████████████| 37.1 MB 49 kB/s \n",
      "\u001b[?25h"
     ]
    }
   ],
   "source": [
    "#| include: false\n",
    "!pip install -Uqq fastcore albumentations tqdm"
   ]
  },
  {
   "cell_type": "code",
   "execution_count": 2,
   "metadata": {
    "id": "PCfKRnzXfvgD"
   },
   "outputs": [],
   "source": [
    "#| include: false\n",
    "def imshow(image, ax=None, title=None, normalize=True):\n",
    "    \"\"\"Imshow for Tensor.\"\"\"\n",
    "    if ax is None:\n",
    "        fig, ax = plt.subplots()\n",
    "    image = image.numpy().transpose((1, 2, 0))\n",
    "\n",
    "    if normalize:\n",
    "        mean = np.array([0.5, 0.5, 0.5])\n",
    "        std = np.array([0.5, 0.5, 0.5])\n",
    "        image = std * image + mean\n",
    "        image = np.clip(image, 0, 1)\n",
    "\n",
    "    ax.imshow(image)\n",
    "    ax.spines['top'].set_visible(False)\n",
    "    ax.spines['right'].set_visible(False)\n",
    "    ax.spines['left'].set_visible(False)\n",
    "    ax.spines['bottom'].set_visible(False)\n",
    "    ax.tick_params(axis='both', length=0)\n",
    "    ax.set_xticklabels('')\n",
    "    ax.set_yticklabels('')\n",
    "    if title is not None: \n",
    "      ax.set_title(title)\n",
    "\n",
    "    return ax"
   ]
  },
  {
   "cell_type": "markdown",
   "metadata": {
    "id": "pyZTx4m1gcgS"
   },
   "source": [
    "# Imports"
   ]
  },
  {
   "cell_type": "code",
   "execution_count": 4,
   "metadata": {
    "id": "-8Mot7XBFsT3"
   },
   "outputs": [],
   "source": [
    "#| code-fold: true\n",
    "#| code-summary: \"Imports\"\n",
    "import os\n",
    "import urllib\n",
    "import urllib.request\n",
    "import shutil\n",
    "from glob import glob\n",
    "import cv2\n",
    "from collections import defaultdict\n",
    "from tqdm import tqdm\n",
    "\n",
    "import numpy as np\n",
    "import matplotlib.pyplot as plt\n",
    "\n",
    "# PyTorch stuff\n",
    "import torch\n",
    "import torch.nn as nn\n",
    "import torch.nn.functional as F\n",
    "from torch.utils.data import Dataset, DataLoader\n",
    "import torch.optim as optim\n",
    "import torchvision\n",
    "import torch.backends.cudnn as cudnn\n",
    "\n",
    "# Albumentations\n",
    "import albumentations as A\n",
    "from albumentations.pytorch import ToTensorV2\n",
    "\n",
    "# fasctore\n",
    "from fastcore.all import *\n",
    "\n",
    "# Ignore excessive warnings\n",
    "import logging\n",
    "logging.propagate = False \n",
    "logging.getLogger().setLevel(logging.ERROR)\n",
    "\n",
    "cudnn.benchmark = True"
   ]
  },
  {
   "cell_type": "markdown",
   "metadata": {
    "id": "s5aQ9l2Agik9"
   },
   "source": [
    "# Introduction"
   ]
  },
  {
   "cell_type": "markdown",
   "metadata": {
    "id": "6P_3Md_2gngx"
   },
   "source": [
    "In 2015, Kaiming He and other researchers form Microsoft introduced a novel training approach that won them the ILSVRC competition. Their approach was based on residual learning that eased the training of substantially deeper networks, which was unheard of at that time. Resnets, as they are commonly referred to now, have been very influential in that modern networks usually build on the concept introduced by them.\n",
    "\n",
    "In this blog post, we are going to be implementing their research paper and trying to get an intuition of what the residual learning framework means. I also try to run the experiments they ran (although in a smaller scale) and see if we land the same results as them."
   ]
  },
  {
   "cell_type": "markdown",
   "metadata": {
    "id": "gJrm3WzYh_be"
   },
   "source": [
    "The research paper can be found here: https://arxiv.org/pdf/1512.03385.pdf"
   ]
  },
  {
   "cell_type": "markdown",
   "metadata": {
    "id": "Dh00pgdRCcI9"
   },
   "source": [
    "## Getting the Data"
   ]
  },
  {
   "cell_type": "markdown",
   "metadata": {
    "id": "_xCfZrAFCe7U"
   },
   "source": [
    "For our experiments, we are going to be using the [Imagenette Dataset](https://github.com/fastai/imagenette), created by [Jeremy Howard](https://twitter.com/jeremyphoward/status/1103129618435923968?lang=en), which is a subset of the Imagenet Dataset, but with only 10 classes and fewer images than the original."
   ]
  },
  {
   "cell_type": "code",
   "execution_count": 5,
   "metadata": {
    "id": "zM2e12PqCeKb"
   },
   "outputs": [],
   "source": [
    "URL = 'https://s3.amazonaws.com/fast-ai-imageclas/imagenette2-320.tgz'\n",
    "FILE = 'imagenette2-320.tgz'\n",
    "FOLDER = 'data'"
   ]
  },
  {
   "cell_type": "markdown",
   "metadata": {
    "id": "FWuAwQlqi57N"
   },
   "source": [
    "We create a small function that fetches the data and returns a Path object poining to where the data is:"
   ]
  },
  {
   "cell_type": "code",
   "execution_count": 6,
   "metadata": {
    "id": "fU7_iPfgJcDg"
   },
   "outputs": [],
   "source": [
    "def get_data(URL, FILE, FOLDER):\n",
    "  # This is a function that downloads and extracts the data\n",
    "  # then returns a pathlib object containing the location of the data\n",
    "\n",
    "  # Downloading\n",
    "  if not os.path.isfile(FILE):\n",
    "    print(f'Downloading {URL} and saving it as {FILE}')\n",
    "    print('-'*120)\n",
    "    urllib.request.urlretrieve(URL, FILE)\n",
    "    print('Finished Downloading')\n",
    "  else:\n",
    "    print(f'{FILE} already exists')\n",
    "  \n",
    "  # Extracting\n",
    "  print('\\n')\n",
    "  print(f'Extracting Files into {FOLDER}')\n",
    "  shutil.unpack_archive(FILE, FOLDER)\n",
    "  return Path(FOLDER)"
   ]
  },
  {
   "cell_type": "code",
   "execution_count": 7,
   "metadata": {
    "colab": {
     "base_uri": "https://localhost:8080/"
    },
    "id": "_cF99pFXKDsS",
    "outputId": "1cd1d93b-5871-4e84-a17b-2bb3f3bed092"
   },
   "outputs": [
    {
     "name": "stdout",
     "output_type": "stream",
     "text": [
      "Downloading https://s3.amazonaws.com/fast-ai-imageclas/imagenette2-320.tgz and saving it as imagenette2-320.tgz\n",
      "------------------------------------------------------------------------------------------------------------------------\n",
      "Finished Downloading\n",
      "\n",
      "\n",
      "Extracting Files into data\n"
     ]
    }
   ],
   "source": [
    "path = get_data(URL, FILE, FOLDER)"
   ]
  },
  {
   "cell_type": "code",
   "execution_count": 8,
   "metadata": {
    "id": "teNfjf7bQw_2"
   },
   "outputs": [],
   "source": [
    "#| include: false\n",
    "Path.BASE_PATH = path"
   ]
  },
  {
   "cell_type": "markdown",
   "metadata": {
    "id": "9piYN--vjEJv"
   },
   "source": [
    "We are using the slightly modified Path object from `fastcore` which has useful functions, like `ls` which prints the files and folders present in our path. You can learn more about [fastcore here](https://fastcore.fast.ai/) and its functionalities."
   ]
  },
  {
   "cell_type": "code",
   "execution_count": 9,
   "metadata": {
    "colab": {
     "base_uri": "https://localhost:8080/"
    },
    "id": "HYOqzAhORJrr",
    "outputId": "f1a5c635-061f-47e0-ad3f-1fa7cf743fc4"
   },
   "outputs": [
    {
     "data": {
      "text/plain": [
       "(#3) [Path('imagenette2-320/val'),Path('imagenette2-320/train'),Path('imagenette2-320/noisy_imagenette.csv')]"
      ]
     },
     "execution_count": 9,
     "metadata": {},
     "output_type": "execute_result"
    }
   ],
   "source": [
    "(path/'imagenette2-320').ls()"
   ]
  },
  {
   "cell_type": "markdown",
   "metadata": {
    "id": "lZpg_XajjSPK"
   },
   "source": [
    "We can look inside the training folder to see what we are working with:"
   ]
  },
  {
   "cell_type": "code",
   "execution_count": 10,
   "metadata": {
    "colab": {
     "base_uri": "https://localhost:8080/"
    },
    "id": "m5EKQDF4RWQZ",
    "outputId": "bd10240c-93a1-4f18-b68c-77ff1352b678"
   },
   "outputs": [
    {
     "data": {
      "text/plain": [
       "(#10) [Path('imagenette2-320/train/n03888257'),Path('imagenette2-320/train/n02102040'),Path('imagenette2-320/train/n03028079'),Path('imagenette2-320/train/n03000684'),Path('imagenette2-320/train/n02979186'),Path('imagenette2-320/train/n03394916'),Path('imagenette2-320/train/n03425413'),Path('imagenette2-320/train/n03417042'),Path('imagenette2-320/train/n01440764'),Path('imagenette2-320/train/n03445777')]"
      ]
     },
     "execution_count": 10,
     "metadata": {},
     "output_type": "execute_result"
    }
   ],
   "source": [
    "(path/'imagenette2-320'/'train').ls()"
   ]
  },
  {
   "cell_type": "markdown",
   "metadata": {
    "id": "LyK4rNWjjYRS"
   },
   "source": [
    "Now, we will recursively go through all the folders and create a list of all `JPEG` files:"
   ]
  },
  {
   "cell_type": "code",
   "execution_count": 11,
   "metadata": {
    "colab": {
     "base_uri": "https://localhost:8080/"
    },
    "id": "_1CY8N77Rn4Y",
    "outputId": "755183bc-f5a7-4d32-d35b-dc433d9cd88c"
   },
   "outputs": [
    {
     "data": {
      "text/plain": [
       "Path('imagenette2-320/val/n03888257/n03888257_19462.JPEG')"
      ]
     },
     "execution_count": 11,
     "metadata": {},
     "output_type": "execute_result"
    }
   ],
   "source": [
    "files = L(glob(f'{path}/**/*.JPEG', recursive=True)).map(Path)\n",
    "files[0]"
   ]
  },
  {
   "cell_type": "code",
   "execution_count": 12,
   "metadata": {
    "colab": {
     "base_uri": "https://localhost:8080/"
    },
    "id": "giEGgj97Sb9B",
    "outputId": "22b219ef-4d2f-463b-c659-578c3b3ff495"
   },
   "outputs": [
    {
     "data": {
      "text/plain": [
       "13394"
      ]
     },
     "execution_count": 12,
     "metadata": {},
     "output_type": "execute_result"
    }
   ],
   "source": [
    "len(files)"
   ]
  },
  {
   "cell_type": "markdown",
   "metadata": {
    "id": "3yg0YQbRjhxV"
   },
   "source": [
    "We can see that we have around 13,000 images to work with, which is reasonable for our task at hand.\n",
    "\n",
    "Another useful item that we are going to require for modelling purposes is the labels of all the images. Our images have been arranged folder-wise, where each folder represent a different class:"
   ]
  },
  {
   "cell_type": "code",
   "execution_count": 13,
   "metadata": {
    "colab": {
     "base_uri": "https://localhost:8080/"
    },
    "id": "8smh0fGZStAx",
    "outputId": "93daefde-1d7d-4fd7-fe71-86f1e29e14d5"
   },
   "outputs": [
    {
     "data": {
      "text/plain": [
       "(#10) ['n03888257','n02102040','n03028079','n03000684','n02979186','n03394916','n03425413','n03417042','n01440764','n03445777']"
      ]
     },
     "execution_count": 13,
     "metadata": {},
     "output_type": "execute_result"
    }
   ],
   "source": [
    "lbls = files.map(Self.parent.name()).unique()\n",
    "lbls"
   ]
  },
  {
   "cell_type": "markdown",
   "metadata": {
    "id": "0XNmYqptkGV2"
   },
   "source": [
    "Our Neural Network expects numerical input so we need to convert those labels to numbers:"
   ]
  },
  {
   "cell_type": "code",
   "execution_count": 14,
   "metadata": {
    "colab": {
     "base_uri": "https://localhost:8080/"
    },
    "id": "J7ni8WKESygd",
    "outputId": "94893bb9-3d1c-48c8-87ae-85f10aa1a396"
   },
   "outputs": [
    {
     "data": {
      "text/plain": [
       "{'n01440764': 8,\n",
       " 'n02102040': 1,\n",
       " 'n02979186': 4,\n",
       " 'n03000684': 3,\n",
       " 'n03028079': 2,\n",
       " 'n03394916': 5,\n",
       " 'n03417042': 7,\n",
       " 'n03425413': 6,\n",
       " 'n03445777': 9,\n",
       " 'n03888257': 0}"
      ]
     },
     "execution_count": 14,
     "metadata": {},
     "output_type": "execute_result"
    }
   ],
   "source": [
    "v2i = lbls.val2idx()\n",
    "v2i"
   ]
  },
  {
   "cell_type": "markdown",
   "metadata": {
    "id": "NNBdO6UIkPeX"
   },
   "source": [
    "Now we can create our Dataset, specify some transforms we need, split the data into training and validation and create a function that returns our Dataloaders:"
   ]
  },
  {
   "cell_type": "code",
   "execution_count": 15,
   "metadata": {
    "id": "Tmfsbq7LTCUL"
   },
   "outputs": [],
   "source": [
    "class Imagenette(Dataset):\n",
    "  def __init__(self, files, v2i, transform=None):\n",
    "    self.files = files\n",
    "    self.v2i = v2i\n",
    "    self.transform = transform\n",
    "  \n",
    "  def __len__(self):\n",
    "    return len(self.files)\n",
    "  \n",
    "  def __getitem__(self, idx):\n",
    "    image_filepath = self.files[idx]\n",
    "    image = cv2.imread(f'{image_filepath}')\n",
    "    image = cv2.cvtColor(image, cv2.COLOR_BGR2RGB)\n",
    "    label = self.v2i[self.files[idx].parent.name]\n",
    "\n",
    "    # transform if available\n",
    "    if self.transform is not None:\n",
    "      image = self.transform(image=image)[\"image\"]\n",
    "    \n",
    "    return image, label"
   ]
  },
  {
   "cell_type": "code",
   "execution_count": 16,
   "metadata": {
    "id": "F1u52wIHrJqX"
   },
   "outputs": [],
   "source": [
    "train_transform = A.Compose(\n",
    "    [\n",
    "        A.SmallestMaxSize(max_size=160),\n",
    "        A.ShiftScaleRotate(shift_limit=0.05, scale_limit=0.05, rotate_limit=15, p=0.5),\n",
    "        A.RandomCrop(height=128, width=128),\n",
    "        A.Rotate(limit=40, p=0.9, border_mode=cv2.BORDER_CONSTANT),\n",
    "        A.HorizontalFlip(p=0.5),\n",
    "        A.VerticalFlip(p=0.1),\n",
    "        A.RGBShift(r_shift_limit=15, g_shift_limit=15, b_shift_limit=15, p=0.5),\n",
    "        A.RandomBrightnessContrast(p=0.5),\n",
    "        A.Normalize(mean=(0.485, 0.456, 0.406), std=(0.229, 0.224, 0.225)),\n",
    "        ToTensorV2(),\n",
    "    ]\n",
    ")\n",
    "\n",
    "val_transform = A.Compose(\n",
    "    [\n",
    "        A.SmallestMaxSize(max_size=160),\n",
    "        A.CenterCrop(height=128, width=128),\n",
    "        A.Normalize(mean=(0.485, 0.456, 0.406), std=(0.229, 0.224, 0.225)),\n",
    "        ToTensorV2(),\n",
    "    ]\n",
    ")"
   ]
  },
  {
   "cell_type": "code",
   "execution_count": 17,
   "metadata": {
    "colab": {
     "base_uri": "https://localhost:8080/"
    },
    "id": "zjrP3DwDrQby",
    "outputId": "f7d2b010-808c-433e-d7df-b5ac95781cd0"
   },
   "outputs": [
    {
     "data": {
      "text/plain": [
       "(9469, 3925)"
      ]
     },
     "execution_count": 17,
     "metadata": {},
     "output_type": "execute_result"
    }
   ],
   "source": [
    "train_filt = L(o.parent.parent.name=='train' for o in files)\n",
    "train,valid = files[train_filt],files[~train_filt]\n",
    "len(train),len(valid)"
   ]
  },
  {
   "cell_type": "code",
   "execution_count": 18,
   "metadata": {
    "colab": {
     "base_uri": "https://localhost:8080/"
    },
    "id": "-eOW0eoUrTdA",
    "outputId": "0a785aac-c79c-4f70-ba25-9adcf032ff2c"
   },
   "outputs": [
    {
     "data": {
      "text/plain": [
       "(torch.Size([3, 128, 128]), 1)"
      ]
     },
     "execution_count": 18,
     "metadata": {},
     "output_type": "execute_result"
    }
   ],
   "source": [
    "train_ds = Imagenette(train, v2i, train_transform)\n",
    "valid_ds = Imagenette(valid, v2i, val_transform)\n",
    "x,y = train_ds[1000]\n",
    "x.shape,y"
   ]
  },
  {
   "cell_type": "code",
   "execution_count": 19,
   "metadata": {
    "colab": {
     "base_uri": "https://localhost:8080/",
     "height": 264
    },
    "id": "GKVZPgMQrnQw",
    "outputId": "b553e4c6-f2e8-46d9-9482-0588c92e3c83"
   },
   "outputs": [
    {
     "data": {
      "image/png": "[encoded data removed]",
      "text/plain": [
       "<Figure size 432x288 with 1 Axes>"
      ]
     },
     "metadata": {
      "needs_background": "light"
     },
     "output_type": "display_data"
    }
   ],
   "source": [
    "imshow(x, title=y);"
   ]
  },
  {
   "cell_type": "code",
   "execution_count": 20,
   "metadata": {
    "id": "Yyq1-ycFqm9M"
   },
   "outputs": [],
   "source": [
    "def get_dls(bs):\n",
    "  train_dl = DataLoader(\n",
    "    train_ds, \n",
    "    batch_size=bs,\n",
    "    shuffle=True,\n",
    "    num_workers=2,\n",
    "    pin_memory=True)\n",
    "\n",
    "  val_dl = DataLoader(\n",
    "    valid_ds, \n",
    "    batch_size=bs, \n",
    "    shuffle=False,\n",
    "    num_workers=2,\n",
    "    pin_memory=True)\n",
    "  \n",
    "  return train_dl, val_dl"
   ]
  },
  {
   "cell_type": "markdown",
   "metadata": {
    "id": "hqKNGhumkhaE"
   },
   "source": [
    "We can now explore the paper since we have data preparation out of our way."
   ]
  },
  {
   "cell_type": "markdown",
   "metadata": {
    "id": "qErDS72ikmD2"
   },
   "source": [
    "# ResNets"
   ]
  },
  {
   "cell_type": "markdown",
   "metadata": {
    "id": "GbinT97YiPfa"
   },
   "source": [
    "## Base Vanilla Model"
   ]
  },
  {
   "cell_type": "markdown",
   "metadata": {
    "id": "UH3ksKADktDH"
   },
   "source": [
    "We are going to start with a small base model, which will just be a vanilla model of Conv Layers stacked onto each other."
   ]
  },
  {
   "cell_type": "markdown",
   "metadata": {
    "id": "Kv85ZEvak7tn"
   },
   "source": [
    "We specify a function that takes in number of inputs, number of features, kernel size and the stride and returns a sequence of a Conv Layer, a BatchNorm Layer and finally the activation layer, which is going to be Relu. This is a typical sequence in Deep Learning."
   ]
  },
  {
   "cell_type": "code",
   "execution_count": 21,
   "metadata": {
    "id": "EALd3nEFrce5"
   },
   "outputs": [],
   "source": [
    "def ConvLayer(ni, nf, ks, stride):\n",
    "  layers = nn.Sequential(\n",
    "      nn.Conv2d(ni, nf, kernel_size=ks, stride=stride, padding=ks//2, bias=False),\n",
    "      nn.BatchNorm2d(nf),\n",
    "      nn.ReLU())\n",
    "  return layers"
   ]
  },
  {
   "cell_type": "markdown",
   "metadata": {
    "id": "24ZZY9DNlVbA"
   },
   "source": [
    "And now define what a block will look like in our model. Note we go for a default kernel of size 3 and stride 2."
   ]
  },
  {
   "cell_type": "code",
   "execution_count": 22,
   "metadata": {
    "id": "s7lupoP1tryv"
   },
   "outputs": [],
   "source": [
    "def block(ni, nf, ks=3, stride=2):\n",
    "  return ConvLayer(ni, nf, ks, stride)"
   ]
  },
  {
   "cell_type": "markdown",
   "metadata": {
    "id": "MN5a-clalfSr"
   },
   "source": [
    "We now create our Small Network that will serve as our Base Model. It is a bunch of Conv Layers followed by a Global Average Pool and finally a Linear Classifier that outputs 10 activations:"
   ]
  },
  {
   "cell_type": "code",
   "execution_count": 23,
   "metadata": {
    "id": "xMx4BwF6jPaH"
   },
   "outputs": [],
   "source": [
    "class SmallNetwork(nn.Module):\n",
    "  def __init__(self):\n",
    "    super(SmallNetwork, self).__init__()\n",
    "    self.convs = nn.Sequential(\n",
    "        block(3, 16, ks=5),\n",
    "        block(16, 32),\n",
    "        block(32, 64),\n",
    "        block(64, 128),\n",
    "        block(128, 256))\n",
    "    self.pool = nn.AdaptiveAvgPool2d(1)\n",
    "    self.linear = nn.Linear(256, len(v2i))\n",
    "  \n",
    "  def forward(self, x):\n",
    "    out = self.convs(x)\n",
    "    out = self.pool(out)\n",
    "    out = nn.Flatten()(out)\n",
    "    out = self.linear(out)\n",
    "\n",
    "    return out"
   ]
  },
  {
   "cell_type": "code",
   "execution_count": 24,
   "metadata": {
    "id": "pFUDGJ-UugmT"
   },
   "outputs": [],
   "source": [
    "#| code-fold: true\n",
    "def calculate_accuracy(preds, target):\n",
    "  correct = 0\n",
    "  total = 0\n",
    "\n",
    "  predicted = torch.argmax(preds, axis=1)\n",
    "  total += target.shape[0]\n",
    "  correct += int((predicted==target).sum())\n",
    "\n",
    "  return correct / total\n",
    "\n",
    "class MetricMonitor:\n",
    "    def __init__(self, float_precision=3):\n",
    "        self.float_precision = float_precision\n",
    "        self.reset()\n",
    "\n",
    "    def reset(self):\n",
    "        self.metrics = defaultdict(lambda: {\"val\": 0, \"count\": 0, \"avg\": 0})\n",
    "\n",
    "    def update(self, metric_name, val):\n",
    "        metric = self.metrics[metric_name]\n",
    "\n",
    "        metric[\"val\"] += val\n",
    "        metric[\"count\"] += 1\n",
    "        metric[\"avg\"] = metric[\"val\"] / metric[\"count\"]\n",
    "\n",
    "    def __str__(self):\n",
    "        return \" | \".join(\n",
    "            [\n",
    "                \"{metric_name}: {avg:.{float_precision}f}\".format(\n",
    "                    metric_name=metric_name, avg=metric[\"avg\"], float_precision=self.float_precision\n",
    "                )\n",
    "                for (metric_name, metric) in self.metrics.items()\n",
    "            ]\n",
    "        )\n",
    "\n",
    "def init_weights(m):\n",
    "  if type(m) == nn.Linear or type(m) == nn.Conv2d:\n",
    "    nn.init.xavier_uniform_(m.weight)"
   ]
  },
  {
   "cell_type": "markdown",
   "metadata": {
    "id": "tcFBlBgRl8Xm"
   },
   "source": [
    "We define our training and validation loops:"
   ]
  },
  {
   "cell_type": "code",
   "execution_count": 25,
   "metadata": {
    "id": "mDeIOSlm3ILX"
   },
   "outputs": [],
   "source": [
    "def train(train_loader, model, criterion, optimizer, epoch, scheduler=None):\n",
    "    metric_monitor = MetricMonitor()\n",
    "    model.train()\n",
    "    stream = tqdm(train_dl)\n",
    "    for i, (images, target) in enumerate(stream, start=1):\n",
    "        images = images.to(device, non_blocking=True)\n",
    "        target = target.to(device, non_blocking=True)\n",
    "        output = model(images)\n",
    "        loss = criterion(output, target)\n",
    "        accuracy = calculate_accuracy(output, target)\n",
    "        metric_monitor.update(\"Loss\", loss.item())\n",
    "        metric_monitor.update(\"Accuracy\", accuracy)\n",
    "        optimizer.zero_grad()\n",
    "        loss.backward()\n",
    "        optimizer.step()\n",
    "        if scheduler:\n",
    "          scheduler.step()\n",
    "        stream.set_description(\n",
    "            \"Epoch: {epoch}. Train       {metric_monitor}\".format(epoch=epoch, metric_monitor=metric_monitor)\n",
    "        )"
   ]
  },
  {
   "cell_type": "code",
   "execution_count": 26,
   "metadata": {
    "id": "q2X-xmmr3K2t"
   },
   "outputs": [],
   "source": [
    "def validate(val_loader, model, criterion, epoch):\n",
    "    metric_monitor = MetricMonitor()\n",
    "    model.eval()\n",
    "    stream = tqdm(valid_dl)\n",
    "    with torch.no_grad():\n",
    "        for i, (images, target) in enumerate(stream, start=1):\n",
    "            images = images.to(device, non_blocking=True)\n",
    "            target = target.to(device, non_blocking=True)\n",
    "            output = model(images)\n",
    "            loss = criterion(output, target)\n",
    "            accuracy = calculate_accuracy(output, target)\n",
    "\n",
    "            metric_monitor.update(\"Loss\", loss.item())\n",
    "            metric_monitor.update(\"Accuracy\", accuracy)\n",
    "            stream.set_description(\n",
    "                \"Epoch: {epoch}. Validation  {metric_monitor}\".format(epoch=epoch, metric_monitor=metric_monitor)\n",
    "            )"
   ]
  },
  {
   "cell_type": "markdown",
   "metadata": {
    "id": "oleMyjk6mAjy"
   },
   "source": [
    "We use a batch size of 64 for our experiments, and train our network for 10 epoch using a learning rate of 0.003"
   ]
  },
  {
   "cell_type": "code",
   "execution_count": 27,
   "metadata": {
    "id": "D-acKr0Gts2y"
   },
   "outputs": [],
   "source": [
    "train_dl, valid_dl = get_dls(64)\n",
    "device = torch.device(\"cuda\" if torch.cuda.is_available() else \"cpu\")"
   ]
  },
  {
   "cell_type": "code",
   "execution_count": 28,
   "metadata": {
    "id": "gj6eksK4pJ-_"
   },
   "outputs": [],
   "source": [
    "num_epochs=10\n",
    "lr = 3e-3\n",
    "\n",
    "sm_model = SmallNetwork()\n",
    "sm_model = sm_model.to(device)\n",
    "criterion = nn.CrossEntropyLoss()\n",
    "optimizer = optim.Adam(sm_model.parameters(), lr=lr)\n",
    "scheduler = optim.lr_scheduler.OneCycleLR(optimizer, max_lr=lr,\n",
    "                                          steps_per_epoch=int(len(train_dl)),\n",
    "                                          epochs=num_epochs,\n",
    "                                          anneal_strategy='linear')\n",
    "\n",
    "sm_model.apply(init_weights);"
   ]
  },
  {
   "cell_type": "code",
   "execution_count": 29,
   "metadata": {
    "colab": {
     "base_uri": "https://localhost:8080/"
    },
    "id": "tBYDJoK6z1-S",
    "outputId": "9f91bdc6-2425-46b5-c998-16105ff26107"
   },
   "outputs": [
    {
     "name": "stderr",
     "output_type": "stream",
     "text": [
      "Epoch: 1. Train       Loss: 1.925 | Accuracy: 0.328: 100%|██████████| 148/148 [00:30<00:00,  4.80it/s]\n",
      "Epoch: 1. Validation  Loss: 1.771 | Accuracy: 0.394: 100%|██████████| 62/62 [00:10<00:00,  6.02it/s]\n"
     ]
    },
    {
     "name": "stdout",
     "output_type": "stream",
     "text": [
      "\n"
     ]
    },
    {
     "name": "stderr",
     "output_type": "stream",
     "text": [
      "Epoch: 2. Train       Loss: 1.725 | Accuracy: 0.409: 100%|██████████| 148/148 [00:29<00:00,  4.94it/s]\n",
      "Epoch: 2. Validation  Loss: 1.639 | Accuracy: 0.473: 100%|██████████| 62/62 [00:10<00:00,  6.09it/s]\n"
     ]
    },
    {
     "name": "stdout",
     "output_type": "stream",
     "text": [
      "\n"
     ]
    },
    {
     "name": "stderr",
     "output_type": "stream",
     "text": [
      "Epoch: 3. Train       Loss: 1.641 | Accuracy: 0.441: 100%|██████████| 148/148 [00:30<00:00,  4.91it/s]\n",
      "Epoch: 3. Validation  Loss: 1.589 | Accuracy: 0.496: 100%|██████████| 62/62 [00:10<00:00,  6.11it/s]\n"
     ]
    },
    {
     "name": "stdout",
     "output_type": "stream",
     "text": [
      "\n"
     ]
    },
    {
     "name": "stderr",
     "output_type": "stream",
     "text": [
      "Epoch: 4. Train       Loss: 1.534 | Accuracy: 0.487: 100%|██████████| 148/148 [00:30<00:00,  4.88it/s]\n",
      "Epoch: 4. Validation  Loss: 1.278 | Accuracy: 0.587: 100%|██████████| 62/62 [00:10<00:00,  6.10it/s]\n"
     ]
    },
    {
     "name": "stdout",
     "output_type": "stream",
     "text": [
      "\n"
     ]
    },
    {
     "name": "stderr",
     "output_type": "stream",
     "text": [
      "Epoch: 5. Train       Loss: 1.428 | Accuracy: 0.526: 100%|██████████| 148/148 [00:30<00:00,  4.92it/s]\n",
      "Epoch: 5. Validation  Loss: 1.295 | Accuracy: 0.582: 100%|██████████| 62/62 [00:10<00:00,  6.07it/s]\n"
     ]
    },
    {
     "name": "stdout",
     "output_type": "stream",
     "text": [
      "\n"
     ]
    },
    {
     "name": "stderr",
     "output_type": "stream",
     "text": [
      "Epoch: 6. Train       Loss: 1.325 | Accuracy: 0.562: 100%|██████████| 148/148 [00:29<00:00,  4.96it/s]\n",
      "Epoch: 6. Validation  Loss: 1.487 | Accuracy: 0.547: 100%|██████████| 62/62 [00:10<00:00,  6.12it/s]\n"
     ]
    },
    {
     "name": "stdout",
     "output_type": "stream",
     "text": [
      "\n"
     ]
    },
    {
     "name": "stderr",
     "output_type": "stream",
     "text": [
      "Epoch: 7. Train       Loss: 1.244 | Accuracy: 0.592: 100%|██████████| 148/148 [00:30<00:00,  4.91it/s]\n",
      "Epoch: 7. Validation  Loss: 1.118 | Accuracy: 0.642: 100%|██████████| 62/62 [00:10<00:00,  6.04it/s]\n"
     ]
    },
    {
     "name": "stdout",
     "output_type": "stream",
     "text": [
      "\n"
     ]
    },
    {
     "name": "stderr",
     "output_type": "stream",
     "text": [
      "Epoch: 8. Train       Loss: 1.185 | Accuracy: 0.611: 100%|██████████| 148/148 [00:30<00:00,  4.90it/s]\n",
      "Epoch: 8. Validation  Loss: 1.056 | Accuracy: 0.661: 100%|██████████| 62/62 [00:10<00:00,  6.07it/s]\n"
     ]
    },
    {
     "name": "stdout",
     "output_type": "stream",
     "text": [
      "\n"
     ]
    },
    {
     "name": "stderr",
     "output_type": "stream",
     "text": [
      "Epoch: 9. Train       Loss: 1.114 | Accuracy: 0.634: 100%|██████████| 148/148 [00:30<00:00,  4.87it/s]\n",
      "Epoch: 9. Validation  Loss: 0.968 | Accuracy: 0.694: 100%|██████████| 62/62 [00:10<00:00,  6.02it/s]\n"
     ]
    },
    {
     "name": "stdout",
     "output_type": "stream",
     "text": [
      "\n"
     ]
    },
    {
     "name": "stderr",
     "output_type": "stream",
     "text": [
      "Epoch: 10. Train       Loss: 1.066 | Accuracy: 0.657: 100%|██████████| 148/148 [00:30<00:00,  4.89it/s]\n",
      "Epoch: 10. Validation  Loss: 0.895 | Accuracy: 0.714: 100%|██████████| 62/62 [00:10<00:00,  6.05it/s]"
     ]
    },
    {
     "name": "stdout",
     "output_type": "stream",
     "text": [
      "\n"
     ]
    },
    {
     "name": "stderr",
     "output_type": "stream",
     "text": [
      "\n"
     ]
    }
   ],
   "source": [
    "for epoch in range(1, num_epochs + 1):\n",
    "  train(train_dl, sm_model, criterion, optimizer, epoch, scheduler)\n",
    "  validate(valid_dl, sm_model, criterion, epoch)\n",
    "  print()"
   ]
  },
  {
   "cell_type": "markdown",
   "metadata": {
    "id": "rcCDmlNXmLcD"
   },
   "source": [
    "After the 10 epochs, we get a Training Loss of about 1.09 and a Validation Loss of 0.89 which yields an Accuracy of about 72%.\n",
    "\n",
    "Now we can start performing the experiments from the paper."
   ]
  },
  {
   "cell_type": "markdown",
   "metadata": {
    "id": "XRqWhS9Oj-h6"
   },
   "source": [
    "## Is Learning Better Networks as easy as stacking more layers?"
   ]
  },
  {
   "cell_type": "markdown",
   "metadata": {
    "id": "83Sm9clFmkcX"
   },
   "source": [
    "This was a question the researchers were very interested in, in their paper. Evidence had revealved that network depth was of crucual importance as the previous leading results on the Imagenet Challenge all exploited \"very deep networks\". Driven by this understanding, a natural question arose, *Is learning better networks as easy as stacking more layers?*\n",
    "\n",
    "Quoting their paper\n",
    "> When deeper networks are able to start converging, a *degradation* problem has been exposed: with the network depth increasing, accuracy gets saturated and then degrades rapidly. Unexpectedly, such degradation is *not caused by overfitting*, and adding more layers to a suitably deep model leads to *higher training error* as shown below.\n",
    "\n",
    "![image.png](data:image/png;base64,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)"
   ]
  },
  {
   "cell_type": "markdown",
   "metadata": {
    "id": "5VALiml7o69f"
   },
   "source": [
    "Let us try and understand that paragraph. The researchers were wondering whether stacking more layers onto each other which yields deeper networks gave better models. Past evidence has already shown how important deep models could be, but was deep models as easy as just stacking more layers?"
   ]
  },
  {
   "cell_type": "markdown",
   "metadata": {
    "id": "D8ZxQ2l5peg5"
   },
   "source": [
    "To investigate that phenomenal, the researchers perfomed an experiment using two networks. One with 20 layers and one substantially deeper with 56 layers. Surprisingly, the 20-layer network achieved both a lower training error and test error. This means that the 20-layer network was better than the 56-layer network. Hence, the deeper network experienced what the researchers called degredation."
   ]
  },
  {
   "cell_type": "markdown",
   "metadata": {
    "id": "dGM3O5DbqYai"
   },
   "source": [
    "Furthermore, the degradation wasn't caused by overfitting the training data. If this was the case, we would observe the deeper network having a lower training error than the shallow one, then having a higher test error than the shallow one since it would have memorized the data instead of learning from it (as deeper models often do).\n",
    "\n",
    "But in their experiments, they observed that the shallower network had both lower training and test errors. This meant that the deeper counterparts weren't really learning the data.\n",
    "\n",
    "The degradation observed here implies that not all systems are similary easy to optimize."
   ]
  },
  {
   "cell_type": "markdown",
   "metadata": {
    "id": "sslqzZBkrYAi"
   },
   "source": [
    "Let us experimentally try to see the degradation problem for ourself. To do this, we will modify our `block` function to return 3 Conv Layers instead of one, that way, we will end up with a model that is 3 times deeper than our base model:"
   ]
  },
  {
   "cell_type": "code",
   "execution_count": 30,
   "metadata": {
    "id": "hnSnMlbJvl_y"
   },
   "outputs": [],
   "source": [
    "def block(ni, nf, ks=3, stride=2):\n",
    "  return nn.Sequential(\n",
    "      ConvLayer(ni, nf, ks, stride),\n",
    "      ConvLayer(nf, nf, ks, stride),\n",
    "      ConvLayer(nf, nf, ks, stride)\n",
    "  )"
   ]
  },
  {
   "cell_type": "code",
   "execution_count": 31,
   "metadata": {
    "id": "uuzDIJp6mrLq"
   },
   "outputs": [],
   "source": [
    "class LargerNetwork(nn.Module):\n",
    "  def __init__(self):\n",
    "    super(LargerNetwork, self).__init__()\n",
    "    self.convs = nn.Sequential(\n",
    "        block(3, 16, ks=5),\n",
    "        block(16, 32),\n",
    "        block(32, 64),\n",
    "        block(64, 128),\n",
    "        block(128, 256))\n",
    "    self.pool = nn.AdaptiveAvgPool2d(1)\n",
    "    self.linear = nn.Linear(256, len(v2i))\n",
    "  \n",
    "  def forward(self, x):\n",
    "    out = self.convs(x)\n",
    "    out = self.pool(out)\n",
    "    out = nn.Flatten()(out)\n",
    "    out = self.linear(out)\n",
    "\n",
    "    return out"
   ]
  },
  {
   "cell_type": "markdown",
   "metadata": {
    "id": "WbCdMv3NrqXX"
   },
   "source": [
    "We train the model for the same amount of epochs using the same hyperparameters:"
   ]
  },
  {
   "cell_type": "code",
   "execution_count": 32,
   "metadata": {
    "id": "o32ksFxWmyN_"
   },
   "outputs": [],
   "source": [
    "num_epochs=10\n",
    "lr = 3e-3\n",
    "\n",
    "lg_model = LargerNetwork()\n",
    "lg_model = lg_model.to(device)\n",
    "criterion = nn.CrossEntropyLoss()\n",
    "optimizer = optim.Adam(lg_model.parameters(), lr=lr)\n",
    "scheduler = optim.lr_scheduler.OneCycleLR(optimizer, max_lr=lr,\n",
    "                                          steps_per_epoch=int(len(train_dl)),\n",
    "                                          epochs=num_epochs,\n",
    "                                          anneal_strategy='linear')\n",
    "\n",
    "lg_model.apply(init_weights);"
   ]
  },
  {
   "cell_type": "code",
   "execution_count": 33,
   "metadata": {
    "colab": {
     "base_uri": "https://localhost:8080/"
    },
    "id": "nQCS8jF1ne-I",
    "outputId": "e0c0e21e-f76c-4d31-85df-e9bf2ca040de"
   },
   "outputs": [
    {
     "name": "stderr",
     "output_type": "stream",
     "text": [
      "Epoch: 1. Train       Loss: 2.347 | Accuracy: 0.149: 100%|██████████| 148/148 [00:31<00:00,  4.69it/s]\n",
      "Epoch: 1. Validation  Loss: 2.159 | Accuracy: 0.195: 100%|██████████| 62/62 [00:10<00:00,  6.04it/s]\n"
     ]
    },
    {
     "name": "stdout",
     "output_type": "stream",
     "text": [
      "\n"
     ]
    },
    {
     "name": "stderr",
     "output_type": "stream",
     "text": [
      "Epoch: 2. Train       Loss: 2.130 | Accuracy: 0.225: 100%|██████████| 148/148 [00:31<00:00,  4.76it/s]\n",
      "Epoch: 2. Validation  Loss: 2.056 | Accuracy: 0.275: 100%|██████████| 62/62 [00:10<00:00,  5.96it/s]\n"
     ]
    },
    {
     "name": "stdout",
     "output_type": "stream",
     "text": [
      "\n"
     ]
    },
    {
     "name": "stderr",
     "output_type": "stream",
     "text": [
      "Epoch: 3. Train       Loss: 2.065 | Accuracy: 0.263: 100%|██████████| 148/148 [00:31<00:00,  4.74it/s]\n",
      "Epoch: 3. Validation  Loss: 2.079 | Accuracy: 0.255: 100%|██████████| 62/62 [00:10<00:00,  6.09it/s]\n"
     ]
    },
    {
     "name": "stdout",
     "output_type": "stream",
     "text": [
      "\n"
     ]
    },
    {
     "name": "stderr",
     "output_type": "stream",
     "text": [
      "Epoch: 4. Train       Loss: 2.001 | Accuracy: 0.297: 100%|██████████| 148/148 [00:31<00:00,  4.76it/s]\n",
      "Epoch: 4. Validation  Loss: 1.917 | Accuracy: 0.334: 100%|██████████| 62/62 [00:10<00:00,  6.01it/s]\n"
     ]
    },
    {
     "name": "stdout",
     "output_type": "stream",
     "text": [
      "\n"
     ]
    },
    {
     "name": "stderr",
     "output_type": "stream",
     "text": [
      "Epoch: 5. Train       Loss: 1.940 | Accuracy: 0.319: 100%|██████████| 148/148 [00:30<00:00,  4.79it/s]\n",
      "Epoch: 5. Validation  Loss: 1.865 | Accuracy: 0.355: 100%|██████████| 62/62 [00:10<00:00,  6.05it/s]\n"
     ]
    },
    {
     "name": "stdout",
     "output_type": "stream",
     "text": [
      "\n"
     ]
    },
    {
     "name": "stderr",
     "output_type": "stream",
     "text": [
      "Epoch: 6. Train       Loss: 1.877 | Accuracy: 0.350: 100%|██████████| 148/148 [00:31<00:00,  4.77it/s]\n",
      "Epoch: 6. Validation  Loss: 1.896 | Accuracy: 0.352: 100%|██████████| 62/62 [00:10<00:00,  6.02it/s]\n"
     ]
    },
    {
     "name": "stdout",
     "output_type": "stream",
     "text": [
      "\n"
     ]
    },
    {
     "name": "stderr",
     "output_type": "stream",
     "text": [
      "Epoch: 7. Train       Loss: 1.833 | Accuracy: 0.360: 100%|██████████| 148/148 [00:30<00:00,  4.80it/s]\n",
      "Epoch: 7. Validation  Loss: 1.629 | Accuracy: 0.433: 100%|██████████| 62/62 [00:10<00:00,  6.07it/s]\n"
     ]
    },
    {
     "name": "stdout",
     "output_type": "stream",
     "text": [
      "\n"
     ]
    },
    {
     "name": "stderr",
     "output_type": "stream",
     "text": [
      "Epoch: 8. Train       Loss: 1.768 | Accuracy: 0.391: 100%|██████████| 148/148 [00:30<00:00,  4.78it/s]\n",
      "Epoch: 8. Validation  Loss: 1.618 | Accuracy: 0.451: 100%|██████████| 62/62 [00:10<00:00,  6.01it/s]\n"
     ]
    },
    {
     "name": "stdout",
     "output_type": "stream",
     "text": [
      "\n"
     ]
    },
    {
     "name": "stderr",
     "output_type": "stream",
     "text": [
      "Epoch: 9. Train       Loss: 1.711 | Accuracy: 0.408: 100%|██████████| 148/148 [00:31<00:00,  4.73it/s]\n",
      "Epoch: 9. Validation  Loss: 1.559 | Accuracy: 0.479: 100%|██████████| 62/62 [00:10<00:00,  5.97it/s]\n"
     ]
    },
    {
     "name": "stdout",
     "output_type": "stream",
     "text": [
      "\n"
     ]
    },
    {
     "name": "stderr",
     "output_type": "stream",
     "text": [
      "Epoch: 10. Train       Loss: 1.683 | Accuracy: 0.418: 100%|██████████| 148/148 [00:31<00:00,  4.66it/s]\n",
      "Epoch: 10. Validation  Loss: 1.562 | Accuracy: 0.471: 100%|██████████| 62/62 [00:10<00:00,  5.95it/s]"
     ]
    },
    {
     "name": "stdout",
     "output_type": "stream",
     "text": [
      "\n"
     ]
    },
    {
     "name": "stderr",
     "output_type": "stream",
     "text": [
      "\n"
     ]
    }
   ],
   "source": [
    "for epoch in range(1, num_epochs + 1):\n",
    "  train(train_dl, lg_model, criterion, optimizer, epoch, scheduler)\n",
    "  validate(valid_dl, lg_model, criterion, epoch)\n",
    "  print()"
   ]
  },
  {
   "cell_type": "markdown",
   "metadata": {
    "id": "3H3zl0GWpBqJ"
   },
   "source": [
    "After the 10 epochs, we prove what the paper was claiming. Stacking Layers onto each other doesn't work. Adding more layers to a suitably deep model leads to a *higher training error* and a *higher test error*.\n",
    "\n",
    "Therefore, the question then becomes, what then constitues of a better model if just plainly stacking layers won't work?"
   ]
  },
  {
   "cell_type": "markdown",
   "metadata": {
    "id": "Wm21pQO0pR4U"
   },
   "source": [
    "## What about Identity Mappings?"
   ]
  },
  {
   "cell_type": "markdown",
   "metadata": {
    "id": "F4jWmgfvsRgQ"
   },
   "source": [
    "The researchers went on and investigated\n",
    "\n",
    "> Let us consider a shallower architecture and its deeper counterpart that adds more layers onto it. There exists a solution by construction to the deeper model: the added layers are *identity mappings*, and the other layers are copied from the learned shallower model. The existence of this constructed solution indicates that a deeper model should produce no higher training error than its shallower counterpart."
   ]
  },
  {
   "cell_type": "markdown",
   "metadata": {
    "id": "8KpchRjxs37t"
   },
   "source": [
    "To put that in more English like language, here is what they mean: Train a shallow model first, say 20 layers. Then after, make this shallow model deeper by adding more layers onto it, say 30 layers. The only catch is, the layers that are added have to be Identity mappings, which simply means they do nothing. They simply get an input and output the same input. So they just sort of pass the input around. \n",
    "\n",
    "Think about this new form of deeper model. The model is now 50 layers deep, but the first 20 layers are similar to our shallow model, and the added 30 layers do absolutely nothing to the inputs they recieve. Therefore, our 50 layer model should produce the exact same training and test errors as the 20 layer model.\n",
    "\n",
    "Let us see that in code."
   ]
  },
  {
   "cell_type": "markdown",
   "metadata": {
    "id": "TUPbRrxIuHeB"
   },
   "source": [
    "PyTorch provides us with an Identity Layer that works as follows, the output is exactly the same as the input provided."
   ]
  },
  {
   "cell_type": "code",
   "execution_count": 34,
   "metadata": {
    "colab": {
     "base_uri": "https://localhost:8080/"
    },
    "id": "z6bc8JPF2635",
    "outputId": "685fbd6f-83f6-4c61-d64f-268f512f9828"
   },
   "outputs": [
    {
     "data": {
      "text/plain": [
       "torch.Size([1, 3, 64, 64])"
      ]
     },
     "execution_count": 34,
     "metadata": {},
     "output_type": "execute_result"
    }
   ],
   "source": [
    "x = torch.randn(1, 3, 64, 64)\n",
    "m = nn.Identity()\n",
    "m(x).shape"
   ]
  },
  {
   "cell_type": "markdown",
   "metadata": {
    "id": "XVKd4G9AuUq2"
   },
   "source": [
    "Now we create a function that returns 30 of this Identity Layers."
   ]
  },
  {
   "cell_type": "code",
   "execution_count": 35,
   "metadata": {
    "id": "GIGRXkoHy3cA"
   },
   "outputs": [],
   "source": [
    "def identity_layers():\n",
    "  layers = []\n",
    "  for _ in range(30):\n",
    "    layers.append(nn.Identity())\n",
    "\n",
    "  return nn.Sequential(*layers).to(device)"
   ]
  },
  {
   "cell_type": "markdown",
   "metadata": {
    "id": "5HIKrDftua9a"
   },
   "source": [
    "And now we append them to the Base Model we had trained earlier and validate it on our data."
   ]
  },
  {
   "cell_type": "code",
   "execution_count": 36,
   "metadata": {
    "id": "_q6pMkag1Moy"
   },
   "outputs": [],
   "source": [
    "model_identity = nn.Sequential(\n",
    "    sm_model,\n",
    "    identity_layers()\n",
    ")"
   ]
  },
  {
   "cell_type": "code",
   "execution_count": 37,
   "metadata": {
    "colab": {
     "base_uri": "https://localhost:8080/"
    },
    "id": "6jDfN6N-19g2",
    "outputId": "f14ac051-d190-4f17-fc81-04dd4207ba43"
   },
   "outputs": [
    {
     "name": "stderr",
     "output_type": "stream",
     "text": [
      "Epoch: 1. Validation  Loss: 0.895 | Accuracy: 0.714: 100%|██████████| 62/62 [00:10<00:00,  5.95it/s]\n"
     ]
    }
   ],
   "source": [
    "validate(valid_dl, model_identity, criterion, 1)"
   ]
  },
  {
   "cell_type": "markdown",
   "metadata": {
    "id": "fnYZT8gL4Gn_"
   },
   "source": [
    "We get the same validation loss and accuracy as our base model since the Identity Layers don't do anything, proving that there are always deep networks that should be at least as good as any shallow network. But for some reason, SGD does not seem able to find them (or unable to do so in feasible time). This again proves that not all systems are easy to optimize."
   ]
  },
  {
   "cell_type": "markdown",
   "metadata": {
    "id": "hE4h1ShJ4ixT"
   },
   "source": [
    "## Residual Learning"
   ]
  },
  {
   "cell_type": "markdown",
   "metadata": {
    "id": "uDlocVuZu9mr"
   },
   "source": [
    "Since stacking layers didn't work, although theoretically they should, the researchers proposed to address the degradation problem of deep networks using a *deep residual learning framework*.\n",
    "\n",
    "> Instead of hoping each few stacked layers directly fit a desired underlying mapping, we explicitely let these layers fit a residual mapping."
   ]
  },
  {
   "cell_type": "markdown",
   "metadata": {
    "id": "sdeL167KvtfM"
   },
   "source": [
    "![image.png](data:image/png;base64,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)"
   ]
  },
  {
   "cell_type": "markdown",
   "metadata": {
    "id": "HWdt3_-pvxRm"
   },
   "source": [
    "Again, let us try explaining that in an understandable manner. Above is the Residual Block that the researchers proposed.\n",
    "\n",
    "Assume that the output of this block (after the relu) is supposed to be $$y$$ and the residual block (the sequence of weight layers) learns the function $$F(x)$$\n",
    "\n",
    "We see that the input is added just before the relu, so the whole equation becomes: $$y = F(x) + x$$\n",
    "\n",
    "This function can be written in another format, making `F(x)` the subject of the formula: $$F(x) = y - x$$ which is the residual mapping that the weight layers learn."
   ]
  },
  {
   "cell_type": "markdown",
   "metadata": {
    "id": "g1aRZGX4xtjX"
   },
   "source": [
    "In other words, If the outcome of a given layer is supposed to be `y`, we're not asking the block to predict `y`, we are asking it to predict the difference between the desired outcome, `y` and the input `x`. Or in short, what should the layer do its input `x` to make it like the desired output `y`.\n",
    "\n",
    "The job of the layer now isn't to predict certain features, but to minimize the error between `x` and the desired `y`. This proves to be an easier task, that asking our block to just predict a desired outcome `y` out of nowhere. This is achievied using skip connections (how the input is added after passing through the weight layers just before the activation - or in other terms, how it skips throught the connection)."
   ]
  },
  {
   "cell_type": "markdown",
   "metadata": {
    "id": "i8h-cdjmR___"
   },
   "source": [
    "> Intuition: This is my intuition of the Residual Learning Framework. Giving the layer something to work with makes it easier for it to learn. Imagine walking into a barber shop or a salon. Now imagine telling the attendant to give you a haircut and it must be meaningful. Hypothetically, the attendant can give you a meaningful haircut (it is possible) but it will be hard to do that out of nowhere (it might not be that feasible). Imagine instead if you came in with a picture of what you want and gave it to him or her. Now it will be easier for the barber or hair salon to make your hair (the input `x`) similar to the picture (the output `y`). Or in other words, the attendant will now find it easier to minimize the error between the input and the desired output."
   ]
  },
  {
   "cell_type": "markdown",
   "metadata": {
    "id": "_dC4Iizry7rN"
   },
   "source": [
    "Let us see this in code format, which is always easier."
   ]
  },
  {
   "cell_type": "markdown",
   "metadata": {
    "id": "xVSU3jXuzFIY"
   },
   "source": [
    "We change our definition of ConvLayer to accomodate the skip connection. Now our layer will return two different things depending on whether the layer is a normal weight layer (the first weight layer in the picture above) which includes a Convolution, followed by a BatchNorm then Relu or an identity layer (the second weight layer without an activation function) which consists of a Convolution, followed by BatchNorm, whose `gamma` value is initialized to zero. Recall that a BatcNorm layer does `gamma*x + beta`. Therefore, passing through this second layer won't do anything because `x + conv(x)` will just result in `x`, acting as an identity mapping."
   ]
  },
  {
   "cell_type": "code",
   "execution_count": 38,
   "metadata": {
    "id": "c8WpmO9iNkA_"
   },
   "outputs": [],
   "source": [
    "def ConvLayer(ni, nf, ks, stride, identity=False):\n",
    "  layers = []\n",
    "  layers.append(nn.Conv2d(ni, nf, kernel_size=ks, stride=stride, padding=ks//2, \n",
    "                          bias=False))\n",
    "  norm = nn.BatchNorm2d(nf)\n",
    "  # if identity conv block, init gamma to zero and no activation\n",
    "  if identity == True:\n",
    "    nn.init.zeros_(norm.weight)\n",
    "    layers.append(norm)\n",
    "    return nn.Sequential(*layers)\n",
    "  # normal conv block\n",
    "  else:\n",
    "    layers.append(norm)\n",
    "    layers.append(nn.ReLU())\n",
    "    return nn.Sequential(*layers)"
   ]
  },
  {
   "cell_type": "markdown",
   "metadata": {
    "id": "svXcisqk0vk1"
   },
   "source": [
    "We can test out a few setups for intuiton. First, we return a normal ConvLayer (not an identity):"
   ]
  },
  {
   "cell_type": "code",
   "execution_count": 39,
   "metadata": {
    "colab": {
     "base_uri": "https://localhost:8080/"
    },
    "id": "87Pq7Lpz2IZm",
    "outputId": "f482ec11-32ba-4829-fb7d-07fd91103c12"
   },
   "outputs": [
    {
     "data": {
      "text/plain": [
       "Sequential(\n",
       "  (0): Conv2d(3, 32, kernel_size=(3, 3), stride=(2, 2), padding=(1, 1), bias=False)\n",
       "  (1): BatchNorm2d(32, eps=1e-05, momentum=0.1, affine=True, track_running_stats=True)\n",
       "  (2): ReLU()\n",
       ")"
      ]
     },
     "execution_count": 39,
     "metadata": {},
     "output_type": "execute_result"
    }
   ],
   "source": [
    "ConvLayer(3, 32, 3, 2, identity=False)"
   ]
  },
  {
   "cell_type": "markdown",
   "metadata": {
    "id": "sOwrRRqD07Vs"
   },
   "source": [
    "And then an identity ConvLayer:"
   ]
  },
  {
   "cell_type": "code",
   "execution_count": 40,
   "metadata": {
    "colab": {
     "base_uri": "https://localhost:8080/"
    },
    "id": "8Un6WhNPRRzT",
    "outputId": "d705f511-986f-40a8-f225-7be4e7bf936c"
   },
   "outputs": [
    {
     "data": {
      "text/plain": [
       "Sequential(\n",
       "  (0): Conv2d(3, 32, kernel_size=(3, 3), stride=(2, 2), padding=(1, 1), bias=False)\n",
       "  (1): BatchNorm2d(32, eps=1e-05, momentum=0.1, affine=True, track_running_stats=True)\n",
       ")"
      ]
     },
     "execution_count": 40,
     "metadata": {},
     "output_type": "execute_result"
    }
   ],
   "source": [
    "ConvLayer(3, 32, 3, 2, identity=True)"
   ]
  },
  {
   "cell_type": "markdown",
   "metadata": {
    "id": "uibmObzw1O2C"
   },
   "source": [
    "Now, according to the image above, a ResNet Block will always consist of a normal weight layer followed by an identity weight layer so we can create a function that return that block of code:"
   ]
  },
  {
   "cell_type": "code",
   "execution_count": 41,
   "metadata": {
    "id": "lxC3YvvVSwz2"
   },
   "outputs": [],
   "source": [
    "def _conv_block(ni, nf, ks, stride):\n",
    "  return nn.Sequential(\n",
    "      ConvLayer(ni, nf, ks, stride),\n",
    "      ConvLayer(nf, nf, ks, stride=1, identity=True)\n",
    "  )"
   ]
  },
  {
   "cell_type": "markdown",
   "metadata": {
    "id": "69tDqaDY1FlN"
   },
   "source": [
    "Again, we can test it out to get an intuition of how it works:"
   ]
  },
  {
   "cell_type": "code",
   "execution_count": 42,
   "metadata": {
    "colab": {
     "base_uri": "https://localhost:8080/"
    },
    "id": "GyboqXIiTXZc",
    "outputId": "f6d5260e-0970-45a1-c960-28c26b6da07c"
   },
   "outputs": [
    {
     "data": {
      "text/plain": [
       "Sequential(\n",
       "  (0): Sequential(\n",
       "    (0): Conv2d(3, 32, kernel_size=(3, 3), stride=(2, 2), padding=(1, 1), bias=False)\n",
       "    (1): BatchNorm2d(32, eps=1e-05, momentum=0.1, affine=True, track_running_stats=True)\n",
       "    (2): ReLU()\n",
       "  )\n",
       "  (1): Sequential(\n",
       "    (0): Conv2d(32, 32, kernel_size=(3, 3), stride=(1, 1), padding=(1, 1), bias=False)\n",
       "    (1): BatchNorm2d(32, eps=1e-05, momentum=0.1, affine=True, track_running_stats=True)\n",
       "  )\n",
       ")"
      ]
     },
     "execution_count": 42,
     "metadata": {},
     "output_type": "execute_result"
    }
   ],
   "source": [
    "_conv_block(3, 32, 3, 2)"
   ]
  },
  {
   "cell_type": "code",
   "execution_count": 43,
   "metadata": {
    "id": "hkZ38IlFUcts"
   },
   "outputs": [],
   "source": [
    "#| code-fold: true\n",
    "def noop(x=None):\n",
    "  return x"
   ]
  },
  {
   "cell_type": "markdown",
   "metadata": {
    "id": "UV__2Nha1f37"
   },
   "source": [
    "Finally, we can create the logic of the ResNet block of code. The forward loop will be equal to `x + _conv_block(x)` then passed through the ReLU, just like the picture we had above"
   ]
  },
  {
   "cell_type": "markdown",
   "metadata": {
    "id": "_49ZwVEk16Nq"
   },
   "source": [
    "But we should also handle for two cases that may arise:\n",
    "\n",
    "1. If the number of inputs (ni) is different from the number of features or channels outputted (nf), we are going to have a problem during the adding because the input, x and the output of the _conv_block will have different shapes. Therefore, we will need to change the channels of the inputs using a 1x1 Convolution which we will call `idconv`. To learn more about 1x1 Convolutions and how they can be used to change the number of channels, [read this](https://machinelearningmastery.com/introduction-to-1x1-convolutions-to-reduce-the-complexity-of-convolutional-neural-networks/).\n",
    "\n",
    "2. If we use a stride greater than 1 on the convolutions, their output maps are going to be halved, again resulting in a different shape than the input, therefore they cannot be added together. Therefore, we will need to reduce the feature map of the input too using and Average Pool with stride 2."
   ]
  },
  {
   "cell_type": "markdown",
   "metadata": {
    "id": "MAvebDrV3MVQ"
   },
   "source": [
    "Note, `noop` here means no operation, meaning nothing is done on the input if ni==nf and the stide==1, otherwise, the above situations are handled appropriately."
   ]
  },
  {
   "cell_type": "code",
   "execution_count": 44,
   "metadata": {
    "id": "qMcODfOQ45Je"
   },
   "outputs": [],
   "source": [
    "class ResBlock(nn.Module):\n",
    "  def __init__(self, ni, nf, ks=3, stride=2):\n",
    "    super().__init__()\n",
    "    self.convs = _conv_block(ni, nf, ks, stride)\n",
    "    self.idconv = noop if ni==nf else nn.Conv2d(ni, nf, kernel_size=1)\n",
    "    self.pool = noop if stride==1 else nn.AvgPool2d(2, ceil_mode=True)\n",
    "  \n",
    "  def forward(self, x):\n",
    "    return F.relu(self.convs(x) + self.idconv(self.pool(x)))"
   ]
  },
  {
   "cell_type": "markdown",
   "metadata": {
    "id": "ZR5FX9IO3b7Q"
   },
   "source": [
    "We will now modify the block function we used to create the large model, and let it return Residual Blocks instead of just stacking ordinary layers on top of each other."
   ]
  },
  {
   "cell_type": "code",
   "execution_count": 45,
   "metadata": {
    "id": "HgJEgniD6rw_"
   },
   "outputs": [],
   "source": [
    "def block(ni, nf, ks=3, stride=2):\n",
    "  return nn.Sequential(\n",
    "      ResBlock(ni, nf, ks, stride),\n",
    "      ResBlock(nf, nf, ks, stride),\n",
    "      ResBlock(nf, nf, ks, stride)\n",
    "  )"
   ]
  },
  {
   "cell_type": "markdown",
   "metadata": {
    "id": "h9rCtk8T3wjB"
   },
   "source": [
    "We then define a Network that is as deep as our LargerNetwork, but with residual blocks instead. Other than that, our ResidualNetwork is as deep as our previous model that performed poorly. That way, we can compare both of them and see the direct benefit of using what the researchers called the *deep residual learning framework*."
   ]
  },
  {
   "cell_type": "code",
   "execution_count": 46,
   "metadata": {
    "id": "JFXxgLFO6rnK"
   },
   "outputs": [],
   "source": [
    "class ResidualNetwork(nn.Module):\n",
    "  def __init__(self):\n",
    "    super(ResidualNetwork, self).__init__()\n",
    "    self.convs = nn.Sequential(\n",
    "        block(3, 16, ks=5),\n",
    "        block(16, 32),\n",
    "        block(32, 64),\n",
    "        block(64, 128),\n",
    "        block(128, 256))\n",
    "    self.pool = nn.AdaptiveAvgPool2d(1)\n",
    "    self.linear = nn.Linear(256, len(v2i))\n",
    "  \n",
    "  def forward(self, x):\n",
    "    out = self.convs(x)\n",
    "    out = self.pool(out)\n",
    "    out = nn.Flatten()(out)\n",
    "    out = self.linear(out)\n",
    "\n",
    "    return out"
   ]
  },
  {
   "cell_type": "markdown",
   "metadata": {
    "id": "2-HEyfx14Q_q"
   },
   "source": [
    "Again, we train for the same number of epochs using the same hyperparameters:"
   ]
  },
  {
   "cell_type": "code",
   "execution_count": 47,
   "metadata": {
    "id": "uQJFXvZD6ref"
   },
   "outputs": [],
   "source": [
    "num_epochs=10\n",
    "lr = 3e-3\n",
    "\n",
    "rs_model = ResidualNetwork()\n",
    "rs_model = rs_model.to(device)\n",
    "criterion = nn.CrossEntropyLoss()\n",
    "optimizer = optim.Adam(rs_model.parameters(), lr=lr)\n",
    "scheduler = optim.lr_scheduler.OneCycleLR(optimizer, max_lr=lr,\n",
    "                                          steps_per_epoch=int(len(train_dl)),\n",
    "                                          epochs=num_epochs,\n",
    "                                          anneal_strategy='linear')\n",
    "\n",
    "rs_model.apply(init_weights);"
   ]
  },
  {
   "cell_type": "code",
   "execution_count": 48,
   "metadata": {
    "colab": {
     "base_uri": "https://localhost:8080/"
    },
    "id": "igZjsuKS6rVx",
    "outputId": "ee15d717-1001-4b60-b6b0-41c19ad532ba"
   },
   "outputs": [
    {
     "name": "stderr",
     "output_type": "stream",
     "text": [
      "Epoch: 1. Train       Loss: 2.104 | Accuracy: 0.252: 100%|██████████| 148/148 [00:34<00:00,  4.25it/s]\n",
      "Epoch: 1. Validation  Loss: 1.946 | Accuracy: 0.316: 100%|██████████| 62/62 [00:10<00:00,  5.80it/s]\n"
     ]
    },
    {
     "name": "stdout",
     "output_type": "stream",
     "text": [
      "\n"
     ]
    },
    {
     "name": "stderr",
     "output_type": "stream",
     "text": [
      "Epoch: 2. Train       Loss: 1.905 | Accuracy: 0.329: 100%|██████████| 148/148 [00:33<00:00,  4.37it/s]\n",
      "Epoch: 2. Validation  Loss: 1.754 | Accuracy: 0.382: 100%|██████████| 62/62 [00:10<00:00,  5.92it/s]\n"
     ]
    },
    {
     "name": "stdout",
     "output_type": "stream",
     "text": [
      "\n"
     ]
    },
    {
     "name": "stderr",
     "output_type": "stream",
     "text": [
      "Epoch: 3. Train       Loss: 1.842 | Accuracy: 0.357: 100%|██████████| 148/148 [00:33<00:00,  4.46it/s]\n",
      "Epoch: 3. Validation  Loss: 1.865 | Accuracy: 0.378: 100%|██████████| 62/62 [00:10<00:00,  5.92it/s]\n"
     ]
    },
    {
     "name": "stdout",
     "output_type": "stream",
     "text": [
      "\n"
     ]
    },
    {
     "name": "stderr",
     "output_type": "stream",
     "text": [
      "Epoch: 4. Train       Loss: 1.749 | Accuracy: 0.396: 100%|██████████| 148/148 [00:33<00:00,  4.44it/s]\n",
      "Epoch: 4. Validation  Loss: 1.535 | Accuracy: 0.474: 100%|██████████| 62/62 [00:10<00:00,  5.90it/s]\n"
     ]
    },
    {
     "name": "stdout",
     "output_type": "stream",
     "text": [
      "\n"
     ]
    },
    {
     "name": "stderr",
     "output_type": "stream",
     "text": [
      "Epoch: 5. Train       Loss: 1.652 | Accuracy: 0.436: 100%|██████████| 148/148 [00:32<00:00,  4.49it/s]\n",
      "Epoch: 5. Validation  Loss: 1.444 | Accuracy: 0.519: 100%|██████████| 62/62 [00:10<00:00,  5.90it/s]\n"
     ]
    },
    {
     "name": "stdout",
     "output_type": "stream",
     "text": [
      "\n"
     ]
    },
    {
     "name": "stderr",
     "output_type": "stream",
     "text": [
      "Epoch: 6. Train       Loss: 1.546 | Accuracy: 0.472: 100%|██████████| 148/148 [00:33<00:00,  4.43it/s]\n",
      "Epoch: 6. Validation  Loss: 1.436 | Accuracy: 0.525: 100%|██████████| 62/62 [00:10<00:00,  5.85it/s]\n"
     ]
    },
    {
     "name": "stdout",
     "output_type": "stream",
     "text": [
      "\n"
     ]
    },
    {
     "name": "stderr",
     "output_type": "stream",
     "text": [
      "Epoch: 7. Train       Loss: 1.486 | Accuracy: 0.494: 100%|██████████| 148/148 [00:33<00:00,  4.37it/s]\n",
      "Epoch: 7. Validation  Loss: 1.403 | Accuracy: 0.547: 100%|██████████| 62/62 [00:10<00:00,  5.78it/s]\n"
     ]
    },
    {
     "name": "stdout",
     "output_type": "stream",
     "text": [
      "\n"
     ]
    },
    {
     "name": "stderr",
     "output_type": "stream",
     "text": [
      "Epoch: 8. Train       Loss: 1.408 | Accuracy: 0.528: 100%|██████████| 148/148 [00:34<00:00,  4.35it/s]\n",
      "Epoch: 8. Validation  Loss: 1.245 | Accuracy: 0.584: 100%|██████████| 62/62 [00:10<00:00,  5.83it/s]\n"
     ]
    },
    {
     "name": "stdout",
     "output_type": "stream",
     "text": [
      "\n"
     ]
    },
    {
     "name": "stderr",
     "output_type": "stream",
     "text": [
      "Epoch: 9. Train       Loss: 1.350 | Accuracy: 0.546: 100%|██████████| 148/148 [00:34<00:00,  4.34it/s]\n",
      "Epoch: 9. Validation  Loss: 1.162 | Accuracy: 0.619: 100%|██████████| 62/62 [00:10<00:00,  5.82it/s]\n"
     ]
    },
    {
     "name": "stdout",
     "output_type": "stream",
     "text": [
      "\n"
     ]
    },
    {
     "name": "stderr",
     "output_type": "stream",
     "text": [
      "Epoch: 10. Train       Loss: 1.301 | Accuracy: 0.562: 100%|██████████| 148/148 [00:34<00:00,  4.33it/s]\n",
      "Epoch: 10. Validation  Loss: 1.114 | Accuracy: 0.640: 100%|██████████| 62/62 [00:10<00:00,  5.69it/s]"
     ]
    },
    {
     "name": "stdout",
     "output_type": "stream",
     "text": [
      "\n"
     ]
    },
    {
     "name": "stderr",
     "output_type": "stream",
     "text": [
      "\n"
     ]
    }
   ],
   "source": [
    "for epoch in range(1, num_epochs + 1):\n",
    "  train(train_dl, rs_model, criterion, optimizer, epoch, scheduler)\n",
    "  validate(valid_dl, rs_model, criterion, epoch)\n",
    "  print()"
   ]
  },
  {
   "cell_type": "markdown",
   "metadata": {
    "id": "SsreKZIf4XWx"
   },
   "source": [
    "We get a really good result just by switching normal stacked Conv Layers with Residual Layers. Recall that this new network is just as deep as the Big Model we created earlier! The Residual Learning framework does really work."
   ]
  },
  {
   "cell_type": "markdown",
   "metadata": {
    "id": "q7g0JxKDfsrX"
   },
   "source": [
    "## Resnet 18"
   ]
  },
  {
   "cell_type": "markdown",
   "metadata": {
    "id": "OY_wlnv8T0SM"
   },
   "source": [
    "Our model earlier wasn't designed that well (although it worked regardless). We just stacked Residual Layers ontop of each other without consideration of other factors.\n",
    "\n",
    "Luckily for us, the authors of the paper came up with a number of designs that they named depending on how many layers the network hard. You can see the configurations in the picture below:"
   ]
  },
  {
   "cell_type": "markdown",
   "metadata": {
    "id": "lGNjalWyjXqD"
   },
   "source": [
    "![image.png](data:image/png;base64,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)"
   ]
  },
  {
   "cell_type": "markdown",
   "metadata": {
    "id": "4Itbotg0UNrb"
   },
   "source": [
    "For our simple use case, we can use the 18-layer Residual Network, or as it is commonly known, the `Resnet-18`. \n",
    "\n",
    "Note that most frameworks provide these models readily, whether you need a pre-trained one for fine-tuning or you need just the structure and you train it for yourself. For example, the resnet-18 by PyTorch can be found [here](https://pytorch.org/hub/pytorch_vision_resnet/).\n",
    "\n",
    "But since we are learning, why not implement the model ourselves? It will make for a good challenge."
   ]
  },
  {
   "cell_type": "markdown",
   "metadata": {
    "id": "KRw30dD2VCQY"
   },
   "source": [
    "Here is my from-scratch implementation of the network as per my understanding and using the image above. You might want to pause here for a second and try and understand what I did. It is pretty self explanatory though."
   ]
  },
  {
   "cell_type": "code",
   "execution_count": 53,
   "metadata": {
    "id": "0P6DJurck1jZ"
   },
   "outputs": [],
   "source": [
    "class Resnet18(nn.Module):\n",
    "  def __init__(self):\n",
    "    super(Resnet18, self).__init__()\n",
    "    self.convs = nn.Sequential(\n",
    "        ConvLayer(3, 64, ks=7, stride=2),\n",
    "        nn.MaxPool2d(kernel_size=3, stride=2),\n",
    "        ResBlock(64, 64, stride=1),\n",
    "        ResBlock(64, 64, stride=1),\n",
    "        ResBlock(64, 128),\n",
    "        ResBlock(128, 128, stride=1),\n",
    "        ResBlock(128, 256),\n",
    "        ResBlock(256, 256, stride=1),\n",
    "        ResBlock(256, 512),\n",
    "        ResBlock(512, 512, stride=1))\n",
    "    self.avgpool = nn.AdaptiveAvgPool2d(1)\n",
    "    self.linear = nn.Linear(512, 10)\n",
    "  \n",
    "  def forward(self, x):\n",
    "    out = self.convs(x)\n",
    "    out = self.avgpool(out)\n",
    "    out = nn.Flatten()(out)\n",
    "    out = self.linear(out)\n",
    "    return out"
   ]
  },
  {
   "cell_type": "markdown",
   "metadata": {
    "id": "jKLVtATZVR2J"
   },
   "source": [
    "We can instantiate our Module and see if its layers match the Resnet-18 layer structure by the researchers:"
   ]
  },
  {
   "cell_type": "code",
   "execution_count": 50,
   "metadata": {
    "colab": {
     "base_uri": "https://localhost:8080/"
    },
    "id": "gzWOiEbOfsPt",
    "outputId": "10602910-be96-4a1b-8c0e-cef12b65da1a"
   },
   "outputs": [
    {
     "data": {
      "text/plain": [
       "Resnet18(\n",
       "  (convs): Sequential(\n",
       "    (0): Sequential(\n",
       "      (0): Conv2d(3, 64, kernel_size=(7, 7), stride=(2, 2), padding=(3, 3), bias=False)\n",
       "      (1): BatchNorm2d(64, eps=1e-05, momentum=0.1, affine=True, track_running_stats=True)\n",
       "      (2): ReLU()\n",
       "    )\n",
       "    (1): MaxPool2d(kernel_size=3, stride=2, padding=0, dilation=1, ceil_mode=False)\n",
       "    (2): ResBlock(\n",
       "      (convs): Sequential(\n",
       "        (0): Sequential(\n",
       "          (0): Conv2d(64, 64, kernel_size=(3, 3), stride=(1, 1), padding=(1, 1), bias=False)\n",
       "          (1): BatchNorm2d(64, eps=1e-05, momentum=0.1, affine=True, track_running_stats=True)\n",
       "          (2): ReLU()\n",
       "        )\n",
       "        (1): Sequential(\n",
       "          (0): Conv2d(64, 64, kernel_size=(3, 3), stride=(1, 1), padding=(1, 1), bias=False)\n",
       "          (1): BatchNorm2d(64, eps=1e-05, momentum=0.1, affine=True, track_running_stats=True)\n",
       "        )\n",
       "      )\n",
       "    )\n",
       "    (3): ResBlock(\n",
       "      (convs): Sequential(\n",
       "        (0): Sequential(\n",
       "          (0): Conv2d(64, 64, kernel_size=(3, 3), stride=(1, 1), padding=(1, 1), bias=False)\n",
       "          (1): BatchNorm2d(64, eps=1e-05, momentum=0.1, affine=True, track_running_stats=True)\n",
       "          (2): ReLU()\n",
       "        )\n",
       "        (1): Sequential(\n",
       "          (0): Conv2d(64, 64, kernel_size=(3, 3), stride=(1, 1), padding=(1, 1), bias=False)\n",
       "          (1): BatchNorm2d(64, eps=1e-05, momentum=0.1, affine=True, track_running_stats=True)\n",
       "        )\n",
       "      )\n",
       "    )\n",
       "    (4): ResBlock(\n",
       "      (convs): Sequential(\n",
       "        (0): Sequential(\n",
       "          (0): Conv2d(64, 128, kernel_size=(3, 3), stride=(2, 2), padding=(1, 1), bias=False)\n",
       "          (1): BatchNorm2d(128, eps=1e-05, momentum=0.1, affine=True, track_running_stats=True)\n",
       "          (2): ReLU()\n",
       "        )\n",
       "        (1): Sequential(\n",
       "          (0): Conv2d(128, 128, kernel_size=(3, 3), stride=(1, 1), padding=(1, 1), bias=False)\n",
       "          (1): BatchNorm2d(128, eps=1e-05, momentum=0.1, affine=True, track_running_stats=True)\n",
       "        )\n",
       "      )\n",
       "      (idconv): Conv2d(64, 128, kernel_size=(1, 1), stride=(1, 1))\n",
       "      (pool): AvgPool2d(kernel_size=2, stride=2, padding=0)\n",
       "    )\n",
       "    (5): ResBlock(\n",
       "      (convs): Sequential(\n",
       "        (0): Sequential(\n",
       "          (0): Conv2d(128, 128, kernel_size=(3, 3), stride=(1, 1), padding=(1, 1), bias=False)\n",
       "          (1): BatchNorm2d(128, eps=1e-05, momentum=0.1, affine=True, track_running_stats=True)\n",
       "          (2): ReLU()\n",
       "        )\n",
       "        (1): Sequential(\n",
       "          (0): Conv2d(128, 128, kernel_size=(3, 3), stride=(1, 1), padding=(1, 1), bias=False)\n",
       "          (1): BatchNorm2d(128, eps=1e-05, momentum=0.1, affine=True, track_running_stats=True)\n",
       "        )\n",
       "      )\n",
       "    )\n",
       "    (6): ResBlock(\n",
       "      (convs): Sequential(\n",
       "        (0): Sequential(\n",
       "          (0): Conv2d(128, 256, kernel_size=(3, 3), stride=(2, 2), padding=(1, 1), bias=False)\n",
       "          (1): BatchNorm2d(256, eps=1e-05, momentum=0.1, affine=True, track_running_stats=True)\n",
       "          (2): ReLU()\n",
       "        )\n",
       "        (1): Sequential(\n",
       "          (0): Conv2d(256, 256, kernel_size=(3, 3), stride=(1, 1), padding=(1, 1), bias=False)\n",
       "          (1): BatchNorm2d(256, eps=1e-05, momentum=0.1, affine=True, track_running_stats=True)\n",
       "        )\n",
       "      )\n",
       "      (idconv): Conv2d(128, 256, kernel_size=(1, 1), stride=(1, 1))\n",
       "      (pool): AvgPool2d(kernel_size=2, stride=2, padding=0)\n",
       "    )\n",
       "    (7): ResBlock(\n",
       "      (convs): Sequential(\n",
       "        (0): Sequential(\n",
       "          (0): Conv2d(256, 256, kernel_size=(3, 3), stride=(1, 1), padding=(1, 1), bias=False)\n",
       "          (1): BatchNorm2d(256, eps=1e-05, momentum=0.1, affine=True, track_running_stats=True)\n",
       "          (2): ReLU()\n",
       "        )\n",
       "        (1): Sequential(\n",
       "          (0): Conv2d(256, 256, kernel_size=(3, 3), stride=(1, 1), padding=(1, 1), bias=False)\n",
       "          (1): BatchNorm2d(256, eps=1e-05, momentum=0.1, affine=True, track_running_stats=True)\n",
       "        )\n",
       "      )\n",
       "    )\n",
       "    (8): ResBlock(\n",
       "      (convs): Sequential(\n",
       "        (0): Sequential(\n",
       "          (0): Conv2d(256, 512, kernel_size=(3, 3), stride=(2, 2), padding=(1, 1), bias=False)\n",
       "          (1): BatchNorm2d(512, eps=1e-05, momentum=0.1, affine=True, track_running_stats=True)\n",
       "          (2): ReLU()\n",
       "        )\n",
       "        (1): Sequential(\n",
       "          (0): Conv2d(512, 512, kernel_size=(3, 3), stride=(1, 1), padding=(1, 1), bias=False)\n",
       "          (1): BatchNorm2d(512, eps=1e-05, momentum=0.1, affine=True, track_running_stats=True)\n",
       "        )\n",
       "      )\n",
       "      (idconv): Conv2d(256, 512, kernel_size=(1, 1), stride=(1, 1))\n",
       "      (pool): AvgPool2d(kernel_size=2, stride=2, padding=0)\n",
       "    )\n",
       "    (9): ResBlock(\n",
       "      (convs): Sequential(\n",
       "        (0): Sequential(\n",
       "          (0): Conv2d(512, 512, kernel_size=(3, 3), stride=(1, 1), padding=(1, 1), bias=False)\n",
       "          (1): BatchNorm2d(512, eps=1e-05, momentum=0.1, affine=True, track_running_stats=True)\n",
       "          (2): ReLU()\n",
       "        )\n",
       "        (1): Sequential(\n",
       "          (0): Conv2d(512, 512, kernel_size=(3, 3), stride=(1, 1), padding=(1, 1), bias=False)\n",
       "          (1): BatchNorm2d(512, eps=1e-05, momentum=0.1, affine=True, track_running_stats=True)\n",
       "        )\n",
       "      )\n",
       "    )\n",
       "  )\n",
       "  (avgpool): AdaptiveAvgPool2d(output_size=1)\n",
       "  (linear): Linear(in_features=512, out_features=10, bias=True)\n",
       ")"
      ]
     },
     "execution_count": 50,
     "metadata": {},
     "output_type": "execute_result"
    }
   ],
   "source": [
    "resnet18 = Resnet18()\n",
    "resnet18"
   ]
  },
  {
   "cell_type": "markdown",
   "metadata": {
    "id": "U6XatK7OVeOa"
   },
   "source": [
    "Again, we train the model using the same hyperparameters and for the same number of epochs, for comparisons sake."
   ]
  },
  {
   "cell_type": "code",
   "execution_count": 51,
   "metadata": {
    "id": "sOXihRZawe7I"
   },
   "outputs": [],
   "source": [
    "num_epochs=10\n",
    "lr = 3e-3\n",
    "\n",
    "resnet18 = Resnet18()\n",
    "resnet18 = resnet18.to(device)\n",
    "criterion = nn.CrossEntropyLoss()\n",
    "optimizer = optim.Adam(resnet18.parameters(), lr=lr)\n",
    "scheduler = optim.lr_scheduler.OneCycleLR(optimizer, max_lr=lr,\n",
    "                                          steps_per_epoch=int(len(train_dl)),\n",
    "                                          epochs=num_epochs,\n",
    "                                          anneal_strategy='linear')\n",
    "\n",
    "resnet18.apply(init_weights);"
   ]
  },
  {
   "cell_type": "code",
   "execution_count": 52,
   "metadata": {
    "colab": {
     "base_uri": "https://localhost:8080/"
    },
    "id": "Yu1VWhFT0S42",
    "outputId": "eb97d8bb-3dd7-4b1f-8fa1-835e1fb62c5f"
   },
   "outputs": [
    {
     "name": "stderr",
     "output_type": "stream",
     "text": [
      "  0%|          | 0/148 [00:00<?, ?it/s]/usr/local/lib/python3.7/dist-packages/torch/nn/functional.py:718: UserWarning: Named tensors and all their associated APIs are an experimental feature and subject to change. Please do not use them for anything important until they are released as stable. (Triggered internally at  /pytorch/c10/core/TensorImpl.h:1156.)\n",
      "  return torch.max_pool2d(input, kernel_size, stride, padding, dilation, ceil_mode)\n",
      "Epoch: 1. Train       Loss: 1.977 | Accuracy: 0.303: 100%|██████████| 148/148 [00:37<00:00,  3.95it/s]\n",
      "Epoch: 1. Validation  Loss: 1.840 | Accuracy: 0.337: 100%|██████████| 62/62 [00:11<00:00,  5.39it/s]\n"
     ]
    },
    {
     "name": "stdout",
     "output_type": "stream",
     "text": [
      "\n"
     ]
    },
    {
     "name": "stderr",
     "output_type": "stream",
     "text": [
      "Epoch: 2. Train       Loss: 1.709 | Accuracy: 0.418: 100%|██████████| 148/148 [00:35<00:00,  4.16it/s]\n",
      "Epoch: 2. Validation  Loss: 1.491 | Accuracy: 0.504: 100%|██████████| 62/62 [00:11<00:00,  5.44it/s]\n"
     ]
    },
    {
     "name": "stdout",
     "output_type": "stream",
     "text": [
      "\n"
     ]
    },
    {
     "name": "stderr",
     "output_type": "stream",
     "text": [
      "Epoch: 3. Train       Loss: 1.626 | Accuracy: 0.446: 100%|██████████| 148/148 [00:36<00:00,  4.10it/s]\n",
      "Epoch: 3. Validation  Loss: 1.404 | Accuracy: 0.541: 100%|██████████| 62/62 [00:11<00:00,  5.47it/s]\n"
     ]
    },
    {
     "name": "stdout",
     "output_type": "stream",
     "text": [
      "\n"
     ]
    },
    {
     "name": "stderr",
     "output_type": "stream",
     "text": [
      "Epoch: 4. Train       Loss: 1.476 | Accuracy: 0.507: 100%|██████████| 148/148 [00:35<00:00,  4.17it/s]\n",
      "Epoch: 4. Validation  Loss: 1.229 | Accuracy: 0.597: 100%|██████████| 62/62 [00:11<00:00,  5.48it/s]\n"
     ]
    },
    {
     "name": "stdout",
     "output_type": "stream",
     "text": [
      "\n"
     ]
    },
    {
     "name": "stderr",
     "output_type": "stream",
     "text": [
      "Epoch: 5. Train       Loss: 1.333 | Accuracy: 0.559: 100%|██████████| 148/148 [00:35<00:00,  4.21it/s]\n",
      "Epoch: 5. Validation  Loss: 1.073 | Accuracy: 0.653: 100%|██████████| 62/62 [00:11<00:00,  5.55it/s]\n"
     ]
    },
    {
     "name": "stdout",
     "output_type": "stream",
     "text": [
      "\n"
     ]
    },
    {
     "name": "stderr",
     "output_type": "stream",
     "text": [
      "Epoch: 6. Train       Loss: 1.249 | Accuracy: 0.590: 100%|██████████| 148/148 [00:34<00:00,  4.23it/s]\n",
      "Epoch: 6. Validation  Loss: 1.045 | Accuracy: 0.660: 100%|██████████| 62/62 [00:11<00:00,  5.63it/s]\n"
     ]
    },
    {
     "name": "stdout",
     "output_type": "stream",
     "text": [
      "\n"
     ]
    },
    {
     "name": "stderr",
     "output_type": "stream",
     "text": [
      "Epoch: 7. Train       Loss: 1.127 | Accuracy: 0.631: 100%|██████████| 148/148 [00:35<00:00,  4.21it/s]\n",
      "Epoch: 7. Validation  Loss: 0.941 | Accuracy: 0.696: 100%|██████████| 62/62 [00:10<00:00,  5.64it/s]\n"
     ]
    },
    {
     "name": "stdout",
     "output_type": "stream",
     "text": [
      "\n"
     ]
    },
    {
     "name": "stderr",
     "output_type": "stream",
     "text": [
      "Epoch: 8. Train       Loss: 1.048 | Accuracy: 0.657: 100%|██████████| 148/148 [00:34<00:00,  4.24it/s]\n",
      "Epoch: 8. Validation  Loss: 0.920 | Accuracy: 0.704: 100%|██████████| 62/62 [00:10<00:00,  5.69it/s]\n"
     ]
    },
    {
     "name": "stdout",
     "output_type": "stream",
     "text": [
      "\n"
     ]
    },
    {
     "name": "stderr",
     "output_type": "stream",
     "text": [
      "Epoch: 9. Train       Loss: 0.971 | Accuracy: 0.680: 100%|██████████| 148/148 [00:34<00:00,  4.25it/s]\n",
      "Epoch: 9. Validation  Loss: 0.806 | Accuracy: 0.743: 100%|██████████| 62/62 [00:10<00:00,  5.66it/s]\n"
     ]
    },
    {
     "name": "stdout",
     "output_type": "stream",
     "text": [
      "\n"
     ]
    },
    {
     "name": "stderr",
     "output_type": "stream",
     "text": [
      "Epoch: 10. Train       Loss: 0.895 | Accuracy: 0.705: 100%|██████████| 148/148 [00:34<00:00,  4.25it/s]\n",
      "Epoch: 10. Validation  Loss: 0.736 | Accuracy: 0.765: 100%|██████████| 62/62 [00:10<00:00,  5.64it/s]"
     ]
    },
    {
     "name": "stdout",
     "output_type": "stream",
     "text": [
      "\n"
     ]
    },
    {
     "name": "stderr",
     "output_type": "stream",
     "text": [
      "\n"
     ]
    }
   ],
   "source": [
    "for epoch in range(1, num_epochs+1):\n",
    "  train(train_dl, resnet18, criterion, optimizer, epoch, scheduler)\n",
    "  validate(valid_dl, resnet18, criterion, epoch)\n",
    "  print()"
   ]
  },
  {
   "cell_type": "markdown",
   "metadata": {
    "id": "Me-sdQlcVnb5"
   },
   "source": [
    "# Conclusion"
   ]
  },
  {
   "cell_type": "markdown",
   "metadata": {
    "id": "U3MAGJ1cVmYY"
   },
   "source": [
    "By the end of the 10 epochs, we achieve the best results so far in our experiments. One can only assume these results would get better if we trained for more epochs and used some better practices but that's beyond the scope of this blog today.\n",
    "\n",
    "We learned about the Residual Learning Framework and performed some experiments to get and intuition of what it means. We also proved that it works compared to ordinary stacking of layers.\n",
    "\n",
    "I hope you enjoyed this post and if you have any questions or comments, feel free to reach out to me, either here or on my social media profiles."
   ]
  },
  {
   "cell_type": "markdown",
   "metadata": {
    "id": "2NMWcrahWRo6"
   },
   "source": [
    "Follow me on [Twitter](https://twitter.com/jimmie_munyi)."
   ]
  },
  {
   "cell_type": "markdown",
   "metadata": {
    "id": "Vw_DbqyJWc9F"
   },
   "source": [
    "## References and Useful Material"
   ]
  },
  {
   "cell_type": "markdown",
   "metadata": {
    "id": "lgLEpRAkWis5"
   },
   "source": [
    "* Deep Residual Learning For Image Recognition - https://arxiv.org/pdf/1512.03385.pdf\n",
    "* Chapter 14 of Practical Deep Learning For Coders - https://colab.research.google.com/github/fastai/fastbook/blob/master/14_resnet.ipynb\n",
    "* Weights And Biases PyTorch Paper Reading Stream - https://www.youtube.com/watch?v=nspf00KpU-g&list=PLD80i8An1OEG_vpqwQgwH1gIxeb9r30u5&index=8"
   ]
  },
  {
   "cell_type": "code",
   "execution_count": 52,
   "metadata": {
    "id": "X7XvxCz20pxu"
   },
   "outputs": [],
   "source": []
  }
 ],
 "metadata": {
  "accelerator": "GPU",
  "colab": {
   "collapsed_sections": [],
   "name": "2021-9-14-Deep-Residual-Learning-For-Image-Recognition.ipynb",
   "provenance": []
  },
  "kernelspec": {
   "display_name": "Python 3.10.6 64-bit",
   "language": "python",
   "name": "python3"
  },
  "language_info": {
   "codemirror_mode": {
    "name": "ipython",
    "version": 3
   },
   "file_extension": ".py",
   "mimetype": "text/x-python",
   "name": "python",
   "nbconvert_exporter": "python",
   "pygments_lexer": "ipython3",
   "version": "3.10.6"
  },
  "vscode": {
   "interpreter": {
    "hash": "916dbcbb3f70747c44a77c7bcd40155683ae19c65e1c03b4aa3499c5328201f1"
   }
  }
 },
 "nbformat": 4,
 "nbformat_minor": 4
}
